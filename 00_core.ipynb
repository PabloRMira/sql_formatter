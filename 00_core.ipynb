{
 "cells": [
  {
   "cell_type": "code",
   "execution_count": null,
   "metadata": {},
   "outputs": [],
   "source": [
    "#hide\n",
    "%load_ext autoreload\n",
    "%autoreload 2"
   ]
  },
  {
   "cell_type": "code",
   "execution_count": null,
   "metadata": {},
   "outputs": [],
   "source": [
    "# default_exp core"
   ]
  },
  {
   "cell_type": "code",
   "execution_count": null,
   "metadata": {},
   "outputs": [],
   "source": [
    "#export\n",
    "import re"
   ]
  },
  {
   "cell_type": "markdown",
   "metadata": {},
   "source": [
    "# core\n",
    "\n",
    "> Core functions for SQL formatting"
   ]
  },
  {
   "cell_type": "code",
   "execution_count": null,
   "metadata": {},
   "outputs": [],
   "source": [
    "#hide\n",
    "from nbdev.showdoc import *"
   ]
  },
  {
   "cell_type": "markdown",
   "metadata": {},
   "source": [
    "## General helper functions"
   ]
  },
  {
   "cell_type": "code",
   "execution_count": null,
   "metadata": {},
   "outputs": [],
   "source": [
    "#export\n",
    "def assert_and_print(s_in, s_expected):\n",
    "    \"Assert equality of `s_in` and `s_expected` and print the result of `s_in` if the assertion worked\"\n",
    "    try:\n",
    "        assert s_in == s_expected\n",
    "    except:\n",
    "        print(\"Assertion failed\\n\")\n",
    "        print(\"Input:\\n\")\n",
    "        print(s_in)\n",
    "        print(\"\\n\")\n",
    "        print(\"Expected:\\n\")\n",
    "        print(s_expected)\n",
    "        assert s_in == s_expected\n",
    "    print(s_in)\n",
    "    return None"
   ]
  },
  {
   "cell_type": "code",
   "execution_count": null,
   "metadata": {},
   "outputs": [
    {
     "name": "stdout",
     "output_type": "stream",
     "text": [
      "select asdf\n",
      "from table1\n"
     ]
    }
   ],
   "source": [
    "assert_and_print(\"select asdf\\nfrom table1\", \"select asdf\\nfrom table1\")"
   ]
  },
  {
   "cell_type": "markdown",
   "metadata": {},
   "source": [
    "## General formatting"
   ]
  },
  {
   "cell_type": "markdown",
   "metadata": {},
   "source": [
    "Basic formatting for SQL queries. Let's use an example throughout the core module.\n",
    "\n",
    "This is how an input could look like"
   ]
  },
  {
   "cell_type": "code",
   "execution_count": null,
   "metadata": {},
   "outputs": [
    {
     "name": "stdout",
     "output_type": "stream",
     "text": [
      "\n",
      "create or replace table mytable as -- mytable example\n",
      "seLecT a.asdf, b.qwer, -- some comment here\n",
      "c.asdf, -- some comment there\n",
      "b.asdf2 frOm table1 as a leFt join \n",
      "table2 as b -- and here a comment\n",
      "    on a.asdf = b.asdf  -- join this way\n",
      "    inner join table3 as c\n",
      "on a.asdf=c.asdf\n",
      "whEre a.asdf= 1 -- comment this\n",
      "anD b.qwer =2 and a.asdf<=1 --comment that\n",
      "or b.qwer>=5\n",
      "groUp by a.asdf\n",
      "\n"
     ]
    }
   ],
   "source": [
    "example_sql = \"\"\"\n",
    "create or replace table mytable as -- mytable example\n",
    "seLecT a.asdf, b.qwer, -- some comment here\n",
    "c.asdf, -- some comment there\n",
    "b.asdf2 frOm table1 as a leFt join \n",
    "table2 as b -- and here a comment\n",
    "    on a.asdf = b.asdf  -- join this way\n",
    "    inner join table3 as c\n",
    "on a.asdf=c.asdf\n",
    "whEre a.asdf= 1 -- comment this\n",
    "anD b.qwer =2 and a.asdf<=1 --comment that\n",
    "or b.qwer>=5\n",
    "groUp by a.asdf\n",
    "\"\"\"\n",
    "print(example_sql)"
   ]
  },
  {
   "cell_type": "markdown",
   "metadata": {},
   "source": [
    "and this is how we would like to format it"
   ]
  },
  {
   "cell_type": "code",
   "execution_count": null,
   "metadata": {},
   "outputs": [
    {
     "name": "stdout",
     "output_type": "stream",
     "text": [
      "CREATE OR REPLACE TABLE mytable AS -- mytable example\n",
      "SELECT a.asdf,\n",
      "       b.qwer, -- some comment here\n",
      "       c.asdf, -- some comment there\n",
      "       b.asdf2\n",
      "FROM   table1 AS a\n",
      "    LEFT JOIN table2 AS b -- and here a comment\n",
      "        ON a.asdf = b.asdf -- join this way\n",
      "    INNER JOIN table3 AS c\n",
      "        ON a.asdf = c.asdf\n",
      "WHERE  a.asdf = 1 -- comment this\n",
      "   and b.qwer = 2\n",
      "   and a.asdf <= 1 --comment that\n",
      "    or b.qwer >= 5\n",
      "GROUP BY a.asdf;\n"
     ]
    }
   ],
   "source": [
    "expected_sql = \"\"\"CREATE OR REPLACE TABLE mytable AS -- mytable example\n",
    "SELECT a.asdf,\n",
    "       b.qwer, -- some comment here\n",
    "       c.asdf, -- some comment there\n",
    "       b.asdf2\n",
    "FROM   table1 AS a\n",
    "    LEFT JOIN table2 AS b -- and here a comment\n",
    "        ON a.asdf = b.asdf -- join this way\n",
    "    INNER JOIN table3 AS c\n",
    "        ON a.asdf = c.asdf\n",
    "WHERE  a.asdf = 1 -- comment this\n",
    "   and b.qwer = 2\n",
    "   and a.asdf <= 1 --comment that\n",
    "    or b.qwer >= 5\n",
    "GROUP BY a.asdf;\"\"\"\n",
    "print(expected_sql)"
   ]
  },
  {
   "cell_type": "markdown",
   "metadata": {},
   "source": [
    "Let's start by defining the main statements. The main statements all also require a new line"
   ]
  },
  {
   "cell_type": "code",
   "execution_count": null,
   "metadata": {},
   "outputs": [],
   "source": [
    "#export\n",
    "MAIN_STATEMENTS = [\n",
    "    \"create table\",\n",
    "    \"create or replace table\",\n",
    "    \"create view\",\n",
    "    \"create or replace view\",\n",
    "    \"select\",\n",
    "    \"from\",\n",
    "    \"left join\",\n",
    "    \"inner join\",\n",
    "    \"outer join\",\n",
    "    \"right join\",\n",
    "    \"on\",\n",
    "    \"where\",\n",
    "    \"group by\"\n",
    "]"
   ]
  },
  {
   "cell_type": "markdown",
   "metadata": {},
   "source": [
    "We also would like to capitalize the AS operator"
   ]
  },
  {
   "cell_type": "code",
   "execution_count": null,
   "metadata": {},
   "outputs": [],
   "source": [
    "#export\n",
    "CAPITAL_STATEMENTS = MAIN_STATEMENTS + [\"as\"]"
   ]
  },
  {
   "cell_type": "markdown",
   "metadata": {},
   "source": [
    "We need first to capitalize the main statements"
   ]
  },
  {
   "cell_type": "code",
   "execution_count": null,
   "metadata": {},
   "outputs": [],
   "source": [
    "#export\n",
    "def capitalize_statements(s, statements):\n",
    "    \"Capitalize SQL statements `statements` in string `s`\"\n",
    "    for statement in statements:\n",
    "        s = re.sub(rf\"\\b({statement})\\b\", statement.upper(), s, flags=re.I)\n",
    "    return s"
   ]
  },
  {
   "cell_type": "code",
   "execution_count": null,
   "metadata": {},
   "outputs": [
    {
     "name": "stdout",
     "output_type": "stream",
     "text": [
      "\n",
      "CREATE OR REPLACE TABLE mytable AS -- mytable example\n",
      "SELECT a.asdf, b.qwer, -- some comment here\n",
      "c.asdf, -- some comment there\n",
      "b.asdf2 FROM table1 AS a LEFT JOIN \n",
      "table2 AS b -- and here a comment\n",
      "    ON a.asdf = b.asdf  -- join this way\n",
      "    INNER JOIN table3 AS c\n",
      "ON a.asdf=c.asdf\n",
      "WHERE a.asdf= 1 -- comment this\n",
      "anD b.qwer =2 and a.asdf<=1 --comment that\n",
      "or b.qwer>=5\n",
      "GROUP BY a.asdf\n",
      "\n"
     ]
    }
   ],
   "source": [
    "print(capitalize_statements(example_sql, CAPITAL_STATEMENTS))"
   ]
  },
  {
   "cell_type": "code",
   "execution_count": null,
   "metadata": {},
   "outputs": [
    {
     "name": "stdout",
     "output_type": "stream",
     "text": [
      "SELECT asdf, qwer FROM table1\n"
     ]
    }
   ],
   "source": [
    "assert_and_print(\n",
    "    capitalize_statements(\n",
    "        \"seLecT asdf, qwer FrOM table1\", \n",
    "        CAPITAL_STATEMENTS\n",
    "    ), \"SELECT asdf, qwer FROM table1\"\n",
    ")"
   ]
  },
  {
   "cell_type": "markdown",
   "metadata": {},
   "source": [
    "We need also to remove newlines and multiple spaces because the may be arbitrary"
   ]
  },
  {
   "cell_type": "code",
   "execution_count": null,
   "metadata": {},
   "outputs": [],
   "source": [
    "#export\n",
    "def remove_newlines_mspaces(s):\n",
    "    \"\"\"Remove newline and too many spaces characters.\n",
    "    Newline characters in SELECT statement with comments\n",
    "    are replaced by special token [EOC] (end of comment)\n",
    "    because otherwise we cannot format SELECT statements\n",
    "    with comments properly    \n",
    "    \"\"\"\n",
    "    s = s.strip()  # strip sentence\n",
    "    s = re.sub(r\"\\s{2,}\", \" \", s)  # remove too many whitespaces    \n",
    "    split_s = re.split(r\"(select .*?)(from)\", s, flags=re.I | re.DOTALL)  # split to get individual select lines\n",
    "    split_s = [\n",
    "        re.sub(r\"(--.*?)(\\n)\", r\"\\1[EOC]\", line)  # add special token for select lines\n",
    "        if re.match(\"select\", line, flags=re.I)  # for select statements\n",
    "        else line  # else no special token\n",
    "        for line in split_s\n",
    "    ]\n",
    "    s = \"\".join(split_s)  # join all the lines\n",
    "    s = re.sub(\"\\n\", \" \", s)  # remove newlines\n",
    "    return s"
   ]
  },
  {
   "cell_type": "code",
   "execution_count": null,
   "metadata": {},
   "outputs": [
    {
     "name": "stdout",
     "output_type": "stream",
     "text": [
      "create or replace table mytable as -- mytable example seLecT a.asdf, b.qwer, -- some comment here[EOC]c.asdf, -- some comment there[EOC]b.asdf2 frOm table1 as a leFt join table2 as b -- and here a comment on a.asdf = b.asdf -- join this way inner join table3 as c on a.asdf=c.asdf whEre a.asdf= 1 -- comment this anD b.qwer =2 and a.asdf<=1 --comment that or b.qwer>=5 groUp by a.asdf\n"
     ]
    }
   ],
   "source": [
    "print(remove_newlines_mspaces(example_sql))"
   ]
  },
  {
   "cell_type": "code",
   "execution_count": null,
   "metadata": {},
   "outputs": [
    {
     "name": "stdout",
     "output_type": "stream",
     "text": [
      "SELECT asdf, qwer, qwer1, qwer2 FROM table1\n"
     ]
    }
   ],
   "source": [
    "assert_and_print(\n",
    "    remove_newlines_mspaces(\n",
    "\"\"\"\n",
    "SELECT asdf, qwer,\n",
    "qwer1,    qwer2\n",
    "FROM table1\n",
    "\"\"\"\n",
    "    ), \"SELECT asdf, qwer, qwer1, qwer2 FROM table1\"\n",
    ")"
   ]
  },
  {
   "cell_type": "code",
   "execution_count": null,
   "metadata": {},
   "outputs": [
    {
     "name": "stdout",
     "output_type": "stream",
     "text": [
      "SELECT asdf, qwer, -- some comment[EOC]qwer1, qwer2 FROM table1 WHERE asdf=1\n"
     ]
    }
   ],
   "source": [
    "assert_and_print(\n",
    "    remove_newlines_mspaces(\"\"\"\n",
    "SELECT asdf, qwer, -- some comment\n",
    "qwer1,    qwer2\n",
    "FROM table1\n",
    "WHERE asdf=1\n",
    "\"\"\"), \"SELECT asdf, qwer, -- some comment[EOC]qwer1, qwer2 FROM table1 WHERE asdf=1\"\n",
    ")"
   ]
  },
  {
   "cell_type": "markdown",
   "metadata": {},
   "source": [
    "Next we would like to have each main statement in a separate line"
   ]
  },
  {
   "cell_type": "code",
   "execution_count": null,
   "metadata": {},
   "outputs": [],
   "source": [
    "#export\n",
    "def breakline_statement(s, statements):\n",
    "    \"Write a newline in `s` for all `statements`\"\n",
    "    for statement in statements:\n",
    "        s = re.sub(rf\"\\s*({statement})\\b\", rf\"\\n{statement}\", s, flags=re.I)\n",
    "    return s"
   ]
  },
  {
   "cell_type": "code",
   "execution_count": null,
   "metadata": {},
   "outputs": [
    {
     "name": "stdout",
     "output_type": "stream",
     "text": [
      "\n",
      "create or replace table mytable as -- mytable example\n",
      "select a.asdf, b.qwer, -- some comment here\n",
      "c.asdf, -- some comment there\n",
      "b.asdf2\n",
      "from table1 as a\n",
      "left join \n",
      "table2 as b -- and here a comment\n",
      "on a.asdf = b.asdf  -- join this way\n",
      "inner join table3 as c\n",
      "on a.asdf=c.asdf\n",
      "where a.asdf= 1 -- comment this\n",
      "anD b.qwer =2 and a.asdf<=1 --comment that\n",
      "or b.qwer>=5\n",
      "group by a.asdf\n",
      "\n"
     ]
    }
   ],
   "source": [
    "print(breakline_statement(example_sql, MAIN_STATEMENTS))"
   ]
  },
  {
   "cell_type": "markdown",
   "metadata": {},
   "source": [
    "In combination with removing newlines and multiple spaces"
   ]
  },
  {
   "cell_type": "code",
   "execution_count": null,
   "metadata": {},
   "outputs": [
    {
     "name": "stdout",
     "output_type": "stream",
     "text": [
      "\n",
      "create or replace table mytable as -- mytable example\n",
      "select a.asdf, b.qwer, -- some comment here[EOC]c.asdf, -- some comment there[EOC]b.asdf2\n",
      "from table1 as a\n",
      "left join table2 as b -- and here a comment\n",
      "on a.asdf = b.asdf -- join this way\n",
      "inner join table3 as c\n",
      "on a.asdf=c.asdf\n",
      "where a.asdf= 1 -- comment this anD b.qwer =2 and a.asdf<=1 --comment that or b.qwer>=5\n",
      "group by a.asdf\n"
     ]
    }
   ],
   "source": [
    "print(breakline_statement(remove_newlines_mspaces(example_sql), MAIN_STATEMENTS))"
   ]
  },
  {
   "cell_type": "markdown",
   "metadata": {},
   "source": [
    "## Specific formatting and validation\n",
    "\n",
    "Now we will format each statement individually"
   ]
  },
  {
   "cell_type": "markdown",
   "metadata": {},
   "source": [
    "### SELECT"
   ]
  },
  {
   "cell_type": "code",
   "execution_count": null,
   "metadata": {},
   "outputs": [],
   "source": [
    "#export\n",
    "def format_select(s):\n",
    "    \"Format SELECT statement line `s`\"\n",
    "    if re.match(r\".*,\\s*$\", s, flags=re.I):\n",
    "        print(\"Correcting mistake: Comma at the end of SELECT statement\")\n",
    "        s = re.sub(\"(.*)(,+)(\\s*)$\", r\"\\1\", s, flags=re.I)\n",
    "    s = re.sub(r\"(,)(\\s*)([\\w\\d]+)\", r\"\\1\\n       \\3\", s)  # add newline after each comma (no comments) and indentation\n",
    "    s = re.sub(r\"\\[EOC\\]\", \"\\n       \", s)  # replace [EOC] by newline\n",
    "    return s"
   ]
  },
  {
   "cell_type": "markdown",
   "metadata": {},
   "source": [
    "Simple usage without comments"
   ]
  },
  {
   "cell_type": "code",
   "execution_count": null,
   "metadata": {},
   "outputs": [
    {
     "name": "stdout",
     "output_type": "stream",
     "text": [
      "select aSdf,\n",
      "       cast(qweR as numeric),\n",
      "       Asdf,\n",
      "       qwer1\n"
     ]
    }
   ],
   "source": [
    "assert_and_print(\n",
    "    format_select(\"select aSdf, cast(qweR as numeric),  Asdf,qwer1\"),\n",
    "    \"select aSdf,\\n       cast(qweR as numeric),\\n       Asdf,\\n       qwer1\"\n",
    ")"
   ]
  },
  {
   "cell_type": "markdown",
   "metadata": {},
   "source": [
    "More advanced usage with comments in SELECT"
   ]
  },
  {
   "cell_type": "code",
   "execution_count": null,
   "metadata": {},
   "outputs": [
    {
     "name": "stdout",
     "output_type": "stream",
     "text": [
      "select asdf,\n",
      "       cast(qwer as numeric), -- some comment\n",
      "       ASDF,\n",
      "       qwer1\n"
     ]
    }
   ],
   "source": [
    "assert_and_print(\n",
    "    format_select(\"select asdf, cast(qwer as numeric), -- some comment[EOC]ASDF, qwer1\"),\n",
    "    \"select asdf,\\n       cast(qwer as numeric), -- some comment\\n       ASDF,\\n       qwer1\"\n",
    ")"
   ]
  },
  {
   "cell_type": "markdown",
   "metadata": {},
   "source": [
    "Correcting common mistake on the flow: comma at end of SELECT"
   ]
  },
  {
   "cell_type": "code",
   "execution_count": null,
   "metadata": {},
   "outputs": [
    {
     "name": "stdout",
     "output_type": "stream",
     "text": [
      "Correcting mistake: Comma at the end of SELECT statement\n",
      "select qwer1,\n",
      "       asdf\n"
     ]
    }
   ],
   "source": [
    "assert_and_print(\n",
    "    format_select(\"select qwer1,   asdf,\"),\n",
    "    \"select qwer1,\\n       asdf\"\n",
    ")"
   ]
  },
  {
   "cell_type": "markdown",
   "metadata": {},
   "source": [
    "### FROM"
   ]
  },
  {
   "cell_type": "code",
   "execution_count": null,
   "metadata": {},
   "outputs": [],
   "source": [
    "#export\n",
    "def format_from(s):\n",
    "    \"Format FROM statement line `s`\"\n",
    "    s = re.sub(  # add indentation\n",
    "        r\"(from )(.*)\",\n",
    "        r\"\\1  \\2\",\n",
    "        s,\n",
    "        flags=re.I\n",
    "    )\n",
    "    return s"
   ]
  },
  {
   "cell_type": "code",
   "execution_count": null,
   "metadata": {},
   "outputs": [
    {
     "name": "stdout",
     "output_type": "stream",
     "text": [
      "from   table1\n"
     ]
    }
   ],
   "source": [
    "assert_and_print(format_from(\"from table1\"), \"from   table1\")"
   ]
  },
  {
   "cell_type": "markdown",
   "metadata": {},
   "source": [
    "### (LEFT / RIGHT / INNER / OUTER) JOIN"
   ]
  },
  {
   "cell_type": "code",
   "execution_count": null,
   "metadata": {},
   "outputs": [],
   "source": [
    "#export\n",
    "def format_join(s):\n",
    "    \"Format JOIN statement line `s`\"\n",
    "    s = \"    \" + s  # add indentation\n",
    "    return s"
   ]
  },
  {
   "cell_type": "code",
   "execution_count": null,
   "metadata": {},
   "outputs": [
    {
     "name": "stdout",
     "output_type": "stream",
     "text": [
      "    inner join table1\n"
     ]
    }
   ],
   "source": [
    "assert_and_print(format_join(\"inner join table1\"), \"    inner join table1\")"
   ]
  },
  {
   "cell_type": "markdown",
   "metadata": {},
   "source": [
    "### ON"
   ]
  },
  {
   "cell_type": "markdown",
   "metadata": {},
   "source": [
    "#### Helper function"
   ]
  },
  {
   "cell_type": "code",
   "execution_count": null,
   "metadata": {},
   "outputs": [],
   "source": [
    "#export\n",
    "def add_whitespaces_between_symbols(s):\n",
    "    \"Add whitespaces between symbols in line `s`\"\n",
    "    s = re.sub(r\"([^\\s=!<>])([=!<>]+)\", r\"\\1 \\2\", s, flags=re.I)  # no space left\n",
    "    s = re.sub(r\"([=!<>]+)([^\\s=!<>])\", r\"\\1 \\2\", s, flags=re.I)  # no space right\n",
    "    s = re.sub(r\"([^\\s=!<>])([=!<>]+)([^\\s=!<>])\", r\"\\1 \\2 \\3\", s, flags=re.I)  # no space left and right\n",
    "    return s"
   ]
  },
  {
   "cell_type": "code",
   "execution_count": null,
   "metadata": {},
   "outputs": [
    {
     "name": "stdout",
     "output_type": "stream",
     "text": [
      "WHERE asdf = 1 and qwer => 1 or blabla = 'asdf'\n"
     ]
    }
   ],
   "source": [
    "assert_and_print(\n",
    "    add_whitespaces_between_symbols(\n",
    "        \"WHERE asdf= 1 and qwer=>1 or blabla ='asdf'\"\n",
    "    ), \"WHERE asdf = 1 and qwer => 1 or blabla = 'asdf'\"\n",
    ")"
   ]
  },
  {
   "cell_type": "code",
   "execution_count": null,
   "metadata": {},
   "outputs": [],
   "source": [
    "#export\n",
    "def format_on(s):\n",
    "    \"Format ON statement line `s`\"\n",
    "    s = add_whitespaces_between_symbols(s)  # add whitespaces between symbols in join    \n",
    "    s = \"        \" + s  # add indentation\n",
    "    return s"
   ]
  },
  {
   "cell_type": "code",
   "execution_count": null,
   "metadata": {},
   "outputs": [
    {
     "name": "stdout",
     "output_type": "stream",
     "text": [
      "        on a.asdf = b.asdf\n"
     ]
    }
   ],
   "source": [
    "assert_and_print(format_on(\"on a.asdf =b.asdf\"), \"        on a.asdf = b.asdf\")"
   ]
  },
  {
   "cell_type": "markdown",
   "metadata": {},
   "source": [
    "### WHERE"
   ]
  },
  {
   "cell_type": "code",
   "execution_count": null,
   "metadata": {},
   "outputs": [],
   "source": [
    "#export\n",
    "def format_where(s):\n",
    "    \"Format WHERE statement line `s`\"\n",
    "    s = add_whitespaces_between_symbols(s)  # add whitespaces between symbols\n",
    "    s = re.sub(r\"(where )\", r\"\\1 \", s, flags=re.I)  # add indentation afer WHERE\n",
    "    s = re.sub(r\"\\sand\", r\"\\n   and\", s, flags=re.I)  # add new line before every 'and' and indentation\n",
    "    s = re.sub(r\"\\sor\", r\"\\n    or\", s, flags=re.I)  # add new line before every 'or' and indentation    \n",
    "    return s"
   ]
  },
  {
   "cell_type": "code",
   "execution_count": null,
   "metadata": {},
   "outputs": [
    {
     "name": "stdout",
     "output_type": "stream",
     "text": [
      "WHERE  asdf = 1\n",
      "   and qwer = 1\n",
      "    or blabla = 'asdf'\n"
     ]
    }
   ],
   "source": [
    "assert_and_print(\n",
    "    format_where(\n",
    "        \"WHERE asdf= 1 and qwer=1 or blabla ='asdf'\"\n",
    "    ), \"WHERE  asdf = 1\\n   and qwer = 1\\n    or blabla = 'asdf'\"\n",
    ")"
   ]
  },
  {
   "cell_type": "markdown",
   "metadata": {},
   "source": [
    "## Format all statements"
   ]
  },
  {
   "cell_type": "code",
   "execution_count": null,
   "metadata": {},
   "outputs": [],
   "source": [
    "#export\n",
    "def format_statement_line(s):\n",
    "    \"Format statement line `s`\"\n",
    "    statement_funcs = {\n",
    "        \"select\": format_select,\n",
    "        \"from\": format_from,\n",
    "        \"left join\": format_join,\n",
    "        \"right join\": format_join,\n",
    "        \"inner join\": format_join,\n",
    "        \"outer join\": format_join,\n",
    "        \"on\": format_on,\n",
    "        \"where\": format_where\n",
    "    }\n",
    "    for key, format_func in statement_funcs.items():\n",
    "        if re.match(key, s, flags=re.I):\n",
    "            s = format_func(s)\n",
    "    return s"
   ]
  },
  {
   "cell_type": "code",
   "execution_count": null,
   "metadata": {},
   "outputs": [
    {
     "name": "stdout",
     "output_type": "stream",
     "text": [
      "select asdf,\n",
      "       qwer\n"
     ]
    }
   ],
   "source": [
    "print(format_statement_line(\"select asdf, qwer\"))"
   ]
  },
  {
   "cell_type": "code",
   "execution_count": null,
   "metadata": {},
   "outputs": [
    {
     "name": "stdout",
     "output_type": "stream",
     "text": [
      "    left join table1 as abc\n"
     ]
    }
   ],
   "source": [
    "print(format_statement_line(\"left join table1 as abc\"))"
   ]
  },
  {
   "cell_type": "code",
   "execution_count": null,
   "metadata": {},
   "outputs": [
    {
     "name": "stdout",
     "output_type": "stream",
     "text": [
      "where  asdf = 1\n",
      "   and qwer = 'things'\n",
      "   and blabla = 0\n",
      "    or stuff = -1\n"
     ]
    }
   ],
   "source": [
    "print(format_statement_line(\"where asdf=1 and qwer='things' and blabla=0 or stuff=-1\"))"
   ]
  },
  {
   "cell_type": "code",
   "execution_count": null,
   "metadata": {},
   "outputs": [],
   "source": [
    "#export\n",
    "def format_statements(s):\n",
    "    \"Format statements lines `s`\"\n",
    "    statement_lines = s.split(\"\\n\")\n",
    "    formatted_lines = [\n",
    "        format_statement_line(line) for line in statement_lines\n",
    "    ]\n",
    "    formatted_s = \"\\n\".join(formatted_lines)\n",
    "    return formatted_s"
   ]
  },
  {
   "cell_type": "code",
   "execution_count": null,
   "metadata": {},
   "outputs": [
    {
     "name": "stdout",
     "output_type": "stream",
     "text": [
      "select asdf,\n",
      "       qwer\n",
      "from   table1\n"
     ]
    }
   ],
   "source": [
    "print(format_statements(\"select asdf, qwer\\nfrom table1\"))"
   ]
  },
  {
   "cell_type": "markdown",
   "metadata": {},
   "source": [
    "### Write a ; at the end of query"
   ]
  },
  {
   "cell_type": "code",
   "execution_count": null,
   "metadata": {},
   "outputs": [],
   "source": [
    "#export\n",
    "def add_ending_semicolon(s):\n",
    "    \"Add ending semicolon for SQL query `s`\"\n",
    "    s = s.strip()\n",
    "    if re.match(r\".*[^;]$\", s, flags=re.DOTALL):\n",
    "        s = s + \";\"\n",
    "    return s"
   ]
  },
  {
   "cell_type": "markdown",
   "metadata": {},
   "source": [
    "Basic usage"
   ]
  },
  {
   "cell_type": "code",
   "execution_count": null,
   "metadata": {},
   "outputs": [
    {
     "name": "stdout",
     "output_type": "stream",
     "text": [
      "select asdf from table1;\n"
     ]
    }
   ],
   "source": [
    "assert_and_print(\n",
    "    add_ending_semicolon(\"select asdf from table1\"), \n",
    "    \"select asdf from table1;\"\n",
    ")"
   ]
  },
  {
   "cell_type": "markdown",
   "metadata": {},
   "source": [
    "Also works with multiple lines"
   ]
  },
  {
   "cell_type": "code",
   "execution_count": null,
   "metadata": {},
   "outputs": [
    {
     "name": "stdout",
     "output_type": "stream",
     "text": [
      "select asdf\n",
      "from table1\n",
      "where asdf = 1;\n"
     ]
    }
   ],
   "source": [
    "assert_and_print(\n",
    "    add_ending_semicolon(\"select asdf\\nfrom table1\\nwhere asdf = 1\"), \n",
    "    \"select asdf\\nfrom table1\\nwhere asdf = 1;\"\n",
    ")"
   ]
  },
  {
   "cell_type": "markdown",
   "metadata": {},
   "source": [
    "It does not add another semicolon if there is already one there"
   ]
  },
  {
   "cell_type": "code",
   "execution_count": null,
   "metadata": {},
   "outputs": [
    {
     "name": "stdout",
     "output_type": "stream",
     "text": [
      "select asdf\n",
      "from table1\n",
      "where asdf = 1;\n"
     ]
    }
   ],
   "source": [
    "assert_and_print(\n",
    "    add_ending_semicolon(\"select asdf\\nfrom table1\\nwhere asdf = 1;\"), \n",
    "    \"select asdf\\nfrom table1\\nwhere asdf = 1;\"\n",
    ")"
   ]
  },
  {
   "cell_type": "markdown",
   "metadata": {},
   "source": [
    "##  Putting everything together\n",
    "\n",
    "to format a simple query without subqueries"
   ]
  },
  {
   "cell_type": "code",
   "execution_count": null,
   "metadata": {},
   "outputs": [],
   "source": [
    "#export\n",
    "def format_simple_sql(s):\n",
    "    \"Format a simple SQL query without subqueries `s`\"\n",
    "    s = s.lower()  # everything lowercased\n",
    "    s = remove_newlines_mspaces(s)  # remove newlines and multiple spaces\n",
    "    s = breakline_statement(s, MAIN_STATEMENTS)  # add breaklines for the main statements\n",
    "    s = capitalize_statements(s, CAPITAL_STATEMENTS)  # capitalize capital statements\n",
    "    s = format_statements(s)  # format statements\n",
    "    s = add_ending_semicolon(s)  # add ending semicolon if not there yet\n",
    "    return s"
   ]
  },
  {
   "cell_type": "code",
   "execution_count": null,
   "metadata": {},
   "outputs": [
    {
     "name": "stdout",
     "output_type": "stream",
     "text": [
      "CREATE OR REPLACE TABLE mytable AS -- mytable example\n",
      "SELECT a.asdf,\n",
      "       b.qwer, -- some comment here\n",
      "       c.asdf, -- some comment there\n",
      "       b.asdf2\n",
      "FROM   table1 AS a\n",
      "    LEFT JOIN table2 AS b -- and here a comment\n",
      "        ON a.asdf = b.asdf -- join this way\n",
      "    INNER JOIN table3 AS c\n",
      "        ON a.asdf = c.asdf\n",
      "WHERE  a.asdf = 1 -- comment this\n",
      "   and b.qwer = 2\n",
      "   and a.asdf <= 1 --comment that\n",
      "    or b.qwer >= 5\n",
      "GROUP BY a.asdf;\n"
     ]
    }
   ],
   "source": [
    "assert_and_print(\n",
    "    format_simple_sql(example_sql),\n",
    "    expected_sql\n",
    ")"
   ]
  },
  {
   "cell_type": "markdown",
   "metadata": {},
   "source": [
    "## Queries with subqueries"
   ]
  },
  {
   "cell_type": "markdown",
   "metadata": {},
   "source": [
    "This is how we could (badly) write a query with subqueries"
   ]
  },
  {
   "cell_type": "code",
   "execution_count": null,
   "metadata": {},
   "outputs": [
    {
     "name": "stdout",
     "output_type": "stream",
     "text": [
      "\n",
      "select asdf, cast(qwer as numeric), -- some comment\n",
      "qwer1\n",
      "from \n",
      "(select asdf, qwer, from table1 where asdf = 1) as a\n",
      "left \n",
      "join (select asdf, qwer2 from table2 where qwer2 = 1) as b\n",
      "on a.asdf = b.asdf\n",
      "where qwer1 >= 0\n",
      "\n"
     ]
    }
   ],
   "source": [
    "example_with_subqueries = \"\"\"\n",
    "select asdf, cast(qwer as numeric), -- some comment\n",
    "qwer1\n",
    "from \n",
    "(select asdf, qwer, from table1 where asdf = 1) as a\n",
    "left \n",
    "join (select asdf, qwer2 from table2 where qwer2 = 1) as b\n",
    "on a.asdf = b.asdf\n",
    "where qwer1 >= 0\n",
    "\"\"\"\n",
    "print(example_with_subqueries)"
   ]
  },
  {
   "cell_type": "markdown",
   "metadata": {},
   "source": [
    "and this is the way we would like to have it nicely formatted"
   ]
  },
  {
   "cell_type": "code",
   "execution_count": null,
   "metadata": {},
   "outputs": [
    {
     "name": "stdout",
     "output_type": "stream",
     "text": [
      "SELECT asdf,\n",
      "       cast(qwer AS numeric), -- some comment\n",
      "       qwer1\n",
      "FROM   (SELECT asdf,\n",
      "               qwer\n",
      "        FROM   table1\n",
      "        WHERE  asdf = 1) AS a\n",
      "    LEFT JOIN (SELECT asdf,\n",
      "                      qwer2\n",
      "               FROM   table2\n",
      "               WHERE  qwer2 = 1) AS b\n",
      "        ON a.asdf = b.asdf\n",
      "WHERE  qwer1 >= 0;\n"
     ]
    }
   ],
   "source": [
    "expected_with_subqueries = \"\"\"\n",
    "SELECT asdf,\n",
    "       cast(qwer AS numeric), -- some comment\n",
    "       qwer1\n",
    "FROM   (SELECT asdf,\n",
    "               qwer\n",
    "        FROM   table1\n",
    "        WHERE  asdf = 1) AS a\n",
    "    LEFT JOIN (SELECT asdf,\n",
    "                      qwer2\n",
    "               FROM   table2\n",
    "               WHERE  qwer2 = 1) AS b\n",
    "        ON a.asdf = b.asdf\n",
    "WHERE  qwer1 >= 0;\n",
    "\"\"\".strip()\n",
    "print(expected_with_subqueries)"
   ]
  },
  {
   "cell_type": "markdown",
   "metadata": {},
   "source": [
    "### Helper function to handle subqueries"
   ]
  },
  {
   "cell_type": "code",
   "execution_count": null,
   "metadata": {},
   "outputs": [],
   "source": [
    "#export\n",
    "def format_subquery(s, previous_s):\n",
    "    \"Format subquery in line `s` based on indentation on `previous_s`\"\n",
    "    s = re.sub(r\"\\(\\nSELECT\", \"(SELECT\", s)  # remove newline between parenthesis and SELECT\n",
    "    indentation = len(previous_s.split(\"\\n\")[-1]) + 1  # get indentation level\n",
    "    split_s = s.split(\"\\n\")\n",
    "    indented_s = [\n",
    "        \" \" * indentation + line\n",
    "        for line in split_s[1:]\n",
    "    ]\n",
    "    formatted_split = [split_s[0]] + indented_s\n",
    "    formatted_s = \"\\n\".join(formatted_split)\n",
    "    return formatted_s"
   ]
  },
  {
   "cell_type": "markdown",
   "metadata": {},
   "source": [
    "### Main function handling queries with subqueries"
   ]
  },
  {
   "cell_type": "code",
   "execution_count": null,
   "metadata": {},
   "outputs": [],
   "source": [
    "#export\n",
    "def format_sql(s):\n",
    "    \"Format SQL query with subqueries\"\n",
    "    s = format_simple_sql(s)  # format query\n",
    "    split_s = re.split(r\"(\\(.SELECT.*?\\))\", s, flags=re.DOTALL)  # split on (SELECT ...)\n",
    "    split_s = [\n",
    "        format_subquery(split_s[i], split_s[i-1])\n",
    "        if re.match(r\"\\(.SELECT.*\\)\", split_s[i], flags=re.DOTALL)\n",
    "        else split_s[i]\n",
    "        for i in range(len(split_s))\n",
    "    ]\n",
    "    s = \"\".join(split_s)\n",
    "    return s"
   ]
  },
  {
   "cell_type": "code",
   "execution_count": null,
   "metadata": {},
   "outputs": [
    {
     "name": "stdout",
     "output_type": "stream",
     "text": [
      "Correcting mistake: Comma at the end of SELECT statement\n",
      "SELECT asdf,\n",
      "       cast(qwer AS numeric), -- some comment\n",
      "       qwer1\n",
      "FROM   (SELECT asdf,\n",
      "               qwer\n",
      "        FROM   table1\n",
      "        WHERE  asdf = 1) AS a\n",
      "    LEFT JOIN (SELECT asdf,\n",
      "                      qwer2\n",
      "               FROM   table2\n",
      "               WHERE  qwer2 = 1) AS b\n",
      "        ON a.asdf = b.asdf\n",
      "WHERE  qwer1 >= 0;\n"
     ]
    }
   ],
   "source": [
    "assert_and_print(\n",
    "    format_sql(example_with_subqueries),\n",
    "    expected_with_subqueries\n",
    ")"
   ]
  },
  {
   "cell_type": "markdown",
   "metadata": {},
   "source": [
    "It even works with simple queries without subqueries, therefore generalizing the `format_simple_sql()` function"
   ]
  },
  {
   "cell_type": "code",
   "execution_count": null,
   "metadata": {},
   "outputs": [
    {
     "name": "stdout",
     "output_type": "stream",
     "text": [
      "CREATE OR REPLACE TABLE mytable AS -- mytable example\n",
      "SELECT a.asdf,\n",
      "       b.qwer, -- some comment here\n",
      "       c.asdf, -- some comment there\n",
      "       b.asdf2\n",
      "FROM   table1 AS a\n",
      "    LEFT JOIN table2 AS b -- and here a comment\n",
      "        ON a.asdf = b.asdf -- join this way\n",
      "    INNER JOIN table3 AS c\n",
      "        ON a.asdf = c.asdf\n",
      "WHERE  a.asdf = 1 -- comment this\n",
      "   and b.qwer = 2\n",
      "   and a.asdf <= 1 --comment that\n",
      "    or b.qwer >= 5\n",
      "GROUP BY a.asdf;\n"
     ]
    }
   ],
   "source": [
    "assert_and_print(\n",
    "    format_sql(example_sql),\n",
    "    expected_sql\n",
    ")"
   ]
  },
  {
   "cell_type": "code",
   "execution_count": null,
   "metadata": {},
   "outputs": [
    {
     "name": "stdout",
     "output_type": "stream",
     "text": [
      "Converted 00_core.ipynb.\n",
      "Converted index.ipynb.\n"
     ]
    }
   ],
   "source": [
    "#hide\n",
    "from nbdev.export import notebook2script\n",
    "notebook2script()"
   ]
  }
 ],
 "metadata": {
  "kernelspec": {
   "display_name": "Python [conda env:sql-formatter-dev] *",
   "language": "python",
   "name": "conda-env-sql-formatter-dev-py"
  }
 },
 "nbformat": 4,
 "nbformat_minor": 2
}
