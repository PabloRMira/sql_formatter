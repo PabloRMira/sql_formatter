{
 "cells": [
  {
   "cell_type": "code",
   "execution_count": null,
   "metadata": {},
   "outputs": [],
   "source": [
    "#hide\n",
    "%load_ext autoreload\n",
    "%autoreload 2"
   ]
  },
  {
   "cell_type": "code",
   "execution_count": null,
   "metadata": {},
   "outputs": [],
   "source": [
    "# default_exp core"
   ]
  },
  {
   "cell_type": "code",
   "execution_count": null,
   "metadata": {},
   "outputs": [],
   "source": [
    "#export\n",
    "import re"
   ]
  },
  {
   "cell_type": "markdown",
   "metadata": {},
   "source": [
    "# sql_formatter\n",
    "\n",
    "> A SQL formatter to automatically format your SQL files"
   ]
  },
  {
   "cell_type": "code",
   "execution_count": null,
   "metadata": {},
   "outputs": [],
   "source": [
    "#hide\n",
    "from nbdev.showdoc import *"
   ]
  },
  {
   "cell_type": "markdown",
   "metadata": {},
   "source": [
    "## General formatting"
   ]
  },
  {
   "cell_type": "markdown",
   "metadata": {},
   "source": [
    "Basic formatting for SQL queries. Let's use an example throughout the core module.\n",
    "\n",
    "This is how an input could look like"
   ]
  },
  {
   "cell_type": "code",
   "execution_count": null,
   "metadata": {},
   "outputs": [
    {
     "name": "stdout",
     "output_type": "stream",
     "text": [
      "\n",
      "seLecT a.asdf, b.qwer,\n",
      "b.asdf2 frOm table1 as a leFt join \n",
      "table2 as b\n",
      "    on a.asdf = b.asdf  inner join table3 as c\n",
      "on a.asdf=c.asdf\n",
      "whEre a.asdf= 1\n",
      "anD b.qwer =2\n",
      "and a.asdf<=1\n",
      "or b.qwer>=5\n",
      "groUp by a.asdf\n",
      "\n"
     ]
    }
   ],
   "source": [
    "ex_sql = \"\"\"\n",
    "seLecT a.asdf, b.qwer,\n",
    "b.asdf2 frOm table1 as a leFt join \n",
    "table2 as b\n",
    "    on a.asdf = b.asdf  inner join table3 as c\n",
    "on a.asdf=c.asdf\n",
    "whEre a.asdf= 1\n",
    "anD b.qwer =2\n",
    "and a.asdf<=1\n",
    "or b.qwer>=5\n",
    "groUp by a.asdf\n",
    "\"\"\"\n",
    "print(ex_sql)"
   ]
  },
  {
   "cell_type": "markdown",
   "metadata": {},
   "source": [
    "and this is how we would like to format it"
   ]
  },
  {
   "cell_type": "code",
   "execution_count": null,
   "metadata": {},
   "outputs": [
    {
     "name": "stdout",
     "output_type": "stream",
     "text": [
      "\n",
      "SELECT a.asdf, \n",
      "       b.qwer,\n",
      "       b.asdf2\n",
      "FROM   table1 AS a\n",
      "    LEFT JOIN table2 AS b\n",
      "        ON a.asdf = b.asdf\n",
      "    INNER JOIN table3 AS c\n",
      "        ON a.asdf = c.asdf\n",
      "WHERE  a.asdf = 1\n",
      "   and b.qwer = 2\n",
      "   and a.asdf <=1\n",
      "    or b.qwer >= 5\n",
      "GROUP BY a.asdf\n",
      "\n"
     ]
    }
   ],
   "source": [
    "print(\"\"\"\n",
    "SELECT a.asdf, \n",
    "       b.qwer,\n",
    "       b.asdf2\n",
    "FROM   table1 AS a\n",
    "    LEFT JOIN table2 AS b\n",
    "        ON a.asdf = b.asdf\n",
    "    INNER JOIN table3 AS c\n",
    "        ON a.asdf = c.asdf\n",
    "WHERE  a.asdf = 1\n",
    "   and b.qwer = 2\n",
    "   and a.asdf <=1\n",
    "    or b.qwer >= 5\n",
    "GROUP BY a.asdf\n",
    "\"\"\")"
   ]
  },
  {
   "cell_type": "markdown",
   "metadata": {},
   "source": [
    "Let's start by defining the main statements. The main statements all also require a new line"
   ]
  },
  {
   "cell_type": "code",
   "execution_count": null,
   "metadata": {},
   "outputs": [],
   "source": [
    "#export\n",
    "MAIN_STATEMENTS = [\n",
    "    \"create table\",\n",
    "    \"create or replace table\",\n",
    "    \"create view\",\n",
    "    \"create or replace view\",\n",
    "    \"select\",\n",
    "    \"from\",\n",
    "    \"left join\",\n",
    "    \"inner join\",\n",
    "    \"outer join\",\n",
    "    \"right join\",\n",
    "    \"on\",\n",
    "    \"where\",\n",
    "    \"group by\"\n",
    "]"
   ]
  },
  {
   "cell_type": "markdown",
   "metadata": {},
   "source": [
    "We also would like to capitalize the AS operator"
   ]
  },
  {
   "cell_type": "code",
   "execution_count": null,
   "metadata": {},
   "outputs": [],
   "source": [
    "#export\n",
    "CAPITAL_STATEMENTS = MAIN_STATEMENTS + [\"as\"]"
   ]
  },
  {
   "cell_type": "markdown",
   "metadata": {},
   "source": [
    "We need first to capitalize the main statements"
   ]
  },
  {
   "cell_type": "code",
   "execution_count": null,
   "metadata": {},
   "outputs": [],
   "source": [
    "#export\n",
    "def capitalize_statements(s, statements):\n",
    "    \"Capitalize SQL statements `statements` in string `s`\"\n",
    "    for statement in statements:\n",
    "        s = re.sub(rf\"\\b({statement})\\b\", statement.upper(), s, flags=re.I)\n",
    "    return s"
   ]
  },
  {
   "cell_type": "code",
   "execution_count": null,
   "metadata": {},
   "outputs": [
    {
     "name": "stdout",
     "output_type": "stream",
     "text": [
      "\n",
      "SELECT a.asdf, b.qwer,\n",
      "b.asdf2 FROM table1 AS a LEFT JOIN \n",
      "table2 AS b\n",
      "    ON a.asdf = b.asdf  INNER JOIN table3 AS c\n",
      "ON a.asdf=c.asdf\n",
      "WHERE a.asdf= 1\n",
      "anD b.qwer =2\n",
      "and a.asdf<=1\n",
      "or b.qwer>=5\n",
      "GROUP BY a.asdf\n",
      "\n"
     ]
    }
   ],
   "source": [
    "print(capitalize_statements(ex_sql, CAPITAL_STATEMENTS))"
   ]
  },
  {
   "cell_type": "code",
   "execution_count": null,
   "metadata": {},
   "outputs": [],
   "source": [
    "assert (\n",
    "    capitalize_statements(\n",
    "        \"seLecT asdf, qwer FrOM table1\", \n",
    "        CAPITAL_STATEMENTS\n",
    "    ) == \"SELECT asdf, qwer FROM table1\"\n",
    ")"
   ]
  },
  {
   "cell_type": "markdown",
   "metadata": {},
   "source": [
    "We need also to remove newlines and multiple spaces because the may be arbitrary"
   ]
  },
  {
   "cell_type": "code",
   "execution_count": null,
   "metadata": {},
   "outputs": [],
   "source": [
    "#export\n",
    "def remove_newlines_mspaces(s):\n",
    "    \"Remove newline and too many spaces characters\"\n",
    "    s = re.sub(\"\\n\", \" \", s)  # remove newlines\n",
    "    s = re.sub(r\"\\s{2,}\", \" \", s)  # remove too many whitespaces\n",
    "    s = s.strip()  # strip sentence\n",
    "    return s"
   ]
  },
  {
   "cell_type": "code",
   "execution_count": null,
   "metadata": {},
   "outputs": [
    {
     "name": "stdout",
     "output_type": "stream",
     "text": [
      "seLecT a.asdf, b.qwer, b.asdf2 frOm table1 as a leFt join table2 as b on a.asdf = b.asdf inner join table3 as c on a.asdf=c.asdf whEre a.asdf= 1 anD b.qwer =2 and a.asdf<=1 or b.qwer>=5 groUp by a.asdf\n"
     ]
    }
   ],
   "source": [
    "print(remove_newlines_mspaces(ex_sql))"
   ]
  },
  {
   "cell_type": "code",
   "execution_count": null,
   "metadata": {},
   "outputs": [],
   "source": [
    "assert (\n",
    "    remove_newlines_mspaces(\n",
    "\"\"\"\n",
    "SELECT asdf, qwer,\n",
    "qwer1,    qwer2\n",
    "FROM table1\n",
    "\"\"\"\n",
    "    ) == \"SELECT asdf, qwer, qwer1, qwer2 FROM table1\"\n",
    ")"
   ]
  },
  {
   "cell_type": "markdown",
   "metadata": {},
   "source": [
    "Next we would like to have each main statement in a separate line"
   ]
  },
  {
   "cell_type": "code",
   "execution_count": null,
   "metadata": {},
   "outputs": [],
   "source": [
    "#export\n",
    "def breakline_statement(s, statements):\n",
    "    \"Write a newline in `s` for all `statements`\"\n",
    "    for statement in statements:\n",
    "        s = re.sub(rf\"\\s*({statement})\\b\", rf\"\\n{statement}\", s, flags=re.I)\n",
    "    return s        "
   ]
  },
  {
   "cell_type": "code",
   "execution_count": null,
   "metadata": {},
   "outputs": [
    {
     "name": "stdout",
     "output_type": "stream",
     "text": [
      "\n",
      "select a.asdf, b.qwer,\n",
      "b.asdf2\n",
      "from table1 as a\n",
      "left join \n",
      "table2 as b\n",
      "on a.asdf = b.asdf\n",
      "inner join table3 as c\n",
      "on a.asdf=c.asdf\n",
      "where a.asdf= 1\n",
      "anD b.qwer =2\n",
      "and a.asdf<=1\n",
      "or b.qwer>=5\n",
      "group by a.asdf\n",
      "\n"
     ]
    }
   ],
   "source": [
    "print(breakline_statement(ex_sql, MAIN_STATEMENTS))"
   ]
  },
  {
   "cell_type": "markdown",
   "metadata": {},
   "source": [
    "In combination with removing newlines and multiple spaces"
   ]
  },
  {
   "cell_type": "code",
   "execution_count": null,
   "metadata": {},
   "outputs": [
    {
     "name": "stdout",
     "output_type": "stream",
     "text": [
      "\n",
      "select a.asdf, b.qwer, b.asdf2\n",
      "from table1 as a\n",
      "left join table2 as b\n",
      "on a.asdf = b.asdf\n",
      "inner join table3 as c\n",
      "on a.asdf=c.asdf\n",
      "where a.asdf= 1 anD b.qwer =2 and a.asdf<=1 or b.qwer>=5\n",
      "group by a.asdf\n"
     ]
    }
   ],
   "source": [
    "print(breakline_statement(remove_newlines_mspaces(ex_sql), MAIN_STATEMENTS))"
   ]
  },
  {
   "cell_type": "markdown",
   "metadata": {},
   "source": [
    "## Specific formatting and validation\n",
    "\n",
    "Now we will format each statement individually"
   ]
  },
  {
   "cell_type": "markdown",
   "metadata": {},
   "source": [
    "### SELECT"
   ]
  },
  {
   "cell_type": "code",
   "execution_count": null,
   "metadata": {},
   "outputs": [],
   "source": [
    "#export\n",
    "def format_select(s):\n",
    "    \"Format SELECT statement line `s`\"\n",
    "    if re.match(r\".*,\\s*$\", s, flags=re.I):\n",
    "        print(\"Correcting mistake: Comma at the end of SELECT statement\")\n",
    "        s = re.sub(\"(.*)(,+)(\\s*)$\", r\"\\1\", s, flags=re.I)\n",
    "    s = re.sub(r\",\\s*\", \",\\n       \", s)  # add newline after each comma and indentation\n",
    "    return s"
   ]
  },
  {
   "cell_type": "code",
   "execution_count": null,
   "metadata": {},
   "outputs": [
    {
     "name": "stdout",
     "output_type": "stream",
     "text": [
      "select aSdf,\n",
      "       qweR,\n",
      "       Asdf,\n",
      "       qwer1,\n",
      "       asdf\n"
     ]
    }
   ],
   "source": [
    "print(format_select(\"select aSdf, qweR,  Asdf,qwer1,   asdf\"))"
   ]
  },
  {
   "cell_type": "code",
   "execution_count": null,
   "metadata": {},
   "outputs": [
    {
     "name": "stdout",
     "output_type": "stream",
     "text": [
      "Correcting mistake: Comma at the end of SELECT statement\n",
      "select aSdf,\n",
      "       qweR,\n",
      "       Asdf,\n",
      "       qwer1,\n",
      "       asdf\n"
     ]
    }
   ],
   "source": [
    "print(format_select(\"select aSdf, qweR,  Asdf,qwer1,   asdf,\"))"
   ]
  },
  {
   "cell_type": "markdown",
   "metadata": {},
   "source": [
    "### FROM"
   ]
  },
  {
   "cell_type": "code",
   "execution_count": null,
   "metadata": {},
   "outputs": [],
   "source": [
    "#export\n",
    "def format_from(s):\n",
    "    \"Format FROM statement line `s`\"\n",
    "    s = re.sub(  # add indentation\n",
    "        r\"(from )(.*)\",\n",
    "        r\"\\1  \\2\",\n",
    "        s,\n",
    "        flags=re.I\n",
    "    )\n",
    "    return s"
   ]
  },
  {
   "cell_type": "code",
   "execution_count": null,
   "metadata": {},
   "outputs": [
    {
     "name": "stdout",
     "output_type": "stream",
     "text": [
      "from   table1\n"
     ]
    }
   ],
   "source": [
    "print(format_from(\"from table1\"))"
   ]
  },
  {
   "cell_type": "markdown",
   "metadata": {},
   "source": [
    "### (LEFT / RIGHT / INNER / OUTER) JOIN"
   ]
  },
  {
   "cell_type": "code",
   "execution_count": null,
   "metadata": {},
   "outputs": [],
   "source": [
    "#export\n",
    "def format_join(s):\n",
    "    \"Format JOIN statement line `s`\"\n",
    "    s = \"    \" + s  # add indentation\n",
    "    return s"
   ]
  },
  {
   "cell_type": "code",
   "execution_count": null,
   "metadata": {},
   "outputs": [
    {
     "data": {
      "text/plain": [
       "'    inner join table1'"
      ]
     },
     "execution_count": null,
     "metadata": {},
     "output_type": "execute_result"
    }
   ],
   "source": [
    "format_join(\"inner join table1\")"
   ]
  },
  {
   "cell_type": "markdown",
   "metadata": {},
   "source": [
    "### ON"
   ]
  },
  {
   "cell_type": "markdown",
   "metadata": {},
   "source": [
    "#### Helper function"
   ]
  },
  {
   "cell_type": "code",
   "execution_count": null,
   "metadata": {},
   "outputs": [],
   "source": [
    "#export\n",
    "def add_whitespaces_between_symbols(s):\n",
    "    \"Add whitespaces between symbols in line `s`\"\n",
    "    s = re.sub(r\"([^\\s])([=!<>]+)\", r\"\\1 \\2\", s, flags=re.I)  # no space left\n",
    "    s = re.sub(r\"([=!<>]+)([^\\s])\", r\"\\1 \\2\", s, flags=re.I)  # no space right\n",
    "    s = re.sub(r\"([^\\s])([=!<>]+)([^\\s])\", r\"\\1 \\2 \\3\", s, flags=re.I)  # no space left and right\n",
    "    return s"
   ]
  },
  {
   "cell_type": "code",
   "execution_count": null,
   "metadata": {},
   "outputs": [],
   "source": [
    "assert (\n",
    "    add_whitespaces_between_symbols(\n",
    "        \"WHERE asdf= 1 and qwer=1 or blabla ='asdf'\"\n",
    "    ) == \"WHERE asdf = 1 and qwer = 1 or blabla = 'asdf'\"\n",
    ")"
   ]
  },
  {
   "cell_type": "code",
   "execution_count": null,
   "metadata": {},
   "outputs": [],
   "source": [
    "#export\n",
    "def format_on(s):\n",
    "    \"Format ON statement line `s`\"\n",
    "    s = add_whitespaces_between_symbols(s)  # add whitespaces between symbols in join    \n",
    "    s = \"        \" + s  # add indentation\n",
    "    return s"
   ]
  },
  {
   "cell_type": "code",
   "execution_count": null,
   "metadata": {},
   "outputs": [
    {
     "data": {
      "text/plain": [
       "'        on a.asdf = b.asdf'"
      ]
     },
     "execution_count": null,
     "metadata": {},
     "output_type": "execute_result"
    }
   ],
   "source": [
    "format_on(\"on a.asdf =b.asdf\")"
   ]
  },
  {
   "cell_type": "markdown",
   "metadata": {},
   "source": [
    "### WHERE"
   ]
  },
  {
   "cell_type": "code",
   "execution_count": null,
   "metadata": {},
   "outputs": [],
   "source": [
    "#export\n",
    "def format_where(s):\n",
    "    \"Format WHERE statement line `s`\"\n",
    "    s = add_whitespaces_between_symbols(s)  # add whitespaces between symbols\n",
    "    s = re.sub(r\"(where )\", r\"\\1 \", s, flags=re.I)  # add indentation afer WHERE\n",
    "    s = re.sub(r\"\\sand\", r\"\\n   and\", s, flags=re.I)  # add new line before every 'and' and indentation\n",
    "    s = re.sub(r\"\\sor\", r\"\\n    or\", s, flags=re.I)  # add new line before every 'or' and indentation    \n",
    "    return s"
   ]
  },
  {
   "cell_type": "code",
   "execution_count": null,
   "metadata": {},
   "outputs": [
    {
     "name": "stdout",
     "output_type": "stream",
     "text": [
      "WHERE  asdf = 1\n",
      "   and qwer = 1\n",
      "    or blabla = 'asdf'\n"
     ]
    }
   ],
   "source": [
    "print(format_where(\"WHERE asdf= 1 and qwer=1 or blabla ='asdf'\"))"
   ]
  },
  {
   "cell_type": "code",
   "execution_count": null,
   "metadata": {},
   "outputs": [],
   "source": [
    "assert (\n",
    "    format_where(\n",
    "        \"WHERE asdf= 1 and qwer=1 or blabla ='asdf'\"\n",
    "    ) == \"WHERE  asdf = 1\\n   and qwer = 1\\n    or blabla = 'asdf'\"\n",
    ")"
   ]
  },
  {
   "cell_type": "markdown",
   "metadata": {},
   "source": [
    "## Format all statements"
   ]
  },
  {
   "cell_type": "code",
   "execution_count": null,
   "metadata": {},
   "outputs": [],
   "source": [
    "#export\n",
    "def format_statement_line(s):\n",
    "    \"Format statement line `s`\"\n",
    "    statement_funcs = {\n",
    "        \"select\": format_select,\n",
    "        \"from\": format_from,\n",
    "        \"left join\": format_join,\n",
    "        \"right join\": format_join,\n",
    "        \"inner join\": format_join,\n",
    "        \"outer join\": format_join,\n",
    "        \"on\": format_on,\n",
    "        \"where\": format_where\n",
    "    }\n",
    "    for key, format_func in statement_funcs.items():\n",
    "        if re.match(key, s, flags=re.I):\n",
    "            s = format_func(s)\n",
    "    return s"
   ]
  },
  {
   "cell_type": "code",
   "execution_count": null,
   "metadata": {},
   "outputs": [
    {
     "name": "stdout",
     "output_type": "stream",
     "text": [
      "select asdf,\n",
      "       qwer\n"
     ]
    }
   ],
   "source": [
    "print(format_statement_line(\"select asdf, qwer\"))"
   ]
  },
  {
   "cell_type": "code",
   "execution_count": null,
   "metadata": {},
   "outputs": [
    {
     "name": "stdout",
     "output_type": "stream",
     "text": [
      "    left join table1 as abc\n"
     ]
    }
   ],
   "source": [
    "print(format_statement_line(\"left join table1 as abc\"))"
   ]
  },
  {
   "cell_type": "code",
   "execution_count": null,
   "metadata": {},
   "outputs": [
    {
     "name": "stdout",
     "output_type": "stream",
     "text": [
      "where  asdf = 1\n",
      "   and qwer = 'things'\n",
      "   and blabla = 0\n",
      "    or stuff = -1\n"
     ]
    }
   ],
   "source": [
    "print(format_statement_line(\"where asdf=1 and qwer='things' and blabla=0 or stuff=-1\"))"
   ]
  },
  {
   "cell_type": "code",
   "execution_count": null,
   "metadata": {},
   "outputs": [],
   "source": [
    "#export\n",
    "def format_statements(s):\n",
    "    \"Format statements lines `s`\"\n",
    "    statement_lines = s.split(\"\\n\")\n",
    "    formatted_lines = [\n",
    "        format_statement_line(line) for line in statement_lines\n",
    "    ]\n",
    "    formatted_s = \"\\n\".join(formatted_lines)\n",
    "    return formatted_s"
   ]
  },
  {
   "cell_type": "code",
   "execution_count": null,
   "metadata": {},
   "outputs": [
    {
     "name": "stdout",
     "output_type": "stream",
     "text": [
      "select asdf,\n",
      "       qwer\n",
      "from   table1\n"
     ]
    }
   ],
   "source": [
    "print(format_statements(\"select asdf, qwer\\nfrom table1\"))"
   ]
  },
  {
   "cell_type": "markdown",
   "metadata": {},
   "source": [
    "##  Putting everything together"
   ]
  },
  {
   "cell_type": "code",
   "execution_count": null,
   "metadata": {},
   "outputs": [],
   "source": [
    "#export\n",
    "def format_sql(s):\n",
    "    \"Format a SQL query `s`\"\n",
    "    s = s.lower()  # everything lowercased\n",
    "    s = remove_newlines_mspaces(s)  # remove newlines and multiple spaces\n",
    "    s = breakline_statement(s, MAIN_STATEMENTS)  # add breaklines for the main statements\n",
    "    s = capitalize_statements(s, CAPITAL_STATEMENTS)  # capitalize capital statements\n",
    "    s = format_statements(s)  # format statements \n",
    "    return s"
   ]
  },
  {
   "cell_type": "code",
   "execution_count": null,
   "metadata": {},
   "outputs": [
    {
     "name": "stdout",
     "output_type": "stream",
     "text": [
      "\n",
      "SELECT a.asdf,\n",
      "       b.qwer,\n",
      "       b.asdf2\n",
      "FROM   table1 AS a\n",
      "    LEFT JOIN table2 AS b\n",
      "        ON a.asdf = b.asdf\n",
      "    INNER JOIN table3 AS c\n",
      "        ON a.asdf = c.asdf\n",
      "WHERE  a.asdf = 1\n",
      "   and b.qwer = 2\n",
      "   and a.asdf <= 1\n",
      "    or b.qwer >= 5\n",
      "GROUP BY a.asdf\n"
     ]
    }
   ],
   "source": [
    "print(format_sql(ex_sql))"
   ]
  },
  {
   "cell_type": "code",
   "execution_count": null,
   "metadata": {},
   "outputs": [
    {
     "name": "stdout",
     "output_type": "stream",
     "text": [
      "Converted 00_core.ipynb.\n",
      "Converted index.ipynb.\n"
     ]
    }
   ],
   "source": [
    "#hide\n",
    "from nbdev.export import notebook2script\n",
    "notebook2script()"
   ]
  }
 ],
 "metadata": {
  "kernelspec": {
   "display_name": "Python [conda env:sql-formatter-dev] *",
   "language": "python",
   "name": "conda-env-sql-formatter-dev-py"
  }
 },
 "nbformat": 4,
 "nbformat_minor": 2
}
