{
 "cells": [
  {
   "cell_type": "code",
   "execution_count": null,
   "metadata": {},
   "outputs": [],
   "source": [
    "#hide\n",
    "%load_ext autoreload\n",
    "%autoreload 2"
   ]
  },
  {
   "cell_type": "code",
   "execution_count": null,
   "metadata": {},
   "outputs": [],
   "source": [
    "# default_exp core"
   ]
  },
  {
   "cell_type": "code",
   "execution_count": null,
   "metadata": {},
   "outputs": [],
   "source": [
    "#export\n",
    "import re"
   ]
  },
  {
   "cell_type": "markdown",
   "metadata": {},
   "source": [
    "# sql_formatter\n",
    "\n",
    "> A SQL formatter to automatically format your SQL files"
   ]
  },
  {
   "cell_type": "code",
   "execution_count": null,
   "metadata": {},
   "outputs": [],
   "source": [
    "#hide\n",
    "from nbdev.showdoc import *"
   ]
  },
  {
   "cell_type": "markdown",
   "metadata": {},
   "source": [
    "## General formatting"
   ]
  },
  {
   "cell_type": "markdown",
   "metadata": {},
   "source": [
    "Basic formatting for SQL queries. Let's use an example throughout the basics module.\n",
    "\n",
    "This is how an input could look like"
   ]
  },
  {
   "cell_type": "code",
   "execution_count": null,
   "metadata": {},
   "outputs": [
    {
     "name": "stdout",
     "output_type": "stream",
     "text": [
      "\n",
      "seLecT a.asdf, b.qwer,\n",
      "b.asdf2 frOm table1 as a\n",
      "leFt join table2 as b\n",
      "    on a.asdf = b.asdf\n",
      "whEre a.asdf = 1\n",
      "anD b.qwer = 2\n",
      "groUp by a.asdf\n",
      "\n"
     ]
    }
   ],
   "source": [
    "ex_sql = \"\"\"\n",
    "seLecT a.asdf, b.qwer,\n",
    "b.asdf2 frOm table1 as a\n",
    "leFt join table2 as b\n",
    "    on a.asdf = b.asdf\n",
    "whEre a.asdf = 1\n",
    "anD b.qwer = 2\n",
    "groUp by a.asdf\n",
    "\"\"\"\n",
    "print(ex_sql)"
   ]
  },
  {
   "cell_type": "markdown",
   "metadata": {},
   "source": [
    "and this is how we would like to format it"
   ]
  },
  {
   "cell_type": "code",
   "execution_count": null,
   "metadata": {},
   "outputs": [
    {
     "name": "stdout",
     "output_type": "stream",
     "text": [
      "\n",
      "SELECT a.asdf, \n",
      "       b.qwer,\n",
      "       b.asdf2\n",
      "FROM   table1 AS a\n",
      "    LEFT JOIN table2 AS b\n",
      "        ON a.asdf = b.asdf\n",
      "WHERE  a.asdf = 1\n",
      "   and b.qwer = 2\n",
      "GROUP BY a.asdf\n",
      "\n"
     ]
    }
   ],
   "source": [
    "print(\"\"\"\n",
    "SELECT a.asdf, \n",
    "       b.qwer,\n",
    "       b.asdf2\n",
    "FROM   table1 AS a\n",
    "    LEFT JOIN table2 AS b\n",
    "        ON a.asdf = b.asdf\n",
    "WHERE  a.asdf = 1\n",
    "   and b.qwer = 2\n",
    "GROUP BY a.asdf\n",
    "\"\"\")"
   ]
  },
  {
   "cell_type": "markdown",
   "metadata": {},
   "source": [
    "Let's start by defining the main statements. The main statements all also require a new line"
   ]
  },
  {
   "cell_type": "code",
   "execution_count": null,
   "metadata": {},
   "outputs": [],
   "source": [
    "#export\n",
    "MAIN_STATEMENTS = [\n",
    "    \"create table\",\n",
    "    \"create or replace table\",\n",
    "    \"create view\",\n",
    "    \"create or replace view\",\n",
    "    \"select\",\n",
    "    \"from\",\n",
    "    \"left join\",\n",
    "    \"inner join\",\n",
    "    \"outer join\",\n",
    "    \"right join\",\n",
    "    \"on\",\n",
    "    \"where\",\n",
    "    \"group by\"\n",
    "]"
   ]
  },
  {
   "cell_type": "markdown",
   "metadata": {},
   "source": [
    "We also would like to capitalize the AS operator"
   ]
  },
  {
   "cell_type": "code",
   "execution_count": null,
   "metadata": {},
   "outputs": [],
   "source": [
    "CAPITAL_STATEMENTS = MAIN_STATEMENTS + [\"as\"]"
   ]
  },
  {
   "cell_type": "markdown",
   "metadata": {},
   "source": [
    "We need first to capitalize the main statements"
   ]
  },
  {
   "cell_type": "code",
   "execution_count": null,
   "metadata": {},
   "outputs": [],
   "source": [
    "#export\n",
    "def capitalize_statements(s, statements):\n",
    "    \"Capitalize SQL statements `statements` in string `s`\"\n",
    "    for statement in statements:\n",
    "        s = re.sub(rf\"\\b({statement})\\b\", statement.upper(), s, flags=re.I)\n",
    "    return s"
   ]
  },
  {
   "cell_type": "code",
   "execution_count": null,
   "metadata": {},
   "outputs": [
    {
     "name": "stdout",
     "output_type": "stream",
     "text": [
      "\n",
      "SELECT a.asdf, b.qwer,\n",
      "b.asdf2 FROM table1 AS a\n",
      "LEFT JOIN table2 AS b\n",
      "    ON a.asdf = b.asdf\n",
      "WHERE a.asdf = 1\n",
      "anD b.qwer = 2\n",
      "GROUP BY a.asdf\n",
      "\n"
     ]
    }
   ],
   "source": [
    "print(capitalize_statements(ex_sql, CAPITAL_STATEMENTS))"
   ]
  },
  {
   "cell_type": "code",
   "execution_count": null,
   "metadata": {},
   "outputs": [],
   "source": [
    "assert (\n",
    "    capitalize_statements(\n",
    "        \"seLecT asdf, qwer FrOM table1\", \n",
    "        CAPITAL_STATEMENTS\n",
    "    ) == \"SELECT asdf, qwer FROM table1\"\n",
    ")"
   ]
  },
  {
   "cell_type": "markdown",
   "metadata": {},
   "source": [
    "We need also to remove newlines because the may be arbitrary"
   ]
  },
  {
   "cell_type": "code",
   "execution_count": null,
   "metadata": {},
   "outputs": [],
   "source": [
    "#export\n",
    "def remove_newlines(s):\n",
    "    \"Remove newline characters\"\n",
    "    s = re.sub(\"\\n\", \" \", s)\n",
    "    return s"
   ]
  },
  {
   "cell_type": "code",
   "execution_count": null,
   "metadata": {},
   "outputs": [
    {
     "name": "stdout",
     "output_type": "stream",
     "text": [
      " seLecT a.asdf, b.qwer, b.asdf2 frOm table1 as a leFt join table2 as b     on a.asdf = b.asdf whEre a.asdf = 1 anD b.qwer = 2 groUp by a.asdf \n"
     ]
    }
   ],
   "source": [
    "print(remove_newlines(ex_sql))"
   ]
  },
  {
   "cell_type": "markdown",
   "metadata": {},
   "source": [
    "Next we would like to have each main statement in a separate line"
   ]
  },
  {
   "cell_type": "code",
   "execution_count": null,
   "metadata": {},
   "outputs": [],
   "source": [
    "#export\n",
    "def breakline_statement(s, statements):\n",
    "    \"Write a newline in `s` for all `statements`\"\n",
    "    for statement in statements:\n",
    "        s = re.sub(rf\"\\s*({statement})\\b\", rf\"\\n{statement}\", s, flags=re.I)\n",
    "    return s        "
   ]
  },
  {
   "cell_type": "code",
   "execution_count": null,
   "metadata": {},
   "outputs": [
    {
     "name": "stdout",
     "output_type": "stream",
     "text": [
      "\n",
      "select a.asdf, b.qwer,\n",
      "b.asdf2\n",
      "from table1 as a\n",
      "left join table2 as b\n",
      "on a.asdf = b.asdf\n",
      "where a.asdf = 1\n",
      "anD b.qwer = 2\n",
      "group by a.asdf\n",
      "\n"
     ]
    }
   ],
   "source": [
    "print(breakline_statement(ex_sql, MAIN_STATEMENTS))"
   ]
  },
  {
   "cell_type": "markdown",
   "metadata": {},
   "source": [
    "In combination with removing newlines"
   ]
  },
  {
   "cell_type": "code",
   "execution_count": null,
   "metadata": {},
   "outputs": [
    {
     "name": "stdout",
     "output_type": "stream",
     "text": [
      "\n",
      "select a.asdf, b.qwer, b.asdf2\n",
      "from table1 as a\n",
      "left join table2 as b\n",
      "on a.asdf = b.asdf\n",
      "where a.asdf = 1 anD b.qwer = 2\n",
      "group by a.asdf \n"
     ]
    }
   ],
   "source": [
    "print(breakline_statement(remove_newlines(ex_sql), MAIN_STATEMENTS))"
   ]
  },
  {
   "cell_type": "markdown",
   "metadata": {},
   "source": [
    "We would also like to lowercase simple operators like and, or"
   ]
  },
  {
   "cell_type": "code",
   "execution_count": null,
   "metadata": {},
   "outputs": [],
   "source": [
    "#export\n",
    "OPERATORS = [\n",
    "    \"and\",\n",
    "    \"or\"\n",
    "]"
   ]
  },
  {
   "cell_type": "code",
   "execution_count": null,
   "metadata": {},
   "outputs": [],
   "source": [
    "#export\n",
    "def lower_operators(s, operators):\n",
    "    \"Lowercase `operators` in `s`\"\n",
    "    for operator in operators:\n",
    "        s = re.sub(rf\"\\b{operator}\\b\", f\"{operator}\", s, flags=re.I)\n",
    "    return s"
   ]
  },
  {
   "cell_type": "code",
   "execution_count": null,
   "metadata": {},
   "outputs": [
    {
     "name": "stdout",
     "output_type": "stream",
     "text": [
      "\n",
      "seLecT a.asdf, b.qwer,\n",
      "b.asdf2 frOm table1 as a\n",
      "leFt join table2 as b\n",
      "    on a.asdf = b.asdf\n",
      "whEre a.asdf = 1\n",
      "and b.qwer = 2\n",
      "groUp by a.asdf\n",
      "\n"
     ]
    }
   ],
   "source": [
    "print(lower_operators(ex_sql, OPERATORS))"
   ]
  },
  {
   "cell_type": "code",
   "execution_count": null,
   "metadata": {},
   "outputs": [],
   "source": [
    "assert (\n",
    "    lower_operators(\n",
    "        \"select asdf frOm table1 Where asdf >= 1 aNd asdf < 5\", \n",
    "        OPERATORS\n",
    "    ) == \"select asdf frOm table1 Where asdf >= 1 and asdf < 5\"\n",
    ")"
   ]
  },
  {
   "cell_type": "markdown",
   "metadata": {},
   "source": [
    "## Specific formatting and validation\n",
    "\n",
    "Now we will format (and validate) each statement individually"
   ]
  },
  {
   "cell_type": "markdown",
   "metadata": {},
   "source": [
    "### SELECT"
   ]
  },
  {
   "cell_type": "code",
   "execution_count": null,
   "metadata": {},
   "outputs": [],
   "source": [
    "#export\n",
    "def validate_select(s):\n",
    "    \"Validate SELECT statement line `s`\"\n",
    "    exit_code = 0  # if no error then return 0\n",
    "    # if there is a comma at the end of select line then add 1\n",
    "    exit_code += 1 if re.match(r\".*,\\s*$\", s) else exit_code\n",
    "    return exit_code"
   ]
  },
  {
   "cell_type": "code",
   "execution_count": null,
   "metadata": {},
   "outputs": [],
   "source": [
    "assert validate_select(\"select asdf, qwer\") == 0"
   ]
  },
  {
   "cell_type": "code",
   "execution_count": null,
   "metadata": {},
   "outputs": [],
   "source": [
    "assert validate_select(\"select   asdf, qwer,  asdf   \") == 0"
   ]
  },
  {
   "cell_type": "code",
   "execution_count": null,
   "metadata": {},
   "outputs": [],
   "source": [
    "assert validate_select(\"select asdf, qwer,\") == 1"
   ]
  },
  {
   "cell_type": "code",
   "execution_count": null,
   "metadata": {},
   "outputs": [],
   "source": [
    "assert validate_select(\"select asdf, qwer,    \") == 1"
   ]
  },
  {
   "cell_type": "code",
   "execution_count": null,
   "metadata": {},
   "outputs": [],
   "source": [
    "#export\n",
    "def format_select(s):\n",
    "    \"Format SELECT statement line `s`\"\n",
    "    s = re.sub(r\"\\s{2,}\", \" \", s)  # replace too many spaces\n",
    "    s = re.sub(  # lowercase fields in select statement\n",
    "        r\"(select )(.*)\", \n",
    "        lambda match: match.group(1) + match.group(2).lower(),\n",
    "        remove_newlines(s),\n",
    "        flags=re.I\n",
    "    )    \n",
    "    s = re.sub(r\",\\s*\", \",\\n       \", s)  # add newline after each comma\n",
    "    return s"
   ]
  },
  {
   "cell_type": "code",
   "execution_count": null,
   "metadata": {},
   "outputs": [
    {
     "name": "stdout",
     "output_type": "stream",
     "text": [
      "select asdf,\n",
      "       qwer,\n",
      "       asdf,\n",
      "       qwer1,\n",
      "       asdf\n"
     ]
    }
   ],
   "source": [
    "print(format_select(\"select aSdf, qweR,  Asdf,\\nqwer1,   asdf\"))"
   ]
  },
  {
   "cell_type": "markdown",
   "metadata": {},
   "source": [
    "### FROM"
   ]
  },
  {
   "cell_type": "code",
   "execution_count": null,
   "metadata": {},
   "outputs": [],
   "source": [
    "#export\n",
    "def format_from(s):\n",
    "    \"Format FROM statement line `s`\"\n",
    "    s = re.sub(r\"\\s{2,}\", \" \", s)  # replace too many spaces\n",
    "    s = re.sub(  # lowercase fields in from statement\n",
    "        r\"(from )(.*)\", \n",
    "        lambda match: match.group(1) + match.group(2).lower(),\n",
    "        remove_newlines(s),\n",
    "        flags=re.I\n",
    "    )\n",
    "    s = re.sub(\n",
    "        r\"(from )(.*)\",\n",
    "        r\"\\1   \\2\",\n",
    "        s,\n",
    "        flags=re.I\n",
    "    )\n",
    "    return s"
   ]
  },
  {
   "cell_type": "code",
   "execution_count": null,
   "metadata": {},
   "outputs": [
    {
     "name": "stdout",
     "output_type": "stream",
     "text": [
      "from    table1\n"
     ]
    }
   ],
   "source": [
    "print(format_from(\"from table1\"))"
   ]
  },
  {
   "cell_type": "code",
   "execution_count": null,
   "metadata": {},
   "outputs": [
    {
     "name": "stdout",
     "output_type": "stream",
     "text": [
      "Converted 00_core.ipynb.\n",
      "Converted index.ipynb.\n"
     ]
    }
   ],
   "source": [
    "#hide\n",
    "from nbdev.export import notebook2script\n",
    "notebook2script()"
   ]
  }
 ],
 "metadata": {
  "kernelspec": {
   "display_name": "Python 3.8.3 64-bit ('miniconda3': virtualenv)",
   "language": "python",
   "name": "python38364bitminiconda3virtualenv45ac4f690cfa409baff48c37f249495f"
  }
 },
 "nbformat": 4,
 "nbformat_minor": 2
}
