{
 "cells": [
  {
   "cell_type": "code",
   "execution_count": null,
   "metadata": {},
   "outputs": [],
   "source": [
    "#hide\n",
    "%load_ext autoreload\n",
    "%autoreload 2\n",
    "%config Completer.use_jedi = False  # workaround for buggy jedi"
   ]
  },
  {
   "cell_type": "code",
   "execution_count": null,
   "metadata": {},
   "outputs": [],
   "source": [
    "# default_exp sql_file_formatter"
   ]
  },
  {
   "cell_type": "code",
   "execution_count": null,
   "metadata": {},
   "outputs": [],
   "source": [
    "#export\n",
    "import re\n",
    "import os\n",
    "from sql_formatter.core import format_sql, assert_and_print"
   ]
  },
  {
   "cell_type": "markdown",
   "metadata": {},
   "source": [
    "# sql_file_formatter\n",
    "\n",
    "> Functions to format a SQL file with multiple queries and SQL statements"
   ]
  },
  {
   "cell_type": "code",
   "execution_count": null,
   "metadata": {},
   "outputs": [],
   "source": [
    "#hide\n",
    "from nbdev.showdoc import *"
   ]
  },
  {
   "cell_type": "markdown",
   "metadata": {},
   "source": [
    "## Use-Case\n",
    "\n",
    "Assume you have a file called sql_file.sql containing SQL statements and queries.\n",
    "\n",
    "After reading it in python we could have something like this:"
   ]
  },
  {
   "cell_type": "code",
   "execution_count": null,
   "metadata": {},
   "outputs": [
    {
     "name": "stdout",
     "output_type": "stream",
     "text": [
      "use database my_database;\n",
      "use schema my_schema;\n",
      "\n",
      "create or replace view first_view as -- my first view\n",
      "select a.car_id,\n",
      "       b.car_name,\n",
      "       a.price,\n",
      "from sales as a left join (select car_id, car_name, from cars) as b \n",
      "on a.car_id = b.car_id\n",
      "where car_id>1 and car_id<=100;\n",
      "\n",
      "create or replace table first_table as -- my first table\n",
      "select car_id,\n",
      "       avg(price) as avg_price,\n",
      "from first_view\n",
      "group by car_id;\n"
     ]
    }
   ],
   "source": [
    "sql_file = \"\"\"\n",
    "use database my_database;\n",
    "use schema my_schema;\n",
    "\n",
    "create or replace view first_view as -- my first view\n",
    "select a.car_id,\n",
    "       b.car_name,\n",
    "       a.price,\n",
    "from sales as a left join (select car_id, car_name, from cars) as b \n",
    "on a.car_id = b.car_id\n",
    "where car_id>1 and car_id<=100;\n",
    "\n",
    "create or replace table first_table as -- my first table\n",
    "select car_id,\n",
    "       avg(price) as avg_price,\n",
    "from first_view\n",
    "group by car_id;\n",
    "\"\"\".strip()\n",
    "\n",
    "print(sql_file)"
   ]
  },
  {
   "cell_type": "markdown",
   "metadata": {},
   "source": [
    "Then we would like to format the SQL-queries in this file, while letting every other non-query-SQL statement untouched. For the example above we would like to have something like this:"
   ]
  },
  {
   "cell_type": "code",
   "execution_count": null,
   "metadata": {},
   "outputs": [
    {
     "name": "stdout",
     "output_type": "stream",
     "text": [
      "use database my_database;\n",
      "use schema my_schema;\n",
      "\n",
      "\n",
      "CREATE OR REPLACE VIEW first_view AS -- my first view\n",
      "SELECT a.car_id,\n",
      "       b.car_name,\n",
      "       a.price\n",
      "FROM   sales AS a\n",
      "    LEFT JOIN (SELECT car_id,\n",
      "                      car_name\n",
      "               FROM   cars) AS b\n",
      "        ON a.car_id = b.car_id\n",
      "WHERE  car_id > 1\n",
      "   and car_id <= 100;\n",
      "\n",
      "\n",
      "CREATE OR REPLACE TABLE first_table AS -- my first table\n",
      "SELECT car_id,\n",
      "       avg(price) AS avg_price\n",
      "FROM   first_view\n",
      "GROUP BY car_id;\n"
     ]
    }
   ],
   "source": [
    "expected_sql_file = \"\"\"\n",
    "use database my_database;\n",
    "use schema my_schema;\n",
    "\n",
    "\n",
    "CREATE OR REPLACE VIEW first_view AS -- my first view\n",
    "SELECT a.car_id,\n",
    "       b.car_name,\n",
    "       a.price\n",
    "FROM   sales AS a\n",
    "    LEFT JOIN (SELECT car_id,\n",
    "                      car_name\n",
    "               FROM   cars) AS b\n",
    "        ON a.car_id = b.car_id\n",
    "WHERE  car_id > 1\n",
    "   and car_id <= 100;\n",
    "\n",
    "\n",
    "CREATE OR REPLACE TABLE first_table AS -- my first table\n",
    "SELECT car_id,\n",
    "       avg(price) AS avg_price\n",
    "FROM   first_view\n",
    "GROUP BY car_id;\n",
    "\"\"\".strip()\n",
    "\n",
    "print(expected_sql_file)"
   ]
  },
  {
   "cell_type": "markdown",
   "metadata": {},
   "source": [
    "To simplify the problem, we assume for the moment the user is kind enough to separate every SQL statement by a semicolon (;)"
   ]
  },
  {
   "cell_type": "markdown",
   "metadata": {},
   "source": [
    "### Formatting philosophy of SQL files\n",
    "\n",
    "* Every SQL-query is separated from above and below by two new lines\n",
    "* Every SQL-query is formatted via `format_sql`\n",
    "\n",
    "So our first step is to identify the lines corresponding to the SQL queries"
   ]
  },
  {
   "cell_type": "markdown",
   "metadata": {},
   "source": [
    "## Formatting Functions"
   ]
  },
  {
   "cell_type": "markdown",
   "metadata": {},
   "source": [
    "### SQL-queries identification\n",
    "\n",
    "SQL queries always start either with *CREATE* or with *SELECT*.\n",
    "\n",
    "Everything else is not a valid SQL statement and will therefore not be formatted"
   ]
  },
  {
   "cell_type": "code",
   "execution_count": null,
   "metadata": {},
   "outputs": [],
   "source": [
    "#export\n",
    "def check_sql_query(s):\n",
    "    \"Checks whether `s` is a SQL query\"\n",
    "    return bool(re.match(pattern=r\"^\\n*(?:select|create)\", string=s, flags=re.I))"
   ]
  },
  {
   "cell_type": "code",
   "execution_count": null,
   "metadata": {},
   "outputs": [],
   "source": [
    "assert check_sql_query(\"\"\"\n",
    "creaTe or replace table my_table as\n",
    "select asdf\n",
    "from table\n",
    "where asdf = 1\n",
    "\"\"\")"
   ]
  },
  {
   "cell_type": "code",
   "execution_count": null,
   "metadata": {},
   "outputs": [],
   "source": [
    "assert check_sql_query(\"\"\"\n",
    "SELECT qwer, asdf\n",
    "\"\"\")"
   ]
  },
  {
   "cell_type": "code",
   "execution_count": null,
   "metadata": {},
   "outputs": [],
   "source": [
    "assert not check_sql_query(\"use database my_database;\")"
   ]
  },
  {
   "cell_type": "code",
   "execution_count": null,
   "metadata": {},
   "outputs": [],
   "source": [
    "assert not check_sql_query(\"\"\"\n",
    "\n",
    "use schema my_schema;\n",
    "\"\"\")"
   ]
  },
  {
   "cell_type": "markdown",
   "metadata": {},
   "source": [
    "### Main function formattin SQL commands"
   ]
  },
  {
   "cell_type": "code",
   "execution_count": null,
   "metadata": {},
   "outputs": [],
   "source": [
    "#export\n",
    "def format_sql_commands(s):\n",
    "    \"Format SQL commands in `s`\"\n",
    "    split_s = s.split(\";\")  # split by semicolon\n",
    "    formatted_split_s = [\n",
    "        \"\\n\\n\" + format_sql(sp, add_semicolon=False)\n",
    "        if check_sql_query(sp)\n",
    "        else sp\n",
    "        for sp in split_s\n",
    "    ]\n",
    "    formatted_s = \";\".join(formatted_split_s)\n",
    "    return formatted_s"
   ]
  },
  {
   "cell_type": "code",
   "execution_count": null,
   "metadata": {},
   "outputs": [
    {
     "name": "stdout",
     "output_type": "stream",
     "text": [
      "Correcting mistake: Comma at the end of SELECT statement\n",
      "Correcting mistake: Comma at the end of SELECT statement\n",
      "Correcting mistake: Comma at the end of SELECT statement\n",
      "use database my_database;\n",
      "use schema my_schema;\n",
      "\n",
      "\n",
      "CREATE OR REPLACE VIEW first_view AS -- my first view\n",
      "SELECT a.car_id,\n",
      "       b.car_name,\n",
      "       a.price\n",
      "FROM   sales AS a\n",
      "    LEFT JOIN (SELECT car_id,\n",
      "                      car_name\n",
      "               FROM   cars) AS b\n",
      "        ON a.car_id = b.car_id\n",
      "WHERE  car_id > 1\n",
      "   and car_id <= 100;\n",
      "\n",
      "\n",
      "CREATE OR REPLACE TABLE first_table AS -- my first table\n",
      "SELECT car_id,\n",
      "       avg(price) AS avg_price\n",
      "FROM   first_view\n",
      "GROUP BY car_id;\n"
     ]
    }
   ],
   "source": [
    "assert_and_print(\n",
    "    format_sql_commands(sql_file),\n",
    "    expected_sql_file\n",
    ")"
   ]
  },
  {
   "cell_type": "markdown",
   "metadata": {},
   "source": [
    "### Function to format SQL files"
   ]
  },
  {
   "cell_type": "code",
   "execution_count": null,
   "metadata": {},
   "outputs": [],
   "source": [
    "#export\n",
    "def format_sql_file(f):\n",
    "    \"Format SQL file `f`\"\n",
    "    with open(f, \"r\") as file:\n",
    "        sql_commands = file.read()\n",
    "    formatted_sql_commands = format_sql_commands(sql_commands)\n",
    "    return formatted_sql_commands"
   ]
  },
  {
   "cell_type": "code",
   "execution_count": null,
   "metadata": {},
   "outputs": [
    {
     "name": "stdout",
     "output_type": "stream",
     "text": [
      "Correcting mistake: Comma at the end of SELECT statement\n",
      "Correcting mistake: Comma at the end of SELECT statement\n",
      "Correcting mistake: Comma at the end of SELECT statement\n",
      "use database my_database;\n",
      "use schema my_schema;\n",
      "\n",
      "\n",
      "CREATE OR REPLACE VIEW first_view AS -- my first view\n",
      "SELECT a.car_id,\n",
      "       b.car_name,\n",
      "       a.price\n",
      "FROM   sales AS a\n",
      "    LEFT JOIN (SELECT car_id,\n",
      "                      car_name\n",
      "               FROM   cars) AS b\n",
      "        ON a.car_id = b.car_id\n",
      "WHERE  car_id > 1\n",
      "   and car_id <= 100;\n",
      "\n",
      "\n",
      "CREATE OR REPLACE TABLE first_table AS -- my first table\n",
      "SELECT car_id,\n",
      "       avg(price) AS avg_price\n",
      "FROM   first_view\n",
      "GROUP BY car_id;\n"
     ]
    }
   ],
   "source": [
    "with open(\"tmp\", \"w\") as file:\n",
    "    file.write(sql_file)\n",
    "assert_and_print(\n",
    "    format_sql_file(\"tmp\"),\n",
    "    expected_sql_file\n",
    ")\n",
    "os.remove(\"tmp\")"
   ]
  },
  {
   "cell_type": "code",
   "execution_count": null,
   "metadata": {},
   "outputs": [
    {
     "name": "stdout",
     "output_type": "stream",
     "text": [
      "Converted 00_core.ipynb.\n",
      "Converted 01_sql_file_formatter.ipynb.\n",
      "Converted index.ipynb.\n"
     ]
    }
   ],
   "source": [
    "#hide\n",
    "from nbdev.export import notebook2script\n",
    "notebook2script()"
   ]
  }
 ],
 "metadata": {
  "kernelspec": {
   "display_name": "Python [conda env:sql-formatter-dev] *",
   "language": "python",
   "name": "conda-env-sql-formatter-dev-py"
  }
 },
 "nbformat": 4,
 "nbformat_minor": 2
}
