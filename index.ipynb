{
 "cells": [
  {
   "cell_type": "code",
   "execution_count": null,
   "metadata": {},
   "outputs": [],
   "source": [
    "#hide\n",
    "from sql_formatter.core import *"
   ]
  },
  {
   "cell_type": "markdown",
   "metadata": {},
   "source": [
    "# sql_formatter\n",
    "\n",
    "> A SQL formatter"
   ]
  },
  {
   "cell_type": "markdown",
   "metadata": {},
   "source": [
    "## Install"
   ]
  },
  {
   "cell_type": "markdown",
   "metadata": {},
   "source": [
    "`pip install sql_formatter`"
   ]
  },
  {
   "cell_type": "markdown",
   "metadata": {},
   "source": [
    "## How to use\n",
    "\n",
    "Let's say you have a SQL query like this"
   ]
  },
  {
   "cell_type": "code",
   "execution_count": null,
   "metadata": {},
   "outputs": [
    {
     "name": "stdout",
     "output_type": "stream",
     "text": [
      "\n",
      "seLecT a.asdf, b.qwer,\n",
      "b.asdf2 frOm table1 as a leFt join \n",
      "table2 as b\n",
      "    on a.asdf = b.asdf  inner join table3 as c\n",
      "on a.asdf=c.asdf\n",
      "whEre a.asdf= 1\n",
      "anD b.qwer =2\n",
      "and a.asdf<=1\n",
      "or b.qwer>=5\n",
      "groUp by a.asdf\n",
      "\n"
     ]
    }
   ],
   "source": [
    "ex_sql = \"\"\"\n",
    "seLecT a.asdf, b.qwer,\n",
    "b.asdf2 frOm table1 as a leFt join \n",
    "table2 as b\n",
    "    on a.asdf = b.asdf  inner join table3 as c\n",
    "on a.asdf=c.asdf\n",
    "whEre a.asdf= 1\n",
    "anD b.qwer =2\n",
    "and a.asdf<=1\n",
    "or b.qwer>=5\n",
    "groUp by a.asdf\n",
    "\"\"\"\n",
    "print(ex_sql)"
   ]
  },
  {
   "cell_type": "markdown",
   "metadata": {},
   "source": [
    "Then you can use this package to format it so that it is better readable"
   ]
  },
  {
   "cell_type": "code",
   "execution_count": null,
   "metadata": {},
   "outputs": [
    {
     "name": "stdout",
     "output_type": "stream",
     "text": [
      "\n",
      "SELECT a.asdf,\n",
      "       b.qwer,\n",
      "       b.asdf2\n",
      "FROM   table1 AS a\n",
      "    LEFT JOIN table2 AS b\n",
      "        ON a.asdf = b.asdf\n",
      "    INNER JOIN table3 AS c\n",
      "        ON a.asdf = c.asdf\n",
      "WHERE  a.asdf = 1\n",
      "   and b.qwer = 2\n",
      "   and a.asdf <= 1\n",
      "    or b.qwer >= 5\n",
      "GROUP BY a.asdf\n"
     ]
    }
   ],
   "source": [
    "print(format_sql(ex_sql))"
   ]
  }
 ],
 "metadata": {
  "kernelspec": {
   "display_name": "Python 3",
   "language": "python",
   "name": "python3"
  }
 },
 "nbformat": 4,
 "nbformat_minor": 2
}
