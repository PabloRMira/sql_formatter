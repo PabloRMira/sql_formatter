{
 "cells": [
  {
   "cell_type": "code",
   "execution_count": null,
   "metadata": {},
   "outputs": [],
   "source": [
    "#hide\n",
    "from sql_formatter.core import *"
   ]
  },
  {
   "cell_type": "markdown",
   "metadata": {},
   "source": [
    "# sql_formatter (WIP)\n",
    "\n",
    "> A SQL formatter\n"
   ]
  },
  {
   "cell_type": "markdown",
   "metadata": {},
   "source": [
    "## How to use\n",
    "\n",
    "Format you SQL files via the command line\n",
    "\n",
    "`sql-formatter file.sql`"
   ]
  },
  {
   "cell_type": "markdown",
   "metadata": {},
   "source": [
    "To exemplify the formatting let's say you have a SQL query like this"
   ]
  },
  {
   "cell_type": "code",
   "execution_count": null,
   "metadata": {},
   "outputs": [],
   "source": [
    "example_sql = \"\"\"\n",
    "create or replace table mytable as -- mytable example\n",
    "seLecT a.asdf, b.qwer, -- some comment here\n",
    "c.asdf, -- some comment there\n",
    "b.asdf2 frOm table1 as a leFt join \n",
    "table2 as b -- and here a comment\n",
    "    on a.asdf = b.asdf  -- join this way\n",
    "    inner join table3 as c\n",
    "on a.asdf=c.asdf\n",
    "whEre a.asdf= 1 -- comment this\n",
    "anD b.qwer =2 and a.asdf<=1 --comment that\n",
    "or b.qwer>=5\n",
    "groUp by a.asdf\n",
    "\"\"\""
   ]
  },
  {
   "cell_type": "markdown",
   "metadata": {},
   "source": [
    "Then you can use this package to format it so that it is better readable"
   ]
  },
  {
   "cell_type": "code",
   "execution_count": null,
   "metadata": {},
   "outputs": [
    {
     "name": "stdout",
     "output_type": "stream",
     "text": [
      "CREATE OR REPLACE TABLE mytable AS -- mytable example\n",
      "SELECT a.asdf,\n",
      "       b.qwer, -- some comment here\n",
      "       c.asdf, -- some comment there\n",
      "       b.asdf2\n",
      "FROM   table1 AS a\n",
      "    LEFT JOIN table2 AS b -- and here a comment\n",
      "        ON a.asdf = b.asdf -- join this way\n",
      "    INNER JOIN table3 AS c\n",
      "        ON a.asdf = c.asdf\n",
      "WHERE  a.asdf = 1 -- comment this\n",
      "   and b.qwer = 2\n",
      "   and a.asdf <= 1 --comment that\n",
      "    or b.qwer >= 5\n",
      "GROUP BY a.asdf;\n"
     ]
    }
   ],
   "source": [
    "from sql_formatter.core import format_sql\n",
    "print(format_sql(example_sql))"
   ]
  },
  {
   "cell_type": "markdown",
   "metadata": {},
   "source": [
    "It can even deal with subqueries"
   ]
  },
  {
   "cell_type": "code",
   "execution_count": null,
   "metadata": {},
   "outputs": [
    {
     "name": "stdout",
     "output_type": "stream",
     "text": [
      "\n",
      "select asdf, cast(qwer as numeric), -- some comment\n",
      "qwer1\n",
      "from \n",
      "(select asdf, qwer, from table1 where asdf = 1) as a\n",
      "left \n",
      "join (select asdf, qwer2 from table2 where qwer2 = 1) as b\n",
      "on a.asdf = b.asdf\n",
      "where qwer1 >= 0\n",
      "\n"
     ]
    }
   ],
   "source": [
    "example_with_subqueries = \"\"\"\n",
    "select asdf, cast(qwer as numeric), -- some comment\n",
    "qwer1\n",
    "from \n",
    "(select asdf, qwer, from table1 where asdf = 1) as a\n",
    "left \n",
    "join (select asdf, qwer2 from table2 where qwer2 = 1) as b\n",
    "on a.asdf = b.asdf\n",
    "where qwer1 >= 0\n",
    "\"\"\"\n",
    "print(example_with_subqueries)"
   ]
  },
  {
   "cell_type": "markdown",
   "metadata": {},
   "source": [
    "and it will correct simple careless mistakes (like my favourite one: comma at the end of SELECT statement before of FROM) for you on the flow :-)"
   ]
  },
  {
   "cell_type": "code",
   "execution_count": null,
   "metadata": {},
   "outputs": [
    {
     "name": "stdout",
     "output_type": "stream",
     "text": [
      "Correcting mistake: Comma at the end of SELECT statement\n",
      "SELECT asdf,\n",
      "       cast(qwer AS numeric), -- some comment\n",
      "       qwer1\n",
      "FROM   (SELECT asdf,\n",
      "               qwer\n",
      "        FROM   table1\n",
      "        WHERE  asdf = 1) AS a\n",
      "    LEFT JOIN (SELECT asdf,\n",
      "                      qwer2\n",
      "               FROM   table2\n",
      "               WHERE  qwer2 = 1) AS b\n",
      "        ON a.asdf = b.asdf\n",
      "WHERE  qwer1 >= 0;\n"
     ]
    }
   ],
   "source": [
    "print(format_sql(example_with_subqueries))"
   ]
  },
  {
   "cell_type": "markdown",
   "metadata": {},
   "source": [
    "## Acknowledgements"
   ]
  },
  {
   "cell_type": "markdown",
   "metadata": {},
   "source": [
    "Thank you very much to Jeremy Howard and all the [nbdev](https://github.com/fastai/nbdev) team for enabling the *fast* and delightful development of this library via the `nbdev` framework.\n",
    "\n",
    "For more details on `nbdev`, see its official [tutorial](https://nbdev.fast.ai/tutorial.html)"
   ]
  }
 ],
 "metadata": {
  "kernelspec": {
   "display_name": "Python 3",
   "language": "python",
   "name": "python3"
  }
 },
 "nbformat": 4,
 "nbformat_minor": 2
}
