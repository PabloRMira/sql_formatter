{
 "cells": [
  {
   "cell_type": "code",
   "execution_count": null,
   "metadata": {},
   "outputs": [],
   "source": [
    "#hide\n",
    "%load_ext autoreload\n",
    "%autoreload 2\n",
    "%config Completer.use_jedi = False  # workaround for buggy jedi"
   ]
  },
  {
   "cell_type": "code",
   "execution_count": null,
   "metadata": {},
   "outputs": [],
   "source": [
    "# default_exp core"
   ]
  },
  {
   "cell_type": "code",
   "execution_count": null,
   "metadata": {},
   "outputs": [],
   "source": [
    "#export\n",
    "import re\n",
    "from sql_formatter.utils import *"
   ]
  },
  {
   "cell_type": "markdown",
   "metadata": {},
   "source": [
    "# core\n",
    "\n",
    "> Core functions for SQL formatting"
   ]
  },
  {
   "cell_type": "code",
   "execution_count": null,
   "metadata": {},
   "outputs": [],
   "source": [
    "#hide\n",
    "from nbdev.showdoc import *"
   ]
  },
  {
   "cell_type": "markdown",
   "metadata": {},
   "source": [
    "## General formatting"
   ]
  },
  {
   "cell_type": "markdown",
   "metadata": {},
   "source": [
    "Basic formatting for SQL queries. Let's use an example throughout the core module.\n",
    "\n",
    "This is how an input could look like"
   ]
  },
  {
   "cell_type": "code",
   "execution_count": null,
   "metadata": {},
   "outputs": [],
   "source": [
    "example_sql = \"\"\"\n",
    "create or replace table mytable as -- Mytable example\n",
    "/* multi line\n",
    "   comment */\n",
    "seLecT a.asdf, b.qwer, -- some comment here\n",
    "/* and here is a line comment inside select */\n",
    "substr(c.asdf, 1, 2) as substr_asdf, \n",
    "/* some commenT \n",
    "there */\n",
    "case when a.asdf= 1 then 'b' /* here a case comment */\n",
    "when b.qwer =2 then 'c' else 'd' end as new_field, -- Some comment\n",
    "b.asdf2 frOm table1 as a leFt join \n",
    "table2 as b -- and here a comment\n",
    "    on a.asdf = b.asdf  /* joiN this way */\n",
    "    inner join table3 as c\n",
    "on a.asdf=c.asdf and a.qwer= b.qwer\n",
    "whEre a.asdf= 1 -- comment this\n",
    "anD b.qwer =2 and a.asdf<=1 --comment that\n",
    "or b.qwer>=5\n",
    "groUp by a.asdf\n",
    "\"\"\""
   ]
  },
  {
   "cell_type": "markdown",
   "metadata": {},
   "source": [
    "and this is how we would like to format it"
   ]
  },
  {
   "cell_type": "code",
   "execution_count": null,
   "metadata": {},
   "outputs": [],
   "source": [
    "expected_sql = \"\"\"CREATE OR REPLACE TABLE mytable AS -- Mytable example\n",
    "/* multi line\n",
    "   comment */\n",
    "SELECT a.asdf,\n",
    "       b.qwer, -- some comment here\n",
    "       /* and here is a line comment inside select */\n",
    "       substr(c.asdf, 1, 2) as substr_asdf,\n",
    "       /* some commenT\n",
    "          there */\n",
    "       case when a.asdf = 1 then 'b' /* here a case comment */\n",
    "            when b.qwer = 2 then 'c'\n",
    "            else 'd' end as new_field, -- Some comment\n",
    "       b.asdf2\n",
    "FROM   table1 as a\n",
    "    LEFT JOIN table2 as b -- and here a comment\n",
    "        ON a.asdf = b.asdf /* joiN this way */\n",
    "    INNER JOIN table3 as c\n",
    "        ON a.asdf = c.asdf and\n",
    "           a.qwer = b.qwer\n",
    "WHERE  a.asdf = 1 -- comment this\n",
    "   and b.qwer = 2\n",
    "   and a.asdf <= 1 --comment that\n",
    "    or b.qwer >= 5\n",
    "GROUP BY a.asdf\"\"\""
   ]
  },
  {
   "cell_type": "markdown",
   "metadata": {},
   "source": [
    "Let's start by defining the main statements. The main statements all require a new line and should be in upper case"
   ]
  },
  {
   "cell_type": "code",
   "execution_count": null,
   "metadata": {},
   "outputs": [],
   "source": [
    "#export\n",
    "MAIN_STATEMENTS = [\n",
    "    \"create.*?table\",  # regex for all variants, e.g. CREATE OR REPLACE TABLE\n",
    "    \"create.*?view\",  # regex for all variants, e.g. CREATE OR REPLACE VIEW\n",
    "    \"select distinct\",\n",
    "    \"select\",\n",
    "    \"from\",\n",
    "    \"left join\",\n",
    "    \"inner join\",\n",
    "    \"outer join\",\n",
    "    \"right join\",\n",
    "    \"union\",\n",
    "    \"on\",\n",
    "    \"where\",\n",
    "    \"group by\",\n",
    "    \"order by\",\n",
    "    \"over\",  # special case: no newline, only capitalized\n",
    "    \"partition by\",  # special case: no newline, only capitalized\n",
    "]"
   ]
  },
  {
   "cell_type": "markdown",
   "metadata": {},
   "source": [
    "> Remark: For OVER and PARTITION BY we only capitalize without adding a newline"
   ]
  },
  {
   "cell_type": "markdown",
   "metadata": {},
   "source": [
    "We need to remove newlines and multiple spaces because they may be arbitrary. \n",
    "\n",
    "Before removing newlines we also need to mark the end of coments with the special token [C] because we would not know where they end\n",
    "\n",
    "We also mark the begin of comments /* */ with the special token [CS] (comment start) if they start in a newline"
   ]
  },
  {
   "cell_type": "code",
   "execution_count": null,
   "metadata": {},
   "outputs": [],
   "source": [
    "#export\n",
    "def clean_query(s):\n",
    "    \"Remove redundant whitespaces and mark comments boundaries and remove newlines afterwards in query `s`\"\n",
    "    s = remove_redundant_whitespaces(s)  # remove too many whitespaces but no newlines\n",
    "    s = mark_comments(s)  # mark comments with special tokens [C], [CS] and [CI]\n",
    "    s = replace_newline_chars(s)  # remove newlines but not in the comments\n",
    "    s = remove_whitespaces_newline(s)  # remove whitespaces after and before newline\n",
    "    s = remove_whitespaces_comments(s)  # remove whitespaces after and before [C], [CS] and [CI]\n",
    "    s = remove_redundant_whitespaces(s)  # remove too many whitespaces but no newlines\n",
    "    return s"
   ]
  },
  {
   "cell_type": "code",
   "execution_count": null,
   "metadata": {},
   "outputs": [
    {
     "name": "stdout",
     "output_type": "stream",
     "text": [
      "SELECT asdf, qwer, qwer1, qwer2 FROM table1\n"
     ]
    }
   ],
   "source": [
    "assert_and_print(\n",
    "    clean_query(\n",
    "\"\"\"\n",
    "SELECT asdf, qwer,\n",
    " qwer1,    qwer2\n",
    "FROM table1\n",
    "\"\"\"\n",
    "    ), \"SELECT asdf, qwer, qwer1, qwer2 FROM table1\"\n",
    ")"
   ]
  },
  {
   "cell_type": "markdown",
   "metadata": {},
   "source": [
    "With usual comments"
   ]
  },
  {
   "cell_type": "code",
   "execution_count": null,
   "metadata": {},
   "outputs": [
    {
     "name": "stdout",
     "output_type": "stream",
     "text": [
      "SELECT asdf, qwer, -- some comment[C]qwer1, qwer2 FROM table1 WHERE asdf=1\n"
     ]
    }
   ],
   "source": [
    "assert_and_print(\n",
    "    clean_query(\"\"\"\n",
    "SELECT asdf, qwer, -- some comment\n",
    " qwer1,    qwer2\n",
    "FROM table1\n",
    "WHERE asdf=1\n",
    "\"\"\"), \"SELECT asdf, qwer, -- some comment[C]qwer1, qwer2 FROM table1 WHERE asdf=1\"\n",
    ")"
   ]
  },
  {
   "cell_type": "markdown",
   "metadata": {},
   "source": [
    "With other comment form"
   ]
  },
  {
   "cell_type": "code",
   "execution_count": null,
   "metadata": {},
   "outputs": [
    {
     "name": "stdout",
     "output_type": "stream",
     "text": [
      "SELECT asdf, qwer, /* another comment */[C]qwer1, qwer2 FROM table1 WHERE asdf=1\n"
     ]
    }
   ],
   "source": [
    "assert_and_print(\n",
    "    clean_query(\"\"\"\n",
    "SELECT asdf, qwer, /*  another comment */\n",
    "qwer1,    qwer2\n",
    "FROM table1\n",
    "WHERE asdf=1\n",
    "\"\"\"), \"SELECT asdf, qwer, /* another comment */[C]qwer1, qwer2 FROM table1 WHERE asdf=1\"\n",
    ")"
   ]
  },
  {
   "cell_type": "code",
   "execution_count": null,
   "metadata": {},
   "outputs": [
    {
     "name": "stdout",
     "output_type": "stream",
     "text": [
      "SELECT asdf, qwer, /* another comment */[C]qwer1,[CS]/* inline comment */[C]qwer2 FROM table1 WHERE asdf=1\n"
     ]
    }
   ],
   "source": [
    "assert_and_print(\n",
    "    clean_query(\n",
    "\"\"\"\n",
    "SELECT asdf, qwer, /*  another comment */\n",
    "qwer1,    \n",
    "/* inline comment */\n",
    "qwer2\n",
    "FROM table1\n",
    "WHERE asdf=1\n",
    "\"\"\"\n",
    "    ), \n",
    "    \"SELECT asdf, qwer, /* another comment */[C]qwer1,[CS]/* inline comment */[C]qwer2 FROM table1 WHERE asdf=1\"\n",
    ")"
   ]
  },
  {
   "cell_type": "code",
   "execution_count": null,
   "metadata": {},
   "outputs": [
    {
     "name": "stdout",
     "output_type": "stream",
     "text": [
      "create or replace my_table as[CS]/* some comment[CI]some new comment line */[C]select asdf, qwer, qwer2 from table1\n"
     ]
    }
   ],
   "source": [
    "assert_and_print(\n",
    "    clean_query(\n",
    "\"\"\"\n",
    "create or replace my_table as\n",
    "/* some comment\n",
    "   some new comment line */\n",
    "select asdf,\n",
    "qwer,   qwer2\n",
    "\n",
    "from table1\n",
    "\"\"\"\n",
    "    ),\n",
    "\"create or replace my_table as[CS]/* some comment[CI]some new comment line */[C]select asdf, qwer, qwer2 from table1\"\n",
    ")"
   ]
  },
  {
   "cell_type": "code",
   "execution_count": null,
   "metadata": {},
   "outputs": [
    {
     "name": "stdout",
     "output_type": "stream",
     "text": [
      "create or replace table mytable as -- Mytable example[C][CS]/* multi line[CI]comment */[C]seLecT a.asdf, b.qwer, -- some comment here[C][CS]/* and here is a line comment inside select */[C]substr(c.asdf, 1, 2) as substr_asdf,[CS]/* some commenT[CI]there */[C]case when a.asdf= 1 then 'b' /* here a case comment */[C]when b.qwer =2 then 'c' else 'd' end as new_field, -- Some comment[C]b.asdf2 frOm table1 as a leFt join table2 as b -- and here a comment[C]on a.asdf = b.asdf /* joiN this way */[C]inner join table3 as c on a.asdf=c.asdf and a.qwer= b.qwer whEre a.asdf= 1 -- comment this[C]anD b.qwer =2 and a.asdf<=1 --comment that[C]or b.qwer>=5 groUp by a.asdf\n"
     ]
    }
   ],
   "source": [
    "print(clean_query(example_sql))"
   ]
  },
  {
   "cell_type": "markdown",
   "metadata": {},
   "source": [
    "### Preformatting queries\n",
    "\n",
    "We would like to have each main statement (SELECT, FROM , ...) in a separate line and in uppercase, ignoring text in comments. This way we can then later format each query statement separately. Also for the special case with PARTITION BY in the SELECT statement we will not add a newline because the main statement in that case is SELECT and not PARTITION BY"
   ]
  },
  {
   "cell_type": "code",
   "execution_count": null,
   "metadata": {},
   "outputs": [],
   "source": [
    "#export\n",
    "def preformat_statements(s):\n",
    "    \"\"\"Write a newline in `s` for all `statements` and\n",
    "    uppercase them but not if they are inside a comment\"\"\"\n",
    "    statements = MAIN_STATEMENTS\n",
    "    s = clean_query(s)  # clean query and mark comments\n",
    "    split_s = split_query(s)  # split by comment and non comment\n",
    "    split_s = compress_dicts(split_s, [\"comment\", \"select\"])\n",
    "    # compile regex before loop\n",
    "    create_re = re.compile(\"create\", flags=re.I)\n",
    "    select_re = re.compile(\"select\", flags=re.I)\n",
    "    for statement in statements:\n",
    "        if create_re.match(statement):  # special case CREATE with AS capitalize as well\n",
    "            create_sub = re.compile(rf\"\\s*({statement} )(.*) as\\b\", flags=re.I)\n",
    "            split_s = [{\n",
    "                \"string\": create_sub.sub(\n",
    "                    lambda pat: \"\\n\" + pat.group(1).upper() + pat.group(2) + \" AS\", \n",
    "                    sdict[\"string\"], \n",
    "                    ) if not sdict[\"comment\"] else sdict[\"string\"],\n",
    "                    \"comment\": sdict[\"comment\"],\n",
    "                    \"select\": sdict[\"select\"]\n",
    "                } for sdict in split_s]\n",
    "        else:  # normal main statements\n",
    "            non_select_region_re = re.compile(rf\"\\s*\\b({statement})\\b\", flags=re.I)\n",
    "            select_region_statement_re = re.compile(rf\"\\b({statement})\\b\", flags=re.I)\n",
    "            split_s = [{\n",
    "                \"string\": non_select_region_re.sub(\"\\n\" + statement.upper(), sdict[\"string\"]) \n",
    "                    if not sdict[\"comment\"] and not sdict[\"select\"]  # no comment, no select region\n",
    "                    else non_select_region_re.sub(\"\\n\" + statement.upper(), sdict[\"string\"]) \n",
    "                    if not sdict[\"comment\"] and sdict[\"select\"] and select_re.match(statement) # no comment, select region and select statement\n",
    "                    else select_region_statement_re.sub(statement.upper(), sdict[\"string\"]) \n",
    "                    if not sdict[\"comment\"] and sdict[\"select\"] and not select_re.match(statement) # no comment, select region and no select statement\n",
    "                    else sdict[\"string\"],\n",
    "                \"comment\": sdict[\"comment\"],\n",
    "                \"select\": sdict[\"select\"]\n",
    "                } for sdict in split_s]\n",
    "    s = \"\".join([sdict[\"string\"] for sdict in split_s])\n",
    "    s = s.strip()  # strip string\n",
    "    s = remove_whitespaces_newline(s)  # remove whitespaces before and after newline\n",
    "    return s"
   ]
  },
  {
   "cell_type": "code",
   "execution_count": null,
   "metadata": {},
   "outputs": [
    {
     "name": "stdout",
     "output_type": "stream",
     "text": [
      "SELECT asdf, qwer as new_var\n",
      "FROM table1\n",
      "WHERE asdf = 1\n"
     ]
    }
   ],
   "source": [
    "assert_and_print(\n",
    "    preformat_statements(\"select asdf, qwer as new_var from table1 where asdf = 1\"),\n",
    "    \"SELECT asdf, qwer as new_var\\nFROM table1\\nWHERE asdf = 1\"\n",
    ")"
   ]
  },
  {
   "cell_type": "code",
   "execution_count": null,
   "metadata": {},
   "outputs": [
    {
     "name": "stdout",
     "output_type": "stream",
     "text": [
      "SELECT asdf,[CS]/* some comment inside select */[C]qwer\n",
      "FROM table1\n",
      "WHERE asdf = 1\n"
     ]
    }
   ],
   "source": [
    "assert_and_print(preformat_statements(\"\"\"\n",
    "seLect asdf,\n",
    "       /* some comment inside select */\n",
    "       qwer\n",
    "From   table1 where  asdf = 1\n",
    "\"\"\"),\n",
    "    \"SELECT asdf,[CS]/* some comment inside select */[C]qwer\\nFROM table1\\nWHERE asdf = 1\"\n",
    ")"
   ]
  },
  {
   "cell_type": "code",
   "execution_count": null,
   "metadata": {},
   "outputs": [
    {
     "name": "stdout",
     "output_type": "stream",
     "text": [
      "SELECT asdf, /* some comment inside select */[C]qwer\n",
      "FROM table1\n",
      "WHERE asdf = 1\n"
     ]
    }
   ],
   "source": [
    "assert_and_print(\n",
    "    preformat_statements(\"\"\"\n",
    "seLect asdf, /* some comment inside select */\n",
    "       qwer\n",
    "From   table1 where  asdf = 1\n",
    "\"\"\"),\n",
    "    \"SELECT asdf, /* some comment inside select */[C]qwer\\nFROM table1\\nWHERE asdf = 1\"\n",
    ")"
   ]
  },
  {
   "cell_type": "code",
   "execution_count": null,
   "metadata": {},
   "outputs": [
    {
     "name": "stdout",
     "output_type": "stream",
     "text": [
      "CREATE OR REPLACE VIEW my_view AS\n",
      "SELECT asdf,[CS]/* some comment inside select */[C]qwer\n",
      "FROM table1\n",
      "WHERE asdf = 1\n"
     ]
    }
   ],
   "source": [
    "assert_and_print(\n",
    "    preformat_statements(\"\"\"\n",
    "create or replace view my_view as\n",
    "seLect asdf,\n",
    "       /* some comment inside select */\n",
    "       qwer\n",
    "From   table1 where  asdf = 1\n",
    "\"\"\"),\n",
    "    \"CREATE OR REPLACE VIEW my_view AS\\nSELECT asdf,[CS]/* some comment inside select */[C]qwer\\nFROM table1\\nWHERE asdf = 1\"\n",
    ")"
   ]
  },
  {
   "cell_type": "code",
   "execution_count": null,
   "metadata": {},
   "outputs": [
    {
     "name": "stdout",
     "output_type": "stream",
     "text": [
      "CREATE OR REPLACE VIEW my_view AS\n",
      "SELECT asdf, qwer_function, qwer\n",
      "FROM table1\n",
      "WHERE asdf = 1\n"
     ]
    }
   ],
   "source": [
    "assert_and_print(\n",
    "    preformat_statements(\"\"\"\n",
    "create or replace view my_view as\n",
    "seLect asdf,\n",
    "       qwer_function,\n",
    "       qwer\n",
    "From   table1 where  asdf = 1\n",
    "\"\"\"),\n",
    "    \"CREATE OR REPLACE VIEW my_view AS\\nSELECT asdf, qwer_function, qwer\\nFROM table1\\nWHERE asdf = 1\"\n",
    ")"
   ]
  },
  {
   "cell_type": "code",
   "execution_count": null,
   "metadata": {},
   "outputs": [
    {
     "name": "stdout",
     "output_type": "stream",
     "text": [
      "CREATE OR REPLACE VIEW my_view AS\n",
      "SELECT asdf, qwer_function, lead(asdf) OVER (PARTITION BY asdf ORDER BY qwer), qwer2\n",
      "FROM table1\n",
      "WHERE asdf = 1\n",
      "ORDER BY asdf\n"
     ]
    }
   ],
   "source": [
    "assert_and_print(\n",
    "    preformat_statements(\"\"\"\n",
    "create or replace view my_view as\n",
    "seLect asdf, qwer_function,\n",
    "       lead(asdf) over (Partition By asdf order BY qwer),\n",
    "    qwer2\n",
    "From   table1 where  asdf = 1 order by asdf\n",
    "\"\"\"),\n",
    "    \"\"\"\n",
    "CREATE OR REPLACE VIEW my_view AS\n",
    "SELECT asdf, qwer_function, lead(asdf) OVER (PARTITION BY asdf ORDER BY qwer), qwer2\n",
    "FROM table1\n",
    "WHERE asdf = 1\n",
    "ORDER BY asdf\n",
    "\"\"\".strip()\n",
    ")"
   ]
  },
  {
   "cell_type": "code",
   "execution_count": null,
   "metadata": {},
   "outputs": [
    {
     "name": "stdout",
     "output_type": "stream",
     "text": [
      "CREATE OR REPLACE TABLE mytable AS -- Mytable example[C]\n",
      "SELECT a.asdf, b.qwer, -- some comment here[C][CS]/* and here is a line comment inside select */[C]substr(c.asdf, 1, 2) as substr_asdf\n"
     ]
    }
   ],
   "source": [
    "assert_and_print(\n",
    "    preformat_statements(\n",
    "\"\"\"\n",
    "create or replace table mytable as -- Mytable example\n",
    "seLecT a.asdf, b.qwer, -- some comment here\n",
    "/* and here is a line comment inside select */\n",
    "substr(c.asdf, 1, 2) as substr_asdf\n",
    "\"\"\"\n",
    "    ),\n",
    "\"\"\"\n",
    "CREATE OR REPLACE TABLE mytable AS -- Mytable example[C]\n",
    "SELECT a.asdf, b.qwer, -- some comment here[C][CS]/* and here is a line comment inside select */[C]substr(c.asdf, 1, 2) as substr_asdf\n",
    "\"\"\".strip()\n",
    ")"
   ]
  },
  {
   "cell_type": "code",
   "execution_count": null,
   "metadata": {},
   "outputs": [
    {
     "name": "stdout",
     "output_type": "stream",
     "text": [
      "CREATE TABLE mytable AS -- Mytable example[C]\n",
      "SELECT a.asdf, b.qwer, -- some comment here[C][CS]/* and here is a line comment inside select */[C]substr(c.asdf, 1, 2) as substr_asdf\n"
     ]
    }
   ],
   "source": [
    "assert_and_print(\n",
    "    preformat_statements(\n",
    "\"\"\"\n",
    "create table mytable as -- Mytable example\n",
    "seLecT a.asdf, b.qwer, -- some comment here\n",
    "/* and here is a line comment inside select */\n",
    "substr(c.asdf, 1, 2) as substr_asdf\n",
    "\"\"\"\n",
    "    ),\n",
    "\"\"\"\n",
    "CREATE TABLE mytable AS -- Mytable example[C]\n",
    "SELECT a.asdf, b.qwer, -- some comment here[C][CS]/* and here is a line comment inside select */[C]substr(c.asdf, 1, 2) as substr_asdf\n",
    "\"\"\".strip()\n",
    ")"
   ]
  },
  {
   "cell_type": "code",
   "execution_count": null,
   "metadata": {},
   "outputs": [
    {
     "name": "stdout",
     "output_type": "stream",
     "text": [
      "CREATE OR REPLACE TABLE my_table AS -- mytable[C]\n",
      "SELECT DISTINCT asdf, qwer, -- some comment[C]\n",
      "FROM table1\n"
     ]
    }
   ],
   "source": [
    "assert_and_print(\n",
    "    preformat_statements(\n",
    "\"\"\"\n",
    "create or replace table  my_table as -- mytable\n",
    "select distinct asdf, qwer, -- some comment\n",
    "from table1\n",
    "\"\"\"\n",
    "    ),\n",
    "\"\"\"\n",
    "CREATE OR REPLACE TABLE my_table AS -- mytable[C]\n",
    "SELECT DISTINCT asdf, qwer, -- some comment[C]\n",
    "FROM table1\n",
    "\"\"\".strip()\n",
    ")"
   ]
  },
  {
   "cell_type": "markdown",
   "metadata": {},
   "source": [
    "With additional keyword `COMMENT`"
   ]
  },
  {
   "cell_type": "code",
   "execution_count": null,
   "metadata": {},
   "outputs": [
    {
     "name": "stdout",
     "output_type": "stream",
     "text": [
      "CREATE OR REPLACE TABLE my_table comment='blabla' AS -- mytable[C]\n",
      "SELECT DISTINCT asdf, qwer, -- some comment[C]\n",
      "FROM table1\n"
     ]
    }
   ],
   "source": [
    "assert_and_print(\n",
    "    preformat_statements(\n",
    "\"\"\"\n",
    "create or replace table  my_table comment='blabla' as -- mytable\n",
    "select distinct asdf, qwer, -- some comment\n",
    "from table1\n",
    "\"\"\"\n",
    "    ),\n",
    "\"\"\"\n",
    "CREATE OR REPLACE TABLE my_table comment='blabla' AS -- mytable[C]\n",
    "SELECT DISTINCT asdf, qwer, -- some comment[C]\n",
    "FROM table1\n",
    "\"\"\".strip()\n",
    ")"
   ]
  },
  {
   "cell_type": "code",
   "execution_count": null,
   "metadata": {},
   "outputs": [
    {
     "name": "stdout",
     "output_type": "stream",
     "text": [
      "CREATE OR REPLACE TRANSIENT TABLE my_table AS -- mytable[C]\n",
      "SELECT DISTINCT asdf, qwer, -- some comment[C]\n",
      "FROM table1\n"
     ]
    }
   ],
   "source": [
    "assert_and_print(\n",
    "    preformat_statements(\n",
    "\"\"\"\n",
    "create or replace transient table  my_table as -- mytable\n",
    "select distinct asdf, qwer, -- some comment\n",
    "from table1\n",
    "\"\"\"\n",
    "    ),\n",
    "\"\"\"\n",
    "CREATE OR REPLACE TRANSIENT TABLE my_table AS -- mytable[C]\n",
    "SELECT DISTINCT asdf, qwer, -- some comment[C]\n",
    "FROM table1\n",
    "\"\"\".strip()\n",
    ")"
   ]
  },
  {
   "cell_type": "code",
   "execution_count": null,
   "metadata": {},
   "outputs": [
    {
     "name": "stdout",
     "output_type": "stream",
     "text": [
      "CREATE VIEW my_table AS -- mytable[C]\n",
      "SELECT DISTINCT asdf, qwer, -- some comment[C]\n",
      "FROM table1\n"
     ]
    }
   ],
   "source": [
    "assert_and_print(\n",
    "    preformat_statements(\n",
    "\"\"\"\n",
    "Create view  my_table as -- mytable\n",
    "select distinct asdf, qwer, -- some comment\n",
    "from table1\n",
    "\"\"\"\n",
    "    ),\n",
    "\"\"\"\n",
    "CREATE VIEW my_table AS -- mytable[C]\n",
    "SELECT DISTINCT asdf, qwer, -- some comment[C]\n",
    "FROM table1\n",
    "\"\"\".strip()\n",
    ")"
   ]
  },
  {
   "cell_type": "code",
   "execution_count": null,
   "metadata": {},
   "outputs": [
    {
     "name": "stdout",
     "output_type": "stream",
     "text": [
      "CREATE OR REPLACE TABLE mytable AS -- Mytable example[C][CS]/* multi line[CI]comment */[C]\n",
      "SELECT a.asdf, b.qwer, -- some comment here[C][CS]/* and here is a line comment inside select */[C]substr(c.asdf, 1, 2) as substr_asdf,[CS]/* some commenT[CI]there */[C]case when a.asdf= 1 then 'b' /* here a case comment */[C]when b.qwer =2 then 'c' else 'd' end as new_field, -- Some comment[C]b.asdf2\n",
      "FROM table1 as a\n",
      "LEFT JOIN table2 as b -- and here a comment[C]\n",
      "ON a.asdf = b.asdf /* joiN this way */[C]\n",
      "INNER JOIN table3 as c\n",
      "ON a.asdf=c.asdf and a.qwer= b.qwer\n",
      "WHERE a.asdf= 1 -- comment this[C]anD b.qwer =2 and a.asdf<=1 --comment that[C]or b.qwer>=5\n",
      "GROUP BY a.asdf\n"
     ]
    }
   ],
   "source": [
    "print(preformat_statements(example_sql))"
   ]
  },
  {
   "cell_type": "markdown",
   "metadata": {},
   "source": [
    "### Lowercasing query"
   ]
  },
  {
   "cell_type": "code",
   "execution_count": null,
   "metadata": {},
   "outputs": [],
   "source": [
    "#export\n",
    "def lowercase_query(s):\n",
    "    \"Lowercase query but let comments and text in quotes untouched\"\n",
    "    split_s = split_query(s)\n",
    "    split_s = [\n",
    "        d[\"string\"]\n",
    "        if d[\"comment\"] or d[\"quote\"]\n",
    "        else d[\"string\"].lower()\n",
    "        for d in split_s\n",
    "    ]\n",
    "    s = \"\".join([s for s in split_s])\n",
    "    return s    "
   ]
  },
  {
   "cell_type": "code",
   "execution_count": null,
   "metadata": {},
   "outputs": [
    {
     "name": "stdout",
     "output_type": "stream",
     "text": [
      "\n",
      "--- My nice view 1 --\n",
      "create or replace view view_1 as\n",
      "select asdf, -- Some Comment\n",
      "qwer,\n",
      "qwerty, -- Some other comment\n",
      "from table1\n",
      "\n"
     ]
    }
   ],
   "source": [
    "assert_and_print(\n",
    "    lowercase_query(\"\"\"\n",
    "--- My nice view 1 --\n",
    "Create or Replace VieW view_1 as\n",
    "seLect asdf, -- Some Comment\n",
    "qwER,\n",
    "qwerTy, -- Some other comment\n",
    "FROM table1\n",
    "\"\"\"),\n",
    "    \"\"\"\n",
    "--- My nice view 1 --\n",
    "create or replace view view_1 as\n",
    "select asdf, -- Some Comment\n",
    "qwer,\n",
    "qwerty, -- Some other comment\n",
    "from table1\n",
    "\"\"\"\n",
    ")"
   ]
  },
  {
   "cell_type": "code",
   "execution_count": null,
   "metadata": {},
   "outputs": [
    {
     "name": "stdout",
     "output_type": "stream",
     "text": [
      "\n",
      "-- Some comment --\n",
      "create or replace table as\n",
      "select asdf,\n",
      "/* sOme CommEnt */\n",
      "qwer\n",
      "from table1\n",
      "\n"
     ]
    }
   ],
   "source": [
    "assert_and_print(\n",
    "    lowercase_query(\"\"\"\n",
    "-- Some comment --\n",
    "Create Or rePlace tablE aS\n",
    "sElEct asdf,\n",
    "/* sOme CommEnt */\n",
    "qwer\n",
    "FroM table1\n",
    "\"\"\"),\n",
    "\"\"\"\n",
    "-- Some comment --\n",
    "create or replace table as\n",
    "select asdf,\n",
    "/* sOme CommEnt */\n",
    "qwer\n",
    "from table1\n",
    "\"\"\"\n",
    ")"
   ]
  },
  {
   "cell_type": "code",
   "execution_count": null,
   "metadata": {},
   "outputs": [
    {
     "name": "stdout",
     "output_type": "stream",
     "text": [
      "\n",
      "-- Some comment --\n",
      "create or replace table as\n",
      "select asdf, replace('J', 'N', asdf2) as asdf3\n",
      "/* sOme CommEnt */\n",
      "qwer\n",
      "from table1\n",
      "\n"
     ]
    }
   ],
   "source": [
    "assert_and_print(\n",
    "    lowercase_query(\"\"\"\n",
    "-- Some comment --\n",
    "Create Or rePlace tablE aS\n",
    "sElEct asdf, replace('J', 'N', Asdf2) as Asdf3\n",
    "/* sOme CommEnt */\n",
    "qwer\n",
    "FroM table1\n",
    "\"\"\"),\n",
    "\"\"\"\n",
    "-- Some comment --\n",
    "create or replace table as\n",
    "select asdf, replace('J', 'N', asdf2) as asdf3\n",
    "/* sOme CommEnt */\n",
    "qwer\n",
    "from table1\n",
    "\"\"\"\n",
    ")"
   ]
  },
  {
   "cell_type": "code",
   "execution_count": null,
   "metadata": {},
   "outputs": [
    {
     "name": "stdout",
     "output_type": "stream",
     "text": [
      "\n",
      "-- Some comment --\n",
      "create or replace table as\n",
      "select asdf, replace('J', 'N', asdf2) as asdf3\n",
      "/* sOme CommEnt */\n",
      "qwer\n",
      "from table1 -- Some comment\n",
      "\n"
     ]
    }
   ],
   "source": [
    "assert_and_print(\n",
    "    lowercase_query(\"\"\"\n",
    "-- Some comment --\n",
    "Create Or rePlace tablE aS\n",
    "sElEct asdf, replace('J', 'N', Asdf2) as Asdf3\n",
    "/* sOme CommEnt */\n",
    "qwer\n",
    "FroM table1 -- Some comment\n",
    "\"\"\"),\n",
    "\"\"\"\n",
    "-- Some comment --\n",
    "create or replace table as\n",
    "select asdf, replace('J', 'N', asdf2) as asdf3\n",
    "/* sOme CommEnt */\n",
    "qwer\n",
    "from table1 -- Some comment\n",
    "\"\"\"\n",
    ")"
   ]
  },
  {
   "cell_type": "markdown",
   "metadata": {},
   "source": [
    "## Add whitespaces between symbols"
   ]
  },
  {
   "cell_type": "code",
   "execution_count": null,
   "metadata": {},
   "outputs": [],
   "source": [
    "#export\n",
    "def add_whitespaces_query(s):\n",
    "    \"Add whitespaces between symbols (=!<>) for query `s` but not for comments\"\n",
    "    split_s = split_comment_quote(s)  # split by comment / non-comment, quote / non-quote\n",
    "    for d in split_s:\n",
    "        if not d[\"comment\"] and not d[\"quote\"]:\n",
    "            d[\"string\"] = add_whitespaces_between_symbols(d[\"string\"])\n",
    "    s = \"\".join([d[\"string\"] for d in split_s])\n",
    "    return s"
   ]
  },
  {
   "cell_type": "code",
   "execution_count": null,
   "metadata": {},
   "outputs": [
    {
     "name": "stdout",
     "output_type": "stream",
     "text": [
      "\n",
      "create or replace table my_table as /* some comment 1=1, 1 =1 */\n",
      "select asdf, case when asdf = 1 then '=' else 0 end as qwerty\n",
      "from table1 as a\n",
      "left join table2 as b on a.asdf = b.asdf\n",
      "where asdf = 1 and qwer = 2\n",
      "\n"
     ]
    }
   ],
   "source": [
    "assert_and_print(\n",
    "    add_whitespaces_query(\n",
    "\"\"\"\n",
    "create or replace table my_table as /* some comment 1=1, 1 =1 */\n",
    "select asdf, case when asdf= 1 then '=' else 0 end as qwerty\n",
    "from table1 as a\n",
    "left join table2 as b on a.asdf= b.asdf\n",
    "where asdf=1 and qwer =2\n",
    "\"\"\"\n",
    "    ),\n",
    "\"\"\"\n",
    "create or replace table my_table as /* some comment 1=1, 1 =1 */\n",
    "select asdf, case when asdf = 1 then '=' else 0 end as qwerty\n",
    "from table1 as a\n",
    "left join table2 as b on a.asdf = b.asdf\n",
    "where asdf = 1 and qwer = 2\n",
    "\"\"\"    \n",
    ")"
   ]
  },
  {
   "cell_type": "markdown",
   "metadata": {},
   "source": [
    "## Specific formatting and validation\n",
    "\n",
    "Now we will format each statement individually"
   ]
  },
  {
   "cell_type": "markdown",
   "metadata": {},
   "source": [
    "#### PARTITION BY\n",
    "\n",
    "Helper function for format PARTITION BY Within SELECT"
   ]
  },
  {
   "cell_type": "code",
   "execution_count": null,
   "metadata": {},
   "outputs": [],
   "source": [
    "#export\n",
    "def format_partition_by(s, base_indentation):\n",
    "    \"Format PARTITION BY line in SELECT (DISTINCT)\"\n",
    "    orderby_involved = bool(re.search(\"order by\", s, flags=re.I))\n",
    "    if orderby_involved:\n",
    "        split_s = re.split(\"(partition by.*)(order by.*)\", s, flags=re.I)  # split PARTITION BY    \n",
    "    else:\n",
    "        split_s = re.split(\"(partition by.*)\", s, flags=re.I)  # split PARTITION BY\n",
    "    split_s = [sp for sp in split_s if sp != \"\"]\n",
    "    begin_s = split_s[0]\n",
    "    partition_by = split_s[1]\n",
    "    indentation = base_indentation + len(begin_s) + 13\n",
    "    # add newline after each comma (no comments) and indentation\n",
    "    partition_by = add_newline_indentation(partition_by, indentation=indentation)\n",
    "    # add new line and indentation after order by\n",
    "    if orderby_involved:\n",
    "        partition_by = \"\".join([partition_by, \" \"] + split_s[2:])\n",
    "    partition_by = re.sub(\n",
    "        r\"\\s(order by.*)\", \"\\n\" + \" \" * (base_indentation + len(begin_s)) + r\"\\1\", \n",
    "        partition_by, \n",
    "        flags=re.I\n",
    "    )\n",
    "    # combine begin of string with formatted partition by\n",
    "    s = begin_s + partition_by\n",
    "    s = s.strip()\n",
    "    return s"
   ]
  },
  {
   "cell_type": "markdown",
   "metadata": {},
   "source": [
    "#### Remove (mistake) comma at end of SELECT"
   ]
  },
  {
   "cell_type": "code",
   "execution_count": null,
   "metadata": {},
   "outputs": [],
   "source": [
    "#export\n",
    "def remove_wrong_end_comma(split_s):\n",
    "    \"\"\"Remove mistakenly placed commas at the end of SELECT statement using `split_s` with keys\n",
    "    \"string\", \"comment\" and \"quote\"\n",
    "    \"\"\"\n",
    "    reversed_split_s = split_s[::-1]  # reversed split_s\n",
    "    first_noncomment = True\n",
    "    # compile regex before loop\n",
    "    replace_comma_without_comment = re.compile(r\"([\\w\\d]+)[,]+(\\s*)$\")\n",
    "    replace_comma_with_comment = re.compile(r\"([\\w\\d]+)[,]+(\\s*)$\")\n",
    "    for i, d in enumerate(reversed_split_s):\n",
    "        s_aux = d[\"string\"]\n",
    "        if not d[\"comment\"] and not d[\"quote\"] and d[\"string\"] != \"\" and first_noncomment:\n",
    "            if i == 0:  # if end of select (no comment afterwards) remove whitespaces\n",
    "                s_aux = replace_comma_without_comment.sub(r\"\\1\", s_aux)\n",
    "            else:  # if not end of select (because comment afterwards) do not remove whitespaces\n",
    "                s_aux = replace_comma_with_comment.sub(r\"\\1\\2\", s_aux)\n",
    "            first_noncomment = False\n",
    "        # remove whitespaces between newline symbols\n",
    "        s_aux = remove_whitespaces_newline(s_aux)\n",
    "        reversed_split_s[i][\"string\"] = s_aux\n",
    "    split_s_out = reversed_split_s[::-1]\n",
    "    return split_s_out"
   ]
  },
  {
   "cell_type": "code",
   "execution_count": null,
   "metadata": {},
   "outputs": [
    {
     "name": "stdout",
     "output_type": "stream",
     "text": [
      "select asdf, qwer\n"
     ]
    }
   ],
   "source": [
    "assert_and_print(\n",
    "    split_apply_concat(\"select asdf, qwer, \", remove_wrong_end_comma),\n",
    "    \"select asdf, qwer\"\n",
    ")"
   ]
  },
  {
   "cell_type": "code",
   "execution_count": null,
   "metadata": {},
   "outputs": [
    {
     "name": "stdout",
     "output_type": "stream",
     "text": [
      "select asdf, qwer -- some comment\n"
     ]
    }
   ],
   "source": [
    "assert_and_print(\n",
    "    split_apply_concat(\"select asdf, qwer, -- some comment\", remove_wrong_end_comma),\n",
    "    \"select asdf, qwer -- some comment\"\n",
    ")"
   ]
  },
  {
   "cell_type": "code",
   "execution_count": null,
   "metadata": {},
   "outputs": [
    {
     "name": "stdout",
     "output_type": "stream",
     "text": [
      "select asdf, qwer /* another comment */\n"
     ]
    }
   ],
   "source": [
    "assert_and_print(\n",
    "    split_apply_concat(\"select asdf, qwer, /* another comment */\", remove_wrong_end_comma),\n",
    "    \"select asdf, qwer /* another comment */\"\n",
    ")"
   ]
  },
  {
   "cell_type": "code",
   "execution_count": null,
   "metadata": {},
   "outputs": [
    {
     "name": "stdout",
     "output_type": "stream",
     "text": [
      "select asdf, qwer /* more than 1 comma */\n"
     ]
    }
   ],
   "source": [
    "assert_and_print(\n",
    "    split_apply_concat(\"select asdf, qwer,,,, /* more than 1 comma */\", remove_wrong_end_comma),    \n",
    "    \"select asdf, qwer /* more than 1 comma */\"\n",
    ")"
   ]
  },
  {
   "cell_type": "markdown",
   "metadata": {},
   "source": [
    "### SELECT"
   ]
  },
  {
   "cell_type": "code",
   "execution_count": null,
   "metadata": {},
   "outputs": [],
   "source": [
    "#export\n",
    "def format_select(s):\n",
    "    \"Format SELECT statement line `s`\"\n",
    "    # remove [C] at end of SELECT\n",
    "    s = re.sub(r\"\\[C\\]$\", \"\", s)\n",
    "    split_s = split_comment_quote(s)  # split by comment / non-comment, quote / non-quote\n",
    "    # if comma is found at the end of select statement then remove comma\n",
    "    split_s = remove_wrong_end_comma(split_s)\n",
    "    # check whether there is a SELECT DISTINCT in the code (not comments, not text in quotes)\n",
    "    s_code = \"\".join([d[\"string\"] for d in split_s if not d[\"comment\"] and not d[\"quote\"]])    \n",
    "    # save the correct indentation: 16 for select distinct, 7 for only select\n",
    "    indentation = 16 if re.search(\"^select distinct\", s_code, flags=re.I) else 7\n",
    "    # get only comment / non-comment\n",
    "    split_comment = compress_dicts(split_s, [\"comment\"])\n",
    "    # add newline after each comma and indentation (this is robust against quotes by construction)\n",
    "    s = add_newline_indentation(\"\".join([d[\"string\"] for d in split_s if not d[\"comment\"]]), \n",
    "                                indentation=indentation)\n",
    "    # split again\n",
    "    split_s = split_comment_quote(s)\n",
    "    # get only quote / non-quote\n",
    "    split_quote = compress_dicts([d for d in split_s if not d[\"comment\"]], [\"quote\"])    \n",
    "    when_else_re = re.compile(r\"(?<!case )((?:when|else).*?)\", flags=re.I)    \n",
    "    case_when_re = re.compile(\"case when\", flags=re.I)\n",
    "    case_and_or = re.compile(r\"\\b((?:and|or))\\b\", flags=re.I)\n",
    "    case_end_re = re.compile(r\"\\bend\\b\", flags=re.I)\n",
    "    # initialize additional indentation for case statements\n",
    "    case_extra_indentation = 0\n",
    "    # initialize indicator for case when ... end\n",
    "    case_ind = False\n",
    "    # process case when\n",
    "    for d in split_quote:\n",
    "        if d[\"quote\"]:\n",
    "            continue\n",
    "        # get string out of dictionary\n",
    "        s_aux = d[\"string\"]\n",
    "        # add newline before when or else (but not if when is preceded by case)\n",
    "        s_aux = when_else_re.sub(r\"\\n\\1\", s_aux)\n",
    "        # split by newline characters\n",
    "        split_aux = s_aux.split(\"\\n\")\n",
    "        # initialize auxiliary output\n",
    "        split_aux_out = []\n",
    "        for line in split_aux:\n",
    "            strip_line = line.strip()\n",
    "            case_when_search = case_when_re.search(strip_line)\n",
    "            if case_when_search:\n",
    "                case_ind = True # turn indicator on if case ... end begins\n",
    "                case_extra_indentation = case_when_search.start()  # get additional indentation if case inside function\n",
    "            if case_ind:\n",
    "                line = when_else_re.sub(  # add newline for each when / else (without case before)\n",
    "                    \" \" * (indentation + 5 + case_extra_indentation) + r\"\\1\",\n",
    "                    line\n",
    "                )\n",
    "                line = case_and_or.sub(  # add newline for each and / or within case when + indentation\n",
    "                    r\"\\1\\n\" + \" \" * (indentation + 9 + case_extra_indentation),\n",
    "                    line\n",
    "                )\n",
    "            if case_end_re.search(line):  # turn indicator off if case ... end ends\n",
    "                case_ind = False\n",
    "            split_aux_out.append(line)\n",
    "        d[\"string\"] = \"\\n\".join(split_aux_out)  # add formatted string back to dictionary\n",
    "    s = \"\".join([d[\"string\"] for d in split_quote])\n",
    "    s = \"\\n\".join([sp.rstrip() for sp in s.split(\"\\n\")]) # strip each line from the right\n",
    "    # format PARTITION BY\n",
    "    begin_s = s[0:indentation]\n",
    "    split_s = s[indentation:].split(\"\\n\" + (\" \" * indentation))\n",
    "    partition_by_re = re.compile(\"partition by\", flags=re.I)\n",
    "    split_s = [\n",
    "        format_partition_by(line, base_indentation=indentation)\n",
    "        if partition_by_re.search(line) else line\n",
    "        for line in split_s\n",
    "    ]\n",
    "    s = begin_s + (\"\\n\" + (\" \" * indentation)).join(split_s)\n",
    "    # get comments and preceding string (non-comment)\n",
    "    comment_dicts = []\n",
    "    for i, d in enumerate(split_comment):\n",
    "        if d[\"comment\"]:\n",
    "            comment_dicts.append({\"comment\": d[\"string\"], \"preceding\": split_comment[i-1][\"string\"]})\n",
    "    # assign comments to text\n",
    "    s = assign_comment(s, comment_dicts)    \n",
    "    return s"
   ]
  },
  {
   "cell_type": "markdown",
   "metadata": {},
   "source": [
    "Simple usage without comments"
   ]
  },
  {
   "cell_type": "code",
   "execution_count": null,
   "metadata": {},
   "outputs": [
    {
     "name": "stdout",
     "output_type": "stream",
     "text": [
      "select aSdf,\n",
      "       cast(qweR as numeric),\n",
      "       Asdf,\n",
      "       qwer1\n"
     ]
    }
   ],
   "source": [
    "assert_and_print(\n",
    "    format_select(\"select aSdf, cast(qweR as numeric),  Asdf,qwer1\"),\n",
    "    \"select aSdf,\\n       cast(qweR as numeric),\\n       Asdf,\\n       qwer1\"\n",
    ")"
   ]
  },
  {
   "cell_type": "markdown",
   "metadata": {},
   "source": [
    "More advanced usage with comments in SELECT"
   ]
  },
  {
   "cell_type": "code",
   "execution_count": null,
   "metadata": {},
   "outputs": [
    {
     "name": "stdout",
     "output_type": "stream",
     "text": [
      "select asdf,\n",
      "       cast(qwer as numeric), -- some comment\n",
      "       ASDF,\n",
      "       qwer1\n"
     ]
    }
   ],
   "source": [
    "assert_and_print(\n",
    "    format_select(\"select asdf, cast(qwer as numeric), -- some comment[C]ASDF, qwer1\"),\n",
    "    \"select asdf,\\n       cast(qwer as numeric), -- some comment\\n       ASDF,\\n       qwer1\"\n",
    ")"
   ]
  },
  {
   "cell_type": "markdown",
   "metadata": {},
   "source": [
    "Correcting common mistake on the flow: comma at end of SELECT"
   ]
  },
  {
   "cell_type": "code",
   "execution_count": null,
   "metadata": {},
   "outputs": [
    {
     "name": "stdout",
     "output_type": "stream",
     "text": [
      "select qwer1,\n",
      "       asdf\n"
     ]
    }
   ],
   "source": [
    "assert_and_print(\n",
    "    format_select(\"select qwer1,   asdf,\"),\n",
    "    \"select qwer1,\\n       asdf\"\n",
    ")"
   ]
  },
  {
   "cell_type": "code",
   "execution_count": null,
   "metadata": {},
   "outputs": [
    {
     "name": "stdout",
     "output_type": "stream",
     "text": [
      "SELECT a.asdf,\n",
      "       b.qwer, -- some comment here\n",
      "       /* and here is a line comment inside select */\n",
      "       qwer2\n"
     ]
    }
   ],
   "source": [
    "assert_and_print(\n",
    "    format_select(\"SELECT a.asdf, b.qwer, -- some comment here[C][CS]/* and here is a line comment inside select */[C]qwer2\"),\n",
    "\"\"\"\n",
    "SELECT a.asdf,\n",
    "       b.qwer, -- some comment here\n",
    "       /* and here is a line comment inside select */\n",
    "       qwer2\n",
    "\"\"\".strip()\n",
    ")"
   ]
  },
  {
   "cell_type": "code",
   "execution_count": null,
   "metadata": {},
   "outputs": [
    {
     "name": "stdout",
     "output_type": "stream",
     "text": [
      "SELECT a.asdf\n",
      "       /* and here is a line comment inside select */\n"
     ]
    }
   ],
   "source": [
    "assert_and_print(\n",
    "    format_select(\"SELECT a.asdf,[CS]/* and here is a line comment inside select */\"),\n",
    "\"\"\"\n",
    "SELECT a.asdf\n",
    "       /* and here is a line comment inside select */\n",
    "\"\"\".strip()\n",
    ")"
   ]
  },
  {
   "cell_type": "markdown",
   "metadata": {},
   "source": [
    "Correcting comma at end of SELECT but having a comment in the last field"
   ]
  },
  {
   "cell_type": "code",
   "execution_count": null,
   "metadata": {},
   "outputs": [
    {
     "name": "stdout",
     "output_type": "stream",
     "text": [
      "select qwer1 as qwer2,\n",
      "       asdf as asdf3 -- this field\n"
     ]
    }
   ],
   "source": [
    "assert_and_print(\n",
    "    format_select(\"select qwer1 as qwer2,   asdf as asdf3, -- this field\"),\n",
    "    \"select qwer1 as qwer2,\\n       asdf as asdf3 -- this field\"\n",
    ")"
   ]
  },
  {
   "cell_type": "code",
   "execution_count": null,
   "metadata": {},
   "outputs": [
    {
     "name": "stdout",
     "output_type": "stream",
     "text": [
      "select qwer1,\n",
      "       asdf /* this field */\n"
     ]
    }
   ],
   "source": [
    "assert_and_print(\n",
    "    format_select(\"select qwer1,   asdf, /* this field */\"),\n",
    "    \"select qwer1,\\n       asdf /* this field */\"\n",
    ")"
   ]
  },
  {
   "cell_type": "markdown",
   "metadata": {},
   "source": [
    "With `case when` conditions"
   ]
  },
  {
   "cell_type": "code",
   "execution_count": null,
   "metadata": {},
   "outputs": [
    {
     "name": "stdout",
     "output_type": "stream",
     "text": [
      "select qwer1,\n",
      "       case when abc = 1 then 'a'\n",
      "            when abc = 2 then 'b'\n",
      "            else 'c' end as qwer2\n"
     ]
    }
   ],
   "source": [
    "assert_and_print(\n",
    "    format_select(\"select qwer1, case when abc = 1 then 'a' when abc = 2 then 'b' else 'c' end as qwer2\"),\n",
    "    \"\"\"\n",
    "select qwer1,\n",
    "       case when abc = 1 then 'a'\n",
    "            when abc = 2 then 'b'\n",
    "            else 'c' end as qwer2\n",
    "    \"\"\".strip()    \n",
    ")"
   ]
  },
  {
   "cell_type": "code",
   "execution_count": null,
   "metadata": {},
   "outputs": [
    {
     "name": "stdout",
     "output_type": "stream",
     "text": [
      "select qwer1,\n",
      "       case when abc = 1 then 'a' -- first condition\n",
      "            when abc = 2 then 'b' -- second condition\n",
      "            else 'c' end as qwer2, /* else condition */\n",
      "       asdf3\n"
     ]
    }
   ],
   "source": [
    "assert_and_print(\n",
    "    format_select(\"select qwer1, case when abc = 1 then 'a' -- first condition[C]\" +\n",
    "                  \"when abc = 2 then 'b' -- second condition[C]\" +\n",
    "                  \"else 'c' end as qwer2, /* else condition */[C]\"\n",
    "                  \"asdf3\"\n",
    "),\n",
    "    \"\"\"\n",
    "select qwer1,\n",
    "       case when abc = 1 then 'a' -- first condition\n",
    "            when abc = 2 then 'b' -- second condition\n",
    "            else 'c' end as qwer2, /* else condition */\n",
    "       asdf3\n",
    "    \"\"\".strip()    \n",
    ")"
   ]
  },
  {
   "cell_type": "markdown",
   "metadata": {},
   "source": [
    "Bad formatted `case when` condition"
   ]
  },
  {
   "cell_type": "code",
   "execution_count": null,
   "metadata": {},
   "outputs": [
    {
     "name": "stdout",
     "output_type": "stream",
     "text": [
      "select qwer1,\n",
      "       case when abc <= 1 then 'a' -- first condition\n",
      "            when abc = 2 then 'b' -- second condition\n",
      "            else 'c' end as qwer2, -- else condition\n",
      "       asdf3\n"
     ]
    }
   ],
   "source": [
    "assert_and_print(\n",
    "    format_select(\"select qwer1, case when abc <= 1 then 'a' -- first condition[C]\" +\n",
    "                  \"when abc = 2 then 'b' -- second condition[C]\" +\n",
    "                  \"else 'c' end as qwer2, -- else condition[C]\"\n",
    "                  \"asdf3\"\n",
    "),\n",
    "    \"\"\"\n",
    "select qwer1,\n",
    "       case when abc <= 1 then 'a' -- first condition\n",
    "            when abc = 2 then 'b' -- second condition\n",
    "            else 'c' end as qwer2, -- else condition\n",
    "       asdf3\n",
    "    \"\"\".strip()    \n",
    ")"
   ]
  },
  {
   "cell_type": "markdown",
   "metadata": {},
   "source": [
    "`case when` and comment after condition"
   ]
  },
  {
   "cell_type": "code",
   "execution_count": null,
   "metadata": {},
   "outputs": [
    {
     "name": "stdout",
     "output_type": "stream",
     "text": [
      "select qwer1,\n",
      "       case when abc <= 1 and -- first condition\n",
      "                 abc >= -1 then 'a' -- second condition\n",
      "            else 'c' end as qwer2, -- else condition\n",
      "       asdf3\n"
     ]
    }
   ],
   "source": [
    "assert_and_print(\n",
    "    format_select(\"select qwer1, case when abc <= 1 and -- first condition[C]\" +\n",
    "                  \"abc >= -1 then 'a' -- second condition[C]\" +\n",
    "                  \"else 'c' end as qwer2, -- else condition[C]\"\n",
    "                  \"asdf3\"\n",
    "),\n",
    "    \"\"\"\n",
    "select qwer1,\n",
    "       case when abc <= 1 and -- first condition\n",
    "                 abc >= -1 then 'a' -- second condition\n",
    "            else 'c' end as qwer2, -- else condition\n",
    "       asdf3\n",
    "    \"\"\".strip()    \n",
    ")"
   ]
  },
  {
   "cell_type": "markdown",
   "metadata": {},
   "source": [
    "`case when` in comments"
   ]
  },
  {
   "cell_type": "code",
   "execution_count": null,
   "metadata": {},
   "outputs": [
    {
     "name": "stdout",
     "output_type": "stream",
     "text": [
      "select qwer1,\n",
      "       case when abc <= 1 and -- first condition case when\n",
      "                 abc >= -1 then 'a' -- second condition case when\n",
      "            else 'c' end as qwer2, -- else condition\n",
      "       asdf3\n"
     ]
    }
   ],
   "source": [
    "assert_and_print(\n",
    "    format_select(\"select qwer1, case when abc <= 1 and -- first condition case when[C]\" +\n",
    "                  \"abc >= -1 then 'a' -- second condition case when[C]\" +\n",
    "                  \"else 'c' end as qwer2, -- else condition[C]\"\n",
    "                  \"asdf3\"\n",
    "),\n",
    "\"\"\"\n",
    "select qwer1,\n",
    "       case when abc <= 1 and -- first condition case when\n",
    "                 abc >= -1 then 'a' -- second condition case when\n",
    "            else 'c' end as qwer2, -- else condition\n",
    "       asdf3\n",
    "\"\"\".strip()    \n",
    ")"
   ]
  },
  {
   "cell_type": "code",
   "execution_count": null,
   "metadata": {},
   "outputs": [
    {
     "name": "stdout",
     "output_type": "stream",
     "text": [
      "select asdf,\n",
      "       case when asdf >= 1 and\n",
      "                 asdf <= 10 and\n",
      "                 substr(qwer, 1, 2) = 'abc' and\n",
      "                 substr(qwer, 3, 2) = 'qwerty' then 1\n",
      "            else 0 end as case_field,\n",
      "       asdf2\n"
     ]
    }
   ],
   "source": [
    "assert_and_print(\n",
    "    format_select(\"select asdf, case when asdf >= 1 and asdf <= 10 and\" +\n",
    "                  \" substr(qwer, 1, 2) = 'abc' and substr(qwer, 3, 2) = 'qwerty'\" +\n",
    "                  \" then 1 else 0 end as case_field, asdf2\"\n",
    "    ),\n",
    "\"\"\"\n",
    "select asdf,\n",
    "       case when asdf >= 1 and\n",
    "                 asdf <= 10 and\n",
    "                 substr(qwer, 1, 2) = 'abc' and\n",
    "                 substr(qwer, 3, 2) = 'qwerty' then 1\n",
    "            else 0 end as case_field,\n",
    "       asdf2\n",
    "\"\"\".strip()\n",
    ")"
   ]
  },
  {
   "cell_type": "markdown",
   "metadata": {},
   "source": [
    "2 `case when ... end`"
   ]
  },
  {
   "cell_type": "code",
   "execution_count": null,
   "metadata": {},
   "outputs": [
    {
     "name": "stdout",
     "output_type": "stream",
     "text": [
      "select asdf,\n",
      "       cast(case when asdf = 1 then 0\n",
      "                 else 1 end as int) as qwer,\n",
      "       case when asdf = 0 then 1\n",
      "            else 0 end as qwer2\n"
     ]
    }
   ],
   "source": [
    "assert_and_print(\n",
    "    format_select(\n",
    "        \"select asdf, cast(case when asdf = 1 then 0 else 1 end as int) as qwer, \" +\n",
    "        \"case when asdf = 0 then 1 else 0 end as qwer2\"\n",
    "    ),\n",
    "\"\"\"\n",
    "select asdf,\n",
    "       cast(case when asdf = 1 then 0\n",
    "                 else 1 end as int) as qwer,\n",
    "       case when asdf = 0 then 1\n",
    "            else 0 end as qwer2\n",
    "\"\"\".strip()\n",
    ")"
   ]
  },
  {
   "cell_type": "markdown",
   "metadata": {},
   "source": [
    "With functions in SELECT"
   ]
  },
  {
   "cell_type": "code",
   "execution_count": null,
   "metadata": {},
   "outputs": [
    {
     "name": "stdout",
     "output_type": "stream",
     "text": [
      "select aSdf,\n",
      "       substr(qweR, 2) as qwer,\n",
      "       Asdf,\n",
      "       qwer1\n"
     ]
    }
   ],
   "source": [
    "assert_and_print(\n",
    "    format_select(\"select aSdf, substr(qweR, 2) as qwer,  Asdf,qwer1\"),\n",
    "    \"select aSdf,\\n       substr(qweR, 2) as qwer,\\n       Asdf,\\n       qwer1\"\n",
    ")"
   ]
  },
  {
   "cell_type": "code",
   "execution_count": null,
   "metadata": {},
   "outputs": [
    {
     "name": "stdout",
     "output_type": "stream",
     "text": [
      "select car_id,\n",
      "       avg(price) as avg_price\n"
     ]
    }
   ],
   "source": [
    "assert_and_print(\n",
    "    format_select(\n",
    "\"\"\"\n",
    "select car_id,\n",
    "       avg(price) as avg_price,\n",
    "\"\"\"\n",
    "    ),\n",
    "\"\"\"\n",
    "select car_id,\n",
    "       avg(price) as avg_price\n",
    "\"\"\".strip()\n",
    ")"
   ]
  },
  {
   "cell_type": "markdown",
   "metadata": {},
   "source": [
    "With function in SELECT and case when"
   ]
  },
  {
   "cell_type": "code",
   "execution_count": null,
   "metadata": {},
   "outputs": [
    {
     "name": "stdout",
     "output_type": "stream",
     "text": [
      "select qwer1,\n",
      "       cast(case when asdf = 'J' then 1\n",
      "                 else 0 end) as qwer2,\n",
      "       qwer3\n"
     ]
    }
   ],
   "source": [
    "assert_and_print(\n",
    "    format_select(\"select qwer1, cast(case when asdf = 'J' then 1 else 0 end) as qwer2, qwer3\"),\n",
    "\"\"\"\n",
    "select qwer1,\n",
    "       cast(case when asdf = 'J' then 1\n",
    "                 else 0 end) as qwer2,\n",
    "       qwer3\n",
    "\"\"\".strip()    \n",
    ")"
   ]
  },
  {
   "cell_type": "code",
   "execution_count": null,
   "metadata": {},
   "outputs": [
    {
     "name": "stdout",
     "output_type": "stream",
     "text": [
      "select qwer1,\n",
      "       cast(substr(case when asdf = 'CASE WHEN' then 1\n",
      "                        else 0 end, 2, 1)) as qwer2,\n",
      "       qwer3\n"
     ]
    }
   ],
   "source": [
    "assert_and_print(\n",
    "    format_select(\"select qwer1, cast(substr(case when asdf = 'CASE WHEN' then 1 else 0 end, 2, 1)) as qwer2, qwer3\"),\n",
    "\"\"\"\n",
    "select qwer1,\n",
    "       cast(substr(case when asdf = 'CASE WHEN' then 1\n",
    "                        else 0 end, 2, 1)) as qwer2,\n",
    "       qwer3\n",
    "\"\"\".strip()    \n",
    ")"
   ]
  },
  {
   "cell_type": "markdown",
   "metadata": {},
   "source": [
    "With `SELECT DISTINCT`"
   ]
  },
  {
   "cell_type": "code",
   "execution_count": null,
   "metadata": {},
   "outputs": [
    {
     "name": "stdout",
     "output_type": "stream",
     "text": [
      "select distinct asdf,\n",
      "                qwer,\n",
      "                qwer2\n"
     ]
    }
   ],
   "source": [
    "assert_and_print(\n",
    "    format_select(\"select distinct asdf, qwer, qwer2,\"),\n",
    "\"\"\"\n",
    "select distinct asdf,\n",
    "                qwer,\n",
    "                qwer2\n",
    "\"\"\".strip()\n",
    ")"
   ]
  },
  {
   "cell_type": "code",
   "execution_count": null,
   "metadata": {},
   "outputs": [
    {
     "name": "stdout",
     "output_type": "stream",
     "text": [
      "select distinct asdf,\n",
      "                case when asdf = 1 then 1\n",
      "                     else 2 end as qwerty,\n",
      "                qwer2\n"
     ]
    }
   ],
   "source": [
    "assert_and_print(\n",
    "    format_select(\"select distinct asdf, case when asdf = 1 then 1 else 2 end as qwerty, qwer2,\"),\n",
    "\"\"\"\n",
    "select distinct asdf,\n",
    "                case when asdf = 1 then 1\n",
    "                     else 2 end as qwerty,\n",
    "                qwer2\n",
    "\"\"\".strip()\n",
    ")"
   ]
  },
  {
   "cell_type": "markdown",
   "metadata": {},
   "source": [
    "With `PARTITION BY`"
   ]
  },
  {
   "cell_type": "code",
   "execution_count": null,
   "metadata": {},
   "outputs": [
    {
     "name": "stdout",
     "output_type": "stream",
     "text": [
      "select asdf,\n",
      "       lead(asdf) over (partition by qwer,\n",
      "                                     asdf2\n",
      "                        order by qwer2) as qwer3,\n",
      "       qwerty\n"
     ]
    }
   ],
   "source": [
    "assert_and_print(\n",
    "    format_select(\"select asdf, lead(asdf) over (partition by qwer, asdf2 order by qwer2) as qwer3, qwerty,\"),\n",
    "\"\"\"\n",
    "select asdf,\n",
    "       lead(asdf) over (partition by qwer,\n",
    "                                     asdf2\n",
    "                        order by qwer2) as qwer3,\n",
    "       qwerty\n",
    "\"\"\".strip()\n",
    ")"
   ]
  },
  {
   "cell_type": "code",
   "execution_count": null,
   "metadata": {},
   "outputs": [
    {
     "name": "stdout",
     "output_type": "stream",
     "text": [
      "select asdf,\n",
      "       lead(asdf) over (partition by asdf,\n",
      "                                     qwer\n",
      "                        order by qwer),\n",
      "       cast(qwer as numeric), -- some comment\n",
      "       ASDF\n"
     ]
    }
   ],
   "source": [
    "assert_and_print(\n",
    "    format_select(\"select asdf, lead(asdf) over (partition by asdf, qwer order by qwer), cast(qwer as numeric), -- some comment[C]ASDF, \"),\n",
    "\"\"\"\n",
    "select asdf,\n",
    "       lead(asdf) over (partition by asdf,\n",
    "                                     qwer\n",
    "                        order by qwer),\n",
    "       cast(qwer as numeric), -- some comment\n",
    "       ASDF\n",
    "\"\"\".strip()\n",
    ")"
   ]
  },
  {
   "cell_type": "code",
   "execution_count": null,
   "metadata": {},
   "outputs": [
    {
     "name": "stdout",
     "output_type": "stream",
     "text": [
      "select asdf,\n",
      "       lead(asdf) over (partition by asdf,\n",
      "                                     qwer\n",
      "                        order by qwer, qwer2),\n",
      "       cast(qwer as numeric), -- some comment\n",
      "       ASDF\n"
     ]
    }
   ],
   "source": [
    "assert_and_print(\n",
    "    format_select(\"select asdf, lead(asdf) over (partition by asdf, qwer order by qwer, qwer2), cast(qwer as numeric), -- some comment[C]ASDF, \"),\n",
    "\"\"\"\n",
    "select asdf,\n",
    "       lead(asdf) over (partition by asdf,\n",
    "                                     qwer\n",
    "                        order by qwer, qwer2),\n",
    "       cast(qwer as numeric), -- some comment\n",
    "       ASDF\n",
    "\"\"\".strip()\n",
    ")"
   ]
  },
  {
   "cell_type": "code",
   "execution_count": null,
   "metadata": {},
   "outputs": [
    {
     "name": "stdout",
     "output_type": "stream",
     "text": [
      "select asdf,\n",
      "       lead(asdf, 1, 2) OVER (PARTITION BY snr,\n",
      "                                           qwer\n",
      "                              ORDER BY asdf, qwer)\n"
     ]
    }
   ],
   "source": [
    "assert_and_print(\n",
    "    format_select(\"select asdf, lead(asdf, 1, 2) OVER (PARTITION BY snr, qwer ORDER BY asdf, qwer)\"),\n",
    "\"\"\"\n",
    "select asdf,\n",
    "       lead(asdf, 1, 2) OVER (PARTITION BY snr,\n",
    "                                           qwer\n",
    "                              ORDER BY asdf, qwer)\n",
    "\"\"\".strip()\n",
    ")"
   ]
  },
  {
   "cell_type": "code",
   "execution_count": null,
   "metadata": {},
   "outputs": [
    {
     "name": "stdout",
     "output_type": "stream",
     "text": [
      "select DISTINCT asdf,\n",
      "                lead(asdf) over (partition by asdf,\n",
      "                                              qwer\n",
      "                                 order by qwer),\n",
      "                cast(qwer as numeric), -- some comment\n",
      "                ASDF\n"
     ]
    }
   ],
   "source": [
    "assert_and_print(\n",
    "    format_select(\"select DISTINCT asdf, lead(asdf) over (partition by asdf, qwer order by qwer), cast(qwer as numeric), -- some comment[C]ASDF, \"),\n",
    "\"\"\"\n",
    "select DISTINCT asdf,\n",
    "                lead(asdf) over (partition by asdf,\n",
    "                                              qwer\n",
    "                                 order by qwer),\n",
    "                cast(qwer as numeric), -- some comment\n",
    "                ASDF\n",
    "\"\"\".strip()\n",
    ")"
   ]
  },
  {
   "cell_type": "markdown",
   "metadata": {},
   "source": [
    "With comments within `PARTITION BY`"
   ]
  },
  {
   "cell_type": "code",
   "execution_count": null,
   "metadata": {},
   "outputs": [
    {
     "name": "stdout",
     "output_type": "stream",
     "text": [
      "select DISTINCT asdf,\n",
      "                lead(asdf) over (partition by asdf, -- some comment\n",
      "                                              qwer\n",
      "                                 order by qwer),\n",
      "                cast(qwer as numeric), -- some comment\n",
      "                ASDF\n"
     ]
    }
   ],
   "source": [
    "assert_and_print(\n",
    "    format_select(\"select DISTINCT asdf, lead(asdf) over (partition by asdf, -- some comment[C]qwer order by qwer), cast(qwer as numeric), -- some comment[C]ASDF, \"),\n",
    "\"\"\"\n",
    "select DISTINCT asdf,\n",
    "                lead(asdf) over (partition by asdf, -- some comment\n",
    "                                              qwer\n",
    "                                 order by qwer),\n",
    "                cast(qwer as numeric), -- some comment\n",
    "                ASDF\n",
    "\"\"\".strip()\n",
    ")"
   ]
  },
  {
   "cell_type": "markdown",
   "metadata": {},
   "source": [
    "### FROM"
   ]
  },
  {
   "cell_type": "code",
   "execution_count": null,
   "metadata": {},
   "outputs": [],
   "source": [
    "#export\n",
    "def format_from(s):\n",
    "    \"Format FROM statement line `s`\"\n",
    "    s = re.sub(  # add indentation\n",
    "        r\"(from )(.*)\",\n",
    "        r\"\\1  \\2\",\n",
    "        s,\n",
    "        flags=re.I\n",
    "    )\n",
    "    return s"
   ]
  },
  {
   "cell_type": "code",
   "execution_count": null,
   "metadata": {},
   "outputs": [
    {
     "name": "stdout",
     "output_type": "stream",
     "text": [
      "from   table1\n"
     ]
    }
   ],
   "source": [
    "assert_and_print(format_from(\"from table1\"), \"from   table1\")"
   ]
  },
  {
   "cell_type": "markdown",
   "metadata": {},
   "source": [
    "### (LEFT / RIGHT / INNER / OUTER) JOIN"
   ]
  },
  {
   "cell_type": "code",
   "execution_count": null,
   "metadata": {},
   "outputs": [],
   "source": [
    "#export\n",
    "def format_join(s):\n",
    "    \"Format JOIN statement line `s`\"\n",
    "    s = \"    \" + s  # add indentation\n",
    "    return s"
   ]
  },
  {
   "cell_type": "code",
   "execution_count": null,
   "metadata": {},
   "outputs": [
    {
     "name": "stdout",
     "output_type": "stream",
     "text": [
      "    inner join table1\n"
     ]
    }
   ],
   "source": [
    "assert_and_print(format_join(\"inner join table1\"), \"    inner join table1\")"
   ]
  },
  {
   "cell_type": "markdown",
   "metadata": {},
   "source": [
    "### ON"
   ]
  },
  {
   "cell_type": "code",
   "execution_count": null,
   "metadata": {},
   "outputs": [],
   "source": [
    "#export\n",
    "def format_on(s):\n",
    "    \"Format ON statement line `s`\"\n",
    "    s = \"        \" + s  # add indentation\n",
    "    split_s = split_comment_quote(s)\n",
    "    # define regex before loop\n",
    "    indent_and_or = re.compile(r\"\\b((?:and|or))\\b\", flags=re.I)\n",
    "    for d in split_s:\n",
    "        if not d[\"comment\"] and not d[\"quote\"]:\n",
    "            s_aux = d[\"string\"]\n",
    "            s_aux = indent_and_or.sub(r\"\\1\\n\" + \" \" * 10, s_aux)  # add newline and indentation for and / or\n",
    "            d[\"string\"] = s_aux\n",
    "    # get split comment / non comment\n",
    "    split_comment = compress_dicts(split_s, [\"comment\"])\n",
    "    s_code = \"\".join([d[\"string\"] for d in split_s if not d[\"comment\"]])\n",
    "    # strip lines of code from the right\n",
    "    s_code = \"\\n\".join([sp.rstrip() for sp in s_code.split(\"\\n\")])\n",
    "    # get comments and preceding string (non-comment)\n",
    "    comment_dicts = []\n",
    "    for i, d in enumerate(split_comment):\n",
    "        if d[\"comment\"]:\n",
    "            comment_dicts.append({\"comment\": d[\"string\"], \"preceding\": split_comment[i-1][\"string\"]})\n",
    "    # assign comments to text\n",
    "    s = assign_comment(s_code, comment_dicts)\n",
    "    return s"
   ]
  },
  {
   "cell_type": "code",
   "execution_count": null,
   "metadata": {},
   "outputs": [
    {
     "name": "stdout",
     "output_type": "stream",
     "text": [
      "        on a.asdf = b.asdf /* some comment */\n"
     ]
    }
   ],
   "source": [
    "assert_and_print(\n",
    "    format_on(\"on a.asdf = b.asdf /* some comment */[C]\"), \n",
    "\"\"\"\n",
    "        on a.asdf = b.asdf /* some comment */\n",
    "\"\"\".strip(\"\\n\")\n",
    ")"
   ]
  },
  {
   "cell_type": "code",
   "execution_count": null,
   "metadata": {},
   "outputs": [
    {
     "name": "stdout",
     "output_type": "stream",
     "text": [
      "        on a.asdf = b.asdf and\n",
      "           a.qwer = b.qwer\n"
     ]
    }
   ],
   "source": [
    "assert_and_print(\n",
    "    format_on(\"on a.asdf = b.asdf and a.qwer = b.qwer\"), \n",
    "\"\"\"\n",
    "        on a.asdf = b.asdf and\n",
    "           a.qwer = b.qwer\n",
    "\"\"\".strip(\"\\n\")\n",
    ")"
   ]
  },
  {
   "cell_type": "code",
   "execution_count": null,
   "metadata": {},
   "outputs": [
    {
     "name": "stdout",
     "output_type": "stream",
     "text": [
      "        on a.asdf = b.asdf and\n",
      "           a.qwer = b.qwer or\n",
      "           a.qwer2 = b.qwer2\n"
     ]
    }
   ],
   "source": [
    "assert_and_print(\n",
    "    format_on(\"on a.asdf = b.asdf and a.qwer = b.qwer or a.qwer2 = b.qwer2\"), \n",
    "\"\"\"\n",
    "        on a.asdf = b.asdf and\n",
    "           a.qwer = b.qwer or\n",
    "           a.qwer2 = b.qwer2\n",
    "\"\"\".strip(\"\\n\")\n",
    ")"
   ]
  },
  {
   "cell_type": "markdown",
   "metadata": {},
   "source": [
    "With comments and bad formatted"
   ]
  },
  {
   "cell_type": "code",
   "execution_count": null,
   "metadata": {},
   "outputs": [
    {
     "name": "stdout",
     "output_type": "stream",
     "text": [
      "        on a.asdf = b.asdf and -- some comment\n",
      "           a.qwer = b.qwer or /* another comment */\n",
      "           a.qwer2 = b.qwer2\n"
     ]
    }
   ],
   "source": [
    "assert_and_print(\n",
    "    format_on(\"on a.asdf = b.asdf -- some comment[C]and a.qwer = b.qwer or /* another comment */[C]a.qwer2 = b.qwer2\"), \n",
    "\"\"\"\n",
    "        on a.asdf = b.asdf and -- some comment\n",
    "           a.qwer = b.qwer or /* another comment */\n",
    "           a.qwer2 = b.qwer2\n",
    "\"\"\".strip(\"\\n\")\n",
    ")"
   ]
  },
  {
   "cell_type": "markdown",
   "metadata": {},
   "source": [
    "### WHERE"
   ]
  },
  {
   "cell_type": "code",
   "execution_count": null,
   "metadata": {},
   "outputs": [],
   "source": [
    "#export\n",
    "def format_where(s):\n",
    "    \"Format WHERE statement line `s`\"\n",
    "    s = re.sub(r\"(where )\", r\"\\1 \", s, flags=re.I)  # add indentation afer WHERE\n",
    "    # split by comment / non comment, quote / non-quote\n",
    "    split_s = split_comment_quote(s)\n",
    "    # define regex before loop\n",
    "    indent_and = re.compile(r\"\\s*(and)\\b\", flags=re.I)\n",
    "    indent_or = re.compile(r\"\\s*(or)\\b\", flags=re.I)\n",
    "    for d in split_s:\n",
    "        if not d[\"comment\"] and not d[\"quote\"]:\n",
    "            s_aux = d[\"string\"]\n",
    "            s_aux = indent_and.sub(\"\\n\" + \" \" * 3 + r\"\\1\", s_aux)  # add newline and indentation for and\n",
    "            s_aux = indent_or.sub(\"\\n\" + \" \" * 4 + r\"\\1\", s_aux)  # add newline and indentation for or            \n",
    "            d[\"string\"] = s_aux\n",
    "    # get split comment / non comment\n",
    "    split_comment = compress_dicts(split_s, [\"comment\"])\n",
    "    s_code = \"\".join([d[\"string\"] for d in split_s if not d[\"comment\"]])\n",
    "    # strip from the right each code line\n",
    "    s_code = \"\\n\".join([sp.rstrip() for sp in s_code.split(\"\\n\")])\n",
    "    # get comments and preceding string (non-comment)\n",
    "    comment_dicts = []\n",
    "    for i, d in enumerate(split_comment):\n",
    "        if d[\"comment\"]:\n",
    "            comment_dicts.append({\"comment\": d[\"string\"], \"preceding\": split_comment[i-1][\"string\"]})\n",
    "    # assign comments to text\n",
    "    s = assign_comment(s_code, comment_dicts)\n",
    "    return s"
   ]
  },
  {
   "cell_type": "code",
   "execution_count": null,
   "metadata": {},
   "outputs": [
    {
     "name": "stdout",
     "output_type": "stream",
     "text": [
      "WHERE  asdf = 1\n",
      "   and qwer = 1\n",
      "    or blabla = 'asdf'\n"
     ]
    }
   ],
   "source": [
    "assert_and_print(\n",
    "    format_where(\n",
    "        \"WHERE asdf = 1 and qwer = 1 or blabla = 'asdf'\"\n",
    "    ), \"WHERE  asdf = 1\\n   and qwer = 1\\n    or blabla = 'asdf'\"\n",
    ")"
   ]
  },
  {
   "cell_type": "code",
   "execution_count": null,
   "metadata": {},
   "outputs": [
    {
     "name": "stdout",
     "output_type": "stream",
     "text": [
      "WHERE  asdf = 1 -- and some comment\n",
      "   and qwer = 1\n",
      "    or blabla = 'asdf'\n"
     ]
    }
   ],
   "source": [
    "assert_and_print(\n",
    "    format_where(\n",
    "        \"WHERE asdf = 1 -- and some comment[C]and qwer = 1 or blabla = 'asdf'\"\n",
    "    ), \"WHERE  asdf = 1 -- and some comment\\n   and qwer = 1\\n    or blabla = 'asdf'\"\n",
    ")"
   ]
  },
  {
   "cell_type": "code",
   "execution_count": null,
   "metadata": {},
   "outputs": [
    {
     "name": "stdout",
     "output_type": "stream",
     "text": [
      "WHERE  asdf = 1 -- and some comment\n",
      "   and qwer = 1\n",
      "    or blabla = 'asdf'\n"
     ]
    }
   ],
   "source": [
    "assert_and_print(\n",
    "    format_where(\n",
    "        \"WHERE asdf = 1 and -- and some comment[C]qwer = 1 or blabla = 'asdf'\"\n",
    "    ), \"WHERE  asdf = 1 -- and some comment\\n   and qwer = 1\\n    or blabla = 'asdf'\"\n",
    ")"
   ]
  },
  {
   "cell_type": "markdown",
   "metadata": {},
   "source": [
    "## Format all statements"
   ]
  },
  {
   "cell_type": "code",
   "execution_count": null,
   "metadata": {},
   "outputs": [],
   "source": [
    "#export\n",
    "def format_statement_line(s):\n",
    "    \"Format statement line `s`\"\n",
    "    statement_funcs = {\n",
    "        \"select\": format_select,\n",
    "        \"from\": format_from,\n",
    "        \"left join\": format_join,\n",
    "        \"right join\": format_join,\n",
    "        \"inner join\": format_join,\n",
    "        \"outer join\": format_join,\n",
    "        \"on\": format_on,\n",
    "        \"where\": format_where,\n",
    "    }\n",
    "    for key, format_func in statement_funcs.items():\n",
    "        if re.match(key, s, flags=re.I):\n",
    "            s = format_func(s)\n",
    "    return s"
   ]
  },
  {
   "cell_type": "code",
   "execution_count": null,
   "metadata": {},
   "outputs": [
    {
     "name": "stdout",
     "output_type": "stream",
     "text": [
      "select asdf,\n",
      "       qwer\n"
     ]
    }
   ],
   "source": [
    "assert_and_print(\n",
    "    format_statement_line(\"select asdf, qwer\"),\n",
    "    \"\"\"\n",
    "select asdf,\n",
    "       qwer\n",
    "\"\"\".strip())"
   ]
  },
  {
   "cell_type": "code",
   "execution_count": null,
   "metadata": {},
   "outputs": [
    {
     "name": "stdout",
     "output_type": "stream",
     "text": [
      "    left join table1 as abc\n"
     ]
    }
   ],
   "source": [
    "assert_and_print(\n",
    "    format_statement_line(\"left join table1 as abc\"),\n",
    "    \"    left join table1 as abc\"\n",
    ")"
   ]
  },
  {
   "cell_type": "code",
   "execution_count": null,
   "metadata": {},
   "outputs": [
    {
     "name": "stdout",
     "output_type": "stream",
     "text": [
      "where  asdf = 1\n",
      "   and qwer = 'things'\n",
      "   and blabla = 0\n",
      "    or stuff = -1\n"
     ]
    }
   ],
   "source": [
    "assert_and_print(\n",
    "    format_statement_line(\"where asdf = 1 and qwer = 'things' and blabla = 0 or stuff = -1\"),\n",
    "    \"\"\"\n",
    "where  asdf = 1\n",
    "   and qwer = 'things'\n",
    "   and blabla = 0\n",
    "    or stuff = -1\n",
    "    \"\"\".strip())"
   ]
  },
  {
   "cell_type": "code",
   "execution_count": null,
   "metadata": {},
   "outputs": [],
   "source": [
    "#export\n",
    "def format_statements(s):\n",
    "    \"Format statements lines `s`\"\n",
    "    statement_lines = s.split(\"\\n\")\n",
    "    formatted_lines = [\n",
    "        format_statement_line(line) for line in statement_lines\n",
    "    ]\n",
    "    formatted_s = \"\\n\".join(formatted_lines)\n",
    "    return formatted_s"
   ]
  },
  {
   "cell_type": "code",
   "execution_count": null,
   "metadata": {},
   "outputs": [
    {
     "name": "stdout",
     "output_type": "stream",
     "text": [
      "select asdf,\n",
      "       qwer\n",
      "from   table1\n"
     ]
    }
   ],
   "source": [
    "assert_and_print(\n",
    "    format_statements(\"select asdf, qwer\\nfrom table1\"),\n",
    "\"\"\"\n",
    "select asdf,\n",
    "       qwer\n",
    "from   table1\n",
    "\"\"\".strip()\n",
    ")"
   ]
  },
  {
   "cell_type": "markdown",
   "metadata": {},
   "source": [
    "### Format multiline comments"
   ]
  },
  {
   "cell_type": "code",
   "execution_count": null,
   "metadata": {},
   "outputs": [],
   "source": [
    "#export\n",
    "def format_multiline_comments(s):\n",
    "    \"Format multiline comments by replacing multiline comment [CI] by newline and adding indentation\"\n",
    "    split_s = s.split(\"\\n\")\n",
    "    split_out = []\n",
    "    for sp in split_s:  # loop on query lines\n",
    "        if re.search(r\"\\[CI\\]\", sp):\n",
    "            indentation = re.search(r\"\\/\\*\", sp).start() + 3\n",
    "            sp_indent = re.sub(r\"\\[CI\\]\", \"\\n\" + \" \" * indentation, sp)\n",
    "            split_out.append(sp_indent)\n",
    "        else:\n",
    "            split_out.append(sp)\n",
    "    s = \"\\n\".join(split_out)\n",
    "    return s"
   ]
  },
  {
   "cell_type": "markdown",
   "metadata": {},
   "source": [
    "##  Putting everything together\n",
    "\n",
    "to format a simple query without subqueries"
   ]
  },
  {
   "cell_type": "code",
   "execution_count": null,
   "metadata": {},
   "outputs": [],
   "source": [
    "#export\n",
    "def format_simple_sql(s):\n",
    "    \"Format a simple SQL query without subqueries `s`\"\n",
    "    s = lowercase_query(s)  # everything lowercased but not the comments\n",
    "    s = preformat_statements(s)  # add breaklines for the main statements\n",
    "    s = add_whitespaces_query(s)  # add whitespaces between symbols in query\n",
    "    s = format_statements(s)  # format statements\n",
    "    s = re.sub(r\"\\[C\\]\", \"\", s)  # replace remaining [C]\n",
    "    s = re.sub(r\"\\[CS\\]\", \"\\n\", s)  # replace remaining [CS]\n",
    "    s = re.sub(r\"\\s+\\n\", \"\\n\", s)  # replace redundant whitespaces before newline\n",
    "    s = format_multiline_comments(s)  # format multline comments\n",
    "    s = s.strip()  # strip query\n",
    "    return s"
   ]
  },
  {
   "cell_type": "code",
   "execution_count": null,
   "metadata": {},
   "outputs": [
    {
     "name": "stdout",
     "output_type": "stream",
     "text": [
      "CREATE OR REPLACE TABLE mytable AS -- Mytable example\n",
      "/* multi line\n",
      "   comment */\n",
      "SELECT a.asdf,\n",
      "       b.qwer, -- some comment here\n",
      "       /* and here is a line comment inside select */\n",
      "       substr(c.asdf, 1, 2) as substr_asdf,\n",
      "       /* some commenT\n",
      "          there */\n",
      "       case when a.asdf = 1 then 'b' /* here a case comment */\n",
      "            when b.qwer = 2 then 'c'\n",
      "            else 'd' end as new_field, -- Some comment\n",
      "       b.asdf2\n",
      "FROM   table1 as a\n",
      "    LEFT JOIN table2 as b -- and here a comment\n",
      "        ON a.asdf = b.asdf /* joiN this way */\n",
      "    INNER JOIN table3 as c\n",
      "        ON a.asdf = c.asdf and\n",
      "           a.qwer = b.qwer\n",
      "WHERE  a.asdf = 1 -- comment this\n",
      "   and b.qwer = 2\n",
      "   and a.asdf <= 1 --comment that\n",
      "    or b.qwer >= 5\n",
      "GROUP BY a.asdf\n"
     ]
    }
   ],
   "source": [
    "assert_and_print(\n",
    "    format_simple_sql(example_sql),\n",
    "    expected_sql\n",
    ")"
   ]
  },
  {
   "cell_type": "code",
   "execution_count": null,
   "metadata": {},
   "outputs": [
    {
     "name": "stdout",
     "output_type": "stream",
     "text": [
      "CREATE OR REPLACE TABLE first_table AS -- my first table\n",
      "SELECT car_id,\n",
      "       avg(price) as avg_price\n",
      "FROM   first_view\n",
      "GROUP BY car_id\n"
     ]
    }
   ],
   "source": [
    "assert_and_print(\n",
    "    format_simple_sql(\n",
    "\"\"\"\n",
    "create or replace table first_table as -- my first table\n",
    "select car_id,\n",
    "       avg(price) as avg_price,\n",
    "from first_view\n",
    "group by car_id\n",
    "\"\"\"\n",
    "    ),\n",
    "\"\"\"\n",
    "CREATE OR REPLACE TABLE first_table AS -- my first table\n",
    "SELECT car_id,\n",
    "       avg(price) as avg_price\n",
    "FROM   first_view\n",
    "GROUP BY car_id\n",
    "\"\"\".strip()\n",
    ")"
   ]
  },
  {
   "cell_type": "markdown",
   "metadata": {},
   "source": [
    "## Queries with subqueries"
   ]
  },
  {
   "cell_type": "markdown",
   "metadata": {},
   "source": [
    "This is how we could (badly) write a query with subqueries"
   ]
  },
  {
   "cell_type": "code",
   "execution_count": null,
   "metadata": {},
   "outputs": [],
   "source": [
    "example_with_subqueries = \"\"\"\n",
    "select asdf, cast(qwer as numeric), -- some comment\n",
    "substr(qwer1, 3, 2) as substr_qwer /* some field */\n",
    "from \n",
    "(select asdf, qwer, /* some nice field */ from table1 where asdf = 1) as a\n",
    "left \n",
    "join (select asdf, qwer2 from table2 where qwer2 = 1) as b\n",
    "on a.asdf = b.asdf\n",
    "where qwer1 >= 0\n",
    "\"\"\""
   ]
  },
  {
   "cell_type": "markdown",
   "metadata": {},
   "source": [
    "and this is the way we would like to have it nicely formatted"
   ]
  },
  {
   "cell_type": "code",
   "execution_count": null,
   "metadata": {},
   "outputs": [],
   "source": [
    "expected_with_subqueries = \"\"\"\n",
    "SELECT asdf,\n",
    "       cast(qwer as numeric), -- some comment\n",
    "       substr(qwer1, 3, 2) as substr_qwer /* some field */\n",
    "FROM   (SELECT asdf,\n",
    "               qwer /* some nice field */\n",
    "        FROM   table1\n",
    "        WHERE  asdf = 1) as a\n",
    "    LEFT JOIN (SELECT asdf,\n",
    "                      qwer2\n",
    "               FROM   table2\n",
    "               WHERE  qwer2 = 1) as b\n",
    "        ON a.asdf = b.asdf\n",
    "WHERE  qwer1 >= 0\n",
    "\"\"\".strip()"
   ]
  },
  {
   "cell_type": "markdown",
   "metadata": {},
   "source": [
    "### Main function handling queries with subqueries"
   ]
  },
  {
   "cell_type": "code",
   "execution_count": null,
   "metadata": {},
   "outputs": [],
   "source": [
    "#export\n",
    "def format_sql(s):\n",
    "    \"Format SQL query with subqueries `s`\"\n",
    "    s = format_simple_sql(s)  # basic query formatting\n",
    "    # get first outer subquery positions\n",
    "    subquery_pos = extract_outer_subquery(s)\n",
    "    # loop over subqueries\n",
    "    while subquery_pos is not None:\n",
    "        # get split\n",
    "        split_s = [\n",
    "            s[0:subquery_pos[0]],\n",
    "            s[subquery_pos[0]:(subquery_pos[1]+1)],\n",
    "            s[(subquery_pos[1]+1):]\n",
    "        ]\n",
    "        # format subquery (= split_s[1])\n",
    "        split_s[1] = format_subquery(split_s[1], split_s[0])\n",
    "        # join main part and subquery\n",
    "        s = \"\".join(split_s)\n",
    "        # get first outer subquery positions\n",
    "        subquery_pos = extract_outer_subquery(s)\n",
    "    # remove whitespace between word and parenthesis\n",
    "    s = re.sub(r\"\\s*\\)\", \")\", s)\n",
    "    return s"
   ]
  },
  {
   "cell_type": "code",
   "execution_count": null,
   "metadata": {},
   "outputs": [
    {
     "name": "stdout",
     "output_type": "stream",
     "text": [
      "SELECT asdf,\n",
      "       cast(qwer as numeric), -- some comment\n",
      "       substr(qwer1, 3, 2) as substr_qwer /* some field */\n",
      "FROM   (SELECT asdf,\n",
      "               qwer /* some nice field */\n",
      "        FROM   table1\n",
      "        WHERE  asdf = 1) as a\n",
      "    LEFT JOIN (SELECT asdf,\n",
      "                      qwer2\n",
      "               FROM   table2\n",
      "               WHERE  qwer2 = 1) as b\n",
      "        ON a.asdf = b.asdf\n",
      "WHERE  qwer1 >= 0\n"
     ]
    }
   ],
   "source": [
    "assert_and_print(\n",
    "    format_sql(example_with_subqueries),\n",
    "    expected_with_subqueries\n",
    ")"
   ]
  },
  {
   "cell_type": "markdown",
   "metadata": {},
   "source": [
    "It even works with simple queries without subqueries, therefore generalizing the `format_simple_sql()` function"
   ]
  },
  {
   "cell_type": "code",
   "execution_count": null,
   "metadata": {},
   "outputs": [
    {
     "name": "stdout",
     "output_type": "stream",
     "text": [
      "CREATE OR REPLACE TABLE mytable AS -- Mytable example\n",
      "/* multi line\n",
      "   comment */\n",
      "SELECT a.asdf,\n",
      "       b.qwer, -- some comment here\n",
      "       /* and here is a line comment inside select */\n",
      "       substr(c.asdf, 1, 2) as substr_asdf,\n",
      "       /* some commenT\n",
      "          there */\n",
      "       case when a.asdf = 1 then 'b' /* here a case comment */\n",
      "            when b.qwer = 2 then 'c'\n",
      "            else 'd' end as new_field, -- Some comment\n",
      "       b.asdf2\n",
      "FROM   table1 as a\n",
      "    LEFT JOIN table2 as b -- and here a comment\n",
      "        ON a.asdf = b.asdf /* joiN this way */\n",
      "    INNER JOIN table3 as c\n",
      "        ON a.asdf = c.asdf and\n",
      "           a.qwer = b.qwer\n",
      "WHERE  a.asdf = 1 -- comment this\n",
      "   and b.qwer = 2\n",
      "   and a.asdf <= 1 --comment that\n",
      "    or b.qwer >= 5\n",
      "GROUP BY a.asdf\n"
     ]
    }
   ],
   "source": [
    "assert_and_print(\n",
    "    format_sql(example_sql),\n",
    "    expected_sql\n",
    ")"
   ]
  },
  {
   "cell_type": "markdown",
   "metadata": {},
   "source": [
    "## Nested subqueries\n",
    "\n",
    "The function is also robust against nested subqueries"
   ]
  },
  {
   "cell_type": "code",
   "execution_count": null,
   "metadata": {},
   "outputs": [],
   "source": [
    "example_nested_subqueries = \"\"\"\n",
    "select asdf, qwer\n",
    "from (select a.asdf,  lead(a.substr_qwer) over (partition by a.asdf, asdf2 order by qwer) as lead_qwerty\n",
    "    from (select asdf, substr(qwer, 3, 2) as substr_qwer from table2) as a\n",
    "        inner join (select asdf, qwer from table3) as b\n",
    "            on a.qwer = b.qwer\n",
    ")\n",
    "\"\"\""
   ]
  },
  {
   "cell_type": "code",
   "execution_count": null,
   "metadata": {},
   "outputs": [],
   "source": [
    "expected_nested = \"\"\"SELECT asdf,\n",
    "       qwer\n",
    "FROM   (SELECT a.asdf,\n",
    "               lead(a.substr_qwer) OVER (PARTITION BY a.asdf,\n",
    "                                                      asdf2\n",
    "                                         ORDER BY qwer) as lead_qwerty\n",
    "        FROM   (SELECT asdf,\n",
    "                       substr(qwer, 3, 2) as substr_qwer\n",
    "                FROM   table2) as a\n",
    "            INNER JOIN (SELECT asdf,\n",
    "                               qwer\n",
    "                        FROM   table3) as b\n",
    "                ON a.qwer = b.qwer)\"\"\""
   ]
  },
  {
   "cell_type": "code",
   "execution_count": null,
   "metadata": {},
   "outputs": [
    {
     "name": "stdout",
     "output_type": "stream",
     "text": [
      "SELECT asdf,\n",
      "       qwer\n",
      "FROM   (SELECT a.asdf,\n",
      "               lead(a.substr_qwer) OVER (PARTITION BY a.asdf,\n",
      "                                                      asdf2\n",
      "                                         ORDER BY qwer) as lead_qwerty\n",
      "        FROM   (SELECT asdf,\n",
      "                       substr(qwer, 3, 2) as substr_qwer\n",
      "                FROM   table2) as a\n",
      "            INNER JOIN (SELECT asdf,\n",
      "                               qwer\n",
      "                        FROM   table3) as b\n",
      "                ON a.qwer = b.qwer)\n"
     ]
    }
   ],
   "source": [
    "assert_and_print(\n",
    "    format_sql(example_nested_subqueries),\n",
    "    expected_nested\n",
    ")"
   ]
  },
  {
   "cell_type": "markdown",
   "metadata": {},
   "source": [
    "### With SELECT DISTINCT"
   ]
  },
  {
   "cell_type": "code",
   "execution_count": null,
   "metadata": {},
   "outputs": [
    {
     "name": "stdout",
     "output_type": "stream",
     "text": [
      "SELECT asdf,\n",
      "       qwer\n",
      "FROM   (SELECT DISTINCT asdf,\n",
      "                        qwer\n",
      "        FROM   table1)\n"
     ]
    }
   ],
   "source": [
    "assert_and_print(\n",
    "    format_sql(\n",
    "\"\"\"\n",
    "select asdf, qwer from (select distinct asdf, qwer from table1)\n",
    "\"\"\"\n",
    "    ),\n",
    "\"\"\"\n",
    "SELECT asdf,\n",
    "       qwer\n",
    "FROM   (SELECT DISTINCT asdf,\n",
    "                        qwer\n",
    "        FROM   table1)\n",
    "\"\"\".strip()\n",
    ")"
   ]
  },
  {
   "cell_type": "markdown",
   "metadata": {},
   "source": [
    "### More convoluted nested subquery"
   ]
  },
  {
   "cell_type": "code",
   "execution_count": null,
   "metadata": {},
   "outputs": [],
   "source": [
    "example_convoluted = \"\"\"\n",
    "select asdf\n",
    "from (\n",
    "    select asdf, qwer, /* some comment */\n",
    "    from (select a.asdf, b.qwer, --some comment\n",
    "          from (select asdf \n",
    "                from table1) as a \n",
    "            right join (select qwer \n",
    "                        from table2) as b\n",
    "                on a.asdf = b.asdf)\n",
    ")\n",
    "\"\"\""
   ]
  },
  {
   "cell_type": "code",
   "execution_count": null,
   "metadata": {},
   "outputs": [],
   "source": [
    "expected_convoluted = \"\"\"SELECT asdf\n",
    "FROM   (SELECT asdf,\n",
    "               qwer /* some comment */\n",
    "        FROM   (SELECT a.asdf,\n",
    "                       b.qwer --some comment\n",
    "                FROM   (SELECT asdf\n",
    "                        FROM   table1) as a\n",
    "                    RIGHT JOIN (SELECT qwer\n",
    "                                FROM   table2) as b\n",
    "                        ON a.asdf = b.asdf))\"\"\""
   ]
  },
  {
   "cell_type": "code",
   "execution_count": null,
   "metadata": {},
   "outputs": [
    {
     "name": "stdout",
     "output_type": "stream",
     "text": [
      "SELECT asdf\n",
      "FROM   (SELECT asdf,\n",
      "               qwer /* some comment */\n",
      "        FROM   (SELECT a.asdf,\n",
      "                       b.qwer --some comment\n",
      "                FROM   (SELECT asdf\n",
      "                        FROM   table1) as a\n",
      "                    RIGHT JOIN (SELECT qwer\n",
      "                                FROM   table2) as b\n",
      "                        ON a.asdf = b.asdf))\n"
     ]
    }
   ],
   "source": [
    "assert_and_print(\n",
    "    format_sql(example_convoluted),\n",
    "    expected_convoluted\n",
    ")"
   ]
  },
  {
   "cell_type": "code",
   "execution_count": null,
   "metadata": {},
   "outputs": [
    {
     "name": "stdout",
     "output_type": "stream",
     "text": [
      "SELECT asdf,\n",
      "       qwer\n",
      "FROM   table1\n",
      "UNION\n",
      "SELECT qwer,\n",
      "       asdf,\n",
      "       asdf2\n",
      "FROM   table3\n",
      "WHERE  asdf2 >= 2\n"
     ]
    }
   ],
   "source": [
    "assert_and_print(\n",
    "    format_sql(\n",
    "\"\"\"\n",
    "select asdf,\n",
    "qwer\n",
    "from table1 union select qwer,\n",
    "asdf, asdf2 from table3\n",
    "where asdf2 >=2\n",
    "\"\"\"\n",
    "    ),\n",
    "\"\"\"\n",
    "SELECT asdf,\n",
    "       qwer\n",
    "FROM   table1\n",
    "UNION\n",
    "SELECT qwer,\n",
    "       asdf,\n",
    "       asdf2\n",
    "FROM   table3\n",
    "WHERE  asdf2 >= 2\n",
    "\"\"\".strip()\n",
    ")"
   ]
  },
  {
   "cell_type": "code",
   "execution_count": null,
   "metadata": {},
   "outputs": [
    {
     "name": "stdout",
     "output_type": "stream",
     "text": [
      "Converted 00_core.ipynb.\n",
      "Converted 01_format_file.ipynb.\n",
      "Converted 02_utils.ipynb.\n",
      "Converted 03_validation.ipynb.\n",
      "Converted 04_release.ipynb.\n",
      "Converted index.ipynb.\n"
     ]
    }
   ],
   "source": [
    "#hide\n",
    "from nbdev.export import notebook2script\n",
    "notebook2script()"
   ]
  }
 ],
 "metadata": {
  "kernelspec": {
   "display_name": "Python [conda env:sql-formatter-dev] *",
   "language": "python",
   "name": "conda-env-sql-formatter-dev-py"
  }
 },
 "nbformat": 4,
 "nbformat_minor": 2
}
