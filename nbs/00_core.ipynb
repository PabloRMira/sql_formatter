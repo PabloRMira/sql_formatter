{
 "cells": [
  {
   "cell_type": "code",
   "execution_count": null,
   "metadata": {},
   "outputs": [
    {
     "name": "stdout",
     "output_type": "stream",
     "text": [
      "The autoreload extension is already loaded. To reload it, use:\n",
      "  %reload_ext autoreload\n"
     ]
    }
   ],
   "source": [
    "#hide\n",
    "%load_ext autoreload\n",
    "%autoreload 2\n",
    "%config Completer.use_jedi = False  # workaround for buggy jedi"
   ]
  },
  {
   "cell_type": "code",
   "execution_count": null,
   "metadata": {},
   "outputs": [],
   "source": [
    "# default_exp core"
   ]
  },
  {
   "cell_type": "code",
   "execution_count": null,
   "metadata": {},
   "outputs": [],
   "source": [
    "#export\n",
    "import re"
   ]
  },
  {
   "cell_type": "markdown",
   "metadata": {},
   "source": [
    "# core\n",
    "\n",
    "> Core functions for SQL formatting"
   ]
  },
  {
   "cell_type": "code",
   "execution_count": null,
   "metadata": {},
   "outputs": [],
   "source": [
    "#hide\n",
    "from nbdev.showdoc import *"
   ]
  },
  {
   "cell_type": "markdown",
   "metadata": {},
   "source": [
    "## General helper functions"
   ]
  },
  {
   "cell_type": "code",
   "execution_count": null,
   "metadata": {},
   "outputs": [],
   "source": [
    "#export\n",
    "def assert_and_print(s_in, s_expected):\n",
    "    \"Assert equality of `s_in` and `s_expected` and print the result of `s_in` if the assertion worked\"\n",
    "    try:\n",
    "        assert s_in == s_expected\n",
    "    except:\n",
    "        print(\"Assertion failed\\n\")\n",
    "        print(\"Input:\\n\")\n",
    "        print(s_in)\n",
    "        print(\"\\n\")\n",
    "        print(\"Expected:\\n\")\n",
    "        print(s_expected)\n",
    "        assert s_in == s_expected\n",
    "    print(s_in)\n",
    "    return None"
   ]
  },
  {
   "cell_type": "code",
   "execution_count": null,
   "metadata": {},
   "outputs": [
    {
     "name": "stdout",
     "output_type": "stream",
     "text": [
      "select asdf\n",
      "from table1\n"
     ]
    }
   ],
   "source": [
    "assert_and_print(\"select asdf\\nfrom table1\", \"select asdf\\nfrom table1\")"
   ]
  },
  {
   "cell_type": "markdown",
   "metadata": {},
   "source": [
    "## General formatting"
   ]
  },
  {
   "cell_type": "markdown",
   "metadata": {},
   "source": [
    "Basic formatting for SQL queries. Let's use an example throughout the core module.\n",
    "\n",
    "This is how an input could look like"
   ]
  },
  {
   "cell_type": "code",
   "execution_count": null,
   "metadata": {},
   "outputs": [],
   "source": [
    "example_sql = \"\"\"\n",
    "create or replace table mytable as -- Mytable example\n",
    "seLecT a.asdf, b.qwer, -- some comment here\n",
    "c.asdf, -- some commenT there\n",
    "case when a.asdf= 1 then 'b' /* here a case comment */\n",
    "when b.qwer =2 then 'c' else 'd' end as new_field, -- Some comment\n",
    "b.asdf2 frOm table1 as a leFt join \n",
    "table2 as b -- and here a comment\n",
    "    on a.asdf = b.asdf  /* join this way */\n",
    "    inner join table3 as c\n",
    "on a.asdf=c.asdf\n",
    "whEre a.asdf= 1 -- comment this\n",
    "anD b.qwer =2 and a.asdf<=1 --comment that\n",
    "or b.qwer>=5\n",
    "groUp by a.asdf\n",
    "\"\"\""
   ]
  },
  {
   "cell_type": "markdown",
   "metadata": {},
   "source": [
    "and this is how we would like to format it"
   ]
  },
  {
   "cell_type": "code",
   "execution_count": null,
   "metadata": {},
   "outputs": [],
   "source": [
    "expected_sql = \"\"\"CREATE OR REPLACE TABLE mytable AS -- Mytable example\n",
    "SELECT a.asdf,\n",
    "       b.qwer, -- some comment here\n",
    "       c.asdf, -- some commenT there\n",
    "       case when a.asdf = 1 then 'b' /* here a case comment */\n",
    "            when b.qwer = 2 then 'c'\n",
    "            else 'd' end AS new_field, -- Some comment\n",
    "       b.asdf2\n",
    "FROM   table1 AS a\n",
    "    LEFT JOIN table2 AS b -- and here a comment\n",
    "        ON a.asdf = b.asdf /* join this way */\n",
    "    INNER JOIN table3 AS c\n",
    "        ON a.asdf = c.asdf\n",
    "WHERE  a.asdf = 1 -- comment this\n",
    "   and b.qwer = 2\n",
    "   and a.asdf <= 1 --comment that\n",
    "    or b.qwer >= 5\n",
    "GROUP BY a.asdf;\"\"\""
   ]
  },
  {
   "cell_type": "markdown",
   "metadata": {},
   "source": [
    "Let's start by defining the main statements. The main statements all also require a new line"
   ]
  },
  {
   "cell_type": "code",
   "execution_count": null,
   "metadata": {},
   "outputs": [],
   "source": [
    "#export\n",
    "MAIN_STATEMENTS = [\n",
    "    \"create table\",\n",
    "    \"create or replace table\",\n",
    "    \"create view\",\n",
    "    \"create or replace view\",\n",
    "    \"select\",\n",
    "    \"from\",\n",
    "    \"left join\",\n",
    "    \"inner join\",\n",
    "    \"outer join\",\n",
    "    \"right join\",\n",
    "    \"on\",\n",
    "    \"where\",\n",
    "    \"group by\"\n",
    "]"
   ]
  },
  {
   "cell_type": "markdown",
   "metadata": {},
   "source": [
    "We also would like to capitalize the AS operator"
   ]
  },
  {
   "cell_type": "code",
   "execution_count": null,
   "metadata": {},
   "outputs": [],
   "source": [
    "#export\n",
    "CAPITAL_STATEMENTS = MAIN_STATEMENTS + [\"as\"]"
   ]
  },
  {
   "cell_type": "markdown",
   "metadata": {},
   "source": [
    "We need first to capitalize the main statements"
   ]
  },
  {
   "cell_type": "code",
   "execution_count": null,
   "metadata": {},
   "outputs": [],
   "source": [
    "#export\n",
    "def capitalize_statements(s, statements):\n",
    "    \"Capitalize SQL statements `statements` in string `s`\"\n",
    "    for statement in statements:\n",
    "        s = re.sub(rf\"\\b({statement})\\b\", statement.upper(), s, flags=re.I)\n",
    "    return s"
   ]
  },
  {
   "cell_type": "code",
   "execution_count": null,
   "metadata": {},
   "outputs": [
    {
     "name": "stdout",
     "output_type": "stream",
     "text": [
      "\n",
      "CREATE OR REPLACE TABLE mytable AS -- Mytable example\n",
      "SELECT a.asdf, b.qwer, -- some comment here\n",
      "c.asdf, -- some commenT there\n",
      "case when a.asdf= 1 then 'b' /* here a case comment */\n",
      "when b.qwer =2 then 'c' else 'd' end AS new_field, -- Some comment\n",
      "b.asdf2 FROM table1 AS a LEFT JOIN \n",
      "table2 AS b -- and here a comment\n",
      "    ON a.asdf = b.asdf  /* join this way */\n",
      "    INNER JOIN table3 AS c\n",
      "ON a.asdf=c.asdf\n",
      "WHERE a.asdf= 1 -- comment this\n",
      "anD b.qwer =2 and a.asdf<=1 --comment that\n",
      "or b.qwer>=5\n",
      "GROUP BY a.asdf\n",
      "\n"
     ]
    }
   ],
   "source": [
    "print(capitalize_statements(example_sql, CAPITAL_STATEMENTS))"
   ]
  },
  {
   "cell_type": "code",
   "execution_count": null,
   "metadata": {},
   "outputs": [
    {
     "name": "stdout",
     "output_type": "stream",
     "text": [
      "SELECT asdf, qwer FROM table1\n"
     ]
    }
   ],
   "source": [
    "assert_and_print(\n",
    "    capitalize_statements(\n",
    "        \"seLecT asdf, qwer FrOM table1\", \n",
    "        CAPITAL_STATEMENTS\n",
    "    ), \"SELECT asdf, qwer FROM table1\"\n",
    ")"
   ]
  },
  {
   "cell_type": "markdown",
   "metadata": {},
   "source": [
    "We need also to remove newlines and multiple spaces because the may be arbitrary"
   ]
  },
  {
   "cell_type": "code",
   "execution_count": null,
   "metadata": {},
   "outputs": [],
   "source": [
    "#export\n",
    "def remove_newlines_mspaces(s):\n",
    "    \"\"\"Remove newline and too many spaces characters.\n",
    "    Newline characters in SELECT statement with comments\n",
    "    are replaced by special token [EOC] (end of comment)\n",
    "    because otherwise we cannot format SELECT statements\n",
    "    with comments properly    \n",
    "    \"\"\"\n",
    "    s = s.strip()  # strip sentence\n",
    "    s = re.sub(r\"[\\r\\t\\f\\v ]{2,}\", \" \", s)  # remove too many whitespaces but not newlines\n",
    "    s = re.sub(r\"\\n[\\r\\t\\f\\v ]+\", r\"\\n\", s)  # remove whitespaces after newline\n",
    "    s = re.sub(r\"[\\r\\t\\f\\v ]+\\n\", r\"\\n\", s)  # remove whitespaces before newline    \n",
    "    split_s = re.split(r\"(select .*?)(from)\", s, flags=re.I | re.DOTALL)  # split to get individual select lines\n",
    "    # add special token [EOC] = End of comment for -- comments\n",
    "    split_s = [\n",
    "        re.sub(r\"(--.*?)(\\n)\", r\"\\1[EOC]\", line)  # add special token for end of comment in select lines\n",
    "        if re.match(\"select\", line, flags=re.I)  # for select statements\n",
    "        else line  # else no special token\n",
    "        for line in split_s\n",
    "    ]\n",
    "    # add special token [EOC] = End of comment for /*  */ comments\n",
    "    split_s = [\n",
    "        re.sub(r\"(\\/\\*.*\\*\\/)\", r\"\\1[EOC]\", line)  # add special token for select lines\n",
    "        if re.match(\"select\", line, flags=re.I)  # for select statements\n",
    "        else line  # else no special token\n",
    "        for line in split_s\n",
    "    ]\n",
    "    s = \"\".join(split_s)  # join all the lines\n",
    "    s = re.sub(\"\\n\", \" \", s)  # remove newlines\n",
    "    s = re.sub(r\"\\[EOC\\][\\r\\t\\f\\v ]+\", \"[EOC]\", s)  # remove whitespaces after [EOC]\n",
    "    s = re.sub(r\"[\\r\\t\\f\\v ]+\\[EOC\\]\", \"[EOC]\", s)  # remove whitespaces before [EOC]\n",
    "    return s"
   ]
  },
  {
   "cell_type": "code",
   "execution_count": null,
   "metadata": {},
   "outputs": [
    {
     "name": "stdout",
     "output_type": "stream",
     "text": [
      "create or replace table mytable as -- Mytable example seLecT a.asdf, b.qwer, -- some comment here[EOC]c.asdf, -- some commenT there[EOC]case when a.asdf= 1 then 'b' /* here a case comment */[EOC]when b.qwer =2 then 'c' else 'd' end as new_field, -- Some comment[EOC]b.asdf2 frOm table1 as a leFt join table2 as b -- and here a comment on a.asdf = b.asdf /* join this way */ inner join table3 as c on a.asdf=c.asdf whEre a.asdf= 1 -- comment this anD b.qwer =2 and a.asdf<=1 --comment that or b.qwer>=5 groUp by a.asdf\n"
     ]
    }
   ],
   "source": [
    "print(remove_newlines_mspaces(example_sql))"
   ]
  },
  {
   "cell_type": "code",
   "execution_count": null,
   "metadata": {},
   "outputs": [
    {
     "name": "stdout",
     "output_type": "stream",
     "text": [
      "SELECT asdf, qwer, qwer1, qwer2 FROM table1\n"
     ]
    }
   ],
   "source": [
    "assert_and_print(\n",
    "    remove_newlines_mspaces(\n",
    "\"\"\"\n",
    "SELECT asdf, qwer,\n",
    " qwer1,    qwer2\n",
    "FROM table1\n",
    "\"\"\"\n",
    "    ), \"SELECT asdf, qwer, qwer1, qwer2 FROM table1\"\n",
    ")"
   ]
  },
  {
   "cell_type": "markdown",
   "metadata": {},
   "source": [
    "With usual comments"
   ]
  },
  {
   "cell_type": "code",
   "execution_count": null,
   "metadata": {},
   "outputs": [
    {
     "name": "stdout",
     "output_type": "stream",
     "text": [
      "SELECT asdf, qwer, -- some comment[EOC]qwer1, qwer2 FROM table1 WHERE asdf=1\n"
     ]
    }
   ],
   "source": [
    "assert_and_print(\n",
    "    remove_newlines_mspaces(\"\"\"\n",
    "SELECT asdf, qwer, -- some comment\n",
    " qwer1,    qwer2\n",
    "FROM table1\n",
    "WHERE asdf=1\n",
    "\"\"\"), \"SELECT asdf, qwer, -- some comment[EOC]qwer1, qwer2 FROM table1 WHERE asdf=1\"\n",
    ")"
   ]
  },
  {
   "cell_type": "markdown",
   "metadata": {},
   "source": [
    "With other comment form"
   ]
  },
  {
   "cell_type": "code",
   "execution_count": null,
   "metadata": {},
   "outputs": [
    {
     "name": "stdout",
     "output_type": "stream",
     "text": [
      "SELECT asdf, qwer, /* another comment */[EOC]qwer1, qwer2 FROM table1 WHERE asdf=1\n"
     ]
    }
   ],
   "source": [
    "assert_and_print(\n",
    "    remove_newlines_mspaces(\"\"\"\n",
    "SELECT asdf, qwer, /*  another comment */\n",
    "qwer1,    qwer2\n",
    "FROM table1\n",
    "WHERE asdf=1\n",
    "\"\"\"), \"SELECT asdf, qwer, /* another comment */[EOC]qwer1, qwer2 FROM table1 WHERE asdf=1\"\n",
    ")"
   ]
  },
  {
   "cell_type": "markdown",
   "metadata": {},
   "source": [
    "Next we would like to have each main statement in a separate line"
   ]
  },
  {
   "cell_type": "code",
   "execution_count": null,
   "metadata": {},
   "outputs": [],
   "source": [
    "#export\n",
    "def breakline_statement(s, statements):\n",
    "    \"Write a newline in `s` for all `statements`\"\n",
    "    for statement in statements:\n",
    "        s = re.sub(rf\"\\s*({statement})\\b\", rf\"\\n{statement}\", s, flags=re.I)\n",
    "    return s"
   ]
  },
  {
   "cell_type": "code",
   "execution_count": null,
   "metadata": {},
   "outputs": [
    {
     "name": "stdout",
     "output_type": "stream",
     "text": [
      "\n",
      "create or replace table mytable as -- Mytable example\n",
      "select a.asdf, b.qwer, -- some comment here\n",
      "c.asdf, -- some commenT there\n",
      "case when a.asdf= 1 then 'b' /* here a case comment */\n",
      "when b.qwer =2 then 'c' else 'd' end as new_field, -- Some comment\n",
      "b.asdf2\n",
      "from table1 as a\n",
      "left join \n",
      "table2 as b -- and here a comment\n",
      "on a.asdf = b.asdf  /* join this way */\n",
      "inner join table3 as c\n",
      "on a.asdf=c.asdf\n",
      "where a.asdf= 1 -- comment this\n",
      "anD b.qwer =2 and a.asdf<=1 --comment that\n",
      "or b.qwer>=5\n",
      "group by a.asdf\n",
      "\n"
     ]
    }
   ],
   "source": [
    "print(breakline_statement(example_sql, MAIN_STATEMENTS))"
   ]
  },
  {
   "cell_type": "markdown",
   "metadata": {},
   "source": [
    "In combination with removing newlines and multiple spaces"
   ]
  },
  {
   "cell_type": "code",
   "execution_count": null,
   "metadata": {},
   "outputs": [
    {
     "name": "stdout",
     "output_type": "stream",
     "text": [
      "\n",
      "create or replace table mytable as -- Mytable example\n",
      "select a.asdf, b.qwer, -- some comment here[EOC]c.asdf, -- some commenT there[EOC]case when a.asdf= 1 then 'b' /* here a case comment */[EOC]when b.qwer =2 then 'c' else 'd' end as new_field, -- Some comment[EOC]b.asdf2\n",
      "from table1 as a\n",
      "left join table2 as b -- and here a comment\n",
      "on a.asdf = b.asdf /* join this way */\n",
      "inner join table3 as c\n",
      "on a.asdf=c.asdf\n",
      "where a.asdf= 1 -- comment this anD b.qwer =2 and a.asdf<=1 --comment that or b.qwer>=5\n",
      "group by a.asdf\n"
     ]
    }
   ],
   "source": [
    "print(breakline_statement(remove_newlines_mspaces(example_sql), MAIN_STATEMENTS))"
   ]
  },
  {
   "cell_type": "markdown",
   "metadata": {},
   "source": [
    "We would like to have every non capital statement lower cased but let comments untouched"
   ]
  },
  {
   "cell_type": "code",
   "execution_count": null,
   "metadata": {},
   "outputs": [],
   "source": [
    "#export\n",
    "def lowercase_query(s):\n",
    "    \"Lowercase query but let comments untouched\"\n",
    "    split_s = s.split(\"\\n\")  # split by newline\n",
    "    split_s = [\n",
    "        line if re.match(r\"^--\", line) else # comment at the beginning\n",
    "        # comment in between\n",
    "        re.sub(r\"(.*)(--.*)$\", lambda pat: pat.group(1).lower() + pat.group(2), line)\n",
    "        if re.match(r\".*--\", line)\n",
    "        else line.lower()  # no comment\n",
    "        for line in split_s\n",
    "    ]\n",
    "    s = \"\\n\".join(split_s)\n",
    "    return s    "
   ]
  },
  {
   "cell_type": "code",
   "execution_count": null,
   "metadata": {},
   "outputs": [
    {
     "name": "stdout",
     "output_type": "stream",
     "text": [
      "\n",
      "--- My nice view 1 --\n",
      "create or replace view view_1 as\n",
      "select asdf, -- Some Comment\n",
      "qwer,\n",
      "qwerty, -- Some other comment\n",
      "from table1\n",
      "\n"
     ]
    }
   ],
   "source": [
    "assert_and_print(\n",
    "    lowercase_query(\"\"\"\n",
    "--- My nice view 1 --\n",
    "Create or Replace VieW view_1 as\n",
    "seLect asdf, -- Some Comment\n",
    "qwER,\n",
    "qwerTy, -- Some other comment\n",
    "FROM table1\n",
    "\"\"\"),\n",
    "    \"\"\"\n",
    "--- My nice view 1 --\n",
    "create or replace view view_1 as\n",
    "select asdf, -- Some Comment\n",
    "qwer,\n",
    "qwerty, -- Some other comment\n",
    "from table1\n",
    "\"\"\"\n",
    ")"
   ]
  },
  {
   "cell_type": "markdown",
   "metadata": {},
   "source": [
    "## Specific formatting and validation\n",
    "\n",
    "Now we will format each statement individually"
   ]
  },
  {
   "cell_type": "markdown",
   "metadata": {},
   "source": [
    "#### Helper function"
   ]
  },
  {
   "cell_type": "code",
   "execution_count": null,
   "metadata": {},
   "outputs": [],
   "source": [
    "#export\n",
    "def add_whitespaces_between_symbols(s):\n",
    "    \"Add whitespaces between symbols in line `s`\"\n",
    "    s = re.sub(r\"([^\\s=!<>])([=!<>]+)\", r\"\\1 \\2\", s, flags=re.I)  # no space left\n",
    "    s = re.sub(r\"([=!<>]+)([^\\s=!<>])\", r\"\\1 \\2\", s, flags=re.I)  # no space right\n",
    "    s = re.sub(r\"([^\\s=!<>])([=!<>]+)([^\\s=!<>])\", r\"\\1 \\2 \\3\", s, flags=re.I)  # no space left and right\n",
    "    return s"
   ]
  },
  {
   "cell_type": "code",
   "execution_count": null,
   "metadata": {},
   "outputs": [
    {
     "name": "stdout",
     "output_type": "stream",
     "text": [
      "WHERE asdf = 1 and qwer => 1 or blabla = 'asdf'\n"
     ]
    }
   ],
   "source": [
    "assert_and_print(\n",
    "    add_whitespaces_between_symbols(\n",
    "        \"WHERE asdf= 1 and qwer=>1 or blabla ='asdf'\"\n",
    "    ), \"WHERE asdf = 1 and qwer => 1 or blabla = 'asdf'\"\n",
    ")"
   ]
  },
  {
   "cell_type": "markdown",
   "metadata": {},
   "source": [
    "### SELECT"
   ]
  },
  {
   "cell_type": "code",
   "execution_count": null,
   "metadata": {},
   "outputs": [],
   "source": [
    "#export\n",
    "def format_select(s):\n",
    "    \"Format SELECT statement line `s`\"\n",
    "    # remove [EOC] at end of SELECT\n",
    "    if re.search(r\"\\[EOC\\]$\", s):\n",
    "        s = re.sub(r\"\\[EOC\\]$\", \"\", s)\n",
    "    # if comma is found at the end of select statement then remove comma\n",
    "    if re.search(r\"[\\w\\d]+,\\s*$\", s, flags=re.I):\n",
    "        s = re.sub(r\"([\\w\\d]+)(,+)(\\s*)$\", r\"\\1\", s, flags=re.I)\n",
    "    elif re.search(r\"[\\w\\d]+,\\s*--[\\w\\d\\s]*$\", s, flags=re.I):\n",
    "        s = re.sub(r\"([\\w\\d]+)(,+)(\\s*)(--.*)$\", r\"\\1 \\4\", s, flags=re.I)\n",
    "    elif re.search(r\"[\\w\\d]+,\\s*\\/\\*.*\\*\\/$\", s, flags=re.I):\n",
    "        s = re.sub(r\"([\\w\\d]+)(,+)(\\s*)(\\/\\*.*\\*\\/)$\", r\"\\1 \\4\", s, flags=re.I)\n",
    "    s = add_whitespaces_between_symbols(s)  # add whitespaces between symbols\n",
    "    s = re.sub(r\"(,)(\\s*)([\\w\\d]+)\", r\"\\1\\n       \\3\", s)  # add newline after each comma (no comments) and indentation\n",
    "    s = re.sub(r\"\\[EOC\\]\", \"\\n       \", s)  # replace [EOC] by newline\n",
    "    s = re.sub(r\"(then.*?) ((?:when|else).*?)\", r\"\\1\\n\\2\", s)  # add newline before when or else\n",
    "    split_s = s.split(\"\\n\")\n",
    "    split_s = [\n",
    "        line if not re.match(\"^(?:when|else)\", line.strip())\n",
    "        else \" \" * 12 + line.strip()\n",
    "        for line in split_s\n",
    "    ]\n",
    "    s = \"\\n\".join(split_s)\n",
    "    s = s.strip()\n",
    "    return s"
   ]
  },
  {
   "cell_type": "markdown",
   "metadata": {},
   "source": [
    "Simple usage without comments"
   ]
  },
  {
   "cell_type": "code",
   "execution_count": null,
   "metadata": {},
   "outputs": [
    {
     "name": "stdout",
     "output_type": "stream",
     "text": [
      "select aSdf,\n",
      "       cast(qweR as numeric),\n",
      "       Asdf,\n",
      "       qwer1\n"
     ]
    }
   ],
   "source": [
    "assert_and_print(\n",
    "    format_select(\"select aSdf, cast(qweR as numeric),  Asdf,qwer1\"),\n",
    "    \"select aSdf,\\n       cast(qweR as numeric),\\n       Asdf,\\n       qwer1\"\n",
    ")"
   ]
  },
  {
   "cell_type": "markdown",
   "metadata": {},
   "source": [
    "More advanced usage with comments in SELECT"
   ]
  },
  {
   "cell_type": "code",
   "execution_count": null,
   "metadata": {},
   "outputs": [
    {
     "name": "stdout",
     "output_type": "stream",
     "text": [
      "select asdf,\n",
      "       cast(qwer as numeric), -- some comment\n",
      "       ASDF,\n",
      "       qwer1\n"
     ]
    }
   ],
   "source": [
    "assert_and_print(\n",
    "    format_select(\"select asdf, cast(qwer as numeric), -- some comment[EOC]ASDF, qwer1\"),\n",
    "    \"select asdf,\\n       cast(qwer as numeric), -- some comment\\n       ASDF,\\n       qwer1\"\n",
    ")"
   ]
  },
  {
   "cell_type": "markdown",
   "metadata": {},
   "source": [
    "Correcting common mistake on the flow: comma at end of SELECT"
   ]
  },
  {
   "cell_type": "code",
   "execution_count": null,
   "metadata": {},
   "outputs": [
    {
     "name": "stdout",
     "output_type": "stream",
     "text": [
      "select qwer1,\n",
      "       asdf\n"
     ]
    }
   ],
   "source": [
    "assert_and_print(\n",
    "    format_select(\"select qwer1,   asdf,\"),\n",
    "    \"select qwer1,\\n       asdf\"\n",
    ")"
   ]
  },
  {
   "cell_type": "markdown",
   "metadata": {},
   "source": [
    "Correcting comma at end of SELECT but having a comment in the last field"
   ]
  },
  {
   "cell_type": "code",
   "execution_count": null,
   "metadata": {},
   "outputs": [
    {
     "name": "stdout",
     "output_type": "stream",
     "text": [
      "select qwer1,\n",
      "       asdf -- this field\n"
     ]
    }
   ],
   "source": [
    "assert_and_print(\n",
    "    format_select(\"select qwer1,   asdf, -- this field\"),\n",
    "    \"select qwer1,\\n       asdf -- this field\"\n",
    ")"
   ]
  },
  {
   "cell_type": "code",
   "execution_count": null,
   "metadata": {},
   "outputs": [
    {
     "name": "stdout",
     "output_type": "stream",
     "text": [
      "select qwer1,\n",
      "       asdf /* this field */\n"
     ]
    }
   ],
   "source": [
    "assert_and_print(\n",
    "    format_select(\"select qwer1,   asdf, /* this field */\"),\n",
    "    \"select qwer1,\\n       asdf /* this field */\"\n",
    ")"
   ]
  },
  {
   "cell_type": "markdown",
   "metadata": {},
   "source": [
    "With `case when` conditions"
   ]
  },
  {
   "cell_type": "code",
   "execution_count": null,
   "metadata": {},
   "outputs": [
    {
     "name": "stdout",
     "output_type": "stream",
     "text": [
      "select qwer1,\n",
      "       case when abc = 1 then 'a'\n",
      "            when abc = 2 then 'b'\n",
      "            else 'c' end as qwer2\n"
     ]
    }
   ],
   "source": [
    "assert_and_print(\n",
    "    format_select(\"select qwer1, case when abc = 1 then 'a' when abc = 2 then 'b' else 'c' end as qwer2\"),\n",
    "    \"\"\"\n",
    "select qwer1,\n",
    "       case when abc = 1 then 'a'\n",
    "            when abc = 2 then 'b'\n",
    "            else 'c' end as qwer2\n",
    "    \"\"\".strip()    \n",
    ")"
   ]
  },
  {
   "cell_type": "code",
   "execution_count": null,
   "metadata": {},
   "outputs": [
    {
     "name": "stdout",
     "output_type": "stream",
     "text": [
      "select qwer1,\n",
      "       case when abc = 1 then 'a' -- first condition\n",
      "            when abc = 2 then 'b' -- second condition\n",
      "            else 'c' end as qwer2, /* else condition */\n",
      "       asdf3\n"
     ]
    }
   ],
   "source": [
    "assert_and_print(\n",
    "    format_select(\"select qwer1, case when abc = 1 then 'a' -- first condition[EOC]\" +\n",
    "                  \"when abc = 2 then 'b' -- second condition[EOC]\" +\n",
    "                  \"else 'c' end as qwer2, /* else condition */[EOC]\"\n",
    "                  \"asdf3\"\n",
    "),\n",
    "    \"\"\"\n",
    "select qwer1,\n",
    "       case when abc = 1 then 'a' -- first condition\n",
    "            when abc = 2 then 'b' -- second condition\n",
    "            else 'c' end as qwer2, /* else condition */\n",
    "       asdf3\n",
    "    \"\"\".strip()    \n",
    ")"
   ]
  },
  {
   "cell_type": "markdown",
   "metadata": {},
   "source": [
    "Bad formatted `case when` condition"
   ]
  },
  {
   "cell_type": "code",
   "execution_count": null,
   "metadata": {},
   "outputs": [
    {
     "name": "stdout",
     "output_type": "stream",
     "text": [
      "select qwer1,\n",
      "       case when abc <= 1 then 'a' -- first condition\n",
      "            when abc = 2 then 'b' -- second condition\n",
      "            else 'c' end as qwer2, -- else condition\n",
      "       asdf3\n"
     ]
    }
   ],
   "source": [
    "assert_and_print(\n",
    "    format_select(\"select qwer1, case when abc<= 1 then 'a' -- first condition[EOC]\" +\n",
    "                  \"when abc=2 then 'b' -- second condition[EOC]\" +\n",
    "                  \"else 'c' end as qwer2, -- else condition[EOC]\"\n",
    "                  \"asdf3\"\n",
    "),\n",
    "    \"\"\"\n",
    "select qwer1,\n",
    "       case when abc <= 1 then 'a' -- first condition\n",
    "            when abc = 2 then 'b' -- second condition\n",
    "            else 'c' end as qwer2, -- else condition\n",
    "       asdf3\n",
    "    \"\"\".strip()    \n",
    ")"
   ]
  },
  {
   "cell_type": "markdown",
   "metadata": {},
   "source": [
    "### FROM"
   ]
  },
  {
   "cell_type": "code",
   "execution_count": null,
   "metadata": {},
   "outputs": [],
   "source": [
    "#export\n",
    "def format_from(s):\n",
    "    \"Format FROM statement line `s`\"\n",
    "    s = re.sub(  # add indentation\n",
    "        r\"(from )(.*)\",\n",
    "        r\"\\1  \\2\",\n",
    "        s,\n",
    "        flags=re.I\n",
    "    )\n",
    "    return s"
   ]
  },
  {
   "cell_type": "code",
   "execution_count": null,
   "metadata": {},
   "outputs": [
    {
     "name": "stdout",
     "output_type": "stream",
     "text": [
      "from   table1\n"
     ]
    }
   ],
   "source": [
    "assert_and_print(format_from(\"from table1\"), \"from   table1\")"
   ]
  },
  {
   "cell_type": "markdown",
   "metadata": {},
   "source": [
    "### (LEFT / RIGHT / INNER / OUTER) JOIN"
   ]
  },
  {
   "cell_type": "code",
   "execution_count": null,
   "metadata": {},
   "outputs": [],
   "source": [
    "#export\n",
    "def format_join(s):\n",
    "    \"Format JOIN statement line `s`\"\n",
    "    s = \"    \" + s  # add indentation\n",
    "    return s"
   ]
  },
  {
   "cell_type": "code",
   "execution_count": null,
   "metadata": {},
   "outputs": [
    {
     "name": "stdout",
     "output_type": "stream",
     "text": [
      "    inner join table1\n"
     ]
    }
   ],
   "source": [
    "assert_and_print(format_join(\"inner join table1\"), \"    inner join table1\")"
   ]
  },
  {
   "cell_type": "markdown",
   "metadata": {},
   "source": [
    "### ON"
   ]
  },
  {
   "cell_type": "code",
   "execution_count": null,
   "metadata": {},
   "outputs": [],
   "source": [
    "#export\n",
    "def format_on(s):\n",
    "    \"Format ON statement line `s`\"\n",
    "    s = add_whitespaces_between_symbols(s)  # add whitespaces between symbols in join    \n",
    "    s = \"        \" + s  # add indentation\n",
    "    return s"
   ]
  },
  {
   "cell_type": "code",
   "execution_count": null,
   "metadata": {},
   "outputs": [
    {
     "name": "stdout",
     "output_type": "stream",
     "text": [
      "        on a.asdf = b.asdf\n"
     ]
    }
   ],
   "source": [
    "assert_and_print(format_on(\"on a.asdf =b.asdf\"), \"        on a.asdf = b.asdf\")"
   ]
  },
  {
   "cell_type": "markdown",
   "metadata": {},
   "source": [
    "### WHERE"
   ]
  },
  {
   "cell_type": "code",
   "execution_count": null,
   "metadata": {},
   "outputs": [],
   "source": [
    "#export\n",
    "def format_where(s):\n",
    "    \"Format WHERE statement line `s`\"\n",
    "    s = add_whitespaces_between_symbols(s)  # add whitespaces between symbols\n",
    "    s = re.sub(r\"(where )\", r\"\\1 \", s, flags=re.I)  # add indentation afer WHERE\n",
    "    s = re.sub(r\"\\sand\", r\"\\n   and\", s, flags=re.I)  # add new line before every 'and' and indentation\n",
    "    s = re.sub(r\"\\sor\", r\"\\n    or\", s, flags=re.I)  # add new line before every 'or' and indentation    \n",
    "    return s"
   ]
  },
  {
   "cell_type": "code",
   "execution_count": null,
   "metadata": {},
   "outputs": [
    {
     "name": "stdout",
     "output_type": "stream",
     "text": [
      "WHERE  asdf = 1\n",
      "   and qwer = 1\n",
      "    or blabla = 'asdf'\n"
     ]
    }
   ],
   "source": [
    "assert_and_print(\n",
    "    format_where(\n",
    "        \"WHERE asdf= 1 and qwer=1 or blabla ='asdf'\"\n",
    "    ), \"WHERE  asdf = 1\\n   and qwer = 1\\n    or blabla = 'asdf'\"\n",
    ")"
   ]
  },
  {
   "cell_type": "markdown",
   "metadata": {},
   "source": [
    "## Format all statements"
   ]
  },
  {
   "cell_type": "code",
   "execution_count": null,
   "metadata": {},
   "outputs": [],
   "source": [
    "#export\n",
    "def format_statement_line(s):\n",
    "    \"Format statement line `s`\"\n",
    "    statement_funcs = {\n",
    "        \"select\": format_select,\n",
    "        \"from\": format_from,\n",
    "        \"left join\": format_join,\n",
    "        \"right join\": format_join,\n",
    "        \"inner join\": format_join,\n",
    "        \"outer join\": format_join,\n",
    "        \"on\": format_on,\n",
    "        \"where\": format_where\n",
    "    }\n",
    "    for key, format_func in statement_funcs.items():\n",
    "        if re.match(key, s, flags=re.I):\n",
    "            s = format_func(s)\n",
    "    return s"
   ]
  },
  {
   "cell_type": "code",
   "execution_count": null,
   "metadata": {},
   "outputs": [
    {
     "name": "stdout",
     "output_type": "stream",
     "text": [
      "select asdf,\n",
      "       qwer\n"
     ]
    }
   ],
   "source": [
    "print(format_statement_line(\"select asdf, qwer\"))"
   ]
  },
  {
   "cell_type": "code",
   "execution_count": null,
   "metadata": {},
   "outputs": [
    {
     "name": "stdout",
     "output_type": "stream",
     "text": [
      "    left join table1 as abc\n"
     ]
    }
   ],
   "source": [
    "print(format_statement_line(\"left join table1 as abc\"))"
   ]
  },
  {
   "cell_type": "code",
   "execution_count": null,
   "metadata": {},
   "outputs": [
    {
     "name": "stdout",
     "output_type": "stream",
     "text": [
      "where  asdf = 1\n",
      "   and qwer = 'things'\n",
      "   and blabla = 0\n",
      "    or stuff = -1\n"
     ]
    }
   ],
   "source": [
    "print(format_statement_line(\"where asdf=1 and qwer='things' and blabla=0 or stuff=-1\"))"
   ]
  },
  {
   "cell_type": "code",
   "execution_count": null,
   "metadata": {},
   "outputs": [],
   "source": [
    "#export\n",
    "def format_statements(s):\n",
    "    \"Format statements lines `s`\"\n",
    "    statement_lines = s.split(\"\\n\")\n",
    "    formatted_lines = [\n",
    "        format_statement_line(line) for line in statement_lines\n",
    "    ]\n",
    "    formatted_s = \"\\n\".join(formatted_lines)\n",
    "    return formatted_s"
   ]
  },
  {
   "cell_type": "code",
   "execution_count": null,
   "metadata": {},
   "outputs": [
    {
     "name": "stdout",
     "output_type": "stream",
     "text": [
      "select asdf,\n",
      "       qwer\n",
      "from   table1\n"
     ]
    }
   ],
   "source": [
    "print(format_statements(\"select asdf, qwer\\nfrom table1\"))"
   ]
  },
  {
   "cell_type": "markdown",
   "metadata": {},
   "source": [
    "### Write a ; at the end of query"
   ]
  },
  {
   "cell_type": "code",
   "execution_count": null,
   "metadata": {},
   "outputs": [],
   "source": [
    "#export\n",
    "def add_ending_semicolon(s):\n",
    "    \"Add ending semicolon for SQL query `s`\"\n",
    "    s = s.strip()\n",
    "    if re.match(r\".*[^;]$\", s, flags=re.DOTALL):\n",
    "        s = s + \";\"\n",
    "    return s"
   ]
  },
  {
   "cell_type": "markdown",
   "metadata": {},
   "source": [
    "Basic usage"
   ]
  },
  {
   "cell_type": "code",
   "execution_count": null,
   "metadata": {},
   "outputs": [
    {
     "name": "stdout",
     "output_type": "stream",
     "text": [
      "select asdf from table1;\n"
     ]
    }
   ],
   "source": [
    "assert_and_print(\n",
    "    add_ending_semicolon(\"select asdf from table1\"), \n",
    "    \"select asdf from table1;\"\n",
    ")"
   ]
  },
  {
   "cell_type": "markdown",
   "metadata": {},
   "source": [
    "Also works with multiple lines"
   ]
  },
  {
   "cell_type": "code",
   "execution_count": null,
   "metadata": {},
   "outputs": [
    {
     "name": "stdout",
     "output_type": "stream",
     "text": [
      "select asdf\n",
      "from table1\n",
      "where asdf = 1;\n"
     ]
    }
   ],
   "source": [
    "assert_and_print(\n",
    "    add_ending_semicolon(\"select asdf\\nfrom table1\\nwhere asdf = 1\"), \n",
    "    \"select asdf\\nfrom table1\\nwhere asdf = 1;\"\n",
    ")"
   ]
  },
  {
   "cell_type": "markdown",
   "metadata": {},
   "source": [
    "It does not add another semicolon if there is already one there"
   ]
  },
  {
   "cell_type": "code",
   "execution_count": null,
   "metadata": {},
   "outputs": [
    {
     "name": "stdout",
     "output_type": "stream",
     "text": [
      "select asdf\n",
      "from table1\n",
      "where asdf = 1;\n"
     ]
    }
   ],
   "source": [
    "assert_and_print(\n",
    "    add_ending_semicolon(\"select asdf\\nfrom table1\\nwhere asdf = 1;\"), \n",
    "    \"select asdf\\nfrom table1\\nwhere asdf = 1;\"\n",
    ")"
   ]
  },
  {
   "cell_type": "markdown",
   "metadata": {},
   "source": [
    "##  Putting everything together\n",
    "\n",
    "to format a simple query without subqueries"
   ]
  },
  {
   "cell_type": "code",
   "execution_count": null,
   "metadata": {},
   "outputs": [],
   "source": [
    "#export\n",
    "def format_simple_sql(s, add_semicolon=True):\n",
    "    \"\"\"Format a simple SQL query without subqueries `s`. \n",
    "    If `add_semicolon` is True, then add a semicolon at the end\n",
    "    \"\"\"\n",
    "    s = lowercase_query(s)  # everything lowercased but not the comments\n",
    "    s = remove_newlines_mspaces(s)  # remove newlines and multiple spaces\n",
    "    s = breakline_statement(s, MAIN_STATEMENTS)  # add breaklines for the main statements\n",
    "    s = capitalize_statements(s, CAPITAL_STATEMENTS)  # capitalize capital statements\n",
    "    s = format_statements(s)  # format statements\n",
    "    if add_semicolon:\n",
    "        s = add_ending_semicolon(s)  # add ending semicolon if not there yet\n",
    "    return s"
   ]
  },
  {
   "cell_type": "code",
   "execution_count": null,
   "metadata": {},
   "outputs": [
    {
     "name": "stdout",
     "output_type": "stream",
     "text": [
      "CREATE OR REPLACE TABLE mytable AS -- Mytable example\n",
      "SELECT a.asdf,\n",
      "       b.qwer, -- some comment here\n",
      "       c.asdf, -- some commenT there\n",
      "       case when a.asdf = 1 then 'b' /* here a case comment */\n",
      "            when b.qwer = 2 then 'c'\n",
      "            else 'd' end AS new_field, -- Some comment\n",
      "       b.asdf2\n",
      "FROM   table1 AS a\n",
      "    LEFT JOIN table2 AS b -- and here a comment\n",
      "        ON a.asdf = b.asdf /* join this way */\n",
      "    INNER JOIN table3 AS c\n",
      "        ON a.asdf = c.asdf\n",
      "WHERE  a.asdf = 1 -- comment this\n",
      "   and b.qwer = 2\n",
      "   and a.asdf <= 1 --comment that\n",
      "    or b.qwer >= 5\n",
      "GROUP BY a.asdf;\n"
     ]
    }
   ],
   "source": [
    "assert_and_print(\n",
    "    format_simple_sql(example_sql),\n",
    "    expected_sql\n",
    ")"
   ]
  },
  {
   "cell_type": "markdown",
   "metadata": {},
   "source": [
    "## Queries with subqueries"
   ]
  },
  {
   "cell_type": "markdown",
   "metadata": {},
   "source": [
    "This is how we could (badly) write a query with subqueries"
   ]
  },
  {
   "cell_type": "code",
   "execution_count": null,
   "metadata": {},
   "outputs": [
    {
     "name": "stdout",
     "output_type": "stream",
     "text": [
      "\n",
      "select asdf, cast(qwer as numeric), -- some comment\n",
      "qwer1 /* some field */\n",
      "from \n",
      "(select asdf, qwer, /* some nice field */ from table1 where asdf = 1) as a\n",
      "left \n",
      "join (select asdf, qwer2 from table2 where qwer2 = 1) as b\n",
      "on a.asdf = b.asdf\n",
      "where qwer1 >= 0\n",
      "\n"
     ]
    }
   ],
   "source": [
    "example_with_subqueries = \"\"\"\n",
    "select asdf, cast(qwer as numeric), -- some comment\n",
    "qwer1 /* some field */\n",
    "from \n",
    "(select asdf, qwer, /* some nice field */ from table1 where asdf = 1) as a\n",
    "left \n",
    "join (select asdf, qwer2 from table2 where qwer2 = 1) as b\n",
    "on a.asdf = b.asdf\n",
    "where qwer1 >= 0\n",
    "\"\"\"\n",
    "print(example_with_subqueries)"
   ]
  },
  {
   "cell_type": "markdown",
   "metadata": {},
   "source": [
    "and this is the way we would like to have it nicely formatted"
   ]
  },
  {
   "cell_type": "code",
   "execution_count": null,
   "metadata": {},
   "outputs": [],
   "source": [
    "expected_with_subqueries = \"\"\"\n",
    "SELECT asdf,\n",
    "       cast(qwer AS numeric), -- some comment\n",
    "       qwer1 /* some field */\n",
    "FROM   (SELECT asdf,\n",
    "               qwer /* some nice field */\n",
    "        FROM   table1\n",
    "        WHERE  asdf = 1) AS a\n",
    "    LEFT JOIN (SELECT asdf,\n",
    "                      qwer2\n",
    "               FROM   table2\n",
    "               WHERE  qwer2 = 1) AS b\n",
    "        ON a.asdf = b.asdf\n",
    "WHERE  qwer1 >= 0;\n",
    "\"\"\".strip()"
   ]
  },
  {
   "cell_type": "markdown",
   "metadata": {},
   "source": [
    "### Helper functions to handle subqueries"
   ]
  },
  {
   "cell_type": "code",
   "execution_count": null,
   "metadata": {},
   "outputs": [],
   "source": [
    "#export\n",
    "def extract_outer_subquery(s):\n",
    "    \"Extract outer subquery in query `s`\"\n",
    "    # initialize container for subquery positions\n",
    "    # in string `s`\n",
    "    subquery_pos = []\n",
    "    # auxiliar indicator to get the subquery right\n",
    "    ind = True\n",
    "    # counter for parenthesis\n",
    "    k = 0\n",
    "    # loop over string characters\n",
    "    for i, c in enumerate(s):\n",
    "        if s[i:(i+8)] == \"(\\nSELECT\" and ind: # query start\n",
    "            subquery_pos.append(i)\n",
    "            k = 0  # set the parenthesis counter to 0\n",
    "            # turn off the indicator for the program to know\n",
    "            # that we already hit the subquery start\n",
    "            ind = False\n",
    "        elif c == \"(\": # if there is a parenthesis not involving a subquery\n",
    "            k += 1\n",
    "        elif c == \")\" and k == 0 and not ind: # end position for subquery\n",
    "            subquery_pos.append(i)\n",
    "            return subquery_pos\n",
    "        elif c == \")\":\n",
    "            k -= 1"
   ]
  },
  {
   "cell_type": "code",
   "execution_count": null,
   "metadata": {},
   "outputs": [],
   "source": [
    "assert (\n",
    "    extract_outer_subquery(\n",
    "        \"() () (\\nSELECT () (\\nSELECT ())) ()\"\n",
    "    ) == [6, 30]\n",
    ")"
   ]
  },
  {
   "cell_type": "code",
   "execution_count": null,
   "metadata": {},
   "outputs": [],
   "source": [
    "#export\n",
    "def format_subquery(s, previous_s):\n",
    "    \"Format subquery in line `s` based on indentation on `previous_s`\"\n",
    "    s = re.sub(r\"^\\(\\nSELECT\", \"(SELECT\", s)  # remove newline between parenthesis and SELECT\n",
    "    # get reference line for the indentation level\n",
    "    # and remove whitespaces from the left\n",
    "    ref_line = previous_s.split(\"\\n\")[-1].lstrip()\n",
    "    # if the line contains a JOIN statement then indent with\n",
    "    # 4 whitespaces\n",
    "    if re.match(r\"\\w+ join\", ref_line, flags=re.I):\n",
    "        ref_line = \"    \" + ref_line\n",
    "    indentation = len(ref_line) + 1  # get indentation level\n",
    "    split_s = s.split(\"\\n\")  # get lines in subquery\n",
    "    indented_s = [\n",
    "        \" \" * indentation + line  # indent all lines the same\n",
    "        if not re.match(r\"SELECT\", line)\n",
    "        else line\n",
    "        for line in split_s[1:]\n",
    "    ]\n",
    "    # SELECT line + indented lines afterwards\n",
    "    formatted_split = [split_s[0]] + indented_s\n",
    "    # concatenate with newline character\n",
    "    formatted_s = \"\\n\".join(formatted_split)\n",
    "    return formatted_s"
   ]
  },
  {
   "cell_type": "markdown",
   "metadata": {},
   "source": [
    "### Main function handling queries with subqueries"
   ]
  },
  {
   "cell_type": "code",
   "execution_count": null,
   "metadata": {},
   "outputs": [],
   "source": [
    "#export\n",
    "def format_sql(s, add_semicolon=True):\n",
    "    \"Format SQL query with subqueries. If `add_semicolon` is True then add a semicolon at the end\"\n",
    "    s = format_simple_sql(s, add_semicolon)  # basic query formatting\n",
    "    # get first outer subquery positions\n",
    "    subquery_pos = extract_outer_subquery(s)\n",
    "    # loop over subqueries\n",
    "    while subquery_pos is not None:\n",
    "        # get split\n",
    "        split_s = [\n",
    "            s[0:subquery_pos[0]],\n",
    "            s[subquery_pos[0]:(subquery_pos[1]+1)],\n",
    "            s[(subquery_pos[1]+1):]\n",
    "        ]\n",
    "        # format subquery (= split_s[1])\n",
    "        split_s[1] = format_subquery(split_s[1], split_s[0])\n",
    "        # join main part and subquery\n",
    "        s = \"\".join(split_s)\n",
    "        # get first outer subquery positions\n",
    "        subquery_pos = extract_outer_subquery(s)\n",
    "    # remove whitespace between word and parenthesis\n",
    "    s = re.sub(r\"\\s\\)\", \")\", s)\n",
    "    return s"
   ]
  },
  {
   "cell_type": "code",
   "execution_count": null,
   "metadata": {},
   "outputs": [
    {
     "name": "stdout",
     "output_type": "stream",
     "text": [
      "SELECT asdf,\n",
      "       cast(qwer AS numeric), -- some comment\n",
      "       qwer1 /* some field */\n",
      "FROM   (SELECT asdf,\n",
      "               qwer /* some nice field */\n",
      "        FROM   table1\n",
      "        WHERE  asdf = 1) AS a\n",
      "    LEFT JOIN (SELECT asdf,\n",
      "                      qwer2\n",
      "               FROM   table2\n",
      "               WHERE  qwer2 = 1) AS b\n",
      "        ON a.asdf = b.asdf\n",
      "WHERE  qwer1 >= 0;\n"
     ]
    }
   ],
   "source": [
    "assert_and_print(\n",
    "    format_sql(example_with_subqueries),\n",
    "    expected_with_subqueries\n",
    ")"
   ]
  },
  {
   "cell_type": "markdown",
   "metadata": {},
   "source": [
    "It even works with simple queries without subqueries, therefore generalizing the `format_simple_sql()` function"
   ]
  },
  {
   "cell_type": "code",
   "execution_count": null,
   "metadata": {},
   "outputs": [
    {
     "name": "stdout",
     "output_type": "stream",
     "text": [
      "CREATE OR REPLACE TABLE mytable AS -- Mytable example\n",
      "SELECT a.asdf,\n",
      "       b.qwer, -- some comment here\n",
      "       c.asdf, -- some commenT there\n",
      "       case when a.asdf = 1 then 'b' /* here a case comment */\n",
      "            when b.qwer = 2 then 'c'\n",
      "            else 'd' end AS new_field, -- Some comment\n",
      "       b.asdf2\n",
      "FROM   table1 AS a\n",
      "    LEFT JOIN table2 AS b -- and here a comment\n",
      "        ON a.asdf = b.asdf /* join this way */\n",
      "    INNER JOIN table3 AS c\n",
      "        ON a.asdf = c.asdf\n",
      "WHERE  a.asdf = 1 -- comment this\n",
      "   and b.qwer = 2\n",
      "   and a.asdf <= 1 --comment that\n",
      "    or b.qwer >= 5\n",
      "GROUP BY a.asdf;\n"
     ]
    }
   ],
   "source": [
    "assert_and_print(\n",
    "    format_sql(example_sql),\n",
    "    expected_sql\n",
    ")"
   ]
  },
  {
   "cell_type": "markdown",
   "metadata": {},
   "source": [
    "## Nested subqueries\n",
    "\n",
    "The function is also robust against nested subqueries"
   ]
  },
  {
   "cell_type": "code",
   "execution_count": null,
   "metadata": {},
   "outputs": [],
   "source": [
    "example_nested_subqueries = \"\"\"\n",
    "select asdf, qwer\n",
    "from (select a.asdf\n",
    "    from (select asdf, qwer from table2) as a\n",
    "        inner join (select asdf, qwer from table3) as b\n",
    "            on a.qwer = b.qwer\n",
    ")\n",
    "\"\"\""
   ]
  },
  {
   "cell_type": "code",
   "execution_count": null,
   "metadata": {},
   "outputs": [],
   "source": [
    "expected_nested = \"\"\"SELECT asdf,\n",
    "       qwer\n",
    "FROM   (SELECT a.asdf\n",
    "        FROM   (SELECT asdf,\n",
    "                       qwer\n",
    "                FROM   table2) AS a\n",
    "            INNER JOIN (SELECT asdf,\n",
    "                               qwer\n",
    "                        FROM   table3) AS b\n",
    "                ON a.qwer = b.qwer);\"\"\""
   ]
  },
  {
   "cell_type": "code",
   "execution_count": null,
   "metadata": {},
   "outputs": [
    {
     "name": "stdout",
     "output_type": "stream",
     "text": [
      "SELECT asdf,\n",
      "       qwer\n",
      "FROM   (SELECT a.asdf\n",
      "        FROM   (SELECT asdf,\n",
      "                       qwer\n",
      "                FROM   table2) AS a\n",
      "            INNER JOIN (SELECT asdf,\n",
      "                               qwer\n",
      "                        FROM   table3) AS b\n",
      "                ON a.qwer = b.qwer);\n"
     ]
    }
   ],
   "source": [
    "assert_and_print(\n",
    "    format_sql(example_nested_subqueries),\n",
    "    expected_nested\n",
    ")"
   ]
  },
  {
   "cell_type": "markdown",
   "metadata": {},
   "source": [
    "### More convoluted nested subquery"
   ]
  },
  {
   "cell_type": "code",
   "execution_count": null,
   "metadata": {},
   "outputs": [],
   "source": [
    "example_convoluted = \"\"\"\n",
    "select asdf\n",
    "from (\n",
    "    select asdf, qwer, /* some comment */\n",
    "    from (select a.asdf, b.qwer, --some comment\n",
    "          from (select asdf \n",
    "                from table1) as a \n",
    "            right join (select qwer \n",
    "                        from table2) as b\n",
    "                on a.asdf = b.asdf)\n",
    ")\n",
    "\"\"\""
   ]
  },
  {
   "cell_type": "code",
   "execution_count": null,
   "metadata": {},
   "outputs": [],
   "source": [
    "expected_convoluted = \"\"\"SELECT asdf\n",
    "FROM   (SELECT asdf,\n",
    "               qwer /* some comment */\n",
    "        FROM   (SELECT a.asdf,\n",
    "                       b.qwer --some comment\n",
    "                FROM   (SELECT asdf\n",
    "                        FROM   table1) AS a\n",
    "                    RIGHT JOIN (SELECT qwer\n",
    "                                FROM   table2) AS b\n",
    "                        ON a.asdf = b.asdf));\"\"\""
   ]
  },
  {
   "cell_type": "code",
   "execution_count": null,
   "metadata": {},
   "outputs": [
    {
     "name": "stdout",
     "output_type": "stream",
     "text": [
      "SELECT asdf\n",
      "FROM   (SELECT asdf,\n",
      "               qwer /* some comment */\n",
      "        FROM   (SELECT a.asdf,\n",
      "                       b.qwer --some comment\n",
      "                FROM   (SELECT asdf\n",
      "                        FROM   table1) AS a\n",
      "                    RIGHT JOIN (SELECT qwer\n",
      "                                FROM   table2) AS b\n",
      "                        ON a.asdf = b.asdf));\n"
     ]
    }
   ],
   "source": [
    "assert_and_print(\n",
    "    format_sql(example_convoluted),\n",
    "    expected_convoluted\n",
    ")"
   ]
  },
  {
   "cell_type": "code",
   "execution_count": null,
   "metadata": {},
   "outputs": [
    {
     "name": "stdout",
     "output_type": "stream",
     "text": [
      "Converted 00_core.ipynb.\n",
      "Converted 01_format_file.ipynb.\n",
      "Converted index.ipynb.\n"
     ]
    }
   ],
   "source": [
    "#hide\n",
    "from nbdev.export import notebook2script\n",
    "notebook2script()"
   ]
  }
 ],
 "metadata": {
  "kernelspec": {
   "display_name": "Python [conda env:sql-formatter-dev] *",
   "language": "python",
   "name": "conda-env-sql-formatter-dev-py"
  }
 },
 "nbformat": 4,
 "nbformat_minor": 2
}
