{
 "cells": [
  {
   "cell_type": "code",
   "execution_count": null,
   "metadata": {},
   "outputs": [
    {
     "name": "stdout",
     "output_type": "stream",
     "text": [
      "The autoreload extension is already loaded. To reload it, use:\n",
      "  %reload_ext autoreload\n"
     ]
    }
   ],
   "source": [
    "#hide\n",
    "%load_ext autoreload\n",
    "%autoreload 2\n",
    "%config Completer.use_jedi = False  # workaround for buggy jedi"
   ]
  },
  {
   "cell_type": "code",
   "execution_count": null,
   "metadata": {},
   "outputs": [],
   "source": [
    "# default_exp core"
   ]
  },
  {
   "cell_type": "code",
   "execution_count": null,
   "metadata": {},
   "outputs": [],
   "source": [
    "#export\n",
    "import re\n",
    "from sql_formatter.utils import *"
   ]
  },
  {
   "cell_type": "markdown",
   "metadata": {},
   "source": [
    "# core\n",
    "\n",
    "> Core functions for SQL formatting"
   ]
  },
  {
   "cell_type": "code",
   "execution_count": null,
   "metadata": {},
   "outputs": [],
   "source": [
    "#hide\n",
    "from nbdev.showdoc import *"
   ]
  },
  {
   "cell_type": "markdown",
   "metadata": {},
   "source": [
    "## General formatting"
   ]
  },
  {
   "cell_type": "markdown",
   "metadata": {},
   "source": [
    "Basic formatting for SQL queries. Let's use an example throughout the core module.\n",
    "\n",
    "This is how an input could look like"
   ]
  },
  {
   "cell_type": "code",
   "execution_count": null,
   "metadata": {},
   "outputs": [],
   "source": [
    "example_sql = \"\"\"\n",
    "create or replace table mytable as -- Mytable example\n",
    "/* multi line\n",
    "   comment */\n",
    "seLecT a.asdf, b.qwer, -- some comment here\n",
    "/* and here is a line comment inside select */\n",
    "substr(c.asdf, 1, 2) as substr_asdf, \n",
    "/* some commenT there */\n",
    "case when a.asdf= 1 then 'b' /* here a case comment */\n",
    "when b.qwer =2 then 'c' else 'd' end as new_field, -- Some comment\n",
    "b.asdf2 frOm table1 as a leFt join \n",
    "table2 as b -- and here a comment\n",
    "    on a.asdf = b.asdf  /* joiN this way */\n",
    "    inner join table3 as c\n",
    "on a.asdf=c.asdf\n",
    "whEre a.asdf= 1 -- comment this\n",
    "anD b.qwer =2 and a.asdf<=1 --comment that\n",
    "or b.qwer>=5\n",
    "groUp by a.asdf\n",
    "\"\"\""
   ]
  },
  {
   "cell_type": "markdown",
   "metadata": {},
   "source": [
    "and this is how we would like to format it"
   ]
  },
  {
   "cell_type": "code",
   "execution_count": null,
   "metadata": {},
   "outputs": [],
   "source": [
    "expected_sql = \"\"\"CREATE OR REPLACE TABLE mytable AS -- Mytable example\n",
    "/* multi line\n",
    "comment */\n",
    "SELECT a.asdf,\n",
    "       b.qwer, -- some comment here\n",
    "       /* and here is a line comment inside select */\n",
    "       substr(c.asdf, 1, 2) as substr_asdf,\n",
    "       /* some commenT there */\n",
    "       case when a.asdf = 1 then 'b' /* here a case comment */\n",
    "            when b.qwer = 2 then 'c'\n",
    "            else 'd' end as new_field, -- Some comment\n",
    "       b.asdf2\n",
    "FROM   table1 as a\n",
    "    LEFT JOIN table2 as b -- and here a comment\n",
    "        ON a.asdf = b.asdf /* joiN this way */\n",
    "    INNER JOIN table3 as c\n",
    "        ON a.asdf = c.asdf\n",
    "WHERE  a.asdf = 1 -- comment this\n",
    "   and b.qwer = 2\n",
    "   and a.asdf <= 1 --comment that\n",
    "    or b.qwer >= 5\n",
    "GROUP BY a.asdf;\"\"\""
   ]
  },
  {
   "cell_type": "markdown",
   "metadata": {},
   "source": [
    "Let's start by defining the main statements. The main statements all require a new line and should be in upper case"
   ]
  },
  {
   "cell_type": "code",
   "execution_count": null,
   "metadata": {},
   "outputs": [],
   "source": [
    "#export\n",
    "MAIN_STATEMENTS = [\n",
    "    \"create.*table\",\n",
    "    \"create.*view\",\n",
    "    \"select distinct\",\n",
    "    \"select\",\n",
    "    \"from\",\n",
    "    \"left join\",\n",
    "    \"inner join\",\n",
    "    \"outer join\",\n",
    "    \"right join\",\n",
    "    \"union\",\n",
    "    \"on\",\n",
    "    \"where\",\n",
    "    \"group by\",\n",
    "    \"order by\",\n",
    "    \"over\",  # special case: no newline, only capitalized\n",
    "    \"partition by\",  # special case: no newline, only capitalized\n",
    "]"
   ]
  },
  {
   "cell_type": "markdown",
   "metadata": {},
   "source": [
    "> Remark: For OVER we only capitalize without adding a newline"
   ]
  },
  {
   "cell_type": "markdown",
   "metadata": {},
   "source": [
    "We need to remove newlines and multiple spaces because the may be arbitrary. \n",
    "\n",
    "Before removing newlines we also need to mark the end of coments because we would not know where they end\n",
    "\n",
    "We also mark the begin of comments /* */ if they are in a newline"
   ]
  },
  {
   "cell_type": "code",
   "execution_count": null,
   "metadata": {},
   "outputs": [],
   "source": [
    "#export\n",
    "def clean_query(s):\n",
    "    \"Remove redundant whitespaces and mark comments boundaries and remove newlines afterwards in query `s`\"\n",
    "    s = remove_redundant_whitespaces(s)  # remove too many whitespaces but no newlines\n",
    "    s = mark_comments(s)  # mark comments with special tokens [C] and [CS]\n",
    "    s = replace_newline_chars(s)  # remove newlines but not in the comments\n",
    "    s = remove_whitespaces_newline(s)  # remove whitespaces after and before newline\n",
    "    s = remove_whitespaces_comments(s)  # remove whitespaces after and before [C] and [CS]\n",
    "    s = remove_redundant_whitespaces(s)  # remove too many whitespaces but no newlines\n",
    "    return s"
   ]
  },
  {
   "cell_type": "code",
   "execution_count": null,
   "metadata": {},
   "outputs": [
    {
     "name": "stdout",
     "output_type": "stream",
     "text": [
      "SELECT asdf, qwer, qwer1, qwer2 FROM table1\n"
     ]
    }
   ],
   "source": [
    "assert_and_print(\n",
    "    clean_query(\n",
    "\"\"\"\n",
    "SELECT asdf, qwer,\n",
    " qwer1,    qwer2\n",
    "FROM table1\n",
    "\"\"\"\n",
    "    ), \"SELECT asdf, qwer, qwer1, qwer2 FROM table1\"\n",
    ")"
   ]
  },
  {
   "cell_type": "markdown",
   "metadata": {},
   "source": [
    "With usual comments"
   ]
  },
  {
   "cell_type": "code",
   "execution_count": null,
   "metadata": {},
   "outputs": [
    {
     "name": "stdout",
     "output_type": "stream",
     "text": [
      "SELECT asdf, qwer, -- some comment[C]qwer1, qwer2 FROM table1 WHERE asdf=1\n"
     ]
    }
   ],
   "source": [
    "assert_and_print(\n",
    "    clean_query(\"\"\"\n",
    "SELECT asdf, qwer, -- some comment\n",
    " qwer1,    qwer2\n",
    "FROM table1\n",
    "WHERE asdf=1\n",
    "\"\"\"), \"SELECT asdf, qwer, -- some comment[C]qwer1, qwer2 FROM table1 WHERE asdf=1\"\n",
    ")"
   ]
  },
  {
   "cell_type": "markdown",
   "metadata": {},
   "source": [
    "With other comment form"
   ]
  },
  {
   "cell_type": "code",
   "execution_count": null,
   "metadata": {},
   "outputs": [
    {
     "name": "stdout",
     "output_type": "stream",
     "text": [
      "SELECT asdf, qwer, /* another comment */[C]qwer1, qwer2 FROM table1 WHERE asdf=1\n"
     ]
    }
   ],
   "source": [
    "assert_and_print(\n",
    "    clean_query(\"\"\"\n",
    "SELECT asdf, qwer, /*  another comment */\n",
    "qwer1,    qwer2\n",
    "FROM table1\n",
    "WHERE asdf=1\n",
    "\"\"\"), \"SELECT asdf, qwer, /* another comment */[C]qwer1, qwer2 FROM table1 WHERE asdf=1\"\n",
    ")"
   ]
  },
  {
   "cell_type": "code",
   "execution_count": null,
   "metadata": {},
   "outputs": [
    {
     "name": "stdout",
     "output_type": "stream",
     "text": [
      "SELECT asdf, qwer, /* another comment */[C]qwer1,[CS]/* inline comment */[C]qwer2 FROM table1 WHERE asdf=1\n"
     ]
    }
   ],
   "source": [
    "assert_and_print(\n",
    "    clean_query(\n",
    "\"\"\"\n",
    "SELECT asdf, qwer, /*  another comment */\n",
    "qwer1,    \n",
    "/* inline comment */\n",
    "qwer2\n",
    "FROM table1\n",
    "WHERE asdf=1\n",
    "\"\"\"\n",
    "    ), \n",
    "    \"SELECT asdf, qwer, /* another comment */[C]qwer1,[CS]/* inline comment */[C]qwer2 FROM table1 WHERE asdf=1\"\n",
    ")"
   ]
  },
  {
   "cell_type": "code",
   "execution_count": null,
   "metadata": {},
   "outputs": [
    {
     "name": "stdout",
     "output_type": "stream",
     "text": [
      "create or replace my_table as[CS]/* some comment\n",
      "some new comment line */[C]select asdf, qwer, qwer2 from table1\n"
     ]
    }
   ],
   "source": [
    "assert_and_print(\n",
    "    clean_query(\n",
    "\"\"\"\n",
    "create or replace my_table as\n",
    "/* some comment\n",
    "   some new comment line */\n",
    "select asdf,\n",
    "qwer,   qwer2\n",
    "\n",
    "from table1\n",
    "\"\"\"\n",
    "    ),\n",
    "\"\"\"create or replace my_table as[CS]/* some comment\n",
    "some new comment line */[C]select asdf, qwer, qwer2 from table1\"\"\"\n",
    ")"
   ]
  },
  {
   "cell_type": "markdown",
   "metadata": {},
   "source": [
    "Next we would like to have each main statement in a separate line and in uppercase. The function below get somewhat convoluted because we have to take care of not formatting main statements in the comments like /* comment inside **select** */"
   ]
  },
  {
   "cell_type": "code",
   "execution_count": null,
   "metadata": {},
   "outputs": [],
   "source": [
    "#export\n",
    "def preformat_statements(s):\n",
    "    \"\"\"Write a newline in `s` for all `statements` and\n",
    "    uppercase them but not if they are inside a comment\"\"\"\n",
    "    statements = MAIN_STATEMENTS\n",
    "    s = clean_query(s)  # clean query and mark comments\n",
    "    # initialize container\n",
    "    split_select_out = []\n",
    "    # isolate SELECT statement\n",
    "    split_select = split_by_select_from(s)\n",
    "    split_c_out = []\n",
    "    for line in split_select:\n",
    "        split_c = re.split(r\"((?:\\[C\\]|\\[CS\\]))\", line)  # split by comment marker\n",
    "        split_c = [elem for elem in split_c if elem != \"\"]\n",
    "        split_cn_out = []\n",
    "        for uline in split_c:\n",
    "            split_cn = re.split(\"((?:--.*|\\/\\*.*\\*\\/))\", uline)  # split by comment / no comment\n",
    "            split_cn = [elem for elem in split_cn if elem != \"\"]\n",
    "            for statement in statements:\n",
    "                if re.match(\"^select\", line, flags=re.I):\n",
    "                    split_cn = [  # update list\n",
    "                        re.sub(rf\"\\s*\\b({statement})\\b\", \"\\n\" + statement.upper(), sline, flags=re.I)\n",
    "                        if not re.search(\"(?:--.*|\\/\\*.*\\*\\/)\", sline) and statement == \"select\"\n",
    "                        else re.sub(rf\"\\b({statement})\\b\", statement.upper(), sline, flags=re.I)\n",
    "                        if not re.search(\"(?:--.*|\\/\\*.*\\*\\/)\", sline)\n",
    "                        else sline\n",
    "                        for sline in split_cn\n",
    "                    ]\n",
    "                else:\n",
    "                    if re.match(\"^create\", statement, flags=re.I):  # special case CREATE with AS capitalize as well\n",
    "                        split_cn = [  # update list\n",
    "                            re.sub(rf\"\\s*({statement} )(.*) as\\b\", lambda pat: \"\\n\" + pat.group(1).upper() + pat.group(2) + \" AS\", sline, flags=re.I)\n",
    "                            if not re.search(\"(?:--.*|\\/\\*.*\\*\\/)\", sline)\n",
    "                            else sline\n",
    "                            for sline in split_cn\n",
    "                        ]\n",
    "                    else:  # normal main statements\n",
    "                        split_cn = [  # update list\n",
    "                            re.sub(rf\"\\s*\\b({statement})\\b\", \"\\n\" + statement.upper(), sline, flags=re.I)\n",
    "                            if not re.search(\"(?:--.*|\\/\\*.*\\*\\/)\", sline)\n",
    "                            else sline\n",
    "                            for sline in split_cn\n",
    "                        ]\n",
    "            split_cn_out.append(\"\".join(split_cn))\n",
    "        split_c_out.append(\"\".join(split_cn_out))\n",
    "    split_select_out.append(\"\".join(split_c_out))\n",
    "    s = \"\".join(split_select_out)\n",
    "    s = remove_whitespaces_newline(s)  # remove whitespaces before and after newline\n",
    "    return s"
   ]
  },
  {
   "cell_type": "code",
   "execution_count": null,
   "metadata": {},
   "outputs": [
    {
     "name": "stdout",
     "output_type": "stream",
     "text": [
      "\n",
      "SELECT asdf, qwer as new_var\n",
      "FROM table1\n",
      "WHERE asdf = 1\n"
     ]
    }
   ],
   "source": [
    "assert_and_print(\n",
    "    preformat_statements(\"select asdf, qwer as new_var from table1 where asdf = 1\"),\n",
    "    \"\\nSELECT asdf, qwer as new_var\\nFROM table1\\nWHERE asdf = 1\"\n",
    ")"
   ]
  },
  {
   "cell_type": "code",
   "execution_count": null,
   "metadata": {},
   "outputs": [
    {
     "name": "stdout",
     "output_type": "stream",
     "text": [
      "\n",
      "SELECT asdf,[CS]/* some comment inside select */[C]qwer\n",
      "FROM table1\n",
      "WHERE asdf = 1\n"
     ]
    }
   ],
   "source": [
    "assert_and_print(preformat_statements(\"\"\"\n",
    "seLect asdf,\n",
    "       /* some comment inside select */\n",
    "       qwer\n",
    "From   table1 where  asdf = 1\n",
    "\"\"\"),\n",
    "    \"\\nSELECT asdf,[CS]/* some comment inside select */[C]qwer\\nFROM table1\\nWHERE asdf = 1\"\n",
    ")"
   ]
  },
  {
   "cell_type": "code",
   "execution_count": null,
   "metadata": {},
   "outputs": [
    {
     "name": "stdout",
     "output_type": "stream",
     "text": [
      "\n",
      "SELECT asdf, /* some comment inside select */[C]qwer\n",
      "FROM table1\n",
      "WHERE asdf = 1\n"
     ]
    }
   ],
   "source": [
    "assert_and_print(\n",
    "    preformat_statements(\"\"\"\n",
    "seLect asdf, /* some comment inside select */\n",
    "       qwer\n",
    "From   table1 where  asdf = 1\n",
    "\"\"\"),\n",
    "    \"\\nSELECT asdf, /* some comment inside select */[C]qwer\\nFROM table1\\nWHERE asdf = 1\"\n",
    ")"
   ]
  },
  {
   "cell_type": "code",
   "execution_count": null,
   "metadata": {},
   "outputs": [
    {
     "name": "stdout",
     "output_type": "stream",
     "text": [
      "\n",
      "CREATE OR REPLACE VIEW my_view AS\n",
      "SELECT asdf,[CS]/* some comment inside select */[C]qwer\n",
      "FROM table1\n",
      "WHERE asdf = 1\n"
     ]
    }
   ],
   "source": [
    "assert_and_print(\n",
    "    preformat_statements(\"\"\"\n",
    "create or replace view my_view as\n",
    "seLect asdf,\n",
    "       /* some comment inside select */\n",
    "       qwer\n",
    "From   table1 where  asdf = 1\n",
    "\"\"\"),\n",
    "    \"\\nCREATE OR REPLACE VIEW my_view AS\\nSELECT asdf,[CS]/* some comment inside select */[C]qwer\\nFROM table1\\nWHERE asdf = 1\"\n",
    ")"
   ]
  },
  {
   "cell_type": "code",
   "execution_count": null,
   "metadata": {},
   "outputs": [
    {
     "name": "stdout",
     "output_type": "stream",
     "text": [
      "\n",
      "CREATE OR REPLACE VIEW my_view AS\n",
      "SELECT asdf, qwer_function, qwer\n",
      "FROM table1\n",
      "WHERE asdf = 1\n"
     ]
    }
   ],
   "source": [
    "assert_and_print(\n",
    "    preformat_statements(\"\"\"\n",
    "create or replace view my_view as\n",
    "seLect asdf,\n",
    "       qwer_function,\n",
    "       qwer\n",
    "From   table1 where  asdf = 1\n",
    "\"\"\"),\n",
    "    \"\\nCREATE OR REPLACE VIEW my_view AS\\nSELECT asdf, qwer_function, qwer\\nFROM table1\\nWHERE asdf = 1\"\n",
    ")"
   ]
  },
  {
   "cell_type": "code",
   "execution_count": null,
   "metadata": {},
   "outputs": [
    {
     "name": "stdout",
     "output_type": "stream",
     "text": [
      "\n",
      "CREATE OR REPLACE VIEW my_view AS\n",
      "SELECT asdf, qwer_function, lead(asdf) OVER (PARTITION BY asdf ORDER BY qwer), qwer2\n",
      "FROM table1\n",
      "WHERE asdf = 1\n",
      "ORDER BY asdf\n"
     ]
    }
   ],
   "source": [
    "assert_and_print(\n",
    "    preformat_statements(\"\"\"\n",
    "create or replace view my_view as\n",
    "seLect asdf, qwer_function,\n",
    "       lead(asdf) over (Partition By asdf order BY qwer),\n",
    "    qwer2\n",
    "From   table1 where  asdf = 1 order by asdf\n",
    "\"\"\"),\n",
    "    \"\"\"\n",
    "CREATE OR REPLACE VIEW my_view AS\n",
    "SELECT asdf, qwer_function, lead(asdf) OVER (PARTITION BY asdf ORDER BY qwer), qwer2\n",
    "FROM table1\n",
    "WHERE asdf = 1\n",
    "ORDER BY asdf\"\"\"\n",
    ")"
   ]
  },
  {
   "cell_type": "code",
   "execution_count": null,
   "metadata": {},
   "outputs": [
    {
     "name": "stdout",
     "output_type": "stream",
     "text": [
      "\n",
      "CREATE OR REPLACE TABLE mytable AS -- Mytable example[C]\n",
      "SELECT a.asdf, b.qwer, -- some comment here[C][CS]/* and here is a line comment inside select */[C]substr(c.asdf, 1, 2) as substr_asdf\n"
     ]
    }
   ],
   "source": [
    "assert_and_print(\n",
    "    preformat_statements(\n",
    "\"\"\"\n",
    "create or replace table mytable as -- Mytable example\n",
    "seLecT a.asdf, b.qwer, -- some comment here\n",
    "/* and here is a line comment inside select */\n",
    "substr(c.asdf, 1, 2) as substr_asdf\n",
    "\"\"\"\n",
    "    ),\n",
    "\"\"\"\n",
    "CREATE OR REPLACE TABLE mytable AS -- Mytable example[C]\n",
    "SELECT a.asdf, b.qwer, -- some comment here[C][CS]/* and here is a line comment inside select */[C]substr(c.asdf, 1, 2) as substr_asdf\n",
    "\"\"\".rstrip()\n",
    ")"
   ]
  },
  {
   "cell_type": "code",
   "execution_count": null,
   "metadata": {},
   "outputs": [
    {
     "name": "stdout",
     "output_type": "stream",
     "text": [
      "\n",
      "CREATE TABLE mytable AS -- Mytable example[C]\n",
      "SELECT a.asdf, b.qwer, -- some comment here[C][CS]/* and here is a line comment inside select */[C]substr(c.asdf, 1, 2) as substr_asdf\n"
     ]
    }
   ],
   "source": [
    "assert_and_print(\n",
    "    preformat_statements(\n",
    "\"\"\"\n",
    "create table mytable as -- Mytable example\n",
    "seLecT a.asdf, b.qwer, -- some comment here\n",
    "/* and here is a line comment inside select */\n",
    "substr(c.asdf, 1, 2) as substr_asdf\n",
    "\"\"\"\n",
    "    ),\n",
    "\"\"\"\n",
    "CREATE TABLE mytable AS -- Mytable example[C]\n",
    "SELECT a.asdf, b.qwer, -- some comment here[C][CS]/* and here is a line comment inside select */[C]substr(c.asdf, 1, 2) as substr_asdf\n",
    "\"\"\".rstrip()\n",
    ")"
   ]
  },
  {
   "cell_type": "code",
   "execution_count": null,
   "metadata": {},
   "outputs": [
    {
     "name": "stdout",
     "output_type": "stream",
     "text": [
      "\n",
      "CREATE OR REPLACE TABLE my_table AS -- mytable[C]\n",
      "SELECT DISTINCT asdf, qwer, -- some comment[C]\n",
      "FROM table1\n"
     ]
    }
   ],
   "source": [
    "assert_and_print(\n",
    "    preformat_statements(\n",
    "\"\"\"\n",
    "create or replace table  my_table as -- mytable\n",
    "select distinct asdf, qwer, -- some comment\n",
    "from table1\n",
    "\"\"\"\n",
    "    ),\n",
    "\"\"\"\n",
    "CREATE OR REPLACE TABLE my_table AS -- mytable[C]\n",
    "SELECT DISTINCT asdf, qwer, -- some comment[C]\n",
    "FROM table1\n",
    "\"\"\".rstrip()\n",
    ")"
   ]
  },
  {
   "cell_type": "code",
   "execution_count": null,
   "metadata": {},
   "outputs": [
    {
     "name": "stdout",
     "output_type": "stream",
     "text": [
      "\n",
      "CREATE OR REPLACE TRANSIENT TABLE my_table AS -- mytable[C]\n",
      "SELECT DISTINCT asdf, qwer, -- some comment[C]\n",
      "FROM table1\n"
     ]
    }
   ],
   "source": [
    "assert_and_print(\n",
    "    preformat_statements(\n",
    "\"\"\"\n",
    "create or replace transient table  my_table as -- mytable\n",
    "select distinct asdf, qwer, -- some comment\n",
    "from table1\n",
    "\"\"\"\n",
    "    ),\n",
    "\"\"\"\n",
    "CREATE OR REPLACE TRANSIENT TABLE my_table AS -- mytable[C]\n",
    "SELECT DISTINCT asdf, qwer, -- some comment[C]\n",
    "FROM table1\n",
    "\"\"\".rstrip()\n",
    ")"
   ]
  },
  {
   "cell_type": "code",
   "execution_count": null,
   "metadata": {},
   "outputs": [
    {
     "name": "stdout",
     "output_type": "stream",
     "text": [
      "\n",
      "CREATE VIEW my_table AS -- mytable[C]\n",
      "SELECT DISTINCT asdf, qwer, -- some comment[C]\n",
      "FROM table1\n"
     ]
    }
   ],
   "source": [
    "assert_and_print(\n",
    "    preformat_statements(\n",
    "\"\"\"\n",
    "Create view  my_table as -- mytable\n",
    "select distinct asdf, qwer, -- some comment\n",
    "from table1\n",
    "\"\"\"\n",
    "    ),\n",
    "\"\"\"\n",
    "CREATE VIEW my_table AS -- mytable[C]\n",
    "SELECT DISTINCT asdf, qwer, -- some comment[C]\n",
    "FROM table1\n",
    "\"\"\".rstrip()\n",
    ")"
   ]
  },
  {
   "cell_type": "code",
   "execution_count": null,
   "metadata": {},
   "outputs": [
    {
     "name": "stdout",
     "output_type": "stream",
     "text": [
      "\n",
      "CREATE OR REPLACE TABLE mytable AS -- Mytable example[C][CS]/* multi line\n",
      "comment */[C]\n",
      "SELECT a.asdf, b.qwer, -- some comment here[C][CS]/* and here is a line comment inside select */[C]substr(c.asdf, 1, 2) as substr_asdf,[CS]/* some commenT there */[C]case when a.asdf= 1 then 'b' /* here a case comment */[C]when b.qwer =2 then 'c' else 'd' end as new_field, -- Some comment[C]b.asdf2\n",
      "FROM table1 as a\n",
      "LEFT JOIN table2 as b -- and here a comment[C]\n",
      "ON a.asdf = b.asdf /* joiN this way */[C]\n",
      "INNER JOIN table3 as c\n",
      "ON a.asdf=c.asdf\n",
      "WHERE a.asdf= 1 -- comment this[C]anD b.qwer =2 and a.asdf<=1 --comment that[C]or b.qwer>=5\n",
      "GROUP BY a.asdf\n"
     ]
    }
   ],
   "source": [
    "print(preformat_statements(example_sql))"
   ]
  },
  {
   "cell_type": "markdown",
   "metadata": {},
   "source": [
    "We would like to have every non capital statement lower cased but let comments untouched"
   ]
  },
  {
   "cell_type": "code",
   "execution_count": null,
   "metadata": {},
   "outputs": [],
   "source": [
    "#export\n",
    "def lowercase_query(s):\n",
    "    \"Lowercase query but let comments untouched\"\n",
    "    split_s = s.split(\"\\n\")  # split by newline\n",
    "    split_s = [\n",
    "        line if re.match(r\"^--\", line) # comment at the beginning\n",
    "        else re.sub(r\"(.*)(--.*)$\", lambda pat: pat.group(1).lower() + pat.group(2), line)\n",
    "        if re.match(r\".*--\", line) # comment in between\n",
    "        else re.sub(r\"(.*)(\\/\\*.*\\*\\/)(.*)$\", \n",
    "                    lambda pat: pat.group(1).lower() + pat.group(2) + pat.group(3).lower(), line)\n",
    "        if re.match(r\".*\\/\\*.*\\*\\/.*\", line) # comment in between\n",
    "        else line.lower()  # no comment\n",
    "        for line in split_s\n",
    "    ]\n",
    "    s = \"\\n\".join(split_s)\n",
    "    return s    "
   ]
  },
  {
   "cell_type": "code",
   "execution_count": null,
   "metadata": {},
   "outputs": [
    {
     "name": "stdout",
     "output_type": "stream",
     "text": [
      "\n",
      "--- My nice view 1 --\n",
      "create or replace view view_1 as\n",
      "select asdf, -- Some Comment\n",
      "qwer,\n",
      "qwerty, -- Some other comment\n",
      "from table1\n",
      "\n"
     ]
    }
   ],
   "source": [
    "assert_and_print(\n",
    "    lowercase_query(\"\"\"\n",
    "--- My nice view 1 --\n",
    "Create or Replace VieW view_1 as\n",
    "seLect asdf, -- Some Comment\n",
    "qwER,\n",
    "qwerTy, -- Some other comment\n",
    "FROM table1\n",
    "\"\"\"),\n",
    "    \"\"\"\n",
    "--- My nice view 1 --\n",
    "create or replace view view_1 as\n",
    "select asdf, -- Some Comment\n",
    "qwer,\n",
    "qwerty, -- Some other comment\n",
    "from table1\n",
    "\"\"\"\n",
    ")"
   ]
  },
  {
   "cell_type": "code",
   "execution_count": null,
   "metadata": {},
   "outputs": [
    {
     "name": "stdout",
     "output_type": "stream",
     "text": [
      "\n",
      "-- Some comment --\n",
      "create or replace table as\n",
      "select asdf,\n",
      "/* sOme CommEnt */\n",
      "qwer\n",
      "from table1\n",
      "\n"
     ]
    }
   ],
   "source": [
    "assert_and_print(\n",
    "    lowercase_query(\"\"\"\n",
    "-- Some comment --\n",
    "Create Or rePlace tablE aS\n",
    "sElEct asdf,\n",
    "/* sOme CommEnt */\n",
    "qwer\n",
    "FroM table1\n",
    "\"\"\"),\n",
    "\"\"\"\n",
    "-- Some comment --\n",
    "create or replace table as\n",
    "select asdf,\n",
    "/* sOme CommEnt */\n",
    "qwer\n",
    "from table1\n",
    "\"\"\"\n",
    ")"
   ]
  },
  {
   "cell_type": "markdown",
   "metadata": {},
   "source": [
    "## Specific formatting and validation\n",
    "\n",
    "Now we will format each statement individually"
   ]
  },
  {
   "cell_type": "markdown",
   "metadata": {},
   "source": [
    "#### PARTITION BY\n",
    "\n",
    "Within SELECT"
   ]
  },
  {
   "cell_type": "code",
   "execution_count": null,
   "metadata": {},
   "outputs": [],
   "source": [
    "#export\n",
    "def format_partition_by(s, base_indentation):\n",
    "    \"Format PARTITION BY line in SELECT (DISTINCT)\"\n",
    "    split_s = re.split(\"(partition by.*)\", s, flags=re.I)  # split PARTITION BY\n",
    "    split_s = [sp for sp in split_s if sp != \"\"]\n",
    "    begin_s = split_s[0]\n",
    "    partition_by = split_s[1]\n",
    "    indentation = base_indentation + len(begin_s) + 13\n",
    "    # add newline after each comma (no comments) and indentation\n",
    "    partition_by = add_newline_indentation(partition_by, indentation=indentation)\n",
    "    # add new line and indentation after order by\n",
    "    partition_by = re.sub(\n",
    "        r\"\\s(order by.*)\", \"\\n\" + \" \" * (base_indentation + len(begin_s)) + r\"\\1\", \n",
    "        partition_by, \n",
    "        flags=re.I\n",
    "    )\n",
    "    # combine begin of string with formatted partition by\n",
    "    s = begin_s + partition_by\n",
    "    s = s.strip()\n",
    "    return s"
   ]
  },
  {
   "cell_type": "markdown",
   "metadata": {},
   "source": [
    "### SELECT"
   ]
  },
  {
   "cell_type": "code",
   "execution_count": null,
   "metadata": {},
   "outputs": [],
   "source": [
    "#export\n",
    "def format_select(s):\n",
    "    \"Format SELECT statement line `s`\"\n",
    "    # remove [C] at end of SELECT\n",
    "    if re.search(r\"\\[C\\]$\", s):\n",
    "        s = re.sub(r\"\\[C\\]$\", \"\", s)\n",
    "    # if comma is found at the end of select statement then remove comma\n",
    "    if re.search(r\"[\\w\\d]+,\\s*$\", s, flags=re.I):\n",
    "        s = re.sub(r\"([\\w\\d]+)(,+)(\\s*)$\", r\"\\1\", s, flags=re.I)\n",
    "    elif re.search(r\"[\\w\\d]+,\\s*--[\\w\\d\\s]*$\", s, flags=re.I):\n",
    "        s = re.sub(r\"([\\w\\d]+)(,+)(\\s*)(--.*)$\", r\"\\1 \\4\", s, flags=re.I)\n",
    "    elif re.search(r\"[\\w\\d]+,\\s*\\/\\*.*\\*\\/$\", s, flags=re.I):\n",
    "        s = re.sub(r\"([\\w\\d]+)(,+)(\\s*)(\\/\\*.*\\*\\/)$\", r\"\\1 \\4\", s, flags=re.I)\n",
    "    s = add_whitespaces_between_symbols(s)  # add whitespaces between symbols\n",
    "    # check whether is is a SELECT DISTINCT\n",
    "    if re.search(\"^select distinct\", s):\n",
    "        indentation = 16\n",
    "    else:\n",
    "        indentation = 7\n",
    "    s = add_newline_indentation(s, indentation=indentation)  # add newline after each comma (no comments) and indentation\n",
    "    s = re.sub(r\"\\[C\\]\\[CS\\]\", \"[C]\", s)  # replace [C][CS] by [C]\n",
    "    s = re.sub(r\"\\[C\\]\", \"\\n\" + \" \" * indentation, s)  # replace [C] by newline\n",
    "    s = re.sub(r\"\\[CS\\]\", \"\\n\" + \" \" * indentation, s)  # replace [CS] by newline    \n",
    "    s = re.sub(r\"(then.*?) ((?:when|else).*?)\", r\"\\1\\n\\2\", s)  # add newline before when or else\n",
    "    split_s = s.split(\"\\n\")\n",
    "    split_s = [\n",
    "        line if not re.match(\"^(?:when|else)\", line.strip())\n",
    "        else \" \" * 12 + line.strip()\n",
    "        for line in split_s\n",
    "    ]\n",
    "    s = \"\\n\".join(split_s)\n",
    "    s = s.strip()\n",
    "    # format partition by\n",
    "    begin_s = s[0:indentation]\n",
    "    split_s = s[indentation:].split(\"\\n\" + (\" \" * indentation))\n",
    "    split_s = [\n",
    "        format_partition_by(line, base_indentation=indentation)\n",
    "        if re.search(\"partition by\", line, flags=re.I)\n",
    "        else line\n",
    "        for line in split_s\n",
    "    ]\n",
    "    s = begin_s + (\"\\n\" + (\" \" * indentation)).join(split_s)\n",
    "    return s"
   ]
  },
  {
   "cell_type": "markdown",
   "metadata": {},
   "source": [
    "Simple usage without comments"
   ]
  },
  {
   "cell_type": "code",
   "execution_count": null,
   "metadata": {},
   "outputs": [
    {
     "name": "stdout",
     "output_type": "stream",
     "text": [
      "select aSdf,\n",
      "       cast(qweR as numeric),\n",
      "       Asdf,\n",
      "       qwer1\n"
     ]
    }
   ],
   "source": [
    "assert_and_print(\n",
    "    format_select(\"select aSdf, cast(qweR as numeric),  Asdf,qwer1\"),\n",
    "    \"select aSdf,\\n       cast(qweR as numeric),\\n       Asdf,\\n       qwer1\"\n",
    ")"
   ]
  },
  {
   "cell_type": "markdown",
   "metadata": {},
   "source": [
    "More advanced usage with comments in SELECT"
   ]
  },
  {
   "cell_type": "code",
   "execution_count": null,
   "metadata": {},
   "outputs": [
    {
     "name": "stdout",
     "output_type": "stream",
     "text": [
      "select asdf,\n",
      "       cast(qwer as numeric), -- some comment\n",
      "       ASDF,\n",
      "       qwer1\n"
     ]
    }
   ],
   "source": [
    "assert_and_print(\n",
    "    format_select(\"select asdf, cast(qwer as numeric), -- some comment[C]ASDF, qwer1\"),\n",
    "    \"select asdf,\\n       cast(qwer as numeric), -- some comment\\n       ASDF,\\n       qwer1\"\n",
    ")"
   ]
  },
  {
   "cell_type": "code",
   "execution_count": null,
   "metadata": {},
   "outputs": [
    {
     "name": "stdout",
     "output_type": "stream",
     "text": [
      "select asdf,\n",
      "       cast(qwer as numeric), -- some comment\n",
      "       ASDF,\n",
      "       qwer1\n"
     ]
    }
   ],
   "source": [
    "assert_and_print(\n",
    "    format_select(\"select asdf, cast(qwer as numeric), -- some comment[C]ASDF, qwer1\"),\n",
    "    \"select asdf,\\n       cast(qwer as numeric), -- some comment\\n       ASDF,\\n       qwer1\"\n",
    ")"
   ]
  },
  {
   "cell_type": "markdown",
   "metadata": {},
   "source": [
    "Correcting common mistake on the flow: comma at end of SELECT"
   ]
  },
  {
   "cell_type": "code",
   "execution_count": null,
   "metadata": {},
   "outputs": [
    {
     "name": "stdout",
     "output_type": "stream",
     "text": [
      "select qwer1,\n",
      "       asdf\n"
     ]
    }
   ],
   "source": [
    "assert_and_print(\n",
    "    format_select(\"select qwer1,   asdf,\"),\n",
    "    \"select qwer1,\\n       asdf\"\n",
    ")"
   ]
  },
  {
   "cell_type": "code",
   "execution_count": null,
   "metadata": {},
   "outputs": [
    {
     "name": "stdout",
     "output_type": "stream",
     "text": [
      "SELECT a.asdf,\n",
      "       b.qwer, -- some comment here\n",
      "       /* and here is a line comment inside select */\n",
      "       qwer2\n"
     ]
    }
   ],
   "source": [
    "assert_and_print(\n",
    "    format_select(\"SELECT a.asdf, b.qwer, -- some comment here[C][CS]/* and here is a line comment inside select */[C]qwer2\"),\n",
    "\"\"\"\n",
    "SELECT a.asdf,\n",
    "       b.qwer, -- some comment here\n",
    "       /* and here is a line comment inside select */\n",
    "       qwer2\n",
    "\"\"\".strip()\n",
    ")"
   ]
  },
  {
   "cell_type": "code",
   "execution_count": null,
   "metadata": {},
   "outputs": [
    {
     "name": "stdout",
     "output_type": "stream",
     "text": [
      "SELECT a.asdf, \n",
      "       /* and here is a line comment inside select */\n"
     ]
    }
   ],
   "source": [
    "assert_and_print(\n",
    "    format_select(\"SELECT a.asdf, [CS]/* and here is a line comment inside select */\"),\n",
    "\"\"\"\n",
    "SELECT a.asdf, \n",
    "       /* and here is a line comment inside select */\n",
    "\"\"\".strip()\n",
    ")"
   ]
  },
  {
   "cell_type": "markdown",
   "metadata": {},
   "source": [
    "Correcting comma at end of SELECT but having a comment in the last field"
   ]
  },
  {
   "cell_type": "code",
   "execution_count": null,
   "metadata": {},
   "outputs": [
    {
     "name": "stdout",
     "output_type": "stream",
     "text": [
      "select qwer1 as qwer2,\n",
      "       asdf as asdf3 -- this field\n"
     ]
    }
   ],
   "source": [
    "assert_and_print(\n",
    "    format_select(\"select qwer1 as qwer2,   asdf as asdf3, -- this field\"),\n",
    "    \"select qwer1 as qwer2,\\n       asdf as asdf3 -- this field\"\n",
    ")"
   ]
  },
  {
   "cell_type": "code",
   "execution_count": null,
   "metadata": {},
   "outputs": [
    {
     "name": "stdout",
     "output_type": "stream",
     "text": [
      "select qwer1,\n",
      "       asdf /* this field */\n"
     ]
    }
   ],
   "source": [
    "assert_and_print(\n",
    "    format_select(\"select qwer1,   asdf, /* this field */\"),\n",
    "    \"select qwer1,\\n       asdf /* this field */\"\n",
    ")"
   ]
  },
  {
   "cell_type": "markdown",
   "metadata": {},
   "source": [
    "With `case when` conditions"
   ]
  },
  {
   "cell_type": "code",
   "execution_count": null,
   "metadata": {},
   "outputs": [
    {
     "name": "stdout",
     "output_type": "stream",
     "text": [
      "select qwer1,\n",
      "       case when abc = 1 then 'a'\n",
      "            when abc = 2 then 'b'\n",
      "            else 'c' end as qwer2\n"
     ]
    }
   ],
   "source": [
    "assert_and_print(\n",
    "    format_select(\"select qwer1, case when abc = 1 then 'a' when abc = 2 then 'b' else 'c' end as qwer2\"),\n",
    "    \"\"\"\n",
    "select qwer1,\n",
    "       case when abc = 1 then 'a'\n",
    "            when abc = 2 then 'b'\n",
    "            else 'c' end as qwer2\n",
    "    \"\"\".strip()    \n",
    ")"
   ]
  },
  {
   "cell_type": "code",
   "execution_count": null,
   "metadata": {},
   "outputs": [
    {
     "name": "stdout",
     "output_type": "stream",
     "text": [
      "select qwer1,\n",
      "       case when abc = 1 then 'a' -- first condition\n",
      "            when abc = 2 then 'b' -- second condition\n",
      "            else 'c' end as qwer2, /* else condition */\n",
      "       asdf3\n"
     ]
    }
   ],
   "source": [
    "assert_and_print(\n",
    "    format_select(\"select qwer1, case when abc = 1 then 'a' -- first condition[C]\" +\n",
    "                  \"when abc = 2 then 'b' -- second condition[C]\" +\n",
    "                  \"else 'c' end as qwer2, /* else condition */[C]\"\n",
    "                  \"asdf3\"\n",
    "),\n",
    "    \"\"\"\n",
    "select qwer1,\n",
    "       case when abc = 1 then 'a' -- first condition\n",
    "            when abc = 2 then 'b' -- second condition\n",
    "            else 'c' end as qwer2, /* else condition */\n",
    "       asdf3\n",
    "    \"\"\".strip()    \n",
    ")"
   ]
  },
  {
   "cell_type": "markdown",
   "metadata": {},
   "source": [
    "Bad formatted `case when` condition"
   ]
  },
  {
   "cell_type": "code",
   "execution_count": null,
   "metadata": {},
   "outputs": [
    {
     "name": "stdout",
     "output_type": "stream",
     "text": [
      "select qwer1,\n",
      "       case when abc <= 1 then 'a' -- first condition\n",
      "            when abc = 2 then 'b' -- second condition\n",
      "            else 'c' end as qwer2, -- else condition\n",
      "       asdf3\n"
     ]
    }
   ],
   "source": [
    "assert_and_print(\n",
    "    format_select(\"select qwer1, case when abc<= 1 then 'a' -- first condition[C]\" +\n",
    "                  \"when abc=2 then 'b' -- second condition[C]\" +\n",
    "                  \"else 'c' end as qwer2, -- else condition[C]\"\n",
    "                  \"asdf3\"\n",
    "),\n",
    "    \"\"\"\n",
    "select qwer1,\n",
    "       case when abc <= 1 then 'a' -- first condition\n",
    "            when abc = 2 then 'b' -- second condition\n",
    "            else 'c' end as qwer2, -- else condition\n",
    "       asdf3\n",
    "    \"\"\".strip()    \n",
    ")"
   ]
  },
  {
   "cell_type": "markdown",
   "metadata": {},
   "source": [
    "With functions in SELECT"
   ]
  },
  {
   "cell_type": "code",
   "execution_count": null,
   "metadata": {},
   "outputs": [
    {
     "name": "stdout",
     "output_type": "stream",
     "text": [
      "select aSdf,\n",
      "       substr(qweR, 2) as qwer,\n",
      "       Asdf,\n",
      "       qwer1\n"
     ]
    }
   ],
   "source": [
    "assert_and_print(\n",
    "    format_select(\"select aSdf, substr(qweR, 2) as qwer,  Asdf,qwer1\"),\n",
    "    \"select aSdf,\\n       substr(qweR, 2) as qwer,\\n       Asdf,\\n       qwer1\"\n",
    ")"
   ]
  },
  {
   "cell_type": "code",
   "execution_count": null,
   "metadata": {},
   "outputs": [
    {
     "name": "stdout",
     "output_type": "stream",
     "text": [
      "select car_id,\n",
      "       avg(price) as avg_price\n"
     ]
    }
   ],
   "source": [
    "assert_and_print(\n",
    "    format_select(\n",
    "\"\"\"\n",
    "select car_id,\n",
    "       avg(price) as avg_price,\n",
    "\"\"\"\n",
    "    ),\n",
    "\"\"\"\n",
    "select car_id,\n",
    "       avg(price) as avg_price\n",
    "\"\"\".strip()\n",
    ")"
   ]
  },
  {
   "cell_type": "markdown",
   "metadata": {},
   "source": [
    "With `SELECT DISTINCT`"
   ]
  },
  {
   "cell_type": "code",
   "execution_count": null,
   "metadata": {},
   "outputs": [
    {
     "name": "stdout",
     "output_type": "stream",
     "text": [
      "select distinct asdf,\n",
      "                qwer,\n",
      "                qwer2\n"
     ]
    }
   ],
   "source": [
    "assert_and_print(\n",
    "    format_select(\"select distinct asdf, qwer, qwer2,\"),\n",
    "\"\"\"\n",
    "select distinct asdf,\n",
    "                qwer,\n",
    "                qwer2\n",
    "\"\"\".strip()\n",
    ")"
   ]
  },
  {
   "cell_type": "markdown",
   "metadata": {},
   "source": [
    "With `PARTITION BY`"
   ]
  },
  {
   "cell_type": "code",
   "execution_count": null,
   "metadata": {},
   "outputs": [
    {
     "name": "stdout",
     "output_type": "stream",
     "text": [
      "select asdf,\n",
      "       lead(asdf) over (partition by qwer,\n",
      "                                     asdf2\n",
      "                        order by qwer2) as qwer3,\n",
      "       qwerty\n"
     ]
    }
   ],
   "source": [
    "assert_and_print(\n",
    "    format_select(\"select asdf, lead(asdf) over (partition by qwer, asdf2 order by qwer2) as qwer3, qwerty,\"),\n",
    "\"\"\"\n",
    "select asdf,\n",
    "       lead(asdf) over (partition by qwer,\n",
    "                                     asdf2\n",
    "                        order by qwer2) as qwer3,\n",
    "       qwerty\n",
    "\"\"\".strip()\n",
    ")"
   ]
  },
  {
   "cell_type": "code",
   "execution_count": null,
   "metadata": {},
   "outputs": [
    {
     "name": "stdout",
     "output_type": "stream",
     "text": [
      "select asdf,\n",
      "       lead(asdf) over (partition by asdf,\n",
      "                                     qwer\n",
      "                        order by qwer),\n",
      "       cast(qwer as numeric), -- some comment\n",
      "       ASDF\n"
     ]
    }
   ],
   "source": [
    "assert_and_print(\n",
    "    format_select(\"select asdf, lead(asdf) over (partition by asdf, qwer order by qwer), cast(qwer as numeric), -- some comment[C]ASDF, \"),\n",
    "\"\"\"\n",
    "select asdf,\n",
    "       lead(asdf) over (partition by asdf,\n",
    "                                     qwer\n",
    "                        order by qwer),\n",
    "       cast(qwer as numeric), -- some comment\n",
    "       ASDF\n",
    "\"\"\".strip()\n",
    ")"
   ]
  },
  {
   "cell_type": "code",
   "execution_count": null,
   "metadata": {},
   "outputs": [
    {
     "name": "stdout",
     "output_type": "stream",
     "text": [
      "select distinct asdf,\n",
      "                lead(asdf) over (partition by asdf,\n",
      "                                              qwer\n",
      "                                 order by qwer),\n",
      "                cast(qwer as numeric), -- some comment\n",
      "                ASDF\n"
     ]
    }
   ],
   "source": [
    "assert_and_print(\n",
    "    format_select(\"select distinct asdf, lead(asdf) over (partition by asdf, qwer order by qwer), cast(qwer as numeric), -- some comment[C]ASDF, \"),\n",
    "\"\"\"\n",
    "select distinct asdf,\n",
    "                lead(asdf) over (partition by asdf,\n",
    "                                              qwer\n",
    "                                 order by qwer),\n",
    "                cast(qwer as numeric), -- some comment\n",
    "                ASDF\n",
    "\"\"\".strip()\n",
    ")"
   ]
  },
  {
   "cell_type": "markdown",
   "metadata": {},
   "source": [
    "### FROM"
   ]
  },
  {
   "cell_type": "code",
   "execution_count": null,
   "metadata": {},
   "outputs": [],
   "source": [
    "#export\n",
    "def format_from(s):\n",
    "    \"Format FROM statement line `s`\"\n",
    "    s = re.sub(  # add indentation\n",
    "        r\"(from )(.*)\",\n",
    "        r\"\\1  \\2\",\n",
    "        s,\n",
    "        flags=re.I\n",
    "    )\n",
    "    return s"
   ]
  },
  {
   "cell_type": "code",
   "execution_count": null,
   "metadata": {},
   "outputs": [
    {
     "name": "stdout",
     "output_type": "stream",
     "text": [
      "from   table1\n"
     ]
    }
   ],
   "source": [
    "assert_and_print(format_from(\"from table1\"), \"from   table1\")"
   ]
  },
  {
   "cell_type": "markdown",
   "metadata": {},
   "source": [
    "### (LEFT / RIGHT / INNER / OUTER) JOIN"
   ]
  },
  {
   "cell_type": "code",
   "execution_count": null,
   "metadata": {},
   "outputs": [],
   "source": [
    "#export\n",
    "def format_join(s):\n",
    "    \"Format JOIN statement line `s`\"\n",
    "    s = \"    \" + s  # add indentation\n",
    "    return s"
   ]
  },
  {
   "cell_type": "code",
   "execution_count": null,
   "metadata": {},
   "outputs": [
    {
     "name": "stdout",
     "output_type": "stream",
     "text": [
      "    inner join table1\n"
     ]
    }
   ],
   "source": [
    "assert_and_print(format_join(\"inner join table1\"), \"    inner join table1\")"
   ]
  },
  {
   "cell_type": "markdown",
   "metadata": {},
   "source": [
    "### ON"
   ]
  },
  {
   "cell_type": "code",
   "execution_count": null,
   "metadata": {},
   "outputs": [],
   "source": [
    "#export\n",
    "def format_on(s):\n",
    "    \"Format ON statement line `s`\"\n",
    "    s = add_whitespaces_between_symbols(s)  # add whitespaces between symbols in join    \n",
    "    s = \"        \" + s  # add indentation\n",
    "    return s"
   ]
  },
  {
   "cell_type": "code",
   "execution_count": null,
   "metadata": {},
   "outputs": [
    {
     "name": "stdout",
     "output_type": "stream",
     "text": [
      "        on a.asdf = b.asdf\n"
     ]
    }
   ],
   "source": [
    "assert_and_print(format_on(\"on a.asdf =b.asdf\"), \"        on a.asdf = b.asdf\")"
   ]
  },
  {
   "cell_type": "markdown",
   "metadata": {},
   "source": [
    "### WHERE"
   ]
  },
  {
   "cell_type": "code",
   "execution_count": null,
   "metadata": {},
   "outputs": [],
   "source": [
    "#export\n",
    "def format_where(s):\n",
    "    \"Format WHERE statement line `s`\"\n",
    "    s = add_whitespaces_between_symbols(s)  # add whitespaces between symbols\n",
    "    s = s.replace(\"[C]\", \" \")\n",
    "    s = re.sub(r\"(where )\", r\"\\1 \", s, flags=re.I)  # add indentation afer WHERE\n",
    "    s = re.sub(r\"\\sand\", r\"\\n   and\", s, flags=re.I)  # add new line before every 'and' and indentation\n",
    "    s = re.sub(r\"\\sor\", r\"\\n    or\", s, flags=re.I)  # add new line before every 'or' and indentation    \n",
    "    return s"
   ]
  },
  {
   "cell_type": "code",
   "execution_count": null,
   "metadata": {},
   "outputs": [
    {
     "name": "stdout",
     "output_type": "stream",
     "text": [
      "WHERE  asdf = 1\n",
      "   and qwer = 1\n",
      "    or blabla = 'asdf'\n"
     ]
    }
   ],
   "source": [
    "assert_and_print(\n",
    "    format_where(\n",
    "        \"WHERE asdf= 1 and qwer=1 or blabla ='asdf'\"\n",
    "    ), \"WHERE  asdf = 1\\n   and qwer = 1\\n    or blabla = 'asdf'\"\n",
    ")"
   ]
  },
  {
   "cell_type": "markdown",
   "metadata": {},
   "source": [
    "## Format all statements"
   ]
  },
  {
   "cell_type": "code",
   "execution_count": null,
   "metadata": {},
   "outputs": [],
   "source": [
    "#export\n",
    "def format_statement_line(s):\n",
    "    \"Format statement line `s`\"\n",
    "    statement_funcs = {\n",
    "        \"select\": format_select,\n",
    "        \"from\": format_from,\n",
    "        \"left join\": format_join,\n",
    "        \"right join\": format_join,\n",
    "        \"inner join\": format_join,\n",
    "        \"outer join\": format_join,\n",
    "        \"on\": format_on,\n",
    "        \"where\": format_where,\n",
    "    }\n",
    "    for key, format_func in statement_funcs.items():\n",
    "        if re.match(key, s, flags=re.I):\n",
    "            s = format_func(s)\n",
    "    return s"
   ]
  },
  {
   "cell_type": "code",
   "execution_count": null,
   "metadata": {},
   "outputs": [
    {
     "name": "stdout",
     "output_type": "stream",
     "text": [
      "select asdf,\n",
      "       qwer\n"
     ]
    }
   ],
   "source": [
    "assert_and_print(\n",
    "    format_statement_line(\"select asdf, qwer\"),\n",
    "    \"\"\"\n",
    "select asdf,\n",
    "       qwer\n",
    "\"\"\".strip())"
   ]
  },
  {
   "cell_type": "code",
   "execution_count": null,
   "metadata": {},
   "outputs": [
    {
     "name": "stdout",
     "output_type": "stream",
     "text": [
      "    left join table1 as abc\n"
     ]
    }
   ],
   "source": [
    "assert_and_print(\n",
    "    format_statement_line(\"left join table1 as abc\"),\n",
    "    \"    left join table1 as abc\"\n",
    ")"
   ]
  },
  {
   "cell_type": "code",
   "execution_count": null,
   "metadata": {},
   "outputs": [
    {
     "name": "stdout",
     "output_type": "stream",
     "text": [
      "where  asdf = 1\n",
      "   and qwer = 'things'\n",
      "   and blabla = 0\n",
      "    or stuff = -1\n"
     ]
    }
   ],
   "source": [
    "assert_and_print(\n",
    "    format_statement_line(\"where asdf=1 and qwer='things' and blabla=0 or stuff=-1\"),\n",
    "    \"\"\"\n",
    "where  asdf = 1\n",
    "   and qwer = 'things'\n",
    "   and blabla = 0\n",
    "    or stuff = -1\n",
    "    \"\"\".strip())"
   ]
  },
  {
   "cell_type": "code",
   "execution_count": null,
   "metadata": {},
   "outputs": [],
   "source": [
    "#export\n",
    "def format_statements(s):\n",
    "    \"Format statements lines `s`\"\n",
    "    statement_lines = s.split(\"\\n\")\n",
    "    formatted_lines = [\n",
    "        format_statement_line(line) for line in statement_lines\n",
    "    ]\n",
    "    formatted_s = \"\\n\".join(formatted_lines)\n",
    "    return formatted_s"
   ]
  },
  {
   "cell_type": "code",
   "execution_count": null,
   "metadata": {},
   "outputs": [
    {
     "name": "stdout",
     "output_type": "stream",
     "text": [
      "select asdf,\n",
      "       qwer\n",
      "from   table1\n"
     ]
    }
   ],
   "source": [
    "assert_and_print(\n",
    "    format_statements(\"select asdf, qwer\\nfrom table1\"),\n",
    "\"\"\"\n",
    "select asdf,\n",
    "       qwer\n",
    "from   table1\n",
    "\"\"\".strip()\n",
    ")"
   ]
  },
  {
   "cell_type": "markdown",
   "metadata": {},
   "source": [
    "### Write a ; at the end of query"
   ]
  },
  {
   "cell_type": "code",
   "execution_count": null,
   "metadata": {},
   "outputs": [],
   "source": [
    "#export\n",
    "def add_ending_semicolon(s):\n",
    "    \"Add ending semicolon for SQL query `s`\"\n",
    "    s = s.strip()\n",
    "    if re.match(r\".*[^;]$\", s, flags=re.DOTALL):\n",
    "        s = s + \";\"\n",
    "    return s"
   ]
  },
  {
   "cell_type": "markdown",
   "metadata": {},
   "source": [
    "Basic usage"
   ]
  },
  {
   "cell_type": "code",
   "execution_count": null,
   "metadata": {},
   "outputs": [
    {
     "name": "stdout",
     "output_type": "stream",
     "text": [
      "select asdf from table1;\n"
     ]
    }
   ],
   "source": [
    "assert_and_print(\n",
    "    add_ending_semicolon(\"select asdf from table1\"), \n",
    "    \"select asdf from table1;\"\n",
    ")"
   ]
  },
  {
   "cell_type": "markdown",
   "metadata": {},
   "source": [
    "Also works with multiple lines"
   ]
  },
  {
   "cell_type": "code",
   "execution_count": null,
   "metadata": {},
   "outputs": [
    {
     "name": "stdout",
     "output_type": "stream",
     "text": [
      "select asdf\n",
      "from table1\n",
      "where asdf = 1;\n"
     ]
    }
   ],
   "source": [
    "assert_and_print(\n",
    "    add_ending_semicolon(\"select asdf\\nfrom table1\\nwhere asdf = 1\"), \n",
    "    \"select asdf\\nfrom table1\\nwhere asdf = 1;\"\n",
    ")"
   ]
  },
  {
   "cell_type": "markdown",
   "metadata": {},
   "source": [
    "It does not add another semicolon if there is already one there"
   ]
  },
  {
   "cell_type": "code",
   "execution_count": null,
   "metadata": {},
   "outputs": [
    {
     "name": "stdout",
     "output_type": "stream",
     "text": [
      "select asdf\n",
      "from table1\n",
      "where asdf = 1;\n"
     ]
    }
   ],
   "source": [
    "assert_and_print(\n",
    "    add_ending_semicolon(\"select asdf\\nfrom table1\\nwhere asdf = 1;\"), \n",
    "    \"select asdf\\nfrom table1\\nwhere asdf = 1;\"\n",
    ")"
   ]
  },
  {
   "cell_type": "markdown",
   "metadata": {},
   "source": [
    "##  Putting everything together\n",
    "\n",
    "to format a simple query without subqueries or `PARTITION BY`"
   ]
  },
  {
   "cell_type": "code",
   "execution_count": null,
   "metadata": {},
   "outputs": [],
   "source": [
    "#export\n",
    "def format_simple_sql(s, add_semicolon=True):\n",
    "    \"\"\"Format a simple SQL query without subqueries `s`. \n",
    "    If `add_semicolon` is True, then add a semicolon at the end\n",
    "    \"\"\"\n",
    "    s = lowercase_query(s)  # everything lowercased but not the comments\n",
    "    s = preformat_statements(s)  # add breaklines for the main statements\n",
    "    s = format_statements(s)  # format statements\n",
    "    s = re.sub(r\"\\[C\\]\", \"\", s)  # replace remaining [C]\n",
    "    s = re.sub(r\"\\[CS\\]\", \"\\n\", s)  # replace remainig [CS]\n",
    "    if add_semicolon:\n",
    "        s = add_ending_semicolon(s)  # add ending semicolon if not there yet\n",
    "    return s"
   ]
  },
  {
   "cell_type": "code",
   "execution_count": null,
   "metadata": {},
   "outputs": [
    {
     "name": "stdout",
     "output_type": "stream",
     "text": [
      "CREATE OR REPLACE TABLE mytable AS -- Mytable example\n",
      "/* multi line\n",
      "comment */\n",
      "SELECT a.asdf,\n",
      "       b.qwer, -- some comment here\n",
      "       /* and here is a line comment inside select */\n",
      "       substr(c.asdf, 1, 2) as substr_asdf,\n",
      "       /* some commenT there */\n",
      "       case when a.asdf = 1 then 'b' /* here a case comment */\n",
      "            when b.qwer = 2 then 'c'\n",
      "            else 'd' end as new_field, -- Some comment\n",
      "       b.asdf2\n",
      "FROM   table1 as a\n",
      "    LEFT JOIN table2 as b -- and here a comment\n",
      "        ON a.asdf = b.asdf /* joiN this way */\n",
      "    INNER JOIN table3 as c\n",
      "        ON a.asdf = c.asdf\n",
      "WHERE  a.asdf = 1 -- comment this\n",
      "   and b.qwer = 2\n",
      "   and a.asdf <= 1 --comment that\n",
      "    or b.qwer >= 5\n",
      "GROUP BY a.asdf;\n"
     ]
    }
   ],
   "source": [
    "assert_and_print(\n",
    "    format_simple_sql(example_sql),\n",
    "    expected_sql\n",
    ")"
   ]
  },
  {
   "cell_type": "code",
   "execution_count": null,
   "metadata": {},
   "outputs": [
    {
     "name": "stdout",
     "output_type": "stream",
     "text": [
      "CREATE OR REPLACE TABLE first_table AS -- my first table\n",
      "SELECT car_id,\n",
      "       avg(price) as avg_price\n",
      "FROM   first_view\n",
      "GROUP BY car_id;\n"
     ]
    }
   ],
   "source": [
    "assert_and_print(\n",
    "    format_simple_sql(\n",
    "\"\"\"\n",
    "create or replace table first_table as -- my first table\n",
    "select car_id,\n",
    "       avg(price) as avg_price,\n",
    "from first_view\n",
    "group by car_id\n",
    "\"\"\"\n",
    "    ),\n",
    "\"\"\"\n",
    "CREATE OR REPLACE TABLE first_table AS -- my first table\n",
    "SELECT car_id,\n",
    "       avg(price) as avg_price\n",
    "FROM   first_view\n",
    "GROUP BY car_id;\n",
    "\"\"\".strip()\n",
    ")"
   ]
  },
  {
   "cell_type": "markdown",
   "metadata": {},
   "source": [
    "## Queries with subqueries"
   ]
  },
  {
   "cell_type": "markdown",
   "metadata": {},
   "source": [
    "This is how we could (badly) write a query with subqueries"
   ]
  },
  {
   "cell_type": "code",
   "execution_count": null,
   "metadata": {},
   "outputs": [],
   "source": [
    "example_with_subqueries = \"\"\"\n",
    "select asdf, cast(qwer as numeric), -- some comment\n",
    "substr(qwer1, 3, 2) as substr_qwer /* some field */\n",
    "from \n",
    "(select asdf, qwer, /* some nice field */ from table1 where asdf = 1) as a\n",
    "left \n",
    "join (select asdf, qwer2 from table2 where qwer2 = 1) as b\n",
    "on a.asdf = b.asdf\n",
    "where qwer1 >= 0\n",
    "\"\"\""
   ]
  },
  {
   "cell_type": "markdown",
   "metadata": {},
   "source": [
    "and this is the way we would like to have it nicely formatted"
   ]
  },
  {
   "cell_type": "code",
   "execution_count": null,
   "metadata": {},
   "outputs": [],
   "source": [
    "expected_with_subqueries = \"\"\"\n",
    "SELECT asdf,\n",
    "       cast(qwer as numeric), -- some comment\n",
    "       substr(qwer1, 3, 2) as substr_qwer /* some field */\n",
    "FROM   (SELECT asdf,\n",
    "               qwer /* some nice field */\n",
    "        FROM   table1\n",
    "        WHERE  asdf = 1) as a\n",
    "    LEFT JOIN (SELECT asdf,\n",
    "                      qwer2\n",
    "               FROM   table2\n",
    "               WHERE  qwer2 = 1) as b\n",
    "        ON a.asdf = b.asdf\n",
    "WHERE  qwer1 >= 0;\n",
    "\"\"\".strip()"
   ]
  },
  {
   "cell_type": "markdown",
   "metadata": {},
   "source": [
    "### Main function handling queries with subqueries"
   ]
  },
  {
   "cell_type": "code",
   "execution_count": null,
   "metadata": {},
   "outputs": [],
   "source": [
    "#export\n",
    "def format_sql(s, add_semicolon=True):\n",
    "    \"Format SQL query with subqueries. If `add_semicolon` is True then add a semicolon at the end\"\n",
    "    s = format_simple_sql(s, add_semicolon)  # basic query formatting\n",
    "    # get first outer subquery positions\n",
    "    subquery_pos = extract_outer_subquery(s)\n",
    "    # loop over subqueries\n",
    "    while subquery_pos is not None:\n",
    "        # get split\n",
    "        split_s = [\n",
    "            s[0:subquery_pos[0]],\n",
    "            s[subquery_pos[0]:(subquery_pos[1]+1)],\n",
    "            s[(subquery_pos[1]+1):]\n",
    "        ]\n",
    "        # format subquery (= split_s[1])\n",
    "        split_s[1] = format_subquery(split_s[1], split_s[0])\n",
    "        # join main part and subquery\n",
    "        s = \"\".join(split_s)\n",
    "        # get first outer subquery positions\n",
    "        subquery_pos = extract_outer_subquery(s)\n",
    "    # remove whitespace between word and parenthesis\n",
    "    s = re.sub(r\"\\s\\)\", \")\", s)\n",
    "    return s"
   ]
  },
  {
   "cell_type": "code",
   "execution_count": null,
   "metadata": {},
   "outputs": [
    {
     "name": "stdout",
     "output_type": "stream",
     "text": [
      "SELECT asdf,\n",
      "       cast(qwer as numeric), -- some comment\n",
      "       substr(qwer1, 3, 2) as substr_qwer /* some field */\n",
      "FROM   (SELECT asdf,\n",
      "               qwer /* some nice field */\n",
      "        FROM   table1\n",
      "        WHERE  asdf = 1) as a\n",
      "    LEFT JOIN (SELECT asdf,\n",
      "                      qwer2\n",
      "               FROM   table2\n",
      "               WHERE  qwer2 = 1) as b\n",
      "        ON a.asdf = b.asdf\n",
      "WHERE  qwer1 >= 0;\n"
     ]
    }
   ],
   "source": [
    "assert_and_print(\n",
    "    format_sql(example_with_subqueries),\n",
    "    expected_with_subqueries\n",
    ")"
   ]
  },
  {
   "cell_type": "markdown",
   "metadata": {},
   "source": [
    "It even works with simple queries without subqueries, therefore generalizing the `format_simple_sql()` function"
   ]
  },
  {
   "cell_type": "code",
   "execution_count": null,
   "metadata": {},
   "outputs": [
    {
     "name": "stdout",
     "output_type": "stream",
     "text": [
      "CREATE OR REPLACE TABLE mytable AS -- Mytable example\n",
      "/* multi line\n",
      "comment */\n",
      "SELECT a.asdf,\n",
      "       b.qwer, -- some comment here\n",
      "       /* and here is a line comment inside select */\n",
      "       substr(c.asdf, 1, 2) as substr_asdf,\n",
      "       /* some commenT there */\n",
      "       case when a.asdf = 1 then 'b' /* here a case comment */\n",
      "            when b.qwer = 2 then 'c'\n",
      "            else 'd' end as new_field, -- Some comment\n",
      "       b.asdf2\n",
      "FROM   table1 as a\n",
      "    LEFT JOIN table2 as b -- and here a comment\n",
      "        ON a.asdf = b.asdf /* joiN this way */\n",
      "    INNER JOIN table3 as c\n",
      "        ON a.asdf = c.asdf\n",
      "WHERE  a.asdf = 1 -- comment this\n",
      "   and b.qwer = 2\n",
      "   and a.asdf <= 1 --comment that\n",
      "    or b.qwer >= 5\n",
      "GROUP BY a.asdf;\n"
     ]
    }
   ],
   "source": [
    "assert_and_print(\n",
    "    format_sql(example_sql),\n",
    "    expected_sql\n",
    ")"
   ]
  },
  {
   "cell_type": "markdown",
   "metadata": {},
   "source": [
    "## Nested subqueries\n",
    "\n",
    "The function is also robust against nested subqueries"
   ]
  },
  {
   "cell_type": "code",
   "execution_count": null,
   "metadata": {},
   "outputs": [],
   "source": [
    "example_nested_subqueries = \"\"\"\n",
    "select asdf, qwer\n",
    "from (select a.asdf,  lead(a.substr_qwer) over (partition by a.asdf, asdf2 order by qwer) as lead_qwerty\n",
    "    from (select asdf, substr(qwer, 3, 2) as substr_qwer from table2) as a\n",
    "        inner join (select asdf, qwer from table3) as b\n",
    "            on a.qwer = b.qwer\n",
    ")\n",
    "\"\"\""
   ]
  },
  {
   "cell_type": "code",
   "execution_count": null,
   "metadata": {},
   "outputs": [],
   "source": [
    "expected_nested = \"\"\"SELECT asdf,\n",
    "       qwer\n",
    "FROM   (SELECT a.asdf,\n",
    "               lead(a.substr_qwer) OVER (PARTITION BY a.asdf,\n",
    "                                                      asdf2\n",
    "                                         ORDER BY qwer) as lead_qwerty\n",
    "        FROM   (SELECT asdf,\n",
    "                       substr(qwer, 3, 2) as substr_qwer\n",
    "                FROM   table2) as a\n",
    "            INNER JOIN (SELECT asdf,\n",
    "                               qwer\n",
    "                        FROM   table3) as b\n",
    "                ON a.qwer = b.qwer);\"\"\""
   ]
  },
  {
   "cell_type": "code",
   "execution_count": null,
   "metadata": {},
   "outputs": [
    {
     "name": "stdout",
     "output_type": "stream",
     "text": [
      "SELECT asdf,\n",
      "       qwer\n",
      "FROM   (SELECT a.asdf,\n",
      "               lead(a.substr_qwer) OVER (PARTITION BY a.asdf,\n",
      "                                                      asdf2\n",
      "                                         ORDER BY qwer) as lead_qwerty\n",
      "        FROM   (SELECT asdf,\n",
      "                       substr(qwer, 3, 2) as substr_qwer\n",
      "                FROM   table2) as a\n",
      "            INNER JOIN (SELECT asdf,\n",
      "                               qwer\n",
      "                        FROM   table3) as b\n",
      "                ON a.qwer = b.qwer);\n"
     ]
    }
   ],
   "source": [
    "assert_and_print(\n",
    "    format_sql(example_nested_subqueries),\n",
    "    expected_nested\n",
    ")"
   ]
  },
  {
   "cell_type": "markdown",
   "metadata": {},
   "source": [
    "### More convoluted nested subquery"
   ]
  },
  {
   "cell_type": "code",
   "execution_count": null,
   "metadata": {},
   "outputs": [],
   "source": [
    "example_convoluted = \"\"\"\n",
    "select asdf\n",
    "from (\n",
    "    select asdf, qwer, /* some comment */\n",
    "    from (select a.asdf, b.qwer, --some comment\n",
    "          from (select asdf \n",
    "                from table1) as a \n",
    "            right join (select qwer \n",
    "                        from table2) as b\n",
    "                on a.asdf = b.asdf)\n",
    ")\n",
    "\"\"\""
   ]
  },
  {
   "cell_type": "code",
   "execution_count": null,
   "metadata": {},
   "outputs": [],
   "source": [
    "expected_convoluted = \"\"\"SELECT asdf\n",
    "FROM   (SELECT asdf,\n",
    "               qwer /* some comment */\n",
    "        FROM   (SELECT a.asdf,\n",
    "                       b.qwer --some comment\n",
    "                FROM   (SELECT asdf\n",
    "                        FROM   table1) as a\n",
    "                    RIGHT JOIN (SELECT qwer\n",
    "                                FROM   table2) as b\n",
    "                        ON a.asdf = b.asdf));\"\"\""
   ]
  },
  {
   "cell_type": "code",
   "execution_count": null,
   "metadata": {},
   "outputs": [
    {
     "name": "stdout",
     "output_type": "stream",
     "text": [
      "SELECT asdf\n",
      "FROM   (SELECT asdf,\n",
      "               qwer /* some comment */\n",
      "        FROM   (SELECT a.asdf,\n",
      "                       b.qwer --some comment\n",
      "                FROM   (SELECT asdf\n",
      "                        FROM   table1) as a\n",
      "                    RIGHT JOIN (SELECT qwer\n",
      "                                FROM   table2) as b\n",
      "                        ON a.asdf = b.asdf));\n"
     ]
    }
   ],
   "source": [
    "assert_and_print(\n",
    "    format_sql(example_convoluted),\n",
    "    expected_convoluted\n",
    ")"
   ]
  },
  {
   "cell_type": "code",
   "execution_count": null,
   "metadata": {},
   "outputs": [
    {
     "name": "stdout",
     "output_type": "stream",
     "text": [
      "SELECT asdf,\n",
      "       qwer\n",
      "FROM   table1\n",
      "UNION\n",
      "SELECT qwer,\n",
      "       asdf,\n",
      "       asdf2\n",
      "FROM   table3\n",
      "WHERE  asdf2 >= 2;\n"
     ]
    }
   ],
   "source": [
    "assert_and_print(\n",
    "    format_sql(\n",
    "\"\"\"\n",
    "select asdf,\n",
    "qwer\n",
    "from table1 union select qwer,\n",
    "asdf, asdf2 from table3\n",
    "where asdf2 >=2\n",
    "\"\"\"\n",
    "    ),\n",
    "\"\"\"\n",
    "SELECT asdf,\n",
    "       qwer\n",
    "FROM   table1\n",
    "UNION\n",
    "SELECT qwer,\n",
    "       asdf,\n",
    "       asdf2\n",
    "FROM   table3\n",
    "WHERE  asdf2 >= 2;\n",
    "\"\"\".strip()\n",
    ")"
   ]
  },
  {
   "cell_type": "code",
   "execution_count": null,
   "metadata": {},
   "outputs": [
    {
     "name": "stdout",
     "output_type": "stream",
     "text": [
      "Converted 00_core.ipynb.\n",
      "Converted 01_format_file.ipynb.\n",
      "Converted 02_utils.ipynb.\n",
      "Converted index.ipynb.\n"
     ]
    }
   ],
   "source": [
    "#hide\n",
    "from nbdev.export import notebook2script\n",
    "notebook2script()"
   ]
  }
 ],
 "metadata": {
  "kernelspec": {
   "display_name": "Python [conda env:sql-formatter-dev] *",
   "language": "python",
   "name": "conda-env-sql-formatter-dev-py"
  }
 },
 "nbformat": 4,
 "nbformat_minor": 2
}
