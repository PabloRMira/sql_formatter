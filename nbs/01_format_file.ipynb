{
 "cells": [
  {
   "cell_type": "code",
   "execution_count": null,
   "metadata": {},
   "outputs": [],
   "source": [
    "#hide\n",
    "%load_ext autoreload\n",
    "%autoreload 2\n",
    "%config Completer.use_jedi = False  # workaround for buggy jedi"
   ]
  },
  {
   "cell_type": "code",
   "execution_count": null,
   "metadata": {},
   "outputs": [],
   "source": [
    "# default_exp format_file"
   ]
  },
  {
   "cell_type": "code",
   "execution_count": null,
   "metadata": {},
   "outputs": [],
   "source": [
    "#export\n",
    "import re\n",
    "import os\n",
    "import tempfile\n",
    "from glob import glob\n",
    "from fastcore.script import call_parse, Param, store_true\n",
    "from sql_formatter.core import *\n",
    "from sql_formatter.utils import *\n",
    "from sql_formatter.validation import *"
   ]
  },
  {
   "cell_type": "markdown",
   "metadata": {},
   "source": [
    "# format_file\n",
    "\n",
    "> Functions to format a SQL file with multiple queries and SQL statements"
   ]
  },
  {
   "cell_type": "code",
   "execution_count": null,
   "metadata": {},
   "outputs": [],
   "source": [
    "#hide\n",
    "from nbdev.showdoc import *"
   ]
  },
  {
   "cell_type": "markdown",
   "metadata": {},
   "source": [
    "## Use-Case\n",
    "\n",
    "Assume you have a file called sql_file.sql containing SQL statements and queries.\n",
    "\n",
    "After reading it in python we could have something like this:"
   ]
  },
  {
   "cell_type": "code",
   "execution_count": null,
   "metadata": {},
   "outputs": [],
   "source": [
    "sql_file = \"\"\"\n",
    "--- Views for some nice data mart ---\n",
    "use database my_database;\n",
    "use schema my_schema;\n",
    "\n",
    "create or replace view first_view as -- my first view\n",
    "select a.car_id,\n",
    "       b.car_name, sum(a.price) over (partition by b.car_name order by a.car_id) as sum_price, a.price,\n",
    "from sales as a left join (select car_id, car_name, from cars) as b \n",
    "on a.car_id = b.car_id\n",
    "where car_id>1 and car_id<=100 order by b.car_name;\n",
    "\n",
    "-- Table no. 1 --\n",
    "create or replace table first_table as -- my first table\n",
    "select car_id,\n",
    "       avg(price) as avg_price,\n",
    "from first_view\n",
    "group by car_id order by car_id;\n",
    "\n",
    "--- End of file ---\n",
    "\"\"\".strip()"
   ]
  },
  {
   "cell_type": "markdown",
   "metadata": {},
   "source": [
    "Then we would like to format the SQL-queries in this file, while letting every other non-query-SQL statement untouched. For the example above we would like to have something like this:"
   ]
  },
  {
   "cell_type": "code",
   "execution_count": null,
   "metadata": {},
   "outputs": [],
   "source": [
    "expected_sql_file = \"\"\"\n",
    "--- Views for some nice data mart ---\n",
    "use database my_database;\n",
    "use schema my_schema;\n",
    "\n",
    "\n",
    "CREATE OR REPLACE VIEW first_view AS -- my first view\n",
    "SELECT a.car_id,\n",
    "       b.car_name,\n",
    "       sum(a.price) OVER (PARTITION BY b.car_name\n",
    "                          ORDER BY a.car_id) as sum_price,\n",
    "       a.price\n",
    "FROM   sales as a\n",
    "    LEFT JOIN (SELECT car_id,\n",
    "                      car_name\n",
    "               FROM   cars) as b\n",
    "        ON a.car_id = b.car_id\n",
    "WHERE  car_id > 1\n",
    "   and car_id <= 100\n",
    "ORDER BY b.car_name;\n",
    "\n",
    "\n",
    "-- Table no. 1 --\n",
    "CREATE OR REPLACE TABLE first_table AS -- my first table\n",
    "SELECT car_id,\n",
    "       avg(price) as avg_price\n",
    "FROM   first_view\n",
    "GROUP BY car_id\n",
    "ORDER BY car_id;\n",
    "\n",
    "--- End of file ---\n",
    "\"\"\".lstrip()"
   ]
  },
  {
   "cell_type": "markdown",
   "metadata": {},
   "source": [
    "### Formatting philosophy of SQL files\n",
    "\n",
    "* Every SQL-query is separated from above by two new lines\n",
    "* Every SQL-query is formatted via `format_sql`"
   ]
  },
  {
   "cell_type": "markdown",
   "metadata": {},
   "source": [
    "### Main function to format the SQL commands in a file\n",
    "\n",
    "This function applies also basic validation and aborts formatting if the statements `CREATE .. TABLE / VIEW` appear at least twice in the same query after splitting by semicolon, warning the user that she / he may have forgotten a semicolon"
   ]
  },
  {
   "cell_type": "code",
   "execution_count": null,
   "metadata": {},
   "outputs": [],
   "source": [
    "#export\n",
    "def format_sql_commands(s):\n",
    "    \"Format SQL commands in `s`\"\n",
    "    s = s.strip()  # strip file contents\n",
    "    split_s = split_by_semicolon(s)  # split by query\n",
    "    # validate semicolon\n",
    "    validations_semicolon = [validate_semicolon(sp) for sp in split_s]\n",
    "    val_summary_semicolon = sum([val[\"exit_code\"] for val in validations_semicolon])\n",
    "    # validate balanced parenthesis\n",
    "    validations_balanced = [validate_balanced_parenthesis(sp) for sp in split_s]\n",
    "    val_summary_balanced = sum([val[\"exit_code\"] for val in validations_balanced])\n",
    "    # validate balanced case when ... end\n",
    "    val_case_end_balanced = [validate_case_when(sp) for sp in split_s]\n",
    "    val_summary_case = sum([val[\"exit_code\"] for val in val_case_end_balanced])\n",
    "    if sum([val_summary_semicolon, val_summary_balanced, val_summary_case]) == 0:\n",
    "        split_comment_after_semicolon = re.compile(\"((?:\\n|create|select))\")\n",
    "        check_comment_after_semicolon = re.compile(r\"[\\r\\t\\f\\v ]*(?:\\/\\*|--)\")\n",
    "        split_s_out = []  # initialize container\n",
    "        for sp in split_s:  # split by semicolon\n",
    "            # take care of comment after semicolon\n",
    "            # split by first newline and format only the second item\n",
    "            if check_comment_after_semicolon.match(sp):\n",
    "                split_s2 = split_comment_after_semicolon.split(sp, maxsplit=1)\n",
    "            else:\n",
    "                split_s2 = [sp]\n",
    "            formatted_split_s2 = [\n",
    "                \"\\n\\n\\n\" + format_sql(sp).strip()\n",
    "                if check_sql_query(sp) and not check_skip_marker(sp)\n",
    "                else sp\n",
    "                for sp in split_s2\n",
    "            ]\n",
    "            split_s_out.append(\"\".join(formatted_split_s2))\n",
    "        # join by semicolon\n",
    "        formatted_s = \";\".join(split_s_out)\n",
    "        # remove starting and ending newlines\n",
    "        formatted_s = formatted_s.strip()\n",
    "        # remove more than 3 newlines\n",
    "        formatted_s = re.sub(r\"\\n{4,}\", \"\\n\\n\\n\", formatted_s)\n",
    "        # add newline at the end of file\n",
    "        formatted_s = formatted_s + \"\\n\"\n",
    "        return formatted_s\n",
    "    else:\n",
    "        error_dict = {}\n",
    "        if val_summary_semicolon > 0:\n",
    "            file_lines = [\n",
    "                tuple([line + sum([sd[\"total_lines\"] for sd in validations_semicolon[0:i]]) for line in d[\"val_lines\"]])\n",
    "                for i, d in enumerate(validations_semicolon)\n",
    "                if d[\"exit_code\"] == 1\n",
    "            ]\n",
    "            error_dict[\"semicolon\"] = {\n",
    "                \"error_code\": 2,\n",
    "                \"lines\": file_lines\n",
    "            }\n",
    "        if val_summary_balanced > 0:\n",
    "            file_lines = [\n",
    "                [line + sum([sd[\"total_lines\"] for sd in validations_balanced[0:i]]) for line in d[\"val_lines\"]]\n",
    "                for i, d in enumerate(validations_balanced)\n",
    "                if d[\"exit_code\"] == 1\n",
    "            ]            \n",
    "            error_dict[\"unbalanced_parenthesis\"] = {\n",
    "                \"error_code\": 3,\n",
    "                \"lines\": file_lines\n",
    "            }\n",
    "        if val_summary_case > 0:\n",
    "            file_lines = [\n",
    "                [line + sum([sd[\"total_lines\"] for sd in val_case_end_balanced[0:i]]) for line in d[\"val_lines\"]]\n",
    "                for i, d in enumerate(val_case_end_balanced)\n",
    "                if d[\"exit_code\"] == 1\n",
    "            ]            \n",
    "            error_dict[\"unbalanced_case\"] = {\n",
    "                \"error_code\": 4,\n",
    "                \"lines\": file_lines\n",
    "            }            \n",
    "        return error_dict"
   ]
  },
  {
   "cell_type": "markdown",
   "metadata": {},
   "source": [
    "Basic file formatting"
   ]
  },
  {
   "cell_type": "code",
   "execution_count": null,
   "metadata": {},
   "outputs": [
    {
     "name": "stdout",
     "output_type": "stream",
     "text": [
      "--- Views for some nice data mart ---\n",
      "use database my_database;\n",
      "use schema my_schema;\n",
      "\n",
      "\n",
      "CREATE OR REPLACE VIEW first_view AS -- my first view\n",
      "SELECT a.car_id,\n",
      "       b.car_name,\n",
      "       sum(a.price) OVER (PARTITION BY b.car_name\n",
      "                          ORDER BY a.car_id) as sum_price,\n",
      "       a.price\n",
      "FROM   sales as a\n",
      "    LEFT JOIN (SELECT car_id,\n",
      "                      car_name\n",
      "               FROM   cars) as b\n",
      "        ON a.car_id = b.car_id\n",
      "WHERE  car_id > 1\n",
      "   and car_id <= 100\n",
      "ORDER BY b.car_name;\n",
      "\n",
      "\n",
      "-- Table no. 1 --\n",
      "CREATE OR REPLACE TABLE first_table AS -- my first table\n",
      "SELECT car_id,\n",
      "       avg(price) as avg_price\n",
      "FROM   first_view\n",
      "GROUP BY car_id\n",
      "ORDER BY car_id;\n",
      "\n",
      "--- End of file ---\n",
      "\n"
     ]
    }
   ],
   "source": [
    "assert_and_print(\n",
    "    format_sql_commands(sql_file),\n",
    "    expected_sql_file\n",
    ")"
   ]
  },
  {
   "cell_type": "markdown",
   "metadata": {},
   "source": [
    "Using the `/*skip-formatter*/` marker to not format some query"
   ]
  },
  {
   "cell_type": "code",
   "execution_count": null,
   "metadata": {},
   "outputs": [
    {
     "name": "stdout",
     "output_type": "stream",
     "text": [
      "use database my_database;\n",
      "\n",
      "/*skip-formatter*/\n",
      "create Or replace View my_view aS\n",
      "select asdf, qwer\n",
      "from table1;\n",
      "\n",
      "\n",
      "CREATE OR REPLACE TABLE my_table AS\n",
      "SELECT asdf,\n",
      "       qwer\n",
      "FROM   table2\n",
      "GROUP BY asdf;\n",
      "\n"
     ]
    }
   ],
   "source": [
    "assert_and_print(\n",
    "    format_sql_commands(\"\"\"\n",
    "use database my_database;\n",
    "\n",
    "/*skip-formatter*/\n",
    "create Or replace View my_view aS\n",
    "select asdf, qwer\n",
    "from table1;\n",
    "\n",
    "create or replace table my_table As\n",
    "Select asdf, qwer\n",
    "From table2\n",
    "group by asdf;\n",
    "\"\"\"),\n",
    "    \"\"\"use database my_database;\n",
    "\n",
    "/*skip-formatter*/\n",
    "create Or replace View my_view aS\n",
    "select asdf, qwer\n",
    "from table1;\n",
    "\n",
    "\n",
    "CREATE OR REPLACE TABLE my_table AS\n",
    "SELECT asdf,\n",
    "       qwer\n",
    "FROM   table2\n",
    "GROUP BY asdf;\n",
    "\"\"\")"
   ]
  },
  {
   "cell_type": "code",
   "execution_count": null,
   "metadata": {},
   "outputs": [
    {
     "name": "stdout",
     "output_type": "stream",
     "text": [
      "CREATE OR REPLACE TABLE my_table AS\n",
      "SELECT asdf,\n",
      "       qwer\n",
      "FROM   table2\n",
      "GROUP BY asdf;\n",
      "\n"
     ]
    }
   ],
   "source": [
    "assert_and_print(\n",
    "    format_sql_commands(\"\"\"\n",
    "create or replace table my_table As\n",
    "Select asdf, qwer\n",
    "From table2\n",
    "group by asdf;\n",
    "\"\"\"),\n",
    "    \"\"\"\n",
    "CREATE OR REPLACE TABLE my_table AS\n",
    "SELECT asdf,\n",
    "       qwer\n",
    "FROM   table2\n",
    "GROUP BY asdf;\n",
    "\"\"\".lstrip())"
   ]
  },
  {
   "cell_type": "code",
   "execution_count": null,
   "metadata": {},
   "outputs": [
    {
     "name": "stdout",
     "output_type": "stream",
     "text": [
      "CREATE TABLE my_table AS\n",
      "SELECT asdf,\n",
      "       qwer, /* ; */\n",
      "       qwer2, -- ;\n",
      "       replace(';', '', qwer3) as qwer4\n",
      "FROM   table1; /* Some comment */\n",
      "\n",
      "\n",
      "CREATE VIEW my_view AS\n",
      "SELECT asdf\n",
      "FROM   my_table; /* Another comment */\n",
      "\n"
     ]
    }
   ],
   "source": [
    "assert_and_print(\n",
    "    format_sql_commands(\n",
    "\"\"\"\n",
    "create table my_table As\n",
    "select asdf, Qwer, /* ; */\n",
    "qwer2, -- ;\n",
    "replace(';', '', qwer3) as Qwer4\n",
    "from table1; /* Some comment */\n",
    "\n",
    "create view my_view As\n",
    "Select asdf\n",
    "From my_table; /* Another comment */\n",
    "\"\"\"\n",
    "    ),\n",
    "\"\"\"\n",
    "CREATE TABLE my_table AS\n",
    "SELECT asdf,\n",
    "       qwer, /* ; */\n",
    "       qwer2, -- ;\n",
    "       replace(';', '', qwer3) as qwer4\n",
    "FROM   table1; /* Some comment */\n",
    "\n",
    "\n",
    "CREATE VIEW my_view AS\n",
    "SELECT asdf\n",
    "FROM   my_table; /* Another comment */\n",
    "\"\"\".lstrip()\n",
    ")"
   ]
  },
  {
   "cell_type": "code",
   "execution_count": null,
   "metadata": {},
   "outputs": [
    {
     "name": "stdout",
     "output_type": "stream",
     "text": [
      "CREATE OR REPLACE TRANSIENT TABLE my_table AS\n",
      "SELECT asdf,\n",
      "       qwer, /* ; */\n",
      "       qwer2, -- ;\n",
      "       replace(';', '', qwer3) as qwer4\n",
      "FROM   table1;\n",
      "\n",
      "\n",
      "CREATE VIEW my_view AS\n",
      "SELECT asdf\n",
      "FROM   my_table;\n",
      "\n"
     ]
    }
   ],
   "source": [
    "assert_and_print(\n",
    "    format_sql_commands(\n",
    "\"\"\"\n",
    "create or replace transient table my_table As\n",
    "select asdf, Qwer, /* ; */\n",
    "qwer2, -- ;\n",
    "replace(';', '', qwer3) as Qwer4\n",
    "from table1;\n",
    "\n",
    "create view my_view As\n",
    "Select asdf\n",
    "From my_table;\n",
    "\"\"\".lstrip()\n",
    "    ),\n",
    "\"\"\"\n",
    "CREATE OR REPLACE TRANSIENT TABLE my_table AS\n",
    "SELECT asdf,\n",
    "       qwer, /* ; */\n",
    "       qwer2, -- ;\n",
    "       replace(';', '', qwer3) as qwer4\n",
    "FROM   table1;\n",
    "\n",
    "\n",
    "CREATE VIEW my_view AS\n",
    "SELECT asdf\n",
    "FROM   my_table;\n",
    "\"\"\".lstrip()\n",
    ")"
   ]
  },
  {
   "cell_type": "markdown",
   "metadata": {},
   "source": [
    "If the validation fails, then the function returns a dictionary instead of the formatted queries with information about the error"
   ]
  },
  {
   "cell_type": "markdown",
   "metadata": {},
   "source": [
    "Semicolon validation error"
   ]
  },
  {
   "cell_type": "code",
   "execution_count": null,
   "metadata": {},
   "outputs": [
    {
     "name": "stdout",
     "output_type": "stream",
     "text": [
      "{'semicolon': {'error_code': 2, 'lines': [(1, 7)]}}\n"
     ]
    }
   ],
   "source": [
    "assert_and_print(\n",
    "    format_sql_commands(\n",
    "\"\"\"\n",
    "create or replace transient table my_table As\n",
    "select asdf, Qwer, /* ; */\n",
    "qwer2, -- ;\n",
    "replace(';', '', qwer3) as Qwer4\n",
    "from table1\n",
    "\n",
    "create view my_view As\n",
    "Select asdf\n",
    "From my_table;\n",
    "\"\"\".lstrip()\n",
    "    ), \n",
    "    {\"semicolon\": {\"error_code\": 2, \"lines\": [(1, 7)]}}\n",
    ")"
   ]
  },
  {
   "cell_type": "markdown",
   "metadata": {},
   "source": [
    "Unbalanced parenthesis error"
   ]
  },
  {
   "cell_type": "code",
   "execution_count": null,
   "metadata": {},
   "outputs": [
    {
     "name": "stdout",
     "output_type": "stream",
     "text": [
      "{'unbalanced_parenthesis': {'error_code': 3, 'lines': [[3, 4], [9]]}}\n"
     ]
    }
   ],
   "source": [
    "assert_and_print(\n",
    "    format_sql_commands(\n",
    "\"\"\"\n",
    "create or replace transient table my_table As\n",
    "select asdf, Qwer, /* ; */\n",
    "(qwer2, -- ; ()\n",
    "( /* ) */\n",
    "replace(';', '', qwer3) as Qwer4\n",
    "from table1;\n",
    "\n",
    "create view my_view As\n",
    "(Select asdf\n",
    "From my_table;\n",
    "\"\"\".lstrip()\n",
    "    ), \n",
    "    {\"unbalanced_parenthesis\": {\"error_code\": 3, \"lines\": [[3, 4], [9]]}}\n",
    ")"
   ]
  },
  {
   "cell_type": "markdown",
   "metadata": {},
   "source": [
    "Unbalanced parenthesis + semicolon error"
   ]
  },
  {
   "cell_type": "code",
   "execution_count": null,
   "metadata": {},
   "outputs": [
    {
     "name": "stdout",
     "output_type": "stream",
     "text": [
      "{'semicolon': {'error_code': 2, 'lines': [(1, 8)]}, 'unbalanced_parenthesis': {'error_code': 3, 'lines': [[3, 4, 9]]}}\n"
     ]
    }
   ],
   "source": [
    "assert_and_print(\n",
    "    format_sql_commands(\n",
    "\"\"\"\n",
    "create or replace transient table my_table As\n",
    "select asdf, Qwer, /* ; */\n",
    "(qwer2, -- ; ()\n",
    "( /* ) */\n",
    "replace(';', '', qwer3) as Qwer4\n",
    "from table1\n",
    "\n",
    "create view my_view As\n",
    "(Select asdf\n",
    "From my_table;\n",
    "\"\"\".lstrip()\n",
    "    ), \n",
    "    {\n",
    "        \"semicolon\": {\"error_code\": 2, \"lines\": [(1, 8)]},        \n",
    "        \"unbalanced_parenthesis\": {\"error_code\": 3, \"lines\": [[3, 4, 9]]},\n",
    "    }\n",
    ")"
   ]
  },
  {
   "cell_type": "markdown",
   "metadata": {},
   "source": [
    "Unbalanced case when ... end"
   ]
  },
  {
   "cell_type": "code",
   "execution_count": null,
   "metadata": {},
   "outputs": [
    {
     "name": "stdout",
     "output_type": "stream",
     "text": [
      "{'unbalanced_case': {'error_code': 4, 'lines': [[3]]}}\n"
     ]
    }
   ],
   "source": [
    "assert_and_print(\n",
    "    format_sql_commands(\n",
    "\"\"\"\n",
    "create or replace transient table my_table As\n",
    "select asdf, Qwer, /* ; */\n",
    "case when asdf = 1 then 1 as qwer,\n",
    "replace(';', '', qwer3) as Qwer4\n",
    "from table1;\n",
    "\n",
    "create view my_view As\n",
    "\"\"\".lstrip()\n",
    "    ), \n",
    "    {\"unbalanced_case\": {\"error_code\": 4, \"lines\": [[3]]}}\n",
    ")"
   ]
  },
  {
   "cell_type": "markdown",
   "metadata": {},
   "source": [
    "### Function to format 1 SQL file"
   ]
  },
  {
   "cell_type": "code",
   "execution_count": null,
   "metadata": {},
   "outputs": [],
   "source": [
    "#export\n",
    "def format_sql_file(f):\n",
    "    \"\"\"Format file `f` with SQL commands and overwrite the file.\n",
    "    \n",
    "    Return exit_code:\n",
    "    * 0 = Everything already formatted\n",
    "    * 1 = Formatting applied\n",
    "    * 2 = Problem detected, formatting aborted\n",
    "    \"\"\"\n",
    "    # open the file\n",
    "    with open(f, \"r\") as file:\n",
    "        sql_commands = file.read()\n",
    "    # format SQL statements\n",
    "    formatted_file = format_sql_commands(sql_commands)\n",
    "    if isinstance(formatted_file, dict):\n",
    "        print(f\"Something went wrong in file: {f}\")\n",
    "        if \"semicolon\" in formatted_file.keys():\n",
    "            print(\n",
    "                (\n",
    "                \"[WARNING] Identified CREATE keyword more than twice within the same query \" +\n",
    "                f\"at lines {formatted_file['semicolon']['lines']}\\n\"\n",
    "                \"You may have forgotten a semicolon (;) to delimit the queries\"\n",
    "                )\n",
    "            )\n",
    "        if \"unbalanced_parenthesis\" in formatted_file.keys():\n",
    "            print(\n",
    "                (\n",
    "                \"[WARNING] Identified unbalanced parenthesis \" +\n",
    "                f\"at lines {formatted_file['unbalanced_parenthesis']['lines']}\\n\"\n",
    "                \"You should check your parenthesis\"\n",
    "                )\n",
    "            )\n",
    "        if \"unbalanced_case\" in formatted_file.keys():\n",
    "            print(\n",
    "                (\n",
    "                \"[WARNING] Identified unbalanced case when ... end \" +\n",
    "                f\"at lines {formatted_file['unbalanced_case']['lines']}\\n\"\n",
    "                \"You should check for missing case or end keywords\"\n",
    "                )\n",
    "            )            \n",
    "        print(f\"Aborting formatting for file {f}\")\n",
    "        exit_code = 2\n",
    "\n",
    "        print(f\"Aborting formatting for file {f}\")\n",
    "        exit_code = 2\n",
    "\n",
    "    else:\n",
    "        exit_code = 0 if sql_commands == formatted_file else 1\n",
    "        # overwrite file\n",
    "        with open(f, \"w\") as f:\n",
    "            f.write(formatted_file)\n",
    "    return exit_code"
   ]
  },
  {
   "cell_type": "code",
   "execution_count": null,
   "metadata": {},
   "outputs": [
    {
     "name": "stdout",
     "output_type": "stream",
     "text": [
      "--- Views for some nice data mart ---\n",
      "use database my_database;\n",
      "use schema my_schema;\n",
      "\n",
      "\n",
      "CREATE OR REPLACE VIEW first_view AS -- my first view\n",
      "SELECT a.car_id,\n",
      "       b.car_name,\n",
      "       sum(a.price) OVER (PARTITION BY b.car_name\n",
      "                          ORDER BY a.car_id) as sum_price,\n",
      "       a.price\n",
      "FROM   sales as a\n",
      "    LEFT JOIN (SELECT car_id,\n",
      "                      car_name\n",
      "               FROM   cars) as b\n",
      "        ON a.car_id = b.car_id\n",
      "WHERE  car_id > 1\n",
      "   and car_id <= 100\n",
      "ORDER BY b.car_name;\n",
      "\n",
      "\n",
      "-- Table no. 1 --\n",
      "CREATE OR REPLACE TABLE first_table AS -- my first table\n",
      "SELECT car_id,\n",
      "       avg(price) as avg_price\n",
      "FROM   first_view\n",
      "GROUP BY car_id\n",
      "ORDER BY car_id;\n",
      "\n",
      "--- End of file ---\n",
      "\n"
     ]
    }
   ],
   "source": [
    "with tempfile.NamedTemporaryFile(mode=\"r+\") as file:\n",
    "    file.write(sql_file)\n",
    "    file.seek(0)\n",
    "    format_sql_file(file.name)\n",
    "    formatted_file = file.read()\n",
    "assert_and_print(\n",
    "    formatted_file,\n",
    "    expected_sql_file\n",
    ")"
   ]
  },
  {
   "cell_type": "code",
   "execution_count": null,
   "metadata": {},
   "outputs": [
    {
     "name": "stdout",
     "output_type": "stream",
     "text": [
      "Something went wrong in file: /tmp/tmp6lglp_mv\n",
      "[WARNING] Identified CREATE keyword more than twice within the same query at lines [(1, 7)]\n",
      "You may have forgotten a semicolon (;) to delimit the queries\n",
      "Aborting formatting for file /tmp/tmp6lglp_mv\n",
      "Aborting formatting for file /tmp/tmp6lglp_mv\n",
      "create or replace transient table my_table As\n",
      "select asdf, Qwer, /* ; */\n",
      "qwer2, -- ;\n",
      "replace(';', '', qwer3) as Qwer4\n",
      "from table1\n",
      "\n",
      "create view my_view As\n",
      "Select asdf\n",
      "From my_table;\n",
      "\n"
     ]
    }
   ],
   "source": [
    "sql_forgotten_semicolon = \"\"\"\n",
    "create or replace transient table my_table As\n",
    "select asdf, Qwer, /* ; */\n",
    "qwer2, -- ;\n",
    "replace(';', '', qwer3) as Qwer4\n",
    "from table1\n",
    "\n",
    "create view my_view As\n",
    "Select asdf\n",
    "From my_table;\n",
    "\"\"\".lstrip()\n",
    "with tempfile.NamedTemporaryFile(mode=\"r+\") as file:\n",
    "    file.write(sql_forgotten_semicolon)\n",
    "    file.seek(0)\n",
    "    exit_code = format_sql_file(file.name)\n",
    "    formatted_file = file.read()\n",
    "assert_and_print( # no formatting\n",
    "    formatted_file,\n",
    "    sql_forgotten_semicolon\n",
    ")\n",
    "assert exit_code == 2"
   ]
  },
  {
   "cell_type": "code",
   "execution_count": null,
   "metadata": {},
   "outputs": [
    {
     "name": "stdout",
     "output_type": "stream",
     "text": [
      "Something went wrong in file: /tmp/tmp5qkr0ekj\n",
      "[WARNING] Identified unbalanced parenthesis at lines [[3], [8]]\n",
      "You should check your parenthesis\n",
      "Aborting formatting for file /tmp/tmp5qkr0ekj\n",
      "Aborting formatting for file /tmp/tmp5qkr0ekj\n",
      "create or replace transient table my_table As\n",
      "select asdf, Qwer, /* ; */\n",
      "(qwer2, -- ;\n",
      "replace(';', '', qwer3) as Qwer4\n",
      "from table1;\n",
      "\n",
      "create view my_view As\n",
      "(Select asdf\n",
      "From my_table;\n",
      "\n"
     ]
    }
   ],
   "source": [
    "sql_forgotten_semicolon = \"\"\"\n",
    "create or replace transient table my_table As\n",
    "select asdf, Qwer, /* ; */\n",
    "(qwer2, -- ;\n",
    "replace(';', '', qwer3) as Qwer4\n",
    "from table1;\n",
    "\n",
    "create view my_view As\n",
    "(Select asdf\n",
    "From my_table;\n",
    "\"\"\".lstrip()\n",
    "with tempfile.NamedTemporaryFile(mode=\"r+\") as file:\n",
    "    file.write(sql_forgotten_semicolon)\n",
    "    file.seek(0)\n",
    "    exit_code = format_sql_file(file.name)\n",
    "    formatted_file = file.read()\n",
    "assert_and_print( # no formatting\n",
    "    formatted_file,\n",
    "    sql_forgotten_semicolon\n",
    ")\n",
    "assert exit_code == 2"
   ]
  },
  {
   "cell_type": "code",
   "execution_count": null,
   "metadata": {},
   "outputs": [
    {
     "name": "stdout",
     "output_type": "stream",
     "text": [
      "Something went wrong in file: /tmp/tmpw65h7x33\n",
      "[WARNING] Identified CREATE keyword more than twice within the same query at lines [(1, 7)]\n",
      "You may have forgotten a semicolon (;) to delimit the queries\n",
      "[WARNING] Identified unbalanced parenthesis at lines [[3, 8]]\n",
      "You should check your parenthesis\n",
      "Aborting formatting for file /tmp/tmpw65h7x33\n",
      "Aborting formatting for file /tmp/tmpw65h7x33\n",
      "create or replace transient table my_table As\n",
      "select asdf, Qwer, /* ; */\n",
      "(qwer2, -- ;\n",
      "replace(';', '', qwer3) as Qwer4\n",
      "from table1\n",
      "\n",
      "create view my_view As\n",
      "(Select asdf\n",
      "From my_table;\n",
      "\n"
     ]
    }
   ],
   "source": [
    "sql_forgotten_semicolon = \"\"\"\n",
    "create or replace transient table my_table As\n",
    "select asdf, Qwer, /* ; */\n",
    "(qwer2, -- ;\n",
    "replace(';', '', qwer3) as Qwer4\n",
    "from table1\n",
    "\n",
    "create view my_view As\n",
    "(Select asdf\n",
    "From my_table;\n",
    "\"\"\".lstrip()\n",
    "with tempfile.NamedTemporaryFile(mode=\"r+\") as file:\n",
    "    file.write(sql_forgotten_semicolon)\n",
    "    file.seek(0)\n",
    "    exit_code = format_sql_file(file.name)\n",
    "    formatted_file = file.read()\n",
    "assert_and_print( # no formatting\n",
    "    formatted_file,\n",
    "    sql_forgotten_semicolon\n",
    ")\n",
    "assert exit_code == 2"
   ]
  },
  {
   "cell_type": "markdown",
   "metadata": {},
   "source": [
    "### Function to format many SQL files\n",
    "\n",
    "With built-in CLI via `fastcore`"
   ]
  },
  {
   "cell_type": "code",
   "execution_count": null,
   "metadata": {},
   "outputs": [],
   "source": [
    "#export\n",
    "@call_parse\n",
    "def format_sql_files(\n",
    "    files: Param(help='(Relative) path to SQL files. You can also use wildcard using \".*sql\"', type=str, nargs=\"+\"),\n",
    "    recursive: Param(help=\"Should files also be searched in subfolders?\", type=store_true)=False\n",
    "):\n",
    "    \"Format SQL `files`\"\n",
    "    exit_codes = []\n",
    "    # if wildcard \"*\" is input then use it\n",
    "    if len(files) == 1 and re.search(\"\\*\", files[0]):\n",
    "        if recursive:  # if recursive search\n",
    "            files = glob(os.path.join(\"**\", files[0]), recursive=True)\n",
    "        else:\n",
    "            files = glob(files[0])\n",
    "    for file in files:\n",
    "        exit_codes.append(format_sql_file(file))\n",
    "    if sum(exit_codes) == 0:\n",
    "        print(\"Nothing to format, everything is fine!\")\n",
    "    else:\n",
    "        print(\"All specified files were formatted!\")"
   ]
  },
  {
   "cell_type": "code",
   "execution_count": null,
   "metadata": {},
   "outputs": [
    {
     "name": "stdout",
     "output_type": "stream",
     "text": [
      "All specified files were formatted!\n",
      "--- Views for some nice data mart ---\n",
      "use database my_database;\n",
      "use schema my_schema;\n",
      "\n",
      "\n",
      "CREATE OR REPLACE VIEW first_view AS -- my first view\n",
      "SELECT a.car_id,\n",
      "       b.car_name,\n",
      "       sum(a.price) OVER (PARTITION BY b.car_name\n",
      "                          ORDER BY a.car_id) as sum_price,\n",
      "       a.price\n",
      "FROM   sales as a\n",
      "    LEFT JOIN (SELECT car_id,\n",
      "                      car_name\n",
      "               FROM   cars) as b\n",
      "        ON a.car_id = b.car_id\n",
      "WHERE  car_id > 1\n",
      "   and car_id <= 100\n",
      "ORDER BY b.car_name;\n",
      "\n",
      "\n",
      "-- Table no. 1 --\n",
      "CREATE OR REPLACE TABLE first_table AS -- my first table\n",
      "SELECT car_id,\n",
      "       avg(price) as avg_price\n",
      "FROM   first_view\n",
      "GROUP BY car_id\n",
      "ORDER BY car_id;\n",
      "\n",
      "--- End of file ---\n",
      "\n",
      "--- Views for some nice data mart ---\n",
      "use database my_database;\n",
      "use schema my_schema;\n",
      "\n",
      "\n",
      "CREATE OR REPLACE VIEW first_view AS -- my first view\n",
      "SELECT a.car_id,\n",
      "       b.car_name,\n",
      "       sum(a.price) OVER (PARTITION BY b.car_name\n",
      "                          ORDER BY a.car_id) as sum_price,\n",
      "       a.price\n",
      "FROM   sales as a\n",
      "    LEFT JOIN (SELECT car_id,\n",
      "                      car_name\n",
      "               FROM   cars) as b\n",
      "        ON a.car_id = b.car_id\n",
      "WHERE  car_id > 1\n",
      "   and car_id <= 100\n",
      "ORDER BY b.car_name;\n",
      "\n",
      "\n",
      "-- Table no. 1 --\n",
      "CREATE OR REPLACE TABLE first_table AS -- my first table\n",
      "SELECT car_id,\n",
      "       avg(price) as avg_price\n",
      "FROM   first_view\n",
      "GROUP BY car_id\n",
      "ORDER BY car_id;\n",
      "\n",
      "--- End of file ---\n",
      "\n"
     ]
    }
   ],
   "source": [
    "with tempfile.TemporaryDirectory() as tmp_dir:\n",
    "    with open(os.path.join(tmp_dir, \"tmp\"), \"w\") as f:\n",
    "        f.write(sql_file)\n",
    "    with open(os.path.join(tmp_dir, \"tmp2\"), \"w\") as f:\n",
    "        f.write(sql_file)\n",
    "    format_sql_files([os.path.join(tmp_dir, \"tmp\"), os.path.join(tmp_dir, \"tmp2\")])\n",
    "    with open(os.path.join(tmp_dir, \"tmp\"), \"r\") as f:\n",
    "        formatted_file = f.read()\n",
    "    assert_and_print(\n",
    "        formatted_file,\n",
    "        expected_sql_file\n",
    "    )\n",
    "    with open(os.path.join(tmp_dir, \"tmp2\"), \"r\") as f:\n",
    "        formatted_file = f.read()\n",
    "    assert_and_print(\n",
    "        formatted_file,\n",
    "        expected_sql_file\n",
    "    )"
   ]
  },
  {
   "cell_type": "code",
   "execution_count": null,
   "metadata": {},
   "outputs": [
    {
     "name": "stdout",
     "output_type": "stream",
     "text": [
      "Converted 00_core.ipynb.\n",
      "Converted 01_format_file.ipynb.\n",
      "Converted 02_utils.ipynb.\n",
      "Converted 03_validation.ipynb.\n",
      "Converted 04_release.ipynb.\n",
      "Converted index.ipynb.\n"
     ]
    }
   ],
   "source": [
    "#hide\n",
    "from nbdev.export import notebook2script\n",
    "notebook2script()"
   ]
  }
 ],
 "metadata": {
  "kernelspec": {
   "display_name": "Python [conda env:sql-formatter-dev] *",
   "language": "python",
   "name": "conda-env-sql-formatter-dev-py"
  }
 },
 "nbformat": 4,
 "nbformat_minor": 2
}
