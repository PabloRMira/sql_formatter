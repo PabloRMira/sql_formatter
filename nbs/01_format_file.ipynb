{
 "cells": [
  {
   "cell_type": "code",
   "execution_count": null,
   "metadata": {},
   "outputs": [],
   "source": [
    "#hide\n",
    "%load_ext autoreload\n",
    "%autoreload 2\n",
    "%config Completer.use_jedi = False  # workaround for buggy jedi"
   ]
  },
  {
   "cell_type": "code",
   "execution_count": null,
   "metadata": {},
   "outputs": [],
   "source": [
    "# default_exp format_file"
   ]
  },
  {
   "cell_type": "code",
   "execution_count": null,
   "metadata": {},
   "outputs": [],
   "source": [
    "#export\n",
    "import re\n",
    "import os\n",
    "from fastcore.script import call_parse, Param\n",
    "from sql_formatter.core import format_sql, assert_and_print"
   ]
  },
  {
   "cell_type": "markdown",
   "metadata": {},
   "source": [
    "# format_file\n",
    "\n",
    "> Functions to format a SQL file with multiple queries and SQL statements"
   ]
  },
  {
   "cell_type": "code",
   "execution_count": null,
   "metadata": {},
   "outputs": [],
   "source": [
    "#hide\n",
    "from nbdev.showdoc import *"
   ]
  },
  {
   "cell_type": "markdown",
   "metadata": {},
   "source": [
    "## Use-Case\n",
    "\n",
    "Assume you have a file called sql_file.sql containing SQL statements and queries.\n",
    "\n",
    "After reading it in python we could have something like this:"
   ]
  },
  {
   "cell_type": "code",
   "execution_count": null,
   "metadata": {},
   "outputs": [],
   "source": [
    "sql_file = \"\"\"\n",
    "--- Views for some nice data mart ---\n",
    "use database my_database;\n",
    "use schema my_schema;\n",
    "\n",
    "create or replace view first_view as -- my first view\n",
    "select a.car_id,\n",
    "       b.car_name,\n",
    "       a.price,\n",
    "from sales as a left join (select car_id, car_name, from cars) as b \n",
    "on a.car_id = b.car_id\n",
    "where car_id>1 and car_id<=100;\n",
    "\n",
    "-- Table no. 1 --\n",
    "create or replace table first_table as -- my first table\n",
    "select car_id,\n",
    "       avg(price) as avg_price,\n",
    "from first_view\n",
    "group by car_id;\n",
    "\n",
    "--- End of file ---\n",
    "\"\"\".strip()"
   ]
  },
  {
   "cell_type": "markdown",
   "metadata": {},
   "source": [
    "Then we would like to format the SQL-queries in this file, while letting every other non-query-SQL statement untouched. For the example above we would like to have something like this:"
   ]
  },
  {
   "cell_type": "code",
   "execution_count": null,
   "metadata": {},
   "outputs": [],
   "source": [
    "expected_sql_file = \"\"\"\n",
    "--- Views for some nice data mart ---\n",
    "use database my_database;\n",
    "use schema my_schema;\n",
    "\n",
    "\n",
    "CREATE OR REPLACE VIEW first_view AS -- my first view\n",
    "SELECT a.car_id,\n",
    "       b.car_name,\n",
    "       a.price\n",
    "FROM   sales as a\n",
    "    LEFT JOIN (SELECT car_id,\n",
    "                      car_name\n",
    "               FROM   cars) as b\n",
    "        ON a.car_id = b.car_id\n",
    "WHERE  car_id > 1\n",
    "   and car_id <= 100;\n",
    "\n",
    "\n",
    "-- Table no. 1 --\n",
    "CREATE OR REPLACE TABLE first_table AS -- my first table\n",
    "SELECT car_id,\n",
    "       avg(price) as avg_price\n",
    "FROM   first_view\n",
    "GROUP BY car_id;\n",
    "\n",
    "--- End of file ---\n",
    "\"\"\".lstrip()"
   ]
  },
  {
   "cell_type": "markdown",
   "metadata": {},
   "source": [
    "To simplify the problem, we assume for the moment the user is kind enough to separate every SQL statement by a semicolon (;)"
   ]
  },
  {
   "cell_type": "markdown",
   "metadata": {},
   "source": [
    "### Formatting philosophy of SQL files\n",
    "\n",
    "* Every SQL-query is separated from above and below by two new lines\n",
    "* Every SQL-query is formatted via `format_sql`\n",
    "\n",
    "So our first step is to identify the lines corresponding to the SQL queries"
   ]
  },
  {
   "cell_type": "markdown",
   "metadata": {},
   "source": [
    "## Formatting Functions"
   ]
  },
  {
   "cell_type": "markdown",
   "metadata": {},
   "source": [
    "### SQL-queries identification\n",
    "\n",
    "SQL queries always start either with *CREATE* or with *SELECT*.\n",
    "\n",
    "Everything else is not a valid SQL statement and will therefore not be formatted"
   ]
  },
  {
   "cell_type": "code",
   "execution_count": null,
   "metadata": {},
   "outputs": [],
   "source": [
    "#export\n",
    "def check_sql_query(s):\n",
    "    \"Checks whether `s` is a SQL query\"\n",
    "    return bool(re.match(pattern=r\".*(?:select|create).*\", string=s, flags=re.I | re.DOTALL))"
   ]
  },
  {
   "cell_type": "code",
   "execution_count": null,
   "metadata": {},
   "outputs": [],
   "source": [
    "assert check_sql_query(\"\"\"\n",
    "--- Table 1---\n",
    "creaTe or replace table my_table as\n",
    "select asdf\n",
    "from table\n",
    "where asdf = 1\n",
    "\"\"\".strip())"
   ]
  },
  {
   "cell_type": "code",
   "execution_count": null,
   "metadata": {},
   "outputs": [],
   "source": [
    "assert check_sql_query(\"\"\"\n",
    "SELECT qwer, asdf\n",
    "\"\"\")"
   ]
  },
  {
   "cell_type": "code",
   "execution_count": null,
   "metadata": {},
   "outputs": [],
   "source": [
    "assert not check_sql_query(\"use database my_database;\")"
   ]
  },
  {
   "cell_type": "code",
   "execution_count": null,
   "metadata": {},
   "outputs": [],
   "source": [
    "assert not check_sql_query(\"\"\"\n",
    "\n",
    "use schema my_schema;\n",
    "\"\"\")"
   ]
  },
  {
   "cell_type": "markdown",
   "metadata": {},
   "source": [
    "### Main function formattin SQL commands"
   ]
  },
  {
   "cell_type": "code",
   "execution_count": null,
   "metadata": {},
   "outputs": [],
   "source": [
    "#export\n",
    "def format_sql_commands(s):\n",
    "    \"Format SQL commands in `s`\"\n",
    "    s = s.strip()  # strip file contents\n",
    "    split_s = s.split(\";\")  # split by semicolon\n",
    "    # format only SQL queries, let everything else unchanged\n",
    "    formatted_split_s = [\n",
    "        \"\\n\\n\\n\" + format_sql(sp, add_semicolon=False).strip()\n",
    "        if check_sql_query(sp)\n",
    "        else sp\n",
    "        for sp in split_s\n",
    "    ]\n",
    "    # join by semicolon\n",
    "    formatted_s = \";\".join(formatted_split_s)\n",
    "    # add newline at the end of file\n",
    "    formatted_s = formatted_s + \"\\n\"\n",
    "    return formatted_s"
   ]
  },
  {
   "cell_type": "code",
   "execution_count": null,
   "metadata": {},
   "outputs": [
    {
     "name": "stdout",
     "output_type": "stream",
     "text": [
      "--- Views for some nice data mart ---\n",
      "use database my_database;\n",
      "use schema my_schema;\n",
      "\n",
      "\n",
      "CREATE OR REPLACE VIEW first_view AS -- my first view\n",
      "SELECT a.car_id,\n",
      "       b.car_name,\n",
      "       a.price\n",
      "FROM   sales as a\n",
      "    LEFT JOIN (SELECT car_id,\n",
      "                      car_name\n",
      "               FROM   cars) as b\n",
      "        ON a.car_id = b.car_id\n",
      "WHERE  car_id > 1\n",
      "   and car_id <= 100;\n",
      "\n",
      "\n",
      "-- Table no. 1 --\n",
      "CREATE OR REPLACE TABLE first_table AS -- my first table\n",
      "SELECT car_id,\n",
      "       avg(price) as avg_price\n",
      "FROM   first_view\n",
      "GROUP BY car_id;\n",
      "\n",
      "--- End of file ---\n",
      "\n"
     ]
    }
   ],
   "source": [
    "assert_and_print(\n",
    "    format_sql_commands(sql_file),\n",
    "    expected_sql_file\n",
    ")"
   ]
  },
  {
   "cell_type": "markdown",
   "metadata": {},
   "source": [
    "### Function to format 1 SQL file"
   ]
  },
  {
   "cell_type": "code",
   "execution_count": null,
   "metadata": {},
   "outputs": [],
   "source": [
    "#export\n",
    "def format_sql_file(f):\n",
    "    \"\"\"Format file `f` with SQL commands and overwrite the file.\n",
    "    Return 0 for no change and 1 for formatting adjustments\"\"\"\n",
    "    # open the file\n",
    "    with open(f, \"r\") as file:\n",
    "        sql_commands = file.read()\n",
    "    # format SQL statements\n",
    "    formatted_file = format_sql_commands(sql_commands)\n",
    "    exit_code = 0 if sql_commands == formatted_file else 1\n",
    "    # overwrite file\n",
    "    with open(f, \"w\") as f:\n",
    "        f.write(formatted_file)\n",
    "    return exit_code"
   ]
  },
  {
   "cell_type": "code",
   "execution_count": null,
   "metadata": {},
   "outputs": [
    {
     "name": "stdout",
     "output_type": "stream",
     "text": [
      "--- Views for some nice data mart ---\n",
      "use database my_database;\n",
      "use schema my_schema;\n",
      "\n",
      "\n",
      "CREATE OR REPLACE VIEW first_view AS -- my first view\n",
      "SELECT a.car_id,\n",
      "       b.car_name,\n",
      "       a.price\n",
      "FROM   sales as a\n",
      "    LEFT JOIN (SELECT car_id,\n",
      "                      car_name\n",
      "               FROM   cars) as b\n",
      "        ON a.car_id = b.car_id\n",
      "WHERE  car_id > 1\n",
      "   and car_id <= 100;\n",
      "\n",
      "\n",
      "-- Table no. 1 --\n",
      "CREATE OR REPLACE TABLE first_table AS -- my first table\n",
      "SELECT car_id,\n",
      "       avg(price) as avg_price\n",
      "FROM   first_view\n",
      "GROUP BY car_id;\n",
      "\n",
      "--- End of file ---\n",
      "\n"
     ]
    }
   ],
   "source": [
    "with open(\"tmp\", \"w\") as file:\n",
    "    file.write(sql_file)\n",
    "format_sql_file(\"tmp\")\n",
    "with open(\"tmp\", \"r\") as file:\n",
    "    formatted_file = file.read()\n",
    "assert_and_print(\n",
    "    formatted_file,\n",
    "    expected_sql_file\n",
    ")\n",
    "os.remove(\"tmp\")"
   ]
  },
  {
   "cell_type": "markdown",
   "metadata": {},
   "source": [
    "### Function to format many SQL files"
   ]
  },
  {
   "cell_type": "code",
   "execution_count": null,
   "metadata": {},
   "outputs": [],
   "source": [
    "#export\n",
    "@call_parse\n",
    "def format_sql_files(\n",
    "    files: Param(help=\"Path to SQL files\", type=str, nargs=\"+\")\n",
    "):\n",
    "    \"Format SQL `files`\"\n",
    "    exit_codes = []\n",
    "    for file in files:\n",
    "        exit_codes.append(format_sql_file(file))\n",
    "    if sum(exit_codes) == 0:\n",
    "        print(\"Nothing to format, everything is fine!\")\n",
    "    else:\n",
    "        print(\"All done!\")"
   ]
  },
  {
   "cell_type": "code",
   "execution_count": null,
   "metadata": {},
   "outputs": [
    {
     "name": "stdout",
     "output_type": "stream",
     "text": [
      "All done!\n",
      "--- Views for some nice data mart ---\n",
      "use database my_database;\n",
      "use schema my_schema;\n",
      "\n",
      "\n",
      "CREATE OR REPLACE VIEW first_view AS -- my first view\n",
      "SELECT a.car_id,\n",
      "       b.car_name,\n",
      "       a.price\n",
      "FROM   sales as a\n",
      "    LEFT JOIN (SELECT car_id,\n",
      "                      car_name\n",
      "               FROM   cars) as b\n",
      "        ON a.car_id = b.car_id\n",
      "WHERE  car_id > 1\n",
      "   and car_id <= 100;\n",
      "\n",
      "\n",
      "-- Table no. 1 --\n",
      "CREATE OR REPLACE TABLE first_table AS -- my first table\n",
      "SELECT car_id,\n",
      "       avg(price) as avg_price\n",
      "FROM   first_view\n",
      "GROUP BY car_id;\n",
      "\n",
      "--- End of file ---\n",
      "\n",
      "--- Views for some nice data mart ---\n",
      "use database my_database;\n",
      "use schema my_schema;\n",
      "\n",
      "\n",
      "CREATE OR REPLACE VIEW first_view AS -- my first view\n",
      "SELECT a.car_id,\n",
      "       b.car_name,\n",
      "       a.price\n",
      "FROM   sales as a\n",
      "    LEFT JOIN (SELECT car_id,\n",
      "                      car_name\n",
      "               FROM   cars) as b\n",
      "        ON a.car_id = b.car_id\n",
      "WHERE  car_id > 1\n",
      "   and car_id <= 100;\n",
      "\n",
      "\n",
      "-- Table no. 1 --\n",
      "CREATE OR REPLACE TABLE first_table AS -- my first table\n",
      "SELECT car_id,\n",
      "       avg(price) as avg_price\n",
      "FROM   first_view\n",
      "GROUP BY car_id;\n",
      "\n",
      "--- End of file ---\n",
      "\n"
     ]
    }
   ],
   "source": [
    "with open(\"tmp\", \"w\") as file:\n",
    "    file.write(sql_file)\n",
    "with open(\"tmp2\", \"w\") as file:\n",
    "    file.write(sql_file)\n",
    "format_sql_files([\"tmp\", \"tmp2\"])\n",
    "with open(\"tmp\", \"r\") as file:\n",
    "    formatted_file = file.read()\n",
    "assert_and_print(\n",
    "    formatted_file,\n",
    "    expected_sql_file\n",
    ")\n",
    "with open(\"tmp2\", \"r\") as file:\n",
    "    formatted_file = file.read()\n",
    "assert_and_print(\n",
    "    formatted_file,\n",
    "    expected_sql_file\n",
    ")\n",
    "os.remove(\"tmp\")\n",
    "os.remove(\"tmp2\")"
   ]
  },
  {
   "cell_type": "code",
   "execution_count": null,
   "metadata": {},
   "outputs": [
    {
     "name": "stdout",
     "output_type": "stream",
     "text": [
      "Converted 00_core.ipynb.\n",
      "Converted 01_format_file.ipynb.\n",
      "Converted index.ipynb.\n"
     ]
    }
   ],
   "source": [
    "#hide\n",
    "from nbdev.export import notebook2script\n",
    "notebook2script()"
   ]
  }
 ],
 "metadata": {
  "kernelspec": {
   "display_name": "Python [conda env:sql-formatter-dev] *",
   "language": "python",
   "name": "conda-env-sql-formatter-dev-py"
  }
 },
 "nbformat": 4,
 "nbformat_minor": 2
}
