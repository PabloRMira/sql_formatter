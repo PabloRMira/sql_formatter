{
 "cells": [
  {
   "cell_type": "code",
   "execution_count": null,
   "metadata": {},
   "outputs": [],
   "source": [
    "#hide\n",
    "%load_ext autoreload\n",
    "%autoreload 2\n",
    "%config Completer.use_jedi = False  # workaround for buggy jedi"
   ]
  },
  {
   "cell_type": "code",
   "execution_count": null,
   "metadata": {},
   "outputs": [],
   "source": [
    "# default_exp utils"
   ]
  },
  {
   "cell_type": "code",
   "execution_count": null,
   "metadata": {},
   "outputs": [],
   "source": [
    "#export\n",
    "import re"
   ]
  },
  {
   "cell_type": "markdown",
   "metadata": {},
   "source": [
    "# utils\n",
    "\n",
    "> Helper functions for SQL-text preparation"
   ]
  },
  {
   "cell_type": "code",
   "execution_count": null,
   "metadata": {},
   "outputs": [],
   "source": [
    "#hide\n",
    "from nbdev.showdoc import *"
   ]
  },
  {
   "cell_type": "markdown",
   "metadata": {},
   "source": [
    "### General utils"
   ]
  },
  {
   "cell_type": "code",
   "execution_count": null,
   "metadata": {},
   "outputs": [],
   "source": [
    "#export\n",
    "def assert_and_print(s_in, s_expected):\n",
    "    \"Assert equality of `s_in` and `s_expected` and print the result of `s_in` if the assertion worked\"\n",
    "    try:\n",
    "        assert s_in == s_expected\n",
    "    except:\n",
    "        print(\"Assertion failed\\n\")\n",
    "        print(\"Input:\\n\")\n",
    "        print(s_in)\n",
    "        print(\"\\n\")\n",
    "        print(\"Expected:\\n\")\n",
    "        print(s_expected)\n",
    "        assert s_in == s_expected\n",
    "    print(s_in)\n",
    "    return None"
   ]
  },
  {
   "cell_type": "code",
   "execution_count": null,
   "metadata": {},
   "outputs": [],
   "source": [
    "assert_and_print(\"some string\", \"some string\")"
   ]
  },
  {
   "cell_type": "markdown",
   "metadata": {},
   "source": [
    "### Removing redundant whitespaces"
   ]
  },
  {
   "cell_type": "code",
   "execution_count": null,
   "metadata": {},
   "outputs": [],
   "source": [
    "#export\n",
    "def remove_whitespaces_newline(s):\n",
    "    \"Remove whitespaces before and after newline in `s`\"\n",
    "    s = re.sub(r\"\\n[\\r\\t\\f\\v ]+\", \"\\n\", s)  # remove whitespaces after newline\n",
    "    s = re.sub(r\"[\\r\\t\\f\\v ]+\\n\", \"\\n\", s)  # remove whitespaces before newline\n",
    "    return s"
   ]
  },
  {
   "cell_type": "code",
   "execution_count": null,
   "metadata": {},
   "outputs": [],
   "source": [
    "assert_and_print(\n",
    "    remove_whitespaces_newline(\"select asdf\\n from table1 \\nwhere asdf = 1 \\n group by asdf\"),\n",
    "    \"select asdf\\nfrom table1\\nwhere asdf = 1\\ngroup by asdf\"\n",
    ")"
   ]
  },
  {
   "cell_type": "code",
   "execution_count": null,
   "metadata": {},
   "outputs": [],
   "source": [
    "#export\n",
    "def remove_whitespaces_comments(s):\n",
    "    \"Remove whitespaces before and after comment tokens in `s`\"\n",
    "    s = re.sub(r\"\\[C\\][\\r\\t\\f\\v ]+\", \"[C]\", s)  # remove whitespaces after comment token [C]\n",
    "    s = re.sub(r\"[\\r\\t\\f\\v ]+\\[C\\]\", \"[C]\", s)  # remove whitespaces before comment token [C]\n",
    "    s = re.sub(r\"\\[CS\\][\\r\\t\\f\\v ]+\", \"[CS]\", s)  # remove whitespaces after comment token [CS]\n",
    "    s = re.sub(r\"[\\r\\t\\f\\v ]+\\[CS\\]\", \"[CS]\", s)  # remove whitespaces before comment token [CS]\n",
    "    s = re.sub(r\"\\[CI\\][\\r\\t\\f\\v ]+\", \"[CI]\", s)  # remove whitespaces after comment token [CI]\n",
    "    s = re.sub(r\"[\\r\\t\\f\\v ]+\\[CI\\]\", \"[CI]\", s)  # remove whitespaces before comment token [CI]    \n",
    "    return s"
   ]
  },
  {
   "cell_type": "code",
   "execution_count": null,
   "metadata": {},
   "outputs": [],
   "source": [
    "assert_and_print(\n",
    "    remove_whitespaces_comments(\n",
    "        \"select asdf[C] from table1 [CS]where asdf = 1 [C] group by asdf\"\n",
    "    ),\n",
    "    \"select asdf[C]from table1[CS]where asdf = 1[C]group by asdf\"\n",
    ")"
   ]
  },
  {
   "cell_type": "code",
   "execution_count": null,
   "metadata": {},
   "outputs": [],
   "source": [
    "assert_and_print(\n",
    "    remove_whitespaces_comments(\n",
    "        \"select asdf[C][CS]/* asdf [CI]  */[C] from table1 [CS]where asdf = 1 [C] group by asdf\"\n",
    "    ),\n",
    "    \"select asdf[C][CS]/* asdf[CI]*/[C]from table1[CS]where asdf = 1[C]group by asdf\"\n",
    ")"
   ]
  },
  {
   "cell_type": "code",
   "execution_count": null,
   "metadata": {},
   "outputs": [],
   "source": [
    "#export\n",
    "def remove_redundant_whitespaces(s):\n",
    "    \"Strip and remove redundant (more than 2) whitespaces in `s` but no newlines in between\"\n",
    "    s = s.strip()\n",
    "    s = re.sub(r\"[\\r\\t\\f\\v ]{2,}\", \" \", s)  # remove too many whitespaces but not newlines\n",
    "    return s"
   ]
  },
  {
   "cell_type": "markdown",
   "metadata": {},
   "source": [
    "Only whitespaces"
   ]
  },
  {
   "cell_type": "code",
   "execution_count": null,
   "metadata": {},
   "outputs": [],
   "source": [
    "assert_and_print(\n",
    "    remove_redundant_whitespaces(\"\\nsome string     many whitespaces   some more\"),\n",
    "    \"some string many whitespaces some more\"\n",
    ")"
   ]
  },
  {
   "cell_type": "markdown",
   "metadata": {},
   "source": [
    "Whitespaces and newlines"
   ]
  },
  {
   "cell_type": "code",
   "execution_count": null,
   "metadata": {},
   "outputs": [],
   "source": [
    "assert_and_print(\n",
    "    remove_redundant_whitespaces(\"\\nsome string   \\n  many whitespaces\\n   \\nsome more\\n\"),\n",
    "    \"some string \\n many whitespaces\\n \\nsome more\"\n",
    ")"
   ]
  },
  {
   "cell_type": "markdown",
   "metadata": {},
   "source": [
    "### Add missing whitespaces between symbols"
   ]
  },
  {
   "cell_type": "code",
   "execution_count": null,
   "metadata": {},
   "outputs": [],
   "source": [
    "#export\n",
    "def add_whitespaces_between_symbols(s):\n",
    "    \"Add whitespaces between symbols in line `s`\"\n",
    "    s = re.sub(r\"([^\\s=!<>])([=!<>]+)\", r\"\\1 \\2\", s, flags=re.I)  # no space left\n",
    "    s = re.sub(r\"([=!<>]+)([^\\s=!<>])\", r\"\\1 \\2\", s, flags=re.I)  # no space right\n",
    "    s = re.sub(r\"([^\\s=!<>])([=!<>]+)([^\\s=!<>])\", r\"\\1 \\2 \\3\", s, flags=re.I)  # no space left and right\n",
    "    return s"
   ]
  },
  {
   "cell_type": "code",
   "execution_count": null,
   "metadata": {},
   "outputs": [],
   "source": [
    "assert_and_print(\n",
    "    add_whitespaces_between_symbols(\n",
    "        \"WHERE asdf= 1 and qwer=>1 or blabla ='asdf'\"\n",
    "    ), \"WHERE asdf = 1 and qwer => 1 or blabla = 'asdf'\"\n",
    ")"
   ]
  },
  {
   "cell_type": "markdown",
   "metadata": {},
   "source": [
    "### Mark comments with special tokens `[C]` (end of comment), `[CS]` (start of comment in new line) and `[CI]` (newline in multiline comment)"
   ]
  },
  {
   "cell_type": "code",
   "execution_count": null,
   "metadata": {},
   "outputs": [],
   "source": [
    "#export\n",
    "def mark_ci_comments(s):\n",
    "    \"Replace new lines in multiline comments by special token [CI]\"\n",
    "    positions = []  # positions of \\n in multiline /* */ comments\n",
    "    # counter for comments\n",
    "    k = 0  # 0 = no comment range\n",
    "    comment_open1 = False # comment indicator for /* */ comments\n",
    "    comment_open2 = False  # comment indicator for -- comments\n",
    "    quote_open1 = False  # quote '\n",
    "    quote_open2 = False # quote \"\n",
    "    # loop over character positions\n",
    "    for i, c in enumerate(s):\n",
    "        if (\n",
    "            c == \"\\n\" and \n",
    "            comment_open1 and\n",
    "            not comment_open2 and\n",
    "            not quote_open1 and\n",
    "            not quote_open2\n",
    "        ):\n",
    "            positions.append(i)\n",
    "        elif (\n",
    "            s[i:i+2] == \"/*\" and \n",
    "            not comment_open1 and \n",
    "            not comment_open2 and\n",
    "            not quote_open1 and \n",
    "            not quote_open2 \n",
    "        ):  # if there is an opening comment /*\n",
    "            comment_open1 = True\n",
    "        elif (\n",
    "            s[i:i+2] == \"*/\" and\n",
    "            comment_open1 and\n",
    "            not comment_open2 and\n",
    "            not quote_open1 and\n",
    "            not quote_open2\n",
    "        ):  # if there is a closing comment */\n",
    "            comment_open1 = False\n",
    "        elif (\n",
    "            s[i:i+2] == \"--\" and \n",
    "            not comment_open1 and \n",
    "            not comment_open2 and\n",
    "            not quote_open1 and \n",
    "            not quote_open2 \n",
    "        ):  # if there is an opening comment --\n",
    "            comment_open2 = True\n",
    "        elif (\n",
    "            (c == \"\\n\" or s[i:i+3] == \"[c]\") and\n",
    "            not comment_open1 and\n",
    "            comment_open2 and\n",
    "            not quote_open1 and\n",
    "            not quote_open2\n",
    "        ):  # if the -- comment ends\n",
    "            comment_open2 = False\n",
    "        elif (\n",
    "            c == \"'\" and\n",
    "            not comment_open1 and \n",
    "            not comment_open2 and\n",
    "            not quote_open1 and \n",
    "            not quote_open2            \n",
    "        ):  # if opening quote '\n",
    "            quote_open1 = True\n",
    "        elif (\n",
    "            c == \"'\" and\n",
    "            not comment_open1 and \n",
    "            not comment_open2 and\n",
    "            quote_open1 and \n",
    "            not quote_open2            \n",
    "        ):  # if opening quote '\n",
    "            quote_open1 = False\n",
    "        elif (\n",
    "            c == '\"' and\n",
    "            not comment_open1 and \n",
    "            not comment_open2 and\n",
    "            not quote_open1 and \n",
    "            quote_open2            \n",
    "        ):  # if opening quote '\n",
    "            quote_open2 = True\n",
    "        elif (\n",
    "            c == '\"' and\n",
    "            not comment_open1 and \n",
    "            not comment_open2 and\n",
    "            not quote_open1 and \n",
    "            quote_open2            \n",
    "        ):  # if opening quote '\n",
    "            quote_open2 = False\n",
    "    if len(positions) == 0:\n",
    "        return s\n",
    "    else:\n",
    "        s = \"\".join([c if i not in positions else \"[CI]\" for i, c in enumerate(s)])\n",
    "        return s"
   ]
  },
  {
   "cell_type": "code",
   "execution_count": null,
   "metadata": {},
   "outputs": [],
   "source": [
    "assert_and_print(\n",
    "    mark_ci_comments(\"select /* asdf \\n qwer */\"),\n",
    "    \"select /* asdf [CI] qwer */\"\n",
    ")"
   ]
  },
  {
   "cell_type": "code",
   "execution_count": null,
   "metadata": {},
   "outputs": [],
   "source": [
    "assert_and_print(\n",
    "    mark_ci_comments(\"select /* asdf \\n qwe \\n rqwer */\"),\n",
    "    \"select /* asdf [CI] qwe [CI] rqwer */\"\n",
    ")"
   ]
  },
  {
   "cell_type": "code",
   "execution_count": null,
   "metadata": {},
   "outputs": [],
   "source": [
    "#export\n",
    "def mark_comments(s):\n",
    "    \"Mark end of comments -- and begin of comments /* */ if they are in a new line with token [C]\"\n",
    "    s = re.sub(r\"(--.*?)(\\n)\", r\"\\1[C]\\2\", s)  # mark end of -- comments\n",
    "    s = re.sub(r\"(\\/\\*.*?\\*\\/)\", r\"\\1[C]\", s, flags=re.DOTALL)  # mark end of /* */ comments\n",
    "    s = re.sub(r\"(\\n)\\s*(--.*?)\", r\"\\1[CS]\\2\", s, flags=re.DOTALL)  # mark start of comment line with --    \n",
    "    s = re.sub(r\"(\\n)\\s*(\\/\\*.*\\*\\/)\", r\"\\1[CS]\\2\", s)  # mark start of comment line with /*\n",
    "    s = re.sub(r\"(\\n)\\s*(\\/\\*.*?\\*\\/)\", r\"\\1[CS]\\2\", s, flags=re.DOTALL)  # mark start of comment line with /*\n",
    "    s = mark_ci_comments(s)  # replace intercomment new lines by [CI]\n",
    "    return s"
   ]
  },
  {
   "cell_type": "code",
   "execution_count": null,
   "metadata": {},
   "outputs": [],
   "source": [
    "assert_and_print(\n",
    "    mark_comments(\n",
    "\"\"\"\n",
    "select asdf, -- some comment\n",
    "qwer, qwer2,\n",
    "/* comment line */\n",
    "qwer3,\n",
    "qwer4 -- comment\n",
    "\"\"\"\n",
    "    ),\n",
    "\"\"\"\n",
    "select asdf, -- some comment[C]\n",
    "qwer, qwer2,\n",
    "[CS]/* comment line */[C]\n",
    "qwer3,\n",
    "qwer4 -- comment[C]\n",
    "\"\"\"\n",
    ")"
   ]
  },
  {
   "cell_type": "code",
   "execution_count": null,
   "metadata": {},
   "outputs": [],
   "source": [
    "assert_and_print(\n",
    "    mark_comments(\n",
    "\"\"\"\n",
    "select asdf, -- some comment\n",
    "qwer, qwer2, -- another comment\n",
    "/* comment line */\n",
    "qwer3,\n",
    "-- another comment line\n",
    "qwer4 -- comment\n",
    "\"\"\"\n",
    "    ),\n",
    "\"\"\"\n",
    "select asdf, -- some comment[C]\n",
    "qwer, qwer2, -- another comment[C]\n",
    "[CS]/* comment line */[C]\n",
    "qwer3,\n",
    "[CS]-- another comment line[C]\n",
    "qwer4 -- comment[C]\n",
    "\"\"\"\n",
    ")"
   ]
  },
  {
   "cell_type": "code",
   "execution_count": null,
   "metadata": {},
   "outputs": [],
   "source": [
    "assert_and_print(\n",
    "    mark_comments(\n",
    "\"\"\"\n",
    "create or replace my_table as\n",
    "/* some comment\n",
    " some new comment line */\n",
    "select asdf,\n",
    "qwer, qwer2\n",
    "\n",
    "from table1\n",
    "\"\"\"    \n",
    "    ),\n",
    "\"\"\"\n",
    "create or replace my_table as\n",
    "[CS]/* some comment[CI] some new comment line */[C]\n",
    "select asdf,\n",
    "qwer, qwer2\n",
    "\n",
    "from table1\n",
    "\"\"\"    \n",
    ")"
   ]
  },
  {
   "cell_type": "code",
   "execution_count": null,
   "metadata": {},
   "outputs": [],
   "source": [
    "assert_and_print(\n",
    "    mark_comments(\n",
    "\"\"\"\n",
    "SELECT asdf, qwer, /* another comment */\n",
    "qwer1, \n",
    "/* inline comment */\n",
    "qwer2\n",
    "FROM table1\n",
    "WHERE asdf=1\"\"\"\n",
    "    ),\n",
    "    \"\\nSELECT asdf, qwer, /* another comment */[C]\\nqwer1, \\n[CS]/* inline comment */[C]\\nqwer2\\nFROM table1\\nWHERE asdf=1\"\n",
    ")"
   ]
  },
  {
   "cell_type": "code",
   "execution_count": null,
   "metadata": {},
   "outputs": [],
   "source": [
    "assert_and_print(\n",
    "    mark_comments(\n",
    "\"\"\"\n",
    "select a.asdf, b.qwer, -- some comment here\n",
    "/* and here is a line comment inside select */\n",
    "substr(c.asdf, 1, 2) as substr_asdf, \n",
    "/* some commenT there */\n",
    "\"\"\"\n",
    "    ),\n",
    "\"\"\"\n",
    "select a.asdf, b.qwer, -- some comment here[C]\n",
    "[CS]/* and here is a line comment inside select */[C]\n",
    "substr(c.asdf, 1, 2) as substr_asdf, \n",
    "[CS]/* some commenT there */[C]\n",
    "\"\"\"\n",
    ")\n"
   ]
  },
  {
   "cell_type": "code",
   "execution_count": null,
   "metadata": {},
   "outputs": [],
   "source": [
    "assert_and_print(\n",
    "    mark_comments(\n",
    "\"\"\"\n",
    "/* multi line\n",
    "comment */\n",
    "select a.asdf, b.qwer, -- some comment here\n",
    "/* and here is a line comment inside select */\n",
    "substr(c.asdf, 1, 2) as substr_asdf, \n",
    "/* some commenT \n",
    "there */\n",
    "case when a.asdf= 1 then 'b' /* here a case comment */\n",
    "\"\"\"\n",
    "    ),\n",
    "\"\"\"\n",
    "[CS]/* multi line[CI]comment */[C]\n",
    "select a.asdf, b.qwer, -- some comment here[C]\n",
    "[CS]/* and here is a line comment inside select */[C]\n",
    "substr(c.asdf, 1, 2) as substr_asdf, \n",
    "[CS]/* some commenT [CI]there */[C]\n",
    "case when a.asdf= 1 then 'b' /* here a case comment */[C]\n",
    "\"\"\"\n",
    ")"
   ]
  },
  {
   "cell_type": "code",
   "execution_count": null,
   "metadata": {},
   "outputs": [],
   "source": [
    "assert_and_print(\n",
    "    mark_comments(\n",
    "\"\"\"\n",
    "select a.asdf, b.qwer, -- some comment here\n",
    "/* and here is a line comment inside select */\n",
    "/* some commenT there */\n",
    "case when a.asdf= 1 then 'b' /* here a case comment */\n",
    "\"\"\"\n",
    "    ),\n",
    "\"\"\"\n",
    "select a.asdf, b.qwer, -- some comment here[C]\n",
    "[CS]/* and here is a line comment inside select */[C]\n",
    "[CS]/* some commenT there */[C]\n",
    "case when a.asdf= 1 then 'b' /* here a case comment */[C]\n",
    "\"\"\"\n",
    ")"
   ]
  },
  {
   "cell_type": "markdown",
   "metadata": {},
   "source": [
    "### Get positions of specific keywords in query ignoring comments"
   ]
  },
  {
   "cell_type": "code",
   "execution_count": null,
   "metadata": {},
   "outputs": [],
   "source": [
    "#export\n",
    "def identify_in_sql(kws, s):\n",
    "    \"Find positions of keywords `kws` (str or list) in string `s` ignoring comment and text in quotess\"\n",
    "    # container for positions\n",
    "    s = s.lower()  # lowercase string for searching purposes\n",
    "    positions = []\n",
    "    # counter for comments\n",
    "    k = 0  # 0 = no comment range\n",
    "    comment_open1 = False # comment indicator for /* */ comments\n",
    "    comment_open2 = False  # comment indicator for -- comments\n",
    "    quote_open1 = False  # quote '\n",
    "    quote_open2 = False # quote \"\n",
    "    kws = [kws] if not isinstance(kws, list) else kws # put keyword into list if it is a string\n",
    "    for kw in kws:\n",
    "        kw_len = len(kw)  # length of searched keyword\n",
    "        # loop over character positions\n",
    "        for i, c in enumerate(s):\n",
    "            if s[i:i+kw_len] == kw and k == 0:\n",
    "                positions.append(i)\n",
    "            elif (\n",
    "                s[i:i+2] == \"/*\" and \n",
    "                not comment_open1 and \n",
    "                not comment_open2 and\n",
    "                not quote_open1 and \n",
    "                not quote_open2 \n",
    "            ):  # if there is an opening comment /*\n",
    "                k += 1\n",
    "                comment_open1 = True\n",
    "            elif (\n",
    "                s[i:i+2] == \"*/\" and\n",
    "                comment_open1 and\n",
    "                not comment_open2 and\n",
    "                not quote_open1 and\n",
    "                not quote_open2\n",
    "            ):  # if there is a closing comment */\n",
    "                k -= 1\n",
    "                comment_open1 = False\n",
    "            elif (\n",
    "                s[i:i+2] == \"--\" and \n",
    "                not comment_open1 and \n",
    "                not comment_open2 and\n",
    "                not quote_open1 and \n",
    "                not quote_open2 \n",
    "            ):  # if there is an opening comment --\n",
    "                k += 1\n",
    "                comment_open2 = True\n",
    "            elif (\n",
    "                (c == \"\\n\" or s[i:i+3] == \"[c]\") and\n",
    "                not comment_open1 and\n",
    "                comment_open2 and\n",
    "                not quote_open1 and\n",
    "                not quote_open2\n",
    "            ):  # if the -- comment ends\n",
    "                k -= 1\n",
    "                comment_open2 = False\n",
    "            elif (\n",
    "                c == \"'\" and\n",
    "                not comment_open1 and \n",
    "                not comment_open2 and\n",
    "                not quote_open1 and \n",
    "                not quote_open2            \n",
    "            ):  # if opening quote '\n",
    "                k += 1\n",
    "                quote_open1 = True\n",
    "            elif (\n",
    "                c == \"'\" and\n",
    "                not comment_open1 and \n",
    "                not comment_open2 and\n",
    "                quote_open1 and \n",
    "                not quote_open2            \n",
    "            ):  # if opening quote '\n",
    "                k -= 1\n",
    "                quote_open1 = False\n",
    "            elif (\n",
    "                c == '\"' and\n",
    "                not comment_open1 and \n",
    "                not comment_open2 and\n",
    "                not quote_open1 and \n",
    "                quote_open2            \n",
    "            ):  # if opening quote '\n",
    "                k += 1\n",
    "                quote_open2 = True\n",
    "            elif (\n",
    "                c == '\"' and\n",
    "                not comment_open1 and \n",
    "                not comment_open2 and\n",
    "                not quote_open1 and \n",
    "                quote_open2            \n",
    "            ):  # if opening quote '\n",
    "                k -= 1\n",
    "                quote_open2 = False\n",
    "    positions = sorted(positions)  # sort positions before returning\n",
    "    return positions"
   ]
  },
  {
   "cell_type": "markdown",
   "metadata": {},
   "source": [
    "### Splitting functions"
   ]
  },
  {
   "cell_type": "markdown",
   "metadata": {},
   "source": [
    "#### Split query into a comment and a non-comment region"
   ]
  },
  {
   "cell_type": "code",
   "execution_count": null,
   "metadata": {},
   "outputs": [],
   "source": [
    "#export\n",
    "def split_comment_non_comment(s):\n",
    "    \"\"\"Split query into comment (True) and non-comment (False) components.\n",
    "    \n",
    "    Return a dict with keys \"string\" and \"comment\" in (True, False)\n",
    "    \"\"\"\n",
    "    positions = [] # container for positions\n",
    "    comment_open1 = False # comment indicator for /* */ comments\n",
    "    comment_open2 = False  # comment indicator for -- comments\n",
    "    quote_open1 = False  # quote '\n",
    "    quote_open2 = False # quote \"\n",
    "    s_comp = []  # container for string components\n",
    "    start = 0\n",
    "    # loop over character positions\n",
    "    for i, c in enumerate(s):\n",
    "        if (\n",
    "            s[i:i+2] == \"/*\" and \n",
    "            not comment_open1 and \n",
    "            not comment_open2 and\n",
    "            not quote_open1 and \n",
    "            not quote_open2 \n",
    "        ):  # if there is an opening comment /*\n",
    "            comment_open1 = True\n",
    "            s_comp.append({\"string\": s[start:i], \"comment\": False}) # before opening comment it was no comment\n",
    "            start = i\n",
    "        elif (\n",
    "            s[i:i+2] == \"*/\" and\n",
    "            comment_open1 and\n",
    "            not comment_open2 and\n",
    "            not quote_open1 and\n",
    "            not quote_open2\n",
    "        ):  # if there is a closing comment */\n",
    "            comment_open1 = False\n",
    "            s_comp.append({\"string\": s[start:i+2], \"comment\": True}) # before closing comment it was comment\n",
    "            start = i+2\n",
    "        elif (\n",
    "            s[i:i+2] == \"--\" and \n",
    "            not comment_open1 and \n",
    "            not comment_open2 and\n",
    "            not quote_open1 and \n",
    "            not quote_open2 \n",
    "        ):  # if there is an opening comment --\n",
    "            comment_open2 = True\n",
    "            s_comp.append({\"string\": s[start:i], \"comment\": False}) # before opening comment it was no comment\n",
    "            start = i\n",
    "        elif (\n",
    "            (c == \"\\n\" or s[i:i+3] == \"[C]\") and\n",
    "            not comment_open1 and\n",
    "            comment_open2 and\n",
    "            not quote_open1 and\n",
    "            not quote_open2\n",
    "        ):  # if the -- comment ends\n",
    "            comment_open2 = False\n",
    "            if c == \"\\n\":\n",
    "                s_comp.append({\"string\": s[start:i], \"comment\": True}) # before closing comment it was comment\n",
    "                start = i\n",
    "            else: # [C]\n",
    "                s_comp.append({\"string\": s[start:i+3], \"comment\": True}) # before closing comment it was comment                \n",
    "                start = i+3\n",
    "    s_comp.append({\"string\": s[start:], \"comment\": False})  # remainder is no comment\n",
    "    return s_comp"
   ]
  },
  {
   "cell_type": "code",
   "execution_count": null,
   "metadata": {},
   "outputs": [],
   "source": [
    "assert_and_print(\n",
    "    split_comment_non_comment(\n",
    "\"\"\"\n",
    "create table my_table as -- some table\n",
    "select asdf, /* some comment */ qwer\n",
    "from table1\n",
    "\"\"\"\n",
    "    ),\n",
    "    [\n",
    "        {\"string\": \"\\ncreate table my_table as \", \"comment\": False},\n",
    "        {\"string\": \"-- some table\", \"comment\": True},\n",
    "        {\"string\": \"\\nselect asdf, \", \"comment\": False},\n",
    "        {\"string\": \"/* some comment */\", \"comment\": True},\n",
    "        {\"string\": \" qwer\\nfrom table1\\n\", \"comment\": False},        \n",
    "    ]\n",
    ")"
   ]
  },
  {
   "cell_type": "markdown",
   "metadata": {},
   "source": [
    "#### Split query into the combinations comment, non-comment, select and non-select"
   ]
  },
  {
   "cell_type": "code",
   "execution_count": null,
   "metadata": {},
   "outputs": [],
   "source": [
    "#export\n",
    "def split_comment_select(s):\n",
    "    \"\"\"Split query into comment, non-comment, select and non-select components.\n",
    "    \n",
    "    Return a dict with keys \"string\", \"comment\" in (True, False) and \"select\" in (True, False)\n",
    "    \"\"\"\n",
    "    s_low = s.lower()\n",
    "    positions = [] # container for positions\n",
    "    k = 0  #     # counter for comments; 0 = no comment\n",
    "    comment_open1 = False # comment indicator for /* */ comments\n",
    "    comment_open2 = False  # comment indicator for -- comments\n",
    "    quote_open1 = False  # quote '\n",
    "    quote_open2 = False # quote \"\n",
    "    select_open = False # start with non-select\n",
    "    s_comp = []  # container for string components\n",
    "    start = 0\n",
    "    # loop over character positions\n",
    "    for i, c in enumerate(s):\n",
    "        if s_low[i:i+6] == \"select\" and k == 0:  # k = 0 -> no comment\n",
    "            select_open = True\n",
    "            s_comp.append({\"string\": s[start:i], \"comment\": False, \"select\": False})\n",
    "            start = i\n",
    "        elif s_low[i:i+4] == \"from\" and k == 0:\n",
    "            select_open = False\n",
    "            s_comp.append({\"string\": s[start:i], \"comment\": False, \"select\": True})\n",
    "            start = i\n",
    "        elif (\n",
    "            s[i:i+2] == \"/*\" and \n",
    "            not comment_open1 and \n",
    "            not comment_open2 and\n",
    "            not quote_open1 and \n",
    "            not quote_open2 \n",
    "        ):  # if there is an opening comment /*\n",
    "            k += 1\n",
    "            comment_open1 = True\n",
    "            # before opening comment it was no comment\n",
    "            s_comp.append({\"string\": s[start:i], \"comment\": False, \"select\": select_open})\n",
    "            start = i\n",
    "        elif (\n",
    "            s[i:i+2] == \"*/\" and\n",
    "            comment_open1 and\n",
    "            not comment_open2 and\n",
    "            not quote_open1 and\n",
    "            not quote_open2\n",
    "        ):  # if there is a closing comment */\n",
    "            k -= 1\n",
    "            comment_open1 = False\n",
    "            s_comp.append({\"string\": s[start:i+2], \"comment\": True, \"select\": select_open}) # before closing comment it was comment\n",
    "            start = i+2\n",
    "        elif (\n",
    "            s[i:i+2] == \"--\" and \n",
    "            not comment_open1 and \n",
    "            not comment_open2 and\n",
    "            not quote_open1 and \n",
    "            not quote_open2 \n",
    "        ):  # if there is an opening comment --\n",
    "            k += 1\n",
    "            comment_open2 = True\n",
    "            s_comp.append({\"string\": s[start:i], \"comment\": False, \"select\": select_open}) # before opening comment it was no comment\n",
    "            start = i\n",
    "        elif (\n",
    "            (c == \"\\n\" or s[i:i+3] == \"[C]\") and\n",
    "            not comment_open1 and\n",
    "            comment_open2 and\n",
    "            not quote_open1 and\n",
    "            not quote_open2\n",
    "        ):  # if the -- comment ends\n",
    "            k -= 1\n",
    "            comment_open2 = False\n",
    "            if c == \"\\n\":\n",
    "                s_comp.append({\"string\": s[start:i], \"comment\": True, \"select\": select_open}) # before closing comment it was comment\n",
    "                start = i\n",
    "            else: # [C]\n",
    "                s_comp.append({\"string\": s[start:i+3], \"comment\": True, \"select\": select_open}) # before closing comment it was comment                \n",
    "                start = i+3\n",
    "    s_comp.append({\"string\": s[start:], \"comment\": False, \"select\": select_open})  # remainder is no comment\n",
    "    return s_comp"
   ]
  },
  {
   "cell_type": "code",
   "execution_count": null,
   "metadata": {},
   "outputs": [],
   "source": [
    "assert_and_print(\n",
    "    split_comment_select(\n",
    "\"\"\"\n",
    "create table my_table as -- some table\n",
    "seLect asdf, /* some comment */ qwer\n",
    "from table1\n",
    "\"\"\"\n",
    "    ),\n",
    "    [\n",
    "        {\"string\": \"\\ncreate table my_table as \", \"comment\": False, \"select\": False},\n",
    "        {\"string\": \"-- some table\", \"comment\": True, \"select\": False},\n",
    "        {\"string\": \"\\n\", \"comment\": False, \"select\": False},        \n",
    "        {\"string\": \"seLect asdf, \", \"comment\": False, \"select\": True},\n",
    "        {\"string\": \"/* some comment */\", \"comment\": True, \"select\": True},\n",
    "        {\"string\": \" qwer\\n\", \"comment\": False, \"select\": True},\n",
    "        {\"string\": \"from table1\\n\", \"comment\": False, \"select\": False},        \n",
    "    ]\n",
    ")"
   ]
  },
  {
   "cell_type": "markdown",
   "metadata": {},
   "source": [
    "#### Split individual queries based on semicolon"
   ]
  },
  {
   "cell_type": "code",
   "execution_count": null,
   "metadata": {},
   "outputs": [],
   "source": [
    "#export\n",
    "def split_by_semicolon(s):\n",
    "    \"Split string `s` by semicolon but not between parenthesis or in comments\"\n",
    "    positions = identify_in_sql(\";\", s)  # get semicolon positions\n",
    "    if positions is []:  # if no semicolon then return full string\n",
    "        return s\n",
    "    # add the 0 position if there is no one\n",
    "    positions = [0] + positions if 0 not in positions else positions\n",
    "    # loop on start-end of string pairs\n",
    "    split_s = []  # initialize output\n",
    "    for start, end in zip(positions, positions[1:]+[None]):\n",
    "        # return splits\n",
    "        if start == 0:\n",
    "            split_s.append(s[start:end])\n",
    "        else:\n",
    "            split_s.append(s[start+1:end])  # do not take the semicolon\n",
    "    return split_s"
   ]
  },
  {
   "cell_type": "code",
   "execution_count": null,
   "metadata": {},
   "outputs": [],
   "source": [
    "assert_and_print(\n",
    "    split_by_semicolon(\n",
    "\"\"\"\n",
    "use database my_database; -- ; ; ;;\n",
    "use schema my_schema; /* -- ; */\n",
    "\n",
    "create or replace table my_table as\n",
    "select asdf, qwer, /* ;; -- ; */\n",
    "replace('\"\";', \"';'\", asdf2) as asdf5\n",
    "qwer2 from -- ;\n",
    "table2;\n",
    "\n",
    "use schema_another_schema;\n",
    "\"\"\"\n",
    "    ),\n",
    "    [\n",
    "        \"\\nuse database my_database\",\n",
    "        \" -- ; ; ;;\\nuse schema my_schema\",\n",
    "        \"\"\" /* -- ; */\\n\\ncreate or replace table my_table as\\nselect asdf, qwer, /* ;; -- ; */\\nreplace(\\'\"\";\\', \"\\';\\'\", asdf2) as asdf5\\nqwer2 from -- ;\\ntable2\"\"\",\n",
    "        \"\\n\\nuse schema_another_schema\",\n",
    "        \"\\n\"\n",
    "    ]\n",
    ")"
   ]
  },
  {
   "cell_type": "code",
   "execution_count": null,
   "metadata": {},
   "outputs": [],
   "source": [
    "#export\n",
    "def replace_newline_chars(s):\n",
    "    \"Replace newline characters in `s` by whitespace but not in the comments\"\n",
    "    positions = identify_in_sql(\"\\n\", s)\n",
    "    clean_s = \"\".join([c if i not in positions else \" \" for i, c in enumerate(s)])\n",
    "    return clean_s"
   ]
  },
  {
   "cell_type": "code",
   "execution_count": null,
   "metadata": {},
   "outputs": [],
   "source": [
    "assert_and_print(\n",
    "    replace_newline_chars(\n",
    "        \"select asdf,\\nqwer, /* some comment \\n with multiple lines \\n*/[C], some_field from\\n table\"\n",
    "    ),\n",
    "    \"select asdf, qwer, /* some comment \\n with multiple lines \\n*/[C], some_field from  table\"\n",
    ")"
   ]
  },
  {
   "cell_type": "markdown",
   "metadata": {},
   "source": [
    "Function to identify end of fields in SELECT. Usually this is a comma but more generally specially when using functions this strategy does not work anymore. For the sake of explanation, consider for instance\n",
    "\n",
    "`substr(asdf, 1, 2)`\n",
    "\n",
    "In that case, we would like to not add a newline for each comma."
   ]
  },
  {
   "cell_type": "code",
   "execution_count": null,
   "metadata": {},
   "outputs": [],
   "source": [
    "#export\n",
    "def identify_end_of_fields(s):\n",
    "    \"Identify end of fields in query `s`\"\n",
    "    # container for positions\n",
    "    end_of_fields = []\n",
    "    # counter for parenthesis and comments\n",
    "    k = 0\n",
    "    # loop over string characters\n",
    "    for i, c in enumerate(s):\n",
    "        if c == \",\" and k == 0:  # field without parenthesis or after closing parenthesis\n",
    "            after_c = s[i:i+6]\n",
    "            if not bool(re.search(r\"(?:--|\\/\\*|\\[C\\]|\\[CS\\])\", after_c)):\n",
    "                end_of_fields.append(i)\n",
    "        elif c == \"(\" or s[i:i+2] in (\"--\" ,\"/*\"): # if there is an opening parenthesis or comment\n",
    "            k += 1\n",
    "        elif c == \")\" or s[i:i+3] == \"[C]\":  # if there is a closing parenthesis or closing comment\n",
    "            k -= 1\n",
    "    return end_of_fields"
   ]
  },
  {
   "cell_type": "code",
   "execution_count": null,
   "metadata": {},
   "outputs": [],
   "source": [
    "assert_and_print(\n",
    "    identify_end_of_fields(\n",
    "\"\"\"\n",
    "select asdf, substr(asdf, 1, 2) as qwer, concat(substr(asdf, 1, 2), substr(asdf, 3, 2)) as qwer2, asdf5\n",
    "\"\"\"), \n",
    "    [12, 40, 97]\n",
    ")"
   ]
  },
  {
   "cell_type": "markdown",
   "metadata": {},
   "source": [
    "More advanced with comments"
   ]
  },
  {
   "cell_type": "code",
   "execution_count": null,
   "metadata": {},
   "outputs": [],
   "source": [
    "assert_and_print(identify_end_of_fields(\n",
    "\"\"\"\n",
    "select asdf, /* Some commnent */[C]qwerty, substr(asdf, 1, 2) as qwer, -- Some comment[C] asdf5\n",
    "\"\"\"), [42]\n",
    ")"
   ]
  },
  {
   "cell_type": "code",
   "execution_count": null,
   "metadata": {},
   "outputs": [],
   "source": [
    "assert_and_print(identify_end_of_fields(\n",
    "\"\"\"\n",
    "select asdf, [CS]/* Some commnent */[C]qwerty, substr(asdf, 1, 2) as qwer, -- Some comment[C] asdf5\n",
    "\"\"\"), [46]\n",
    ")"
   ]
  },
  {
   "cell_type": "markdown",
   "metadata": {},
   "source": [
    "Even more tricky with a comma inside comment"
   ]
  },
  {
   "cell_type": "code",
   "execution_count": null,
   "metadata": {},
   "outputs": [],
   "source": [
    "assert_and_print(identify_end_of_fields(\n",
    "\"\"\"\n",
    "select asdf, /* Some, commnent */[C]qwerty, substr(asdf, 1, 2) as qwer, -- Some, comment[C] asdf5\n",
    "\"\"\"), [43]\n",
    ")"
   ]
  },
  {
   "cell_type": "markdown",
   "metadata": {},
   "source": [
    "Having the end of fields positions, we need function to add a newline and proper indentation"
   ]
  },
  {
   "cell_type": "code",
   "execution_count": null,
   "metadata": {},
   "outputs": [],
   "source": [
    "#export\n",
    "def add_newline_indentation(s, indentation):\n",
    "    \"Add newline and indentation for end of fields in query `s`\"\n",
    "    split_s = []\n",
    "    positions = identify_end_of_fields(s)\n",
    "    if positions is []:\n",
    "        return s\n",
    "    else:  # add the first position 0\n",
    "        # add + 1 for the end position\n",
    "        positions = [0] + [pos + 1 for pos in positions]\n",
    "    for start, end in zip(positions, positions[1:]+[None]):\n",
    "        # strip from the left to remove whitespaces\n",
    "        split_s.append(s[start:end].lstrip())  # get string part\n",
    "        split_s.append(\"\\n\" + \" \" * indentation)  # add indentation\n",
    "    s = \"\".join(split_s)\n",
    "    s = s.strip()\n",
    "    return s"
   ]
  },
  {
   "cell_type": "code",
   "execution_count": null,
   "metadata": {},
   "outputs": [],
   "source": [
    "assert_and_print(\n",
    "    add_newline_indentation(\n",
    "        \"select asdf, substr(asdf, 1, 2) as qwer, concat(substr(asdf, 1, 2), substr(asdf, 3, 2)) as qwer2, asdf5\",\n",
    "        7\n",
    "    ),\n",
    "\"\"\"\n",
    "select asdf,\n",
    "       substr(asdf, 1, 2) as qwer,\n",
    "       concat(substr(asdf, 1, 2), substr(asdf, 3, 2)) as qwer2,\n",
    "       asdf5\n",
    "\"\"\".strip()\n",
    ")"
   ]
  },
  {
   "cell_type": "code",
   "execution_count": null,
   "metadata": {},
   "outputs": [],
   "source": [
    "assert_and_print(\n",
    "    add_newline_indentation(\n",
    "        \"select asdf, substr(asdf, 1, 2) as qwer, lead(qwer) OVER (partition by asdf order by qwer), asdf2\",\n",
    "        7\n",
    "    ),\n",
    "\"\"\"\n",
    "select asdf,\n",
    "       substr(asdf, 1, 2) as qwer,\n",
    "       lead(qwer) OVER (partition by asdf order by qwer),\n",
    "       asdf2\n",
    "\"\"\".strip()\n",
    ")"
   ]
  },
  {
   "cell_type": "code",
   "execution_count": null,
   "metadata": {},
   "outputs": [],
   "source": [
    "assert_and_print(\n",
    "    add_newline_indentation(\n",
    "        \"select asdf, replace(',', '', asdf) as qwer, lead(qwer) OVER (partition by asdf order by qwer), asdf2\",\n",
    "        7\n",
    "    ),\n",
    "\"\"\"\n",
    "select asdf,\n",
    "       replace(',', '', asdf) as qwer,\n",
    "       lead(qwer) OVER (partition by asdf order by qwer),\n",
    "       asdf2\n",
    "\"\"\".strip()\n",
    ")"
   ]
  },
  {
   "cell_type": "markdown",
   "metadata": {},
   "source": [
    "### Handling subqueries"
   ]
  },
  {
   "cell_type": "code",
   "execution_count": null,
   "metadata": {},
   "outputs": [],
   "source": [
    "#export\n",
    "def extract_outer_subquery(s):\n",
    "    \"Extract outer subquery in query `s`\"\n",
    "    # initialize container for subquery positions\n",
    "    # in string `s`\n",
    "    subquery_pos = []\n",
    "    # auxiliar indicator to get the subquery right\n",
    "    ind = True\n",
    "    # counter for parenthesis\n",
    "    k = 0\n",
    "    # loop over string characters\n",
    "    for i, c in enumerate(s):\n",
    "        if s[i:(i+8)] == \"(\\nSELECT\" and ind: # query start\n",
    "            subquery_pos.append(i)\n",
    "            k = 0  # set the parenthesis counter to 0\n",
    "            # turn off the indicator for the program to know\n",
    "            # that we already hit the subquery start\n",
    "            ind = False\n",
    "        elif c == \"(\": # if there is a parenthesis not involving a subquery\n",
    "            k += 1\n",
    "        elif c == \")\" and k == 0 and not ind: # end position for subquery\n",
    "            subquery_pos.append(i)\n",
    "            return subquery_pos\n",
    "        elif c == \")\":\n",
    "            k -= 1"
   ]
  },
  {
   "cell_type": "code",
   "execution_count": null,
   "metadata": {},
   "outputs": [],
   "source": [
    "assert (\n",
    "    extract_outer_subquery(\n",
    "        \"() () (\\nSELECT () (\\nSELECT ())) ()\"\n",
    "    ) == [6, 30]\n",
    ")"
   ]
  },
  {
   "cell_type": "code",
   "execution_count": null,
   "metadata": {},
   "outputs": [],
   "source": [
    "#export\n",
    "def format_subquery(s, previous_s):\n",
    "    \"Format subquery in line `s` based on indentation on `previous_s`\"\n",
    "    s = re.sub(r\"^\\(\\nSELECT\", \"(SELECT\", s)  # remove newline between parenthesis and SELECT\n",
    "    # get reference line for the indentation level\n",
    "    # and remove whitespaces from the left\n",
    "    last_line = previous_s.split(\"\\n\")[-1]\n",
    "    ref_line = last_line.lstrip()\n",
    "    # if the line contains a JOIN statement then indent with\n",
    "    # 4 whitespaces\n",
    "    if re.match(r\"\\w+ join\", ref_line, flags=re.I):\n",
    "        ref_line = \"    \" + ref_line\n",
    "    indentation = len(ref_line) + 1  # get indentation level\n",
    "    split_s = s.split(\"\\n\")  # get lines in subquery\n",
    "    indented_s = [\n",
    "        \" \" * indentation + line  # indent all lines the same\n",
    "        if not re.match(r\"SELECT\", line)\n",
    "        else line\n",
    "        for line in split_s[1:]\n",
    "    ]\n",
    "    # SELECT line + indented lines afterwards\n",
    "    formatted_split = [split_s[0]] + indented_s\n",
    "    # concatenate with newline character\n",
    "    formatted_s = \"\\n\".join(formatted_split)\n",
    "    return formatted_s"
   ]
  },
  {
   "cell_type": "markdown",
   "metadata": {},
   "source": [
    "### Query identification"
   ]
  },
  {
   "cell_type": "code",
   "execution_count": null,
   "metadata": {},
   "outputs": [],
   "source": [
    "#export\n",
    "def check_sql_query(s):\n",
    "    \"Checks whether `s` is a SQL query based on match of CREATE TABLE / VIEW or SELECT\"\n",
    "    return (bool(re.search(pattern=r\".*(?:select|create.{0,10}(?:table|view)).*\", string=s, flags=re.I)) and\n",
    "            not bool(re.search(pattern=r\"create(?!.*(?:table|view))\", string=s, flags=re.I)))"
   ]
  },
  {
   "cell_type": "code",
   "execution_count": null,
   "metadata": {},
   "outputs": [],
   "source": [
    "assert check_sql_query(\"\"\"\n",
    "--- Table 1---\n",
    "creaTe or replace table my_table as\n",
    "select asdf\n",
    "from table\n",
    "where asdf = 1\n",
    "\"\"\".strip())"
   ]
  },
  {
   "cell_type": "code",
   "execution_count": null,
   "metadata": {},
   "outputs": [],
   "source": [
    "assert check_sql_query(\"\"\"\n",
    "--- Table 1---\n",
    "creaTe or replace view my_table as\n",
    "select asdf\n",
    "from table\n",
    "where asdf = 1\n",
    "\"\"\".strip())"
   ]
  },
  {
   "cell_type": "code",
   "execution_count": null,
   "metadata": {},
   "outputs": [],
   "source": [
    "assert check_sql_query(\"\"\"\n",
    "SELECT qwer, asdf\n",
    "\"\"\")"
   ]
  },
  {
   "cell_type": "code",
   "execution_count": null,
   "metadata": {},
   "outputs": [],
   "source": [
    "assert not check_sql_query(\"use database my_database;\")"
   ]
  },
  {
   "cell_type": "code",
   "execution_count": null,
   "metadata": {},
   "outputs": [],
   "source": [
    "assert not check_sql_query(\"\"\"\n",
    "create or replace task my_task as\n",
    "\"\"\")"
   ]
  },
  {
   "cell_type": "code",
   "execution_count": null,
   "metadata": {},
   "outputs": [],
   "source": [
    "assert not check_sql_query(\"\"\"\n",
    "create or replace task my_task as\n",
    "create or replace table as\n",
    "select asdf\n",
    "\"\"\")"
   ]
  },
  {
   "cell_type": "code",
   "execution_count": null,
   "metadata": {},
   "outputs": [],
   "source": [
    "assert not check_sql_query(\"\"\"\n",
    "\n",
    "use schema my_schema;\n",
    "\"\"\")"
   ]
  },
  {
   "cell_type": "markdown",
   "metadata": {},
   "source": [
    "### Marker to not format queries specified by the user"
   ]
  },
  {
   "cell_type": "code",
   "execution_count": null,
   "metadata": {},
   "outputs": [],
   "source": [
    "#export\n",
    "def check_skip_marker(s):\n",
    "    \"Checks whether user set marker /*skip-formatter*/ to not format query\"\n",
    "    return bool(re.search(r\"\\/\\*skip-formatter\\*\\/\", s))"
   ]
  },
  {
   "cell_type": "code",
   "execution_count": null,
   "metadata": {},
   "outputs": [],
   "source": [
    "assert check_skip_marker(\"\"\"\n",
    "SELECT asdf,\n",
    " qwer,\n",
    " /*skip-formatter*/\n",
    " asdf2\n",
    "FRoM table1\n",
    "\"\"\")"
   ]
  },
  {
   "cell_type": "code",
   "execution_count": null,
   "metadata": {},
   "outputs": [],
   "source": [
    "assert not check_skip_marker(\"\"\"\n",
    "SELECT asdf,\n",
    " qwer,\n",
    " asdf2\n",
    "FRoM table1\n",
    "\"\"\")"
   ]
  },
  {
   "cell_type": "markdown",
   "metadata": {},
   "source": [
    "#### Check lines were CREATE .. TABLE / VIEW appear\n",
    "\n",
    "This will be used for query split validation. After splitting by individual queries, if the statement CREATE .. TABLE / VIEW appears twice then the user most probably has forgotten a semicolon"
   ]
  },
  {
   "cell_type": "code",
   "execution_count": null,
   "metadata": {},
   "outputs": [],
   "source": [
    "#export\n",
    "def identify_create_table_view(s):\n",
    "    \"Identify positions of CREATE .. TABLE / VIEW statements\"\n",
    "    split_s = split_comment_non_comment(s)\n",
    "    s_without_comments = \"\".join([sd[\"string\"] for sd in split_s if not sd[\"comment\"]])\n",
    "    s_lines = s_without_comments.split(\"\\n\")\n",
    "    line_numbers = [\n",
    "        i + 1\n",
    "        for i, line in enumerate(s_lines)\n",
    "        if re.search(\"(?:create.*?table|create.*?view)\", line, flags=re.I)        \n",
    "    ]\n",
    "    return line_numbers"
   ]
  },
  {
   "cell_type": "code",
   "execution_count": null,
   "metadata": {},
   "outputs": [],
   "source": [
    "assert_and_print(\n",
    "    identify_create_table_view(\n",
    "\"\"\"\n",
    "cReate or Replace table my_table as\n",
    "select asdf, qwer\n",
    "from table1\n",
    "\n",
    "create table qwerty as\n",
    "select field, field2\n",
    "from table2;\n",
    "\"\"\"\n",
    "    ), [2, 6]\n",
    ")"
   ]
  },
  {
   "cell_type": "code",
   "execution_count": null,
   "metadata": {},
   "outputs": [],
   "source": [
    "#export\n",
    "def count_lines(s):\n",
    "    \"Count the number of lines in `s`\"\n",
    "    return s.count(\"\\n\")"
   ]
  },
  {
   "cell_type": "code",
   "execution_count": null,
   "metadata": {},
   "outputs": [],
   "source": [
    "assert_and_print(\n",
    "    count_lines(\n",
    "\"\"\"\n",
    "cReate or Replace table my_table as\n",
    "select asdf, qwer\n",
    "from table1\n",
    "\n",
    "create table qwerty as\n",
    "select field, field2\n",
    "from table2;\n",
    "\"\"\"\n",
    "    ), 8\n",
    ")"
   ]
  },
  {
   "cell_type": "code",
   "execution_count": null,
   "metadata": {},
   "outputs": [],
   "source": [
    "#export\n",
    "def find_line_number(s, positions):\n",
    "    \"Find line number in `s` out of `positions`\"\n",
    "    return [s[0:pos].count(\"\\n\") + 1 for pos in positions]"
   ]
  },
  {
   "cell_type": "code",
   "execution_count": null,
   "metadata": {},
   "outputs": [],
   "source": [
    "assert_and_print(\n",
    "    find_line_number(\n",
    "\"\"\"\n",
    "cReate or Replace table my_table as\n",
    "select asdf, qwer\n",
    "from table1\n",
    "\n",
    "create table qwerty as\n",
    "select field, field2\n",
    "from table2;\n",
    "\"\"\", [1, 68]),\n",
    "    [2, 6]\n",
    ")"
   ]
  },
  {
   "cell_type": "code",
   "execution_count": null,
   "metadata": {},
   "outputs": [],
   "source": [
    "#hide\n",
    "from nbdev.export import notebook2script\n",
    "notebook2script()"
   ]
  }
 ],
 "metadata": {
  "kernelspec": {
   "display_name": "Python [conda env:sql-formatter-dev] *",
   "language": "python",
   "name": "conda-env-sql-formatter-dev-py"
  }
 },
 "nbformat": 4,
 "nbformat_minor": 2
}
