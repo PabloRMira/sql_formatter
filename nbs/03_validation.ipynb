{
 "cells": [
  {
   "cell_type": "code",
   "execution_count": null,
   "metadata": {},
   "outputs": [
    {
     "name": "stdout",
     "output_type": "stream",
     "text": [
      "The autoreload extension is already loaded. To reload it, use:\n",
      "  %reload_ext autoreload\n"
     ]
    }
   ],
   "source": [
    "#hide\n",
    "%load_ext autoreload\n",
    "%autoreload 2\n",
    "%config Completer.use_jedi = False  # workaround for buggy jedi"
   ]
  },
  {
   "cell_type": "code",
   "execution_count": null,
   "metadata": {},
   "outputs": [],
   "source": [
    "# default_exp validation"
   ]
  },
  {
   "cell_type": "code",
   "execution_count": null,
   "metadata": {},
   "outputs": [],
   "source": [
    "#export\n",
    "from sql_formatter.utils import *"
   ]
  },
  {
   "cell_type": "markdown",
   "metadata": {},
   "source": [
    "# validation\n",
    "\n",
    "> Functions for basic SQL validation"
   ]
  },
  {
   "cell_type": "code",
   "execution_count": null,
   "metadata": {},
   "outputs": [],
   "source": [
    "#hide\n",
    "from nbdev.showdoc import *"
   ]
  },
  {
   "cell_type": "markdown",
   "metadata": {},
   "source": [
    "## Motivation\n",
    "\n",
    "Sometimes, users may make some syntax errors that in turn makes the formatter fail. We want therefore to catch this errors before formatting and give the user a hint to where the error lies"
   ]
  },
  {
   "cell_type": "markdown",
   "metadata": {},
   "source": [
    "### Missing semicolon to separate queries\n",
    "\n",
    "One mistake that would make the formatter fail is if the SQL queries are not properly delimited by semicolon. We therefore make a basic validation and look for the keyword CREATE appearing twice in a query. As this cannot happen within one query, the validation should fail and point the user out that she / he may have forgotten a semicolon"
   ]
  },
  {
   "cell_type": "code",
   "execution_count": null,
   "metadata": {},
   "outputs": [],
   "source": [
    "#export\n",
    "def validate_semicolon(s):\n",
    "    \"\"\"Validate query `s` by looking for forgotten semicolon. \n",
    "    The implication could be the keyword CREATE appearing twice\"\"\"\n",
    "    positions = identify_create(s)\n",
    "    if len(positions) > 1:\n",
    "        validation = {\n",
    "            \"exit_code\": 1,\n",
    "            \"val_lines\": find_line_number(s, positions),\n",
    "            \"total_lines\": count_lines(s)\n",
    "        }\n",
    "    else:\n",
    "        validation = {\n",
    "            \"exit_code\": 0,\n",
    "            \"total_lines\": count_lines(s)\n",
    "        }\n",
    "    return validation"
   ]
  },
  {
   "cell_type": "code",
   "execution_count": null,
   "metadata": {},
   "outputs": [
    {
     "name": "stdout",
     "output_type": "stream",
     "text": [
      "{'exit_code': 1, 'val_lines': [2, 5], 'total_lines': 5}\n"
     ]
    }
   ],
   "source": [
    "assert_and_print(\n",
    "    validate_semicolon(\n",
    "\"\"\"\n",
    "create or replace table my_table as\n",
    "select asdf, qwer from table1\n",
    "\n",
    "create view my_view as select asdf from my_table\n",
    "\"\"\"\n",
    "    ), {\"exit_code\": 1, \"val_lines\": [2, 5], \"total_lines\": 5}\n",
    ")"
   ]
  },
  {
   "cell_type": "code",
   "execution_count": null,
   "metadata": {},
   "outputs": [
    {
     "name": "stdout",
     "output_type": "stream",
     "text": [
      "{'exit_code': 0, 'total_lines': 4}\n"
     ]
    }
   ],
   "source": [
    "assert_and_print(\n",
    "    validate_semicolon(\n",
    "\"\"\"\n",
    "create or replace table my_table as\n",
    "select asdf, qwer from table1\n",
    "\n",
    "\"\"\"\n",
    "    ), {\"exit_code\": 0, \"total_lines\": 4}\n",
    ")"
   ]
  },
  {
   "cell_type": "code",
   "execution_count": null,
   "metadata": {},
   "outputs": [
    {
     "name": "stdout",
     "output_type": "stream",
     "text": [
      "Converted 00_core.ipynb.\n",
      "Converted 01_format_file.ipynb.\n",
      "Converted 02_utils.ipynb.\n",
      "Converted 03_validation.ipynb.\n",
      "Converted index.ipynb.\n"
     ]
    }
   ],
   "source": [
    "#hide\n",
    "from nbdev.export import notebook2script\n",
    "notebook2script()"
   ]
  }
 ],
 "metadata": {
  "kernelspec": {
   "display_name": "Python [conda env:sql-formatter-dev] *",
   "language": "python",
   "name": "conda-env-sql-formatter-dev-py"
  }
 },
 "nbformat": 4,
 "nbformat_minor": 2
}
