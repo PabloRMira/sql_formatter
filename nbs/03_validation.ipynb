{
 "cells": [
  {
   "cell_type": "code",
   "execution_count": null,
   "metadata": {},
   "outputs": [],
   "source": [
    "#hide\n",
    "%load_ext autoreload\n",
    "%autoreload 2\n",
    "%config Completer.use_jedi = False  # workaround for buggy jedi"
   ]
  },
  {
   "cell_type": "code",
   "execution_count": null,
   "metadata": {},
   "outputs": [],
   "source": [
    "# default_exp validation"
   ]
  },
  {
   "cell_type": "code",
   "execution_count": null,
   "metadata": {},
   "outputs": [],
   "source": [
    "#export\n",
    "import math\n",
    "from sql_formatter.utils import *"
   ]
  },
  {
   "cell_type": "markdown",
   "metadata": {},
   "source": [
    "# validation\n",
    "\n",
    "> Functions for basic SQL validation"
   ]
  },
  {
   "cell_type": "code",
   "execution_count": null,
   "metadata": {},
   "outputs": [],
   "source": [
    "#hide\n",
    "from nbdev.showdoc import *"
   ]
  },
  {
   "cell_type": "markdown",
   "metadata": {},
   "source": [
    "## Motivation\n",
    "\n",
    "Sometimes, users may make some syntax errors that in turn makes the formatter fail. We want therefore to catch this errors before formatting and give the user a hint to where the error lies"
   ]
  },
  {
   "cell_type": "markdown",
   "metadata": {},
   "source": [
    "### Missing semicolon to separate queries\n",
    "\n",
    "One mistake that would make the formatter fail is if the SQL queries are not properly delimited by semicolon. We therefore make a basic validation and look for the keyword CREATE appearing twice in a query. As this cannot happen within one query, the validation should fail and point the user out that she / he may have forgotten a semicolon"
   ]
  },
  {
   "cell_type": "code",
   "execution_count": null,
   "metadata": {},
   "outputs": [],
   "source": [
    "#export\n",
    "def validate_semicolon(s):\n",
    "    \"\"\"Validate query `s` by looking for forgotten semicolon. \n",
    "    The implication could be the keyword CREATE appearing twice\"\"\"\n",
    "    positions = identify_create_table_view(s)\n",
    "    validation = {\n",
    "        \"exit_code\": 0,\n",
    "        \"total_lines\": count_lines(s)\n",
    "    }\n",
    "    if len(positions) > 1:\n",
    "        validation[\"exit_code\"] = 1\n",
    "        validation[\"val_lines\"] = positions\n",
    "    return validation"
   ]
  },
  {
   "cell_type": "code",
   "execution_count": null,
   "metadata": {},
   "outputs": [
    {
     "name": "stdout",
     "output_type": "stream",
     "text": [
      "{'exit_code': 1, 'total_lines': 5, 'val_lines': [2, 5]}\n"
     ]
    }
   ],
   "source": [
    "assert_and_print(\n",
    "    validate_semicolon(\n",
    "\"\"\"\n",
    "create or replace table my_table as\n",
    "select asdf, qwer from table1\n",
    "\n",
    "create view my_view as select asdf from my_table\n",
    "\"\"\"\n",
    "    ), {\"exit_code\": 1, \"val_lines\": [2, 5], \"total_lines\": 5}\n",
    ")"
   ]
  },
  {
   "cell_type": "markdown",
   "metadata": {},
   "source": [
    "This should not throw an error because it is not CREATE TABLE / VIEW twice but CREATE TASK + CREATE TABLE"
   ]
  },
  {
   "cell_type": "code",
   "execution_count": null,
   "metadata": {},
   "outputs": [
    {
     "name": "stdout",
     "output_type": "stream",
     "text": [
      "{'exit_code': 0, 'total_lines': 5}\n"
     ]
    }
   ],
   "source": [
    "assert_and_print(\n",
    "    validate_semicolon(\n",
    "\"\"\"\n",
    "create or replace task my_task as\n",
    "create or replace table my_table as\n",
    "select asdf, qwer from table1;\n",
    "\n",
    "\"\"\"\n",
    "    ), {\"exit_code\": 0, \"total_lines\": 5}\n",
    ")"
   ]
  },
  {
   "cell_type": "code",
   "execution_count": null,
   "metadata": {},
   "outputs": [
    {
     "name": "stdout",
     "output_type": "stream",
     "text": [
      "{'exit_code': 0, 'total_lines': 4}\n"
     ]
    }
   ],
   "source": [
    "assert_and_print(\n",
    "    validate_semicolon(\n",
    "\"\"\"\n",
    "create or replace table my_table as\n",
    "select asdf, qwer from table1\n",
    "\n",
    "\"\"\"\n",
    "    ), {\"exit_code\": 0, \"total_lines\": 4}\n",
    ")"
   ]
  },
  {
   "cell_type": "markdown",
   "metadata": {},
   "source": [
    "### Unbalanced parenthesis"
   ]
  },
  {
   "cell_type": "code",
   "execution_count": null,
   "metadata": {},
   "outputs": [],
   "source": [
    "#export\n",
    "def validate_balanced_parenthesis(s):\n",
    "    \"\"\"Validate query `s` by looking for\n",
    "    unbalanced parenthesis\n",
    "    \n",
    "    exit_code:\n",
    "    * 0 = balanced parenthesis\n",
    "    * 1 = unbalanced parenthesis, too many (\n",
    "    * 2 = unbalanced parenthesis, too many )\n",
    "    \"\"\"\n",
    "    positions = []  # container for position of unbalanced parenthesis\n",
    "    # counter for comments\n",
    "    k = 0  # 0 = no comment range\n",
    "    comment_open1 = False # comment indicator for /* */ comments\n",
    "    comment_open2 = False  # comment indicator for -- comments\n",
    "    quote_open1 = False  # quote '\n",
    "    quote_open2 = False # quote \"\n",
    "    for i, c in enumerate(s):\n",
    "        if c == \"(\" and k == 0:\n",
    "            positions.append(i)\n",
    "        elif c == \")\" and k == 0:\n",
    "            if len(positions) == 0:\n",
    "                return {\n",
    "                    \"exit_code\": 1,\n",
    "                    \"val_lines\": find_line_number(s, [i]),\n",
    "                    \"total_lines\": count_lines(s)\n",
    "                }\n",
    "            else:\n",
    "                positions.pop()\n",
    "        elif (\n",
    "            s[i:i+2] == \"/*\" and \n",
    "            not comment_open1 and \n",
    "            not comment_open2 and\n",
    "            not quote_open1 and \n",
    "            not quote_open2 \n",
    "        ):  # if there is an opening comment /*\n",
    "            k += 1\n",
    "            comment_open1 = True\n",
    "        elif (\n",
    "            s[i:i+2] == \"*/\" and\n",
    "            comment_open1 and\n",
    "            not comment_open2 and\n",
    "            not quote_open1 and\n",
    "            not quote_open2\n",
    "        ):  # if there is a closing comment */\n",
    "            k -= 1\n",
    "            comment_open1 = False\n",
    "        elif (\n",
    "            s[i:i+2] == \"--\" and \n",
    "            not comment_open1 and \n",
    "            not comment_open2 and\n",
    "            not quote_open1 and \n",
    "            not quote_open2 \n",
    "        ):  # if there is an opening comment --\n",
    "            k += 1\n",
    "            comment_open2 = True\n",
    "        elif (\n",
    "            (c == \"\\n\" or s[i:i+3] == \"[c]\") and\n",
    "            not comment_open1 and\n",
    "            comment_open2 and\n",
    "            not quote_open1 and\n",
    "            not quote_open2\n",
    "        ):  # if the -- comment ends\n",
    "            k -= 1\n",
    "            comment_open2 = False\n",
    "        elif (\n",
    "            c == \"'\" and\n",
    "            not comment_open1 and \n",
    "            not comment_open2 and\n",
    "            not quote_open1 and \n",
    "            not quote_open2            \n",
    "        ):  # if opening quote '\n",
    "            k += 1\n",
    "            quote_open1 = True\n",
    "        elif (\n",
    "            c == \"'\" and\n",
    "            not comment_open1 and \n",
    "            not comment_open2 and\n",
    "            quote_open1 and \n",
    "            not quote_open2            \n",
    "        ):  # if opening quote '\n",
    "            k -= 1\n",
    "            quote_open1 = False\n",
    "        elif (\n",
    "            c == '\"' and\n",
    "            not comment_open1 and \n",
    "            not comment_open2 and\n",
    "            not quote_open1 and \n",
    "            quote_open2            \n",
    "        ):  # if opening quote '\n",
    "            k += 1\n",
    "            quote_open2 = True\n",
    "        elif (\n",
    "            c == '\"' and\n",
    "            not comment_open1 and \n",
    "            not comment_open2 and\n",
    "            not quote_open1 and \n",
    "            quote_open2            \n",
    "        ):  # if opening quote '\n",
    "            k -= 1\n",
    "            quote_open2 = False\n",
    "    if len(positions) == 0:\n",
    "        return {\n",
    "            \"exit_code\": 0,\n",
    "            \"total_lines\": count_lines(s)\n",
    "        }\n",
    "    else:\n",
    "        return {\n",
    "            \"exit_code\": 1,\n",
    "            \"val_lines\": find_line_number(s, positions),                \n",
    "            \"total_lines\": count_lines(s)\n",
    "        }"
   ]
  },
  {
   "cell_type": "code",
   "execution_count": null,
   "metadata": {},
   "outputs": [
    {
     "data": {
      "text/plain": [
       "{'exit_code': 0, 'total_lines': 0}"
      ]
     },
     "execution_count": null,
     "metadata": {},
     "output_type": "execute_result"
    }
   ],
   "source": [
    "    validate_balanced_parenthesis(\"() () ( () )\")"
   ]
  },
  {
   "cell_type": "code",
   "execution_count": null,
   "metadata": {},
   "outputs": [
    {
     "name": "stdout",
     "output_type": "stream",
     "text": [
      "{'exit_code': 0, 'total_lines': 0}\n"
     ]
    }
   ],
   "source": [
    "assert_and_print(\n",
    "    validate_balanced_parenthesis(\"() () ( () )\"),\n",
    "    {\"exit_code\": 0, \"total_lines\": 0}\n",
    ")"
   ]
  },
  {
   "cell_type": "code",
   "execution_count": null,
   "metadata": {},
   "outputs": [
    {
     "name": "stdout",
     "output_type": "stream",
     "text": [
      "{'exit_code': 1, 'val_lines': [2, 5], 'total_lines': 5}\n"
     ]
    }
   ],
   "source": [
    "assert_and_print(\n",
    "    validate_balanced_parenthesis(\n",
    "\"\"\"\n",
    "(\n",
    "(\n",
    ")\n",
    "(\n",
    "\"\"\"\n",
    "    ),\n",
    "    {\"exit_code\": 1, \"val_lines\": [2, 5], \"total_lines\": 5}\n",
    ")"
   ]
  },
  {
   "cell_type": "code",
   "execution_count": null,
   "metadata": {},
   "outputs": [
    {
     "name": "stdout",
     "output_type": "stream",
     "text": [
      "{'exit_code': 1, 'val_lines': [4], 'total_lines': 4}\n"
     ]
    }
   ],
   "source": [
    "assert_and_print(\n",
    "    validate_balanced_parenthesis(\n",
    "\"\"\"\n",
    "( )\n",
    "-- ) ( )( ) ()\n",
    ")\n",
    "\"\"\"\n",
    "    ),\n",
    "    {\"exit_code\": 1, \"val_lines\": [4], \"total_lines\": 4}\n",
    ")"
   ]
  },
  {
   "cell_type": "code",
   "execution_count": null,
   "metadata": {},
   "outputs": [
    {
     "name": "stdout",
     "output_type": "stream",
     "text": [
      "{'exit_code': 0, 'total_lines': 0}\n"
     ]
    }
   ],
   "source": [
    "assert_and_print(\n",
    "    validate_balanced_parenthesis(\"( )( )\"),\n",
    "    {\"exit_code\": 0, \"total_lines\": 0}\n",
    ")"
   ]
  },
  {
   "cell_type": "markdown",
   "metadata": {},
   "source": [
    "### Unbalanced `case` ... `end`\n",
    "\n",
    "Sometimes we may forget to write the end of a case statement"
   ]
  },
  {
   "cell_type": "code",
   "execution_count": null,
   "metadata": {},
   "outputs": [],
   "source": [
    "#export\n",
    "def validate_case_when(s):\n",
    "    \"Validate query `s` looking for unbalanced case ... end\"\n",
    "    case_pos = identify_in_sql(\"case \", s)  # positions of case when\n",
    "    end_pos = identify_in_sql(\"end\", s)  # positions of end keywords\n",
    "    if len(case_pos) == len(end_pos):\n",
    "        # build pairs\n",
    "        case_end = [(case_pos[i], end_pos[i]) for i in range(len(case_pos))]\n",
    "    else:\n",
    "        # if not same lenght then right padding\n",
    "        case_pos_len = len(case_pos)\n",
    "        end_pos_len = len(end_pos)\n",
    "        max_case_end = max(case_pos_len, end_pos_len)  # maximal positions\n",
    "        case_pos = case_pos + [math.inf] * (max_case_end - case_pos_len)\n",
    "        end_pos = end_pos + [-1] * (max_case_end - end_pos_len)\n",
    "        case_end = [(case_pos[i], end_pos[i]) for i in range(max_case_end)]\n",
    "    val_positions = []\n",
    "    for case, end in case_end:\n",
    "        # if case is missing, then case = infinity > end\n",
    "        # if end is missing, then end = -1 < case\n",
    "        if case > end:\n",
    "            val_positions.append((case, end))\n",
    "    validation = {\n",
    "        \"exit_code\": 0,\n",
    "        \"total_lines\": count_lines(s)\n",
    "    }    \n",
    "    if len(val_positions) > 0:\n",
    "        # get line numbers\n",
    "        val_lines = [\n",
    "            find_line_number(s, [start])[0] if start != math.inf \n",
    "            else find_line_number(s, [end])[0]\n",
    "            for start, end in val_positions\n",
    "        ]\n",
    "        validation[\"exit_code\"] = 1\n",
    "        validation[\"val_lines\"] = val_lines\n",
    "    return validation"
   ]
  },
  {
   "cell_type": "code",
   "execution_count": null,
   "metadata": {},
   "outputs": [
    {
     "name": "stdout",
     "output_type": "stream",
     "text": [
      "{'exit_code': 1, 'total_lines': 5, 'val_lines': [3]}\n"
     ]
    }
   ],
   "source": [
    "assert_and_print(\n",
    "    validate_case_when(\n",
    "\"\"\"\n",
    "select asdf,\n",
    "case when bla bla as asdf, -- some case when in comments\n",
    "qwer\n",
    "from table1\n",
    "\"\"\"\n",
    "    ),\n",
    "    {\"exit_code\": 1, \"val_lines\": [3], \"total_lines\": 5}\n",
    ")"
   ]
  },
  {
   "cell_type": "code",
   "execution_count": null,
   "metadata": {},
   "outputs": [
    {
     "name": "stdout",
     "output_type": "stream",
     "text": [
      "{'exit_code': 0, 'total_lines': 5}\n"
     ]
    }
   ],
   "source": [
    "assert_and_print(\n",
    "    validate_case_when(\n",
    "\"\"\"\n",
    "select asdf,\n",
    "case when bla bla end as asdf, -- some case when in comments\n",
    "qwer\n",
    "from table1\n",
    "\"\"\"\n",
    "    ),\n",
    "    {\"exit_code\": 0, \"total_lines\": 5}\n",
    ")"
   ]
  },
  {
   "cell_type": "code",
   "execution_count": null,
   "metadata": {},
   "outputs": [
    {
     "name": "stdout",
     "output_type": "stream",
     "text": [
      "{'exit_code': 1, 'total_lines': 6, 'val_lines': [5]}\n"
     ]
    }
   ],
   "source": [
    "assert_and_print(\n",
    "    validate_case_when(\n",
    "\"\"\"\n",
    "select asdf,\n",
    "case when bla bla end as asdf, -- some case when in comments\n",
    "qwer,\n",
    "case when something else as qwer\n",
    "from table1\n",
    "\"\"\"\n",
    "    ),\n",
    "    {\"exit_code\": 1, \"val_lines\": [5], \"total_lines\": 6}\n",
    ")"
   ]
  },
  {
   "cell_type": "code",
   "execution_count": null,
   "metadata": {},
   "outputs": [
    {
     "name": "stdout",
     "output_type": "stream",
     "text": [
      "{'exit_code': 1, 'total_lines': 5, 'val_lines': [3]}\n"
     ]
    }
   ],
   "source": [
    "assert_and_print(\n",
    "    validate_case_when(\n",
    "\"\"\"\n",
    "select asdf,\n",
    "when bla bla end as asdf, -- some case when in comments\n",
    "qwer\n",
    "from table1\n",
    "\"\"\"\n",
    "    ),\n",
    "    {\"exit_code\": 1, \"val_lines\": [3], \"total_lines\": 5}\n",
    ")"
   ]
  },
  {
   "cell_type": "code",
   "execution_count": null,
   "metadata": {},
   "outputs": [
    {
     "name": "stdout",
     "output_type": "stream",
     "text": [
      "Assertion failed\n",
      "\n",
      "Observed:\n",
      "\n",
      "{'exit_code': 1, 'total_lines': 14, 'val_lines': [11]}\n",
      "\n",
      "\n",
      "Expected:\n",
      "\n",
      "{'exit_code': 0, 'total_lines': 14}\n"
     ]
    },
    {
     "ename": "KeyError",
     "evalue": "0",
     "output_type": "error",
     "traceback": [
      "\u001b[0;31m-----------------------------------------------------------------------\u001b[0m",
      "\u001b[0;31mAssertionError\u001b[0m                        Traceback (most recent call last)",
      "\u001b[0;32m~/Dokumente/Python_Stuff/Projekte/sql_formatter/sql_formatter/utils.py\u001b[0m in \u001b[0;36massert_and_print\u001b[0;34m(s_in, s_expected)\u001b[0m\n\u001b[1;32m     18\u001b[0m     \u001b[0;32mtry\u001b[0m\u001b[0;34m:\u001b[0m\u001b[0;34m\u001b[0m\u001b[0;34m\u001b[0m\u001b[0m\n\u001b[0;32m---> 19\u001b[0;31m         \u001b[0;32massert\u001b[0m \u001b[0ms_in\u001b[0m \u001b[0;34m==\u001b[0m \u001b[0ms_expected\u001b[0m\u001b[0;34m\u001b[0m\u001b[0;34m\u001b[0m\u001b[0m\n\u001b[0m\u001b[1;32m     20\u001b[0m     \u001b[0;32mexcept\u001b[0m\u001b[0;34m:\u001b[0m\u001b[0;34m\u001b[0m\u001b[0;34m\u001b[0m\u001b[0m\n",
      "\u001b[0;31mAssertionError\u001b[0m: ",
      "\nDuring handling of the above exception, another exception occurred:\n",
      "\u001b[0;31mKeyError\u001b[0m                              Traceback (most recent call last)",
      "\u001b[0;32m<ipython-input-22-8586cd8649eb>\u001b[0m in \u001b[0;36m<module>\u001b[0;34m\u001b[0m\n\u001b[1;32m     17\u001b[0m \"\"\"\n\u001b[1;32m     18\u001b[0m     ),\n\u001b[0;32m---> 19\u001b[0;31m     \u001b[0;34m{\u001b[0m\u001b[0;34m\"exit_code\"\u001b[0m\u001b[0;34m:\u001b[0m \u001b[0;36m0\u001b[0m\u001b[0;34m,\u001b[0m \u001b[0;34m\"total_lines\"\u001b[0m\u001b[0;34m:\u001b[0m \u001b[0;36m14\u001b[0m\u001b[0;34m}\u001b[0m\u001b[0;34m\u001b[0m\u001b[0;34m\u001b[0m\u001b[0m\n\u001b[0m\u001b[1;32m     20\u001b[0m )\n",
      "\u001b[0;32m~/Dokumente/Python_Stuff/Projekte/sql_formatter/sql_formatter/utils.py\u001b[0m in \u001b[0;36massert_and_print\u001b[0;34m(s_in, s_expected)\u001b[0m\n\u001b[1;32m     26\u001b[0m         \u001b[0mprint\u001b[0m\u001b[0;34m(\u001b[0m\u001b[0ms_expected\u001b[0m\u001b[0;34m)\u001b[0m\u001b[0;34m\u001b[0m\u001b[0;34m\u001b[0m\u001b[0m\n\u001b[1;32m     27\u001b[0m         \u001b[0;32mfor\u001b[0m \u001b[0mi\u001b[0m \u001b[0;32min\u001b[0m \u001b[0mrange\u001b[0m\u001b[0;34m(\u001b[0m\u001b[0mmin\u001b[0m\u001b[0;34m(\u001b[0m\u001b[0mlen\u001b[0m\u001b[0;34m(\u001b[0m\u001b[0ms_in\u001b[0m\u001b[0;34m)\u001b[0m\u001b[0;34m,\u001b[0m \u001b[0mlen\u001b[0m\u001b[0;34m(\u001b[0m\u001b[0ms_expected\u001b[0m\u001b[0;34m)\u001b[0m\u001b[0;34m)\u001b[0m\u001b[0;34m)\u001b[0m\u001b[0;34m:\u001b[0m\u001b[0;34m\u001b[0m\u001b[0;34m\u001b[0m\u001b[0m\n\u001b[0;32m---> 28\u001b[0;31m             \u001b[0;32mif\u001b[0m \u001b[0ms_in\u001b[0m\u001b[0;34m[\u001b[0m\u001b[0mi\u001b[0m\u001b[0;34m]\u001b[0m \u001b[0;34m!=\u001b[0m \u001b[0ms_expected\u001b[0m\u001b[0;34m[\u001b[0m\u001b[0mi\u001b[0m\u001b[0;34m]\u001b[0m\u001b[0;34m:\u001b[0m\u001b[0;34m\u001b[0m\u001b[0;34m\u001b[0m\u001b[0m\n\u001b[0m\u001b[1;32m     29\u001b[0m                 \u001b[0;32mbreak\u001b[0m\u001b[0;34m\u001b[0m\u001b[0;34m\u001b[0m\u001b[0m\n\u001b[1;32m     30\u001b[0m         \u001b[0mprint\u001b[0m\u001b[0;34m(\u001b[0m\u001b[0;34mf\"Exception found at position {i}:\\n\"\u001b[0m\u001b[0;34m)\u001b[0m\u001b[0;34m\u001b[0m\u001b[0;34m\u001b[0m\u001b[0m\n",
      "\u001b[0;31mKeyError\u001b[0m: 0"
     ]
    }
   ],
   "source": [
    "assert_and_print(\n",
    "    validate_case_when(\n",
    "\"\"\"\n",
    "create or replace transient table my_table as /* some table */\n",
    "select asdf,\n",
    "qwer,\n",
    "case when asdf >=1 \n",
    "and -- some comment\n",
    "asdf<=10 and substr(qwer, 1, 2) = 'abc' \n",
    "and -- some comment\n",
    "substr(qwer, 3, 2) = 'qwerty' then 1 /* another comment */\n",
    "    else 0 end as case_field,\n",
    "substr(case when asdf=1 then 'a' else 'b' end, 1, 2) as end_file,\n",
    "asdf2,\n",
    "asdf3\n",
    "from table1\n",
    "\"\"\"\n",
    "    ),\n",
    "    {\"exit_code\": 0, \"total_lines\": 14}\n",
    ")"
   ]
  },
  {
   "cell_type": "code",
   "execution_count": null,
   "metadata": {},
   "outputs": [
    {
     "name": "stdout",
     "output_type": "stream",
     "text": [
      "Converted 00_core.ipynb.\n",
      "Converted 01_format_file.ipynb.\n",
      "Converted 02_utils.ipynb.\n",
      "Converted 03_validation.ipynb.\n",
      "Converted 04_release.ipynb.\n",
      "Converted index.ipynb.\n"
     ]
    }
   ],
   "source": [
    "#hide\n",
    "from nbdev.export import notebook2script\n",
    "notebook2script()"
   ]
  }
 ],
 "metadata": {
  "kernelspec": {
   "display_name": "Python [conda env:sql-formatter-dev] *",
   "language": "python",
   "name": "conda-env-sql-formatter-dev-py"
  }
 },
 "nbformat": 4,
 "nbformat_minor": 2
}
