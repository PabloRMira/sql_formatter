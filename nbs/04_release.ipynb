{
 "cells": [
  {
   "cell_type": "code",
   "execution_count": null,
   "metadata": {},
   "outputs": [],
   "source": [
    "#hide\n",
    "%load_ext autoreload\n",
    "%autoreload 2\n",
    "%config Completer.use_jedi = False  # workaround for buggy jedi"
   ]
  },
  {
   "cell_type": "code",
   "execution_count": null,
   "metadata": {},
   "outputs": [],
   "source": [
    "# default_exp release"
   ]
  },
  {
   "cell_type": "markdown",
   "metadata": {},
   "source": [
    "# release\n",
    "\n",
    "> Functions to manage releases and changelog programmatically"
   ]
  },
  {
   "cell_type": "code",
   "execution_count": null,
   "metadata": {},
   "outputs": [],
   "source": [
    "#hide\n",
    "from nbdev.showdoc import *"
   ]
  },
  {
   "cell_type": "code",
   "execution_count": null,
   "metadata": {},
   "outputs": [],
   "source": [
    "#export\n",
    "import os\n",
    "import re\n",
    "import subprocess\n",
    "from fastcore.script import call_parse\n",
    "from configparser import ConfigParser\n",
    "from pathlib import Path"
   ]
  },
  {
   "cell_type": "code",
   "execution_count": null,
   "metadata": {},
   "outputs": [],
   "source": [
    "#export\n",
    "def get_last_tag():\n",
    "    \"Get latest git tag\"\n",
    "    return subprocess.run([\"git\", \"describe\", \"--tags\", \"--abbrev=0\"], \n",
    "                          capture_output=True).stdout.decode(\"utf\").strip()"
   ]
  },
  {
   "cell_type": "code",
   "execution_count": null,
   "metadata": {},
   "outputs": [],
   "source": [
    "#export\n",
    "def get_commits(from_tag=None, to=\"HEAD\"):\n",
    "    \"Get commits `from_tag` to `to`\"\n",
    "    last_tag = from_tag if from_tag is not None else get_last_tag()\n",
    "    commit_msgs = subprocess.run([\"git\", \"log\", f\"{last_tag}..{to}\", \"--pretty=%s\"],\n",
    "                          capture_output=True).stdout.decode(\"utf\").strip()\n",
    "    return commit_msgs.split(\"\\n\")"
   ]
  },
  {
   "cell_type": "code",
   "execution_count": null,
   "metadata": {},
   "outputs": [],
   "source": [
    "#export\n",
    "def get_release_version():\n",
    "    \"Get release version from settings.ini\"\n",
    "    project_path = str(Path(__file__).parent.parent)\n",
    "    config = ConfigParser(delimiters=['='])\n",
    "    config.read(os.path.join(project_path, 'settings.ini'))\n",
    "    cfg = config['DEFAULT']\n",
    "    return cfg[\"version\"]"
   ]
  },
  {
   "cell_type": "code",
   "execution_count": null,
   "metadata": {},
   "outputs": [],
   "source": [
    "#export\n",
    "def changelog_report(report_title, from_tag=None, to=\"HEAD\"):\n",
    "    \"Changelog report `from_tag` to commit `to` using `report_title`\"\n",
    "    commit_msgs = get_commits(from_tag, to)\n",
    "    bugfixes = [f\"* {msg}\" for msg in commit_msgs if re.search(\"\\[FIX\\]\", msg)]\n",
    "    docs = [f\"* {msg}\" for msg in commit_msgs if re.search(\"\\[DOC\\]\", msg)]\n",
    "    new_features = [f\"* {msg}\" for msg in commit_msgs if re.search(\"\\[FEA\\]\", msg)]\n",
    "    report_bugfixes = \"### Bugfixes:\\n{}\".format(\"\\n\".join(bugfixes)) if len(bugfixes) > 0 else \"\"\n",
    "    report_docs = \"### Documentation:\\n{}\".format(\"\\n\".join(docs)) if len(docs) > 0 else \"\"\n",
    "    report_features = \"### New features:\\n{}\".format(\"\\n\".join(new_features)) if len(new_features) > 0 else \"\"\n",
    "    report_list = [report_title, report_features, report_bugfixes, report_docs]\n",
    "    report_list = [rep for rep in report_list if rep != \"\"]\n",
    "    report = \"\\n\\n\".join(report_list)\n",
    "    return report"
   ]
  },
  {
   "cell_type": "code",
   "execution_count": null,
   "metadata": {},
   "outputs": [],
   "source": [
    "#export\n",
    "def release_report():\n",
    "    \"Create release report out of commit messages\"\n",
    "    release_version = get_release_version()\n",
    "    return changelog_report(report_title=\"\")"
   ]
  },
  {
   "cell_type": "code",
   "execution_count": null,
   "metadata": {},
   "outputs": [],
   "source": [
    "#export\n",
    "def get_token():\n",
    "    project_path = str(Path(__file__).parent.parent)\n",
    "    with open(os.path.join(project_path, \"token\"), \"r\") as f:\n",
    "        token = f.read().strip()\n",
    "    return token"
   ]
  },
  {
   "cell_type": "code",
   "execution_count": null,
   "metadata": {},
   "outputs": [],
   "source": [
    "#export\n",
    "@call_parse\n",
    "def make_git_release():\n",
    "    \"Make a release as a git tag and publish to GitHub\"\n",
    "    # get token\n",
    "    token = get_token()\n",
    "    # get release version\n",
    "    release_version = get_release_version()\n",
    "    # get release report\n",
    "    report = release_report()\n",
    "    # authentificate with GitHub\n",
    "    subprocess.run([\"gh\", \"auth\", \"login\", \"--with-token\", token])\n",
    "    # create release on GitHub\n",
    "    subprocess.run([\"gh\", \"release\", \"create\", release_version, \n",
    "                    \"-n\", report, \"-t\", f\"Release version {release_version}\"])"
   ]
  },
  {
   "cell_type": "code",
   "execution_count": null,
   "metadata": {},
   "outputs": [],
   "source": [
    "#export\n",
    "def get_tags():\n",
    "    \"Get git tags as a list\"\n",
    "    return subprocess.run([\"git\", \"tag\", \"-l\"], capture_output=True).stdout.decode(\"utf\").strip().split(\"\\n\")"
   ]
  },
  {
   "cell_type": "code",
   "execution_count": null,
   "metadata": {},
   "outputs": [],
   "source": [
    "#export\n",
    "@call_parse\n",
    "def make_changelog():\n",
    "    \"Make changelog out of releases / git tags\"\n",
    "    project_path = str(Path(__file__).parent.parent)    \n",
    "    tags = get_tags()\n",
    "    changelog_title = \"# Changelog\"\n",
    "    reports = []\n",
    "    for from_tag, to in zip(tags[:-1], tags[1:]):\n",
    "        reports.append(changelog_report(report_title=f\"## {to}\", from_tag=from_tag, to=to))\n",
    "    changelog = changelog_title + \"\\n\\n\" + \"\\n\\n\".join(reports[::-1])\n",
    "    with open(os.path.join(project_path, \"CHANGELOG.md\"), \"w\") as f:\n",
    "        f.write(changelog)"
   ]
  },
  {
   "cell_type": "code",
   "execution_count": null,
   "metadata": {},
   "outputs": [
    {
     "name": "stdout",
     "output_type": "stream",
     "text": [
      "Converted 00_core.ipynb.\n",
      "Converted 01_format_file.ipynb.\n",
      "Converted 02_utils.ipynb.\n",
      "Converted 03_validation.ipynb.\n",
      "Converted 04_release.ipynb.\n",
      "Converted index.ipynb.\n"
     ]
    }
   ],
   "source": [
    "#hide\n",
    "from nbdev.export import notebook2script\n",
    "notebook2script()"
   ]
  }
 ],
 "metadata": {
  "kernelspec": {
   "display_name": "Python [conda env:sql-formatter-dev] *",
   "language": "python",
   "name": "conda-env-sql-formatter-dev-py"
  }
 },
 "nbformat": 4,
 "nbformat_minor": 2
}
