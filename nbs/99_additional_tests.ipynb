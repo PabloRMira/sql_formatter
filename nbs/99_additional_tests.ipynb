{
 "cells": [
  {
   "cell_type": "code",
   "execution_count": null,
   "metadata": {},
   "outputs": [],
   "source": [
    "#hide\n",
    "%load_ext autoreload\n",
    "%autoreload 2\n",
    "%config Completer.use_jedi = False  # workaround for buggy jedi"
   ]
  },
  {
   "cell_type": "markdown",
   "metadata": {},
   "source": [
    "# Additional tests"
   ]
  },
  {
   "cell_type": "code",
   "execution_count": null,
   "metadata": {},
   "outputs": [],
   "source": [
    "#hide\n",
    "from nbdev.showdoc import *\n",
    "from sql_formatter.utils import *\n",
    "from sql_formatter.core import *"
   ]
  },
  {
   "cell_type": "markdown",
   "metadata": {},
   "source": [
    "## core"
   ]
  },
  {
   "cell_type": "markdown",
   "metadata": {},
   "source": [
    "### format_where"
   ]
  },
  {
   "cell_type": "code",
   "execution_count": null,
   "metadata": {},
   "outputs": [
    {
     "name": "stdout",
     "output_type": "stream",
     "text": [
      "WHERE  brand = 'my_brand'\n"
     ]
    }
   ],
   "source": [
    "assert_and_print(\n",
    "    format_where(\n",
    "        \"WHERE brand = 'my_brand'\"\n",
    "    ), \"WHERE  brand = 'my_brand'\"\n",
    ")"
   ]
  },
  {
   "cell_type": "markdown",
   "metadata": {},
   "source": [
    "### format_sql"
   ]
  },
  {
   "cell_type": "code",
   "execution_count": null,
   "metadata": {},
   "outputs": [
    {
     "name": "stdout",
     "output_type": "stream",
     "text": [
      "SELECT brand\n",
      "FROM   table\n",
      "WHERE  brand = 'my_brand'\n"
     ]
    }
   ],
   "source": [
    "assert_and_print(\n",
    "    format_sql(\"SELECT brand FROM table WHERE brand = 'my_brand'\"),\n",
    "\"\"\"\n",
    "SELECT brand\n",
    "FROM   table\n",
    "WHERE  brand = 'my_brand'\n",
    "\"\"\".strip()\n",
    ")"
   ]
  },
  {
   "cell_type": "code",
   "execution_count": null,
   "metadata": {},
   "outputs": [
    {
     "name": "stdout",
     "output_type": "stream",
     "text": [
      "SELECT var\n",
      "FROM   table_selection as a\n",
      "    LEFT JOIN table2 as b\n",
      "        ON a.id = b.id\n",
      "    LEFT JOIN table3 as c\n",
      "        ON a.id = c.id\n",
      "ORDER BY 1\n"
     ]
    }
   ],
   "source": [
    "assert_and_print(\n",
    "    format_sql(\n",
    "\"\"\"SELECT var \n",
    "    FROM table_selection as a \n",
    "    LEFT JOIN table2 as b ON a.id = b.id \n",
    "    LEFT JOIN table3 as c ON a.id = c.id \n",
    "    ORDER BY 1\n",
    "\"\"\"),\n",
    "\"\"\"\n",
    "SELECT var\n",
    "FROM   table_selection as a\n",
    "    LEFT JOIN table2 as b\n",
    "        ON a.id = b.id\n",
    "    LEFT JOIN table3 as c\n",
    "        ON a.id = c.id\n",
    "ORDER BY 1\n",
    "\"\"\".strip()\n",
    ")"
   ]
  },
  {
   "cell_type": "markdown",
   "metadata": {},
   "source": [
    "## utils"
   ]
  },
  {
   "cell_type": "markdown",
   "metadata": {},
   "source": [
    "### split_query"
   ]
  },
  {
   "cell_type": "code",
   "execution_count": null,
   "metadata": {},
   "outputs": [
    {
     "name": "stdout",
     "output_type": "stream",
     "text": [
      "[{'string': 'select var ', 'comment': False, 'quote': False, 'select': True}, {'string': 'from table_selection', 'comment': False, 'quote': False, 'select': False}]\n"
     ]
    }
   ],
   "source": [
    "assert_and_print(\n",
    "    split_query(\"select var from table_selection\"),\n",
    "    [{\"string\": \"select var \", \"comment\": False, \"quote\": False, \"select\": True}, \n",
    "     {\"string\": \"from table_selection\", \"comment\": False, \"quote\": False, \"select\": False}]\n",
    ")"
   ]
  },
  {
   "cell_type": "code",
   "execution_count": null,
   "metadata": {},
   "outputs": [
    {
     "name": "stdout",
     "output_type": "stream",
     "text": [
      "Converted 00_core.ipynb.\n",
      "Converted 01_format_file.ipynb.\n",
      "Converted 02_utils.ipynb.\n",
      "Converted 03_validation.ipynb.\n",
      "Converted 99_additional_tests.ipynb.\n",
      "Converted index.ipynb.\n"
     ]
    }
   ],
   "source": [
    "#hide\n",
    "from nbdev.export import notebook2script\n",
    "notebook2script()"
   ]
  }
 ],
 "metadata": {
  "kernelspec": {
   "display_name": "Python [conda env:sql-formatter-dev] *",
   "language": "python",
   "name": "conda-env-sql-formatter-dev-py"
  }
 },
 "nbformat": 4,
 "nbformat_minor": 2
}
