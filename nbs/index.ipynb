{
 "cells": [
  {
   "cell_type": "code",
   "execution_count": null,
   "metadata": {},
   "outputs": [],
   "source": [
    "#hide\n",
    "from sql_formatter.core import *"
   ]
  },
  {
   "cell_type": "markdown",
   "metadata": {},
   "source": [
    "![CI](https://github.com/PabloRMira/sql_formatter/workflows/CI/badge.svg) [![PyPI](https://img.shields.io/pypi/v/sql-formatter?color=blue&label=pypi%20version)](https://pypi.org/project/sql-formatter/#description)"
   ]
  },
  {
   "cell_type": "markdown",
   "metadata": {},
   "source": [
    "# sql_formatter\n",
    "\n",
    "> A Python based SQL formatter\n"
   ]
  },
  {
   "cell_type": "markdown",
   "metadata": {},
   "source": [
    "## How to install\n",
    "\n",
    "`pip install sql-formatter`"
   ]
  },
  {
   "cell_type": "markdown",
   "metadata": {},
   "source": [
    "## How to use\n",
    "\n",
    "Format your SQL files via the command line\n",
    "\n",
    "`sql-formatter sql_file.sql sql_file2.sql`"
   ]
  },
  {
   "cell_type": "markdown",
   "metadata": {},
   "source": [
    "### Usage with `pre-commit`"
   ]
  },
  {
   "cell_type": "markdown",
   "metadata": {},
   "source": [
    "[pre-commit](https://pre-commit.com) is a nice development tool to automatize the binding of pre-commit hooks. After installation and configuration `pre-commit` will run your hooks before you commit any change. \n",
    "\n",
    "To add `sql-formatter` as a hook to your `pre-commit` configuration to format your SQL files before commit, just add the following lines to your `.pre-commit-config.yaml`:\n",
    "\n",
    "```yaml\n",
    "repos:\n",
    "  - repo: local\n",
    "    hooks:\n",
    "    - id: sql_formatter\n",
    "      name: SQL formatter\n",
    "      language: system\n",
    "      entry: sql-formatter\n",
    "      files: \\.sql$\n",
    "\n",
    "```"
   ]
  },
  {
   "cell_type": "markdown",
   "metadata": {},
   "source": [
    "### Usage in Python"
   ]
  },
  {
   "cell_type": "markdown",
   "metadata": {},
   "source": [
    "To exemplify the formatting let's say you have a SQL query like this"
   ]
  },
  {
   "cell_type": "code",
   "execution_count": null,
   "metadata": {},
   "outputs": [],
   "source": [
    "example_sql = \"\"\"\n",
    "create or replace table mytable as -- mytable example\n",
    "seLecT a.asdf, b.qwer, -- some comment here\n",
    "c.asdf, -- some comment there\n",
    "b.asdf2 frOm table1 as a leFt join \n",
    "table2 as b -- and here a comment\n",
    "    on a.asdf = b.asdf  -- join this way\n",
    "    inner join table3 as c\n",
    "on a.asdf=c.asdf\n",
    "whEre a.asdf= 1 -- comment this\n",
    "anD b.qwer =2 and a.asdf<=1 --comment that\n",
    "or b.qwer>=5\n",
    "groUp by a.asdf\n",
    "\"\"\""
   ]
  },
  {
   "cell_type": "markdown",
   "metadata": {},
   "source": [
    "Then you can use this package to format it so that it is better readable"
   ]
  },
  {
   "cell_type": "code",
   "execution_count": null,
   "metadata": {},
   "outputs": [
    {
     "name": "stdout",
     "output_type": "stream",
     "text": [
      "CREATE OR REPLACE TABLE mytable AS -- mytable example\n",
      "SELECT a.asdf,\n",
      "       b.qwer, -- some comment here\n",
      "       c.asdf, -- some comment there\n",
      "       b.asdf2\n",
      "FROM   table1 as a\n",
      "    LEFT JOIN table2 as b -- and here a comment\n",
      "        ON a.asdf = b.asdf -- join this way\n",
      "    INNER JOIN table3 as c\n",
      "        ON a.asdf = c.asdf\n",
      "WHERE  a.asdf = 1 -- comment this\n",
      "   and b.qwer = 2\n",
      "   and a.asdf <= 1 --comment that\n",
      "    or b.qwer >= 5\n",
      "GROUP BY a.asdf;\n"
     ]
    }
   ],
   "source": [
    "from sql_formatter.core import format_sql\n",
    "print(format_sql(example_sql))"
   ]
  },
  {
   "cell_type": "markdown",
   "metadata": {},
   "source": [
    "It can even deal with subqueries and it will correct my favourite simple careless mistake (comma at the end of SELECT statement before of FROM) for you on the flow :-)"
   ]
  },
  {
   "cell_type": "code",
   "execution_count": null,
   "metadata": {},
   "outputs": [
    {
     "name": "stdout",
     "output_type": "stream",
     "text": [
      "SELECT asdf,\n",
      "       cast(qwer as numeric), -- some comment\n",
      "       qwer1\n",
      "FROM   (SELECT asdf,\n",
      "               qwer\n",
      "        FROM   table1\n",
      "        WHERE  asdf = 1) as a\n",
      "    LEFT JOIN (SELECT asdf,\n",
      "                      qwer2\n",
      "               FROM   table2\n",
      "               WHERE  qwer2 = 1) as b\n",
      "        ON a.asdf = b.asdf\n",
      "WHERE  qwer1 >= 0;\n"
     ]
    }
   ],
   "source": [
    "print(format_sql(\"\"\"\n",
    "select asdf, cast(qwer as numeric), -- some comment\n",
    "qwer1\n",
    "from \n",
    "(select asdf, qwer, from table1 where asdf = 1) as a\n",
    "left \n",
    "join (select asdf, qwer2 from table2 where qwer2 = 1) as b\n",
    "on a.asdf = b.asdf\n",
    "where qwer1 >= 0\n",
    "\"\"\"))"
   ]
  },
  {
   "cell_type": "markdown",
   "metadata": {},
   "source": [
    "The formatter is also robust against nested subqueries"
   ]
  },
  {
   "cell_type": "code",
   "execution_count": null,
   "metadata": {},
   "outputs": [
    {
     "name": "stdout",
     "output_type": "stream",
     "text": [
      "SELECT field1,\n",
      "       field2\n",
      "FROM   (SELECT field1,\n",
      "               field2\n",
      "        FROM   (SELECT field1,\n",
      "                       field2,\n",
      "                       field3\n",
      "                FROM   table1\n",
      "                WHERE  a = 1\n",
      "                   and b >= 100));\n"
     ]
    }
   ],
   "source": [
    "print(format_sql(\"\"\"\n",
    "select field1, field2 from (select field1, \n",
    "field2 from (select field1, field2, \n",
    "field3 from table1 where a=1 and b>=100))\n",
    "\"\"\"))"
   ]
  },
  {
   "cell_type": "markdown",
   "metadata": {},
   "source": [
    "If you do not want to get some query formatted in your SQL file then you can use the marker `/*skip-formatter*/` in your query to disable formatting for just the corresponding query"
   ]
  },
  {
   "cell_type": "code",
   "execution_count": null,
   "metadata": {},
   "outputs": [
    {
     "name": "stdout",
     "output_type": "stream",
     "text": [
      "use database my_database;\n",
      "\n",
      "\n",
      "-- My first view --\n",
      "CREATE OR REPLACE VIEW my_view AS\n",
      "SELECT asdf,\n",
      "       qwer\n",
      "FROM   table1\n",
      "WHERE  asdf <= 10;\n",
      "\n",
      "\n",
      "/*skip-formatter*/\n",
      "create oR rePlace tabLe my_table as\n",
      "select asdf\n",
      "From my_view;\n",
      "\n"
     ]
    }
   ],
   "source": [
    "from sql_formatter.format_file import format_sql_commands\n",
    "print(format_sql_commands(\n",
    "\"\"\"\n",
    "use database my_database;\n",
    "\n",
    "-- My first view --\n",
    "create or repLace view my_view as\n",
    "select asdf, qwer from table1\n",
    "where asdf <= 10;\n",
    "\n",
    "\n",
    "/*skip-formatter*/\n",
    "create oR rePlace tabLe my_table as\n",
    "select asdf\n",
    "From my_view;\n",
    "\"\"\"\n",
    "))"
   ]
  },
  {
   "cell_type": "markdown",
   "metadata": {},
   "source": [
    "### A note of caution\n",
    "\n",
    "For the SQL-formatter to work properly you should meticulously end each of your SQL statements with semicolon (;)"
   ]
  },
  {
   "cell_type": "markdown",
   "metadata": {},
   "source": [
    "### What `sql_formatter` does not do\n",
    "\n",
    "This package is just a SQL formatter and therefore\n",
    "\n",
    "* cannot parse your SQL queries into e.g. dictionaries\n",
    "* cannot validate your SQL queries before formatting"
   ]
  },
  {
   "cell_type": "markdown",
   "metadata": {},
   "source": [
    "## Acknowledgements"
   ]
  },
  {
   "cell_type": "markdown",
   "metadata": {},
   "source": [
    "Thank you very much to Jeremy Howard and all the [nbdev](https://github.com/fastai/nbdev) team for enabling the *fast* and delightful development of this library via the `nbdev` framework.\n",
    "\n",
    "For more details on `nbdev`, see its official [tutorial](https://nbdev.fast.ai/tutorial.html)"
   ]
  }
 ],
 "metadata": {
  "kernelspec": {
   "display_name": "Python 3",
   "language": "python",
   "name": "python3"
  }
 },
 "nbformat": 4,
 "nbformat_minor": 2
}
