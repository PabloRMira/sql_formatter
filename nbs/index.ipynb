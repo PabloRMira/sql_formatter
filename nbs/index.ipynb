{
 "cells": [
  {
   "cell_type": "code",
   "execution_count": null,
   "metadata": {},
   "outputs": [],
   "source": [
    "#hide\n",
    "from sql_formatter.core import *"
   ]
  },
  {
   "cell_type": "markdown",
   "metadata": {},
   "source": [
    "![CI](https://github.com/PabloRMira/sql_formatter/workflows/CI/badge.svg) [![PyPI](https://img.shields.io/pypi/v/sql-formatter?color=yellow&label=pypi%20version)](https://pypi.org/project/sql-formatter/#description)\n",
    "[![Anaconda-Server Badge](https://anaconda.org/pablormira/sql_formatter/badges/version.svg)](https://anaconda.org/pablormira/sql_formatter)"
   ]
  },
  {
   "cell_type": "markdown",
   "metadata": {},
   "source": [
    "# sql_formatter\n",
    "\n",
    "> A Python based SQL formatter\n"
   ]
  },
  {
   "cell_type": "markdown",
   "metadata": {},
   "source": [
    "## How to install\n",
    "\n",
    "Via pip\n",
    "\n",
    "`pip install sql-formatter`\n",
    "\n",
    "or via conda\n",
    "\n",
    "`conda install -c pablormira sql_formatter`"
   ]
  },
  {
   "cell_type": "markdown",
   "metadata": {},
   "source": [
    "## How to use\n",
    "\n",
    "Format your SQL files via the command line\n",
    "\n",
    "`sql-formatter sql_file.sql sql_file2.sql`\n",
    "\n",
    "You can also format all your SQL-files via\n",
    "\n",
    "`sql-formatter *.sql`\n",
    "\n",
    "To format all your SQL files recursively use\n",
    "\n",
    "`sql-formatter -r \"*.sql\"`"
   ]
  },
  {
   "cell_type": "markdown",
   "metadata": {},
   "source": [
    "### Controlling maximum length line via truncation\n",
    "\n",
    "The `sql_formatter` will try to truncate too long lines in the `SELECT` clause for either\n",
    "\n",
    "* Function with many arguments\n",
    "* `in` with many elements\n",
    "\n",
    "The default maximum line length is 82 after line stripping.\n",
    "\n",
    "You can control the maximum length line using e.g.\n",
    "\n",
    "`sql-formatter sql_file.sql --max-line-length=50`"
   ]
  },
  {
   "cell_type": "markdown",
   "metadata": {},
   "source": [
    "### Usage with `pre-commit`"
   ]
  },
  {
   "cell_type": "markdown",
   "metadata": {},
   "source": [
    "[pre-commit](https://pre-commit.com) is a nice development tool to automatize the binding of pre-commit hooks. After installation and configuration `pre-commit` will run your hooks before you commit any change. \n",
    "\n",
    "To add `sql-formatter` as a hook to your `pre-commit` configuration to format your SQL files before commit, just add the following lines to your `.pre-commit-config.yaml`:\n",
    "\n",
    "```yaml\n",
    "repos:\n",
    "  - repo: local\n",
    "    hooks:\n",
    "    - id: sql_formatter\n",
    "      name: SQL formatter\n",
    "      language: system\n",
    "      entry: sql-formatter\n",
    "      files: \\.sql$\n",
    "```\n",
    "\n",
    "or\n",
    "\n",
    "```yaml\n",
    "repos:\n",
    "  - repo: local\n",
    "    hooks:\n",
    "    - id: sql_formatter\n",
    "      name: SQL formatter\n",
    "      language: system\n",
    "      entry: sql-formatter --max-line-length=50\n",
    "      files: \\.sql$\n",
    "```\n",
    "\n",
    "for a custom maximum line length truncation of e.g. 50"
   ]
  },
  {
   "cell_type": "markdown",
   "metadata": {},
   "source": [
    "### Usage in Python"
   ]
  },
  {
   "cell_type": "markdown",
   "metadata": {},
   "source": [
    "To exemplify the formatting let's say you have a SQL query like this"
   ]
  },
  {
   "cell_type": "code",
   "execution_count": null,
   "metadata": {},
   "outputs": [],
   "source": [
    "example_sql = \"\"\"\n",
    "create or replace table mytable as -- mytable example\n",
    "seLecT a.asdf, b.qwer, -- some comment here\n",
    "c.asdf, -- some comment there\n",
    "b.asdf2 frOm table1 as a leFt join \n",
    "table2 as b -- and here a comment\n",
    "    on a.asdf = b.asdf  -- join this way\n",
    "    inner join table3 as c\n",
    "on a.asdf=c.asdf\n",
    "whEre a.asdf= 1 -- comment this\n",
    "anD b.qwer =2 and a.asdf<=1 --comment that\n",
    "or b.qwer>=5\n",
    "groUp by a.asdf\n",
    "\"\"\""
   ]
  },
  {
   "cell_type": "markdown",
   "metadata": {},
   "source": [
    "Then you can use this package to format it so that it is better readable"
   ]
  },
  {
   "cell_type": "code",
   "execution_count": null,
   "metadata": {},
   "outputs": [
    {
     "name": "stdout",
     "output_type": "stream",
     "text": [
      "CREATE OR REPLACE TABLE mytable AS -- mytable example\n",
      "SELECT a.asdf,\n",
      "       b.qwer, -- some comment here\n",
      "       c.asdf, -- some comment there\n",
      "       b.asdf2\n",
      "FROM   table1 as a\n",
      "    LEFT JOIN table2 as b -- and here a comment\n",
      "        ON a.asdf = b.asdf -- join this way\n",
      "    INNER JOIN table3 as c\n",
      "        ON a.asdf = c.asdf\n",
      "WHERE  a.asdf = 1 -- comment this\n",
      "   and b.qwer = 2\n",
      "   and a.asdf <= 1 --comment that\n",
      "    or b.qwer >= 5\n",
      "GROUP BY a.asdf\n"
     ]
    }
   ],
   "source": [
    "from sql_formatter.core import format_sql\n",
    "print(format_sql(example_sql))"
   ]
  },
  {
   "cell_type": "markdown",
   "metadata": {},
   "source": [
    "It can even deal with subqueries and it will correct my favourite simple careless mistake (comma at the end of SELECT statement before of FROM) for you on the flow :-)"
   ]
  },
  {
   "cell_type": "code",
   "execution_count": null,
   "metadata": {},
   "outputs": [
    {
     "name": "stdout",
     "output_type": "stream",
     "text": [
      "SELECT asdf,\n",
      "       cast(qwer as numeric), -- some comment\n",
      "       qwer1\n",
      "FROM   (SELECT asdf,\n",
      "               qwer\n",
      "        FROM   table1\n",
      "        WHERE  asdf = 1) as a\n",
      "    LEFT JOIN (SELECT asdf,\n",
      "                      qwer2\n",
      "               FROM   table2\n",
      "               WHERE  qwer2 = 1) as b\n",
      "        ON a.asdf = b.asdf\n",
      "WHERE  qwer1 >= 0\n"
     ]
    }
   ],
   "source": [
    "print(format_sql(\"\"\"\n",
    "select asdf, cast(qwer as numeric), -- some comment\n",
    "qwer1\n",
    "from \n",
    "(select asdf, qwer, from table1 where asdf = 1) as a\n",
    "left \n",
    "join (select asdf, qwer2 from table2 where qwer2 = 1) as b\n",
    "on a.asdf = b.asdf\n",
    "where qwer1 >= 0\n",
    "\"\"\"))"
   ]
  },
  {
   "cell_type": "markdown",
   "metadata": {},
   "source": [
    "The formatter is also robust against nested subqueries"
   ]
  },
  {
   "cell_type": "code",
   "execution_count": null,
   "metadata": {},
   "outputs": [
    {
     "name": "stdout",
     "output_type": "stream",
     "text": [
      "SELECT field1,\n",
      "       field2\n",
      "FROM   (SELECT field1,\n",
      "               field2\n",
      "        FROM   (SELECT field1,\n",
      "                       field2,\n",
      "                       field3\n",
      "                FROM   table1\n",
      "                WHERE  a = 1\n",
      "                   and b >= 100))\n"
     ]
    }
   ],
   "source": [
    "print(format_sql(\"\"\"\n",
    "select field1, field2 from (select field1, \n",
    "field2 from (select field1, field2, \n",
    "field3 from table1 where a=1 and b>=100))\n",
    "\"\"\"))"
   ]
  },
  {
   "cell_type": "markdown",
   "metadata": {},
   "source": [
    "If you do not want to get some query formatted in your SQL file then you can use the marker `/*skip-formatter*/` in your query to disable formatting for just the corresponding query"
   ]
  },
  {
   "cell_type": "code",
   "execution_count": null,
   "metadata": {},
   "outputs": [
    {
     "name": "stdout",
     "output_type": "stream",
     "text": [
      "use database my_database;\n",
      "\n",
      "\n",
      "-- My first view --\n",
      "CREATE OR REPLACE VIEW my_view AS\n",
      "SELECT asdf,\n",
      "       qwer\n",
      "FROM   table1\n",
      "WHERE  asdf <= 10;\n",
      "\n",
      "\n",
      "/*skip-formatter*/\n",
      "create oR rePlace tabLe my_table as\n",
      "select asdf\n",
      "From my_view;\n",
      "\n"
     ]
    }
   ],
   "source": [
    "from sql_formatter.format_file import format_sql_commands\n",
    "print(format_sql_commands(\n",
    "\"\"\"\n",
    "use database my_database;\n",
    "\n",
    "-- My first view --\n",
    "create or repLace view my_view as\n",
    "select asdf, qwer from table1\n",
    "where asdf <= 10;\n",
    "\n",
    "\n",
    "/*skip-formatter*/\n",
    "create oR rePlace tabLe my_table as\n",
    "select asdf\n",
    "From my_view;\n",
    "\"\"\"\n",
    "))"
   ]
  },
  {
   "cell_type": "markdown",
   "metadata": {},
   "source": [
    "### A note of caution\n",
    "\n",
    "For the SQL-formatter to work properly you should meticulously end each of your SQL statements with semicolon (;)\n",
    "\n",
    "However, we have equiped the `sql-formatter` with some basic validations:\n",
    "\n",
    "* *Forgotten semicolon validation*: The validator will check if the `CREATE` keyword appears more than twice, indicating the user that he / she may have forgotten a semicolon\n",
    "* *Unbalanced parenthesis*: The validator will check if there are unbalanced parenthesis in the query\n",
    "* *Unbalanced `case when ... end`*: The validator will check if there are `case when` statements without `end` or vice versa"
   ]
  },
  {
   "cell_type": "markdown",
   "metadata": {},
   "source": [
    "### What `sql_formatter` does not do\n",
    "\n",
    "This package is just a SQL formatter and therefore\n",
    "\n",
    "* cannot parse your SQL queries into e.g. dictionaries\n",
    "* cannot validate your SQL queries to be valid for the corresponding database system / provider\n",
    "\n",
    "Up to now it only formats queries of the form\n",
    "\n",
    "* `CREATE TABLE / VIEW ...`\n",
    "* `SELECT ...`\n",
    "\n",
    "Every other SQL commands will remain unformatted, e.g. `INSERT INTO` ..."
   ]
  },
  {
   "cell_type": "markdown",
   "metadata": {},
   "source": [
    "## Formatting Logic\n",
    "\n",
    "The main goal of the `sql_formatter` is to enhance readability and quick understanding of SQL queries via proper formatting. We use **indentation** and **lowercasing / uppercasing** as means to arrange statements / clauses and parameters into context. By **programmatically standardizing** the way to write SQL queries we help the user understand its queries faster.\n",
    "\n",
    "As a by-product of using the `sql_formatter`, developer teams can focus on the query logic itself and save time by not incurring into styling decisions, this then begin accomplished by the `sql_formatter`. This is similar to the goal accomplished by the [black package](https://github.com/psf/black) for the Python language, which was also an inspiration for the development of this package for SQL. \n",
    "\n",
    "We can summarize the main steps of the formatter as follows:\n",
    "\n",
    "1. Each query is separated from above by two newlines.\n",
    "2. Everything but **main statements\\* / clauses** is lowercased\n",
    "\n",
    "\\* Main statements:\n",
    "\n",
    "* CREATE ... TABLE / VIEW table_name AS\n",
    "* SELECT (DISTINCT)\n",
    "* FROM\n",
    "* (LEFT / INNER / RIGHT / OUTER) JOIN\n",
    "* UNION\n",
    "* ON\n",
    "* WHERE\n",
    "* GROUP BY\n",
    "* ORDER BY\n",
    "* OVER\n",
    "* PARTITION BY\n",
    "\n",
    "3. Indentation is used to put parameters into context. Here an easy example:\n",
    "\n",
    "```sql\n",
    "SELECT field1,\n",
    "       case when field2 > 1 and\n",
    "                 field2 <= 10 and\n",
    "                 field1 = 'a' then 1\n",
    "            else 0 end as case_field,\n",
    "       ...\n",
    "FROM   table1\n",
    "WHERE  field1 = 1\n",
    "   and field2 <= 2\n",
    "    or field3 = 5\n",
    "ORDER BY field1;\n",
    "```\n",
    "\n",
    "> This is a very nice, easy example but things can become more complicated if comments come into play\n",
    "\n",
    "4. Subqueries are also properly indented, e.g.\n",
    "\n",
    "```sql\n",
    "SELECT a.field1,\n",
    "       a.field2,\n",
    "       b.field3\n",
    "FROM   (SELECT field1,\n",
    "               field2\n",
    "        FROM   table1\n",
    "        WHERE  field1 = 1) as a\n",
    "    LEFT JOIN (SELECT field1,\n",
    "                      field3\n",
    "               FROM   table2) as b\n",
    "        ON a.field1 = b.field1;\n",
    "```\n",
    "\n",
    "5. Everything not being a query of the form `CREATE ... TABLE / VIEW` or `SELECT ...` is left unchanged"
   ]
  },
  {
   "cell_type": "markdown",
   "metadata": {},
   "source": [
    "## Versioning"
   ]
  },
  {
   "cell_type": "markdown",
   "metadata": {},
   "source": [
    "We version our package via [semantic versioning](https://semver.org), i.e., \n",
    "\n",
    "* We use three digits separated by points x1.x2.x3, e.g. 0.5.1\n",
    "* We increase x1 (the major version) if we introduce breaking changes\n",
    "  * Exception: Versions with 0 at the beginning (e.g. 0.5.1) mean that the package is not stable yet and therefore every new feature could be a breaking change\n",
    "* We increase x2 (the minor version) if we introduce a new feature\n",
    "* We increase x3 (the patch version) if we fix a bug\n",
    "\n",
    "New documentation, refactoring / maintenance of code and admin tasks do not change the versions.\n",
    "\n",
    "You can follow the changes introduced by each version in our [CHANGELOG](https://github.com/PabloRMira/sql_formatter/blob/master/CHANGELOG.md)"
   ]
  },
  {
   "cell_type": "markdown",
   "metadata": {},
   "source": [
    "## How to contribute"
   ]
  },
  {
   "cell_type": "markdown",
   "metadata": {},
   "source": [
    "You can contribute to this project:\n",
    "\n",
    "* writing issues\n",
    "* contributing to the code basis\n",
    "\n",
    "### Writing issues\n",
    "\n",
    "If you find some bug or you think some new feature could improve the package, please write an issue going to [New Issue](https://github.com/PabloRMira/sql_formatter/issues/new/choose) and follow the instructions under the corresponding template\n",
    "\n",
    "### Contributing to the code basis\n",
    "\n",
    "We follow the [nbdev](https://github.com/fastai/nbdev) framework for the literate programming development of this project. So if you want to contribute, please familiarize first with this framework. Specially, we write our code, tests and documentation at the same time in jupyter notebooks.\n",
    "\n",
    "If you have not heard about `nbdev` yet and / or find the idea weird to develop in notebooks as it was the case for me, please watch the following youtube video first: [I like notebooks](https://www.youtube.com/watch?v=9Q6sLbz37gk) by Jeremy Howard, the creator of this wonderful framework. \n",
    "\n",
    "#### Setup the development environment\n",
    "Prerequisites to setup the development environment:\n",
    "* conda\n",
    "\n",
    "To setup the development environment:\n",
    "1. Fork this project repository, i.e., click on the \"Fork\" button on the right of the top of the repo page. This creates a copy of the project code on your GitHub user account.\n",
    "2. Clone your forked project from your GitHub account to your local disk and navigate into it:\n",
    "\n",
    "```bash\n",
    "git clone git@github.com:YourLogin/sql_formatter.git\n",
    "cd sql_formatter\n",
    "```\n",
    "\n",
    "3. Setup the `upstream` remote to be the original project repository (this one and not your forked one):\n",
    "\n",
    "```bash\n",
    "git remote add upstream https://github.com/PabloRMira/sql_formatter.git\n",
    "```\n",
    "\n",
    "4. Synchronize your master branch with the upstream branch:\n",
    "\n",
    "```bash\n",
    "git checkout master\n",
    "git pull upstream master\n",
    "```\n",
    "\n",
    "5. Create a new branch to hold your development changes:\n",
    "\n",
    "```bash\n",
    "git checkout -b my_feature_branch\n",
    "```\n",
    "\n",
    "6. Install our conda development environment running `conda env create -f environment.yml`\n",
    "7. Activate the python environment using `conda activate sql-formatter-dev`\n",
    "8. Run `nbdev_install_git_hooks`\n",
    "9. Run `pip install -e .` to install the package in editable mode. This way the command line interface (CLI) `sql-formatter` will incorporate your changes in the python code\n",
    "10. When your change is ready commit it, and push it to your fork\n",
    "\n",
    "```\n",
    "git add modified_files\n",
    "git commit -m \"some message\"\n",
    "git push -u origin my_feature_brach\n",
    "```\n",
    "\n",
    "11. Follow [these instructions](https://docs.github.com/en/free-pro-team@latest/github/collaborating-with-issues-and-pull-requests/creating-a-pull-request-from-a-fork) to create a pull request from your fork.\n",
    "\n",
    "#### Development Workflow\n",
    "\n",
    "For development we follow these steps:\n",
    "1. Pick an existing issue and write in the comments you would like to fix it\n",
    "  * If your idea is not documented in an issue yet, please write first an issue\n",
    "2. Create a branch from `master` and implement your idea\n",
    "3. Before pushing your solution run first `make prepush` to make sure everything is allright to merge, specially our tests\n",
    "4. Make a pull request for your solution\n",
    "  * The pull request title should be meaningful, something like \"[PREFIX] Title of the issue you fixed\". Please try to use some of the following prefixes: \n",
    "    * [FIX] for bugfixes\n",
    "    * [FEA] for new features\n",
    "    * [DOC] for documentation\n",
    "    * [MNT] for maintenance\n",
    "\n",
    "> Only pull requests / commits using the aforementioned prefixes will be added to the changelog / release notes"
   ]
  },
  {
   "cell_type": "markdown",
   "metadata": {},
   "source": [
    "## Acknowledgements"
   ]
  },
  {
   "cell_type": "markdown",
   "metadata": {},
   "source": [
    "Thank you very much to Jeremy Howard and all the [nbdev](https://github.com/fastai/nbdev) team for enabling the *fast* and delightful development of this library via the `nbdev` framework.\n",
    "\n",
    "For more details on `nbdev`, see its official [tutorial](https://nbdev.fast.ai/tutorial.html)\n",
    "\n",
    "Thank you very much for the developers of the [black](https://github.com/psf/black) package, which was also an inspiration for the development of this package"
   ]
  }
 ],
 "metadata": {
  "kernelspec": {
   "display_name": "Python 3",
   "language": "python",
   "name": "python3"
  }
 },
 "nbformat": 4,
 "nbformat_minor": 2
}
